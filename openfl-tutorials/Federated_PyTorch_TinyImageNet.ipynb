{
 "cells": [
  {
   "cell_type": "markdown",
   "metadata": {},
   "source": [
    "# Federated PyTorch TinyImageNet Tutorial"
   ]
  },
  {
   "cell_type": "markdown",
   "metadata": {},
   "source": [
    "This notebook is an example of Transfer Learning \n",
    "\n",
    "Custom DataLoader is used with OpenFL Python API"
   ]
  },
  {
   "cell_type": "code",
   "execution_count": 1,
   "metadata": {},
   "outputs": [
    {
     "name": "stdout",
     "output_type": "stream",
     "text": [
      "Requirement already satisfied: torch in /home/itrushkin/.virtualenvs/openfl/lib/python3.8/site-packages (1.9.0)\n",
      "Requirement already satisfied: torchvision in /home/itrushkin/.virtualenvs/openfl/lib/python3.8/site-packages (0.10.0)\n",
      "Requirement already satisfied: typing-extensions in /home/itrushkin/.virtualenvs/openfl/lib/python3.8/site-packages (from torch) (3.7.4.3)\n",
      "Requirement already satisfied: numpy in /home/itrushkin/.virtualenvs/openfl/lib/python3.8/site-packages (from torchvision) (1.19.5)\n",
      "Requirement already satisfied: pillow>=5.3.0 in /home/itrushkin/.virtualenvs/openfl/lib/python3.8/site-packages (from torchvision) (8.1.2)\n",
      "\u001b[33mWARNING: You are using pip version 21.0.1; however, version 21.2.1 is available.\n",
      "You should consider upgrading via the '/home/itrushkin/.virtualenvs/openfl/bin/python -m pip install --upgrade pip' command.\u001b[0m\n"
     ]
    }
   ],
   "source": [
    "#Install dependencies if not already installed\n",
    "!pip install torch torchvision\n",
    "%load_ext autoreload\n",
    "%autoreload 2"
   ]
  },
  {
   "cell_type": "code",
   "execution_count": 2,
   "metadata": {},
   "outputs": [],
   "source": [
    "import os\n",
    "import glob\n",
    "from torch.utils.data import Dataset, DataLoader\n",
    "from PIL import Image\n",
    "\n",
    "import numpy as np\n",
    "import torch\n",
    "import torch.nn as nn\n",
    "import torch.nn.functional as F\n",
    "import torch.optim as optim\n",
    "\n",
    "import torchvision\n",
    "from torchvision import transforms as T\n",
    "\n",
    "import openfl.native as fx\n",
    "from openfl.federated import FederatedModel, FederatedDataSet"
   ]
  },
  {
   "cell_type": "markdown",
   "metadata": {},
   "source": [
    "After importing the required packages, the next step is setting up our openfl workspace. To do this, simply run the `fx.init()` command as follows:"
   ]
  },
  {
   "cell_type": "code",
   "execution_count": 3,
   "metadata": {},
   "outputs": [
    {
     "name": "stdout",
     "output_type": "stream",
     "text": [
      "Creating Workspace Directories\n",
      "Creating Workspace Templates\n",
      "Successfully installed packages from /home/itrushkin/.local/workspace/requirements.txt.\n",
      "\n",
      "New workspace directory structure:\n",
      "workspace\n",
      "├── tiny-imagenet-200.zip\n",
      "├── kvasir.zip\n",
      "├── plan\n",
      "│   ├── defaults\n",
      "│   │   ├── data_loader.yaml\n",
      "│   │   ├── network.yaml\n",
      "│   │   ├── tasks_keras.yaml\n",
      "│   │   ├── collaborator.yaml\n",
      "│   │   ├── assigner.yaml\n",
      "│   │   ├── task_runner.yaml\n",
      "│   │   ├── defaults\n",
      "│   │   ├── tasks_tensorflow.yaml\n",
      "│   │   ├── compression_pipeline.yaml\n",
      "│   │   ├── aggregator.yaml\n",
      "│   │   ├── tasks_torch.yaml\n",
      "│   │   └── tasks_fast_estimator.yaml\n",
      "│   ├── plan.yaml\n",
      "│   ├── data.yaml\n",
      "│   └── cols.yaml\n",
      "├── logs\n",
      "├── final_pytorch_model.h5\n",
      "├── tensordb.csv\n",
      "├── agg_to_col_two_signed_cert.zip\n",
      "├── data\n",
      "│   ├── segmented-images\n",
      "│   │   ├── masks\n",
      "│   │   ├── images\n",
      "│   │   ├── license.txt\n",
      "│   │   └── bounding-boxes.json\n",
      "│   └── MNIST\n",
      "│       ├── raw\n",
      "│       └── processed\n",
      "├── cert\n",
      "│   ├── ca\n",
      "│   │   ├── signing-ca.crt\n",
      "│   │   ├── root-ca.crt\n",
      "│   │   ├── signing-ca\n",
      "│   │   ├── signing-ca.csr\n",
      "│   │   └── root-ca\n",
      "│   ├── server\n",
      "│   │   ├── agg_nnlicv611.inn.intel.com.csr\n",
      "│   │   ├── agg_nnlicv611.inn.intel.com.key\n",
      "│   │   └── agg_nnlicv611.inn.intel.com.crt\n",
      "│   ├── client\n",
      "│   │   ├── col_two.crt\n",
      "│   │   ├── col_one.crt\n",
      "│   │   ├── col_one.key\n",
      "│   │   └── col_two.key\n",
      "│   ├── cert_chain.crt\n",
      "│   ├── col_one.csr\n",
      "│   └── col_two.csr\n",
      "├── final_model.pth\n",
      "├── code\n",
      "│   ├── __init__.py\n",
      "│   ├── data_loader.py\n",
      "│   ├── keras_cnn.py\n",
      "│   ├── mnist_utils.py\n",
      "│   ├── fed_unet_runner.py\n",
      "│   ├── tfmnist_inmemory.py\n",
      "│   ├── ptmnist_inmemory.py\n",
      "│   ├── pt_cnn.py\n",
      "│   └── pt_unet_parts.py\n",
      "├── gandlf_paths.csv\n",
      "├── final_pytorch_model\n",
      "├── small_split.csv\n",
      "├── .workspace\n",
      "├── requirements.txt\n",
      "├── tiny-imagenet-200\n",
      "│   ├── wnids.txt\n",
      "│   ├── test\n",
      "│   │   └── images\n",
      "│   ├── train\n",
      "│   │   ├── n02099712\n",
      "│   │   ├── n01944390\n",
      "│   │   ├── n03447447\n",
      "│   │   ├── n02977058\n",
      "│   │   ├── n07583066\n",
      "│   │   ├── n03085013\n",
      "│   │   ├── n04456115\n",
      "│   │   ├── n03706229\n",
      "│   │   ├── n01950731\n",
      "│   │   ├── n07920052\n",
      "│   │   ├── n03179701\n",
      "│   │   ├── n04146614\n",
      "│   │   ├── n02113799\n",
      "│   │   ├── n04562935\n",
      "│   │   ├── n03014705\n",
      "│   │   ├── n03649909\n",
      "│   │   ├── n03763968\n",
      "│   │   ├── n04597913\n",
      "│   │   ├── n02099601\n",
      "│   │   ├── n03662601\n",
      "│   │   ├── n02793495\n",
      "│   │   ├── n01770393\n",
      "│   │   ├── n03388043\n",
      "│   │   ├── n01917289\n",
      "│   │   ├── n02795169\n",
      "│   │   ├── n03444034\n",
      "│   │   ├── n06596364\n",
      "│   │   ├── n03126707\n",
      "│   │   ├── n02321529\n",
      "│   │   ├── n02481823\n",
      "│   │   ├── n02279972\n",
      "│   │   ├── n02268443\n",
      "│   │   ├── n03837869\n",
      "│   │   ├── n07695742\n",
      "│   │   ├── n02814860\n",
      "│   │   ├── n01644900\n",
      "│   │   ├── n04328186\n",
      "│   │   ├── n03902125\n",
      "│   │   ├── n02058221\n",
      "│   │   ├── n07579787\n",
      "│   │   ├── n03160309\n",
      "│   │   ├── n02233338\n",
      "│   │   ├── n03400231\n",
      "│   │   ├── n02666196\n",
      "│   │   ├── n02190166\n",
      "│   │   ├── n03250847\n",
      "│   │   ├── n02106662\n",
      "│   │   ├── n02883205\n",
      "│   │   ├── n03584254\n",
      "│   │   ├── n01641577\n",
      "│   │   ├── n07768694\n",
      "│   │   ├── n04285008\n",
      "│   │   ├── n03976657\n",
      "│   │   ├── n03970156\n",
      "│   │   ├── n02231487\n",
      "│   │   ├── n02281406\n",
      "│   │   ├── n03992509\n",
      "│   │   ├── n04560804\n",
      "│   │   ├── n02002724\n",
      "│   │   ├── n02423022\n",
      "│   │   ├── n03854065\n",
      "│   │   ├── n02123045\n",
      "│   │   ├── n03637318\n",
      "│   │   ├── n01945685\n",
      "│   │   ├── n01742172\n",
      "│   │   ├── n02950826\n",
      "│   │   ├── n04099969\n",
      "│   │   ├── n07615774\n",
      "│   │   ├── n02841315\n",
      "│   │   ├── n03977966\n",
      "│   │   ├── n02132136\n",
      "│   │   ├── n03255030\n",
      "│   │   ├── n07720875\n",
      "│   │   ├── n02125311\n",
      "│   │   ├── n04254777\n",
      "│   │   ├── n04366367\n",
      "│   │   ├── n04465501\n",
      "│   │   ├── n02906734\n",
      "│   │   ├── n07711569\n",
      "│   │   ├── n01774384\n",
      "│   │   ├── n09428293\n",
      "│   │   ├── n03424325\n",
      "│   │   ├── n04501370\n",
      "│   │   ├── n03983396\n",
      "│   │   ├── n04487081\n",
      "│   │   ├── n03804744\n",
      "│   │   ├── n04486054\n",
      "│   │   ├── n02814533\n",
      "│   │   ├── n02480495\n",
      "│   │   ├── n07734744\n",
      "│   │   ├── n07749582\n",
      "│   │   ├── n04371430\n",
      "│   │   ├── n02917067\n",
      "│   │   ├── n01882714\n",
      "│   │   ├── n04540053\n",
      "│   │   ├── n03670208\n",
      "│   │   ├── n03814639\n",
      "│   │   ├── n04532106\n",
      "│   │   ├── n02988304\n",
      "│   │   ├── n01855672\n",
      "│   │   ├── n02236044\n",
      "│   │   ├── n02909870\n",
      "│   │   ├── n03599486\n",
      "│   │   ├── n03355925\n",
      "│   │   ├── n02123394\n",
      "│   │   ├── n07614500\n",
      "│   │   ├── n02486410\n",
      "│   │   ├── n01774750\n",
      "│   │   ├── n02124075\n",
      "│   │   ├── n01698640\n",
      "│   │   ├── n04133789\n",
      "│   │   ├── n01784675\n",
      "│   │   ├── n04275548\n",
      "│   │   ├── n04149813\n",
      "│   │   ├── n04311004\n",
      "│   │   ├── n04356056\n",
      "│   │   ├── n02948072\n",
      "│   │   ├── n03544143\n",
      "│   │   ├── n07715103\n",
      "│   │   ├── n07753592\n",
      "│   │   ├── n02056570\n",
      "│   │   ├── n03089624\n",
      "│   │   ├── n03838899\n",
      "│   │   ├── n04507155\n",
      "│   │   ├── n09332890\n",
      "│   │   ├── n09256479\n",
      "│   │   ├── n02843684\n",
      "│   │   ├── n02788148\n",
      "│   │   ├── n04067472\n",
      "│   │   ├── n04008634\n",
      "│   │   ├── n01910747\n",
      "│   │   ├── n02808440\n",
      "│   │   ├── n04251144\n",
      "│   │   ├── n04023962\n",
      "│   │   ├── n03937543\n",
      "│   │   ├── n01983481\n",
      "│   │   ├── n03100240\n",
      "│   │   ├── n04070727\n",
      "│   │   ├── n09246464\n",
      "│   │   ├── n04399382\n",
      "│   │   ├── n02999410\n",
      "│   │   ├── n02963159\n",
      "│   │   ├── n04074963\n",
      "│   │   ├── n04417672\n",
      "│   │   ├── n02364673\n",
      "│   │   ├── n03733131\n",
      "│   │   ├── n03617480\n",
      "│   │   ├── n03796401\n",
      "│   │   ├── n01768244\n",
      "│   │   ├── n04265275\n",
      "│   │   ├── n02403003\n",
      "│   │   ├── n03980874\n",
      "│   │   ├── n02504458\n",
      "│   │   ├── n01443537\n",
      "│   │   ├── n02410509\n",
      "│   │   ├── n04376876\n",
      "│   │   ├── n03770439\n",
      "│   │   ├── n03201208\n",
      "│   │   ├── n04398044\n",
      "│   │   ├── n03393912\n",
      "│   │   ├── n12267677\n",
      "│   │   ├── n07747607\n",
      "│   │   ├── n02437312\n",
      "│   │   ├── n02837789\n",
      "│   │   ├── n02892201\n",
      "│   │   ├── n04118538\n",
      "│   │   ├── n02927161\n",
      "│   │   ├── n03026506\n",
      "│   │   ├── n03930313\n",
      "│   │   ├── n03404251\n",
      "│   │   ├── n02395406\n",
      "│   │   ├── n02769748\n",
      "│   │   ├── n02669723\n",
      "│   │   ├── n03042490\n",
      "│   │   ├── n07873807\n",
      "│   │   ├── n02094433\n",
      "│   │   ├── n02129165\n",
      "│   │   ├── n04179913\n",
      "│   │   ├── n02823428\n",
      "│   │   ├── n04259630\n",
      "│   │   ├── n09193705\n",
      "│   │   ├── n01984695\n",
      "│   │   ├── n02509815\n",
      "│   │   ├── n02730930\n",
      "│   │   ├── n01629819\n",
      "│   │   ├── n02165456\n",
      "│   │   ├── n04532670\n",
      "│   │   ├── n02206856\n",
      "│   │   ├── n02802426\n",
      "│   │   ├── n02791270\n",
      "│   │   ├── n07875152\n",
      "│   │   ├── n07871810\n",
      "│   │   ├── n04596742\n",
      "│   │   ├── n03891332\n",
      "│   │   ├── n02226429\n",
      "│   │   ├── n02085620\n",
      "│   │   ├── n02415577\n",
      "│   │   ├── n02815834\n",
      "│   │   ├── n02074367\n",
      "│   │   └── n02699494\n",
      "│   ├── words.txt\n",
      "│   └── val\n",
      "│       ├── images\n",
      "│       └── val_annotations.txt\n",
      "├── impl\n",
      "│   ├── __init__.py\n",
      "│   ├── challenge_assigner.py\n",
      "│   ├── __pycache__\n",
      "│   │   ├── pt_cnn_fetschallenge.cpython-38.pyc\n",
      "│   │   ├── fets_challenge_dataloader.cpython-38.pyc\n",
      "│   │   ├── __init__.cpython-38.pyc\n",
      "│   │   ├── fets_challenge_model.cpython-38.pyc\n",
      "│   │   ├── challenge_assigner.cpython-38.pyc\n",
      "│   │   ├── mnist_utils.cpython-38.pyc\n",
      "│   │   └── ptmnist_inmemory.cpython-38.pyc\n",
      "│   ├── mnist_utils.py\n",
      "│   ├── pt_cnn_fetschallenge.py\n",
      "│   ├── ptmnist_inmemory.py\n",
      "│   ├── fets_challenge_dataloader.py\n",
      "│   └── fets_challenge_model.py\n",
      "├── src\n",
      "│   ├── __init__.py\n",
      "│   ├── keras_cnn.py\n",
      "│   ├── mnist_utils.py\n",
      "│   ├── tfmnist_inmemory.py\n",
      "│   ├── ptmnist_inmemory.py\n",
      "│   └── pt_cnn.py\n",
      "├── institution_split.csv\n",
      "├── final_model\n",
      "│   ├── saved_model.pb\n",
      "│   ├── variables\n",
      "│   │   ├── variables.index\n",
      "│   │   └── variables.data-00000-of-00001\n",
      "│   ├── assets\n",
      "│   └── keras_metadata.pb\n",
      "├── agg_to_col_one_signed_cert.zip\n",
      "└── save\n",
      "    ├── keras_cnn_mnist_last.pbuf\n",
      "    ├── fets_challenge_init.pbuf\n",
      "    ├── torch_unet_kvasir_init.pbuf\n",
      "    ├── fets_challenge_last.pbuf\n",
      "    ├── torch_cnn_mnist_init.pbuf\n",
      "    ├── fets_challenge_best.pbuf\n",
      "    ├── torch_unet_kvasir_best.pbuf\n",
      "    ├── keras_cnn_mnist_init.pbuf\n",
      "    ├── torch_cnn_mnist_best.pbuf\n",
      "    ├── torch_unet_kvasir_last.pbuf\n",
      "    ├── keras_cnn_mnist_best.pbuf\n",
      "    └── torch_cnn_mnist_last.pbuf\n",
      "\n",
      "230 directories, 91 files\n",
      "Setting Up Certificate Authority...\n",
      "\n",
      "1.  Create Root CA\n",
      "1.1 Create Directories\n",
      "1.2 Create Database\n",
      "1.3 Create CA Request and Certificate\n",
      "2.  Create Signing Certificate\n",
      "2.1 Create Directories\n",
      "2.2 Create Database\n",
      "2.3 Create Signing Certificate CSR\n",
      "2.4 Sign Signing Certificate CSR\n",
      "3   Create Certificate Chain\n",
      "\n",
      "Done.\n",
      "Creating AGGREGATOR certificate key pair with following settings: CN=\u001b[31mnnlicv611.inn.intel.com\u001b[0m, SAN=\u001b[31mDNS:nnlicv611.inn.intel.com\u001b[0m\n",
      "  Writing AGGREGATOR certificate key pair to: \u001b[32mcert/server\u001b[0m\n"
     ]
    },
    {
     "name": "stdout",
     "output_type": "stream",
     "text": [
      "The CSR Hash for file \u001b[32mserver/agg_nnlicv611.inn.intel.com.csr\u001b[0m = \u001b[31mf0a26621425e1e49df2b382ac95c8375964b2f912879fda02aa84c5c7234709d5e0839efba4281de9de958f9d033f516\u001b[0m\n",
      " Signing AGGREGATOR certificate\n",
      "Creating COLLABORATOR certificate key pair with following settings: CN=\u001b[31mone\u001b[0m, SAN=\u001b[31mDNS:one\u001b[0m\n",
      "  Moving COLLABORATOR certificate to: \u001b[32mcert/col_one\u001b[0m\n",
      "The CSR Hash for file \u001b[32mcol_one.csr\u001b[0m = \u001b[31m48de5a1b5c0a9f45e1cf2146fb86e0034efeb576bae60d5c1705e4666b6bdde0a8b3ddd4588d00a36ef2441441deea21\u001b[0m\n",
      " Signing COLLABORATOR certificate\n",
      "\n",
      "Registering \u001b[32mone\u001b[0m in \u001b[32mplan/cols.yaml\u001b[0m\n",
      "Creating COLLABORATOR certificate key pair with following settings: CN=\u001b[31mtwo\u001b[0m, SAN=\u001b[31mDNS:two\u001b[0m\n",
      "  Moving COLLABORATOR certificate to: \u001b[32mcert/col_two\u001b[0m\n",
      "The CSR Hash for file \u001b[32mcol_two.csr\u001b[0m = \u001b[31ma2ab47651eba8bd69d28d33ff412ec8d7e9fd67a32e067426bc6c18d1928c8430fa855c50c78c60f2f56b4a6d4758140\u001b[0m\n",
      " Signing COLLABORATOR certificate\n",
      "\n",
      "Registering \u001b[32mtwo\u001b[0m in \u001b[32mplan/cols.yaml\u001b[0m\n"
     ]
    }
   ],
   "source": [
    "#Setup default workspace, logging, etc.\n",
    "fx.init('torch_cnn_mnist')"
   ]
  },
  {
   "cell_type": "markdown",
   "metadata": {},
   "source": [
    "Now we are ready to define our dataset and model to perform federated learning on. The dataset should be composed of a numpy arrayWe start with a simple fully connected model that is trained on the MNIST dataset. "
   ]
  },
  {
   "cell_type": "markdown",
   "metadata": {},
   "source": [
    "#### Download the data"
   ]
  },
  {
   "cell_type": "code",
   "execution_count": 4,
   "metadata": {},
   "outputs": [
    {
     "name": "stdout",
     "output_type": "stream",
     "text": [
      "File ‘tiny-imagenet-200.zip’ already there; not retrieving.\n",
      "\n",
      "Archive:  tiny-imagenet-200.zip\n"
     ]
    }
   ],
   "source": [
    "!wget --no-clobber http://cs231n.stanford.edu/tiny-imagenet-200.zip\n",
    "!unzip -n tiny-imagenet-200.zip\n",
    "TINY_IMAGENET_ROOT = './tiny-imagenet-200/'"
   ]
  },
  {
   "cell_type": "markdown",
   "metadata": {},
   "source": [
    "#### Describe the dataset"
   ]
  },
  {
   "cell_type": "code",
   "execution_count": 5,
   "metadata": {},
   "outputs": [],
   "source": [
    "class TinyImageNet(Dataset):\n",
    "    \"\"\"\n",
    "    Contains 200 classes for training. Each class has 500 images. \n",
    "    Parameters\n",
    "    ----------\n",
    "    root: string\n",
    "        Root directory including `train` and `val` subdirectories.\n",
    "    split: string\n",
    "        Indicating which split to return as a data set.\n",
    "        Valid option: [`train`, `val`]\n",
    "    transform: torchvision.transforms\n",
    "        A (series) of valid transformation(s).\n",
    "    \"\"\"\n",
    "    def __init__(self, root, split='train', transform=None, target_transform=None):\n",
    "        NUM_IMAGES_PER_CLASS = 500\n",
    "        self.root = os.path.expanduser(root)\n",
    "        self.transform = transform\n",
    "        self.target_transform = target_transform\n",
    "        self.split_dir = os.path.join(self.root, split)\n",
    "        self.image_paths = sorted(glob.iglob(os.path.join(self.split_dir, '**', '*.JPEG'), recursive=True))\n",
    "        \n",
    "        self.labels = {}  # fname - label number mapping\n",
    "\n",
    "        # build class label - number mapping\n",
    "        with open(os.path.join(self.root, 'wnids.txt'), 'r') as fp:\n",
    "            self.label_texts = sorted([text.strip() for text in fp.readlines()])\n",
    "        self.label_text_to_number = {text: i for i, text in enumerate(self.label_texts)}\n",
    "\n",
    "        if split == 'train':\n",
    "            for label_text, i in self.label_text_to_number.items():\n",
    "                for cnt in range(NUM_IMAGES_PER_CLASS):\n",
    "                    self.labels[f'{label_text}_{cnt}.JPEG'] = i\n",
    "        elif split == 'val':\n",
    "            with open(os.path.join(self.split_dir, 'val_annotations.txt'), 'r') as fp:\n",
    "                for line in fp.readlines():\n",
    "                    terms = line.split('\\t')\n",
    "                    file_name, label_text = terms[0], terms[1]\n",
    "                    self.labels[file_name] = self.label_text_to_number[label_text]\n",
    "                    \n",
    "    \n",
    "    def __len__(self):\n",
    "        return len(self.image_paths)\n",
    "\n",
    "    def __getitem__(self, index):\n",
    "        file_path = self.image_paths[index]\n",
    "        label = self.labels[os.path.basename(file_path)]\n",
    "        label = self.target_transform(label) if self.target_transform else label\n",
    "        return self.read_image(file_path), label\n",
    "\n",
    "    def read_image(self, path):\n",
    "        img = Image.open(path)\n",
    "        return self.transform(img) if self.transform else img\n",
    "\n",
    "def one_hot(labels, classes):\n",
    "    return np.eye(classes)[labels]"
   ]
  },
  {
   "cell_type": "code",
   "execution_count": 6,
   "metadata": {},
   "outputs": [],
   "source": [
    "normalize = T.Normalize(mean=[0.485, 0.456, 0.406],\n",
    "                                 std=[0.229, 0.224, 0.225])\n",
    "\n",
    "augmentation = T.RandomApply([\n",
    "    T.RandomHorizontalFlip(),\n",
    "    T.RandomRotation(10),\n",
    "    T.RandomResizedCrop(64)], p=.8)\n",
    "\n",
    "training_transform = T.Compose([\n",
    "    T.Lambda(lambda x: x.convert(\"RGB\")),\n",
    "    augmentation,\n",
    "    T.ToTensor(),\n",
    "    normalize])\n",
    "\n",
    "valid_transform = T.Compose([\n",
    "    T.Lambda(lambda x: x.convert(\"RGB\")),\n",
    "    T.ToTensor(),\n",
    "    normalize])"
   ]
  },
  {
   "cell_type": "markdown",
   "metadata": {},
   "source": [
    "#### Implement Federated dataset\n",
    "We have to implement `split` method"
   ]
  },
  {
   "cell_type": "code",
   "execution_count": 7,
   "metadata": {},
   "outputs": [],
   "source": [
    "from openfl.plugins.data_splitters import LogNormalPyTorchDatasetSplitter\n",
    "from openfl.federated.data import PyTorchFederatedDataset\n",
    "\n",
    "train_set = TinyImageNet(TINY_IMAGENET_ROOT, 'train', transform=training_transform)\n",
    "valid_set = TinyImageNet(TINY_IMAGENET_ROOT, 'val', transform=valid_transform, \\\n",
    "                                      target_transform=lambda target: one_hot(target, 200))\n",
    "\n",
    "fl_data = PyTorchFederatedDataset(train_set, valid_set, batch_size=32,\n",
    "                                  data_splitter=LogNormalPyTorchDatasetSplitter(0, 2.0, 200))\n",
    "num_classes = 200"
   ]
  },
  {
   "cell_type": "markdown",
   "metadata": {},
   "source": [
    "#### Define model"
   ]
  },
  {
   "cell_type": "code",
   "execution_count": 8,
   "metadata": {},
   "outputs": [],
   "source": [
    "class Net(nn.Module):\n",
    "    def __init__(self):\n",
    "        super(Net, self).__init__()\n",
    "        self.model = torchvision.models.mobilenet_v2(pretrained=True)\n",
    "        self.model.requires_grad_(False)\n",
    "        self.model.classifier[1] = torch.nn.Linear(in_features=1280, \\\n",
    "                        out_features=num_classes, bias=True)\n",
    "\n",
    "    def forward(self, x):\n",
    "        x = self.model.forward(x)\n",
    "        return x\n",
    "\n",
    "    \n",
    "optimizer = lambda x: optim.Adam(x, lr=1e-4)\n",
    "\n",
    "def cross_entropy(output, target):\n",
    "    \"\"\"Binary cross-entropy metric\n",
    "    \"\"\"\n",
    "    return F.cross_entropy(input=output,target=target)"
   ]
  },
  {
   "cell_type": "code",
   "execution_count": 9,
   "metadata": {},
   "outputs": [
    {
     "data": {
      "text/html": [
       "<pre style=\"white-space:pre;overflow-x:auto;line-height:normal;font-family:Menlo,'DejaVu Sans Mono',consolas,'Courier New',monospace\"><span style=\"color: #7fbfbf\">[11:09:07] </span><span style=\"color: #800000\">WARNING</span>  tried to remove tensor: __opt_state_needed not present in the tensor dict                                                       <a href=\"file:///home/itrushkin/.virtualenvs/openfl/lib/python3.8/site-packages/openfl/utilities/utils.py\"><span style=\"color: #7f7f7f\">utils.py</span></a><span style=\"color: #7f7f7f\">:162</span>\n",
       "</pre>\n"
      ],
      "text/plain": [
       "<rich.jupyter.JupyterRenderable at 0x7f5e6dc01b20>"
      ]
     },
     "metadata": {},
     "output_type": "display_data"
    }
   ],
   "source": [
    "#Create a federated model using the pytorch class, lambda optimizer function, and loss function\n",
    "fl_model = FederatedModel(build_model=Net,optimizer=optimizer,loss_fn=cross_entropy, \\\n",
    "                        data_loader=fl_data)"
   ]
  },
  {
   "cell_type": "markdown",
   "metadata": {},
   "source": [
    "The `FederatedModel` object is a wrapper around your Keras, Tensorflow or PyTorch model that makes it compatible with openfl. It provides built in federated training and validation functions that we will see used below. Using it's `setup` function, collaborator models and datasets can be automatically defined for the experiment. "
   ]
  },
  {
   "cell_type": "code",
   "execution_count": 10,
   "metadata": {},
   "outputs": [
    {
     "name": "stderr",
     "output_type": "stream",
     "text": [
      "100%|██████████| 10/10 [00:00<00:00, 1090.25it/s]"
     ]
    },
    {
     "name": "stdout",
     "output_type": "stream",
     "text": [
      "Assigning 0:5 of 0 class to 0 col...\n",
      "Assigning 5:10 of 1 class to 0 col...\n",
      "Assigning 0:5 of 1 class to 1 col...\n",
      "Assigning 5:10 of 2 class to 1 col...\n",
      "Assigning 0:5 of 2 class to 2 col...\n",
      "Assigning 5:10 of 3 class to 2 col...\n",
      "Assigning 0:5 of 3 class to 3 col...\n",
      "Assigning 5:10 of 4 class to 3 col...\n",
      "Assigning 0:5 of 4 class to 4 col...\n",
      "Assigning 5:10 of 5 class to 4 col...\n",
      "Assigning 0:5 of 5 class to 5 col...\n",
      "Assigning 5:10 of 6 class to 5 col...\n",
      "Assigning 0:5 of 6 class to 6 col...\n",
      "Assigning 5:10 of 7 class to 6 col...\n",
      "Assigning 0:5 of 7 class to 7 col...\n",
      "Assigning 5:10 of 8 class to 7 col...\n",
      "Assigning 0:5 of 8 class to 8 col...\n",
      "Assigning 5:10 of 9 class to 8 col...\n",
      "Assigning 0:5 of 9 class to 9 col...\n",
      "Assigning 5:10 of 10 class to 9 col...\n",
      "Trying to append 60 of 0 class to 0 col...\n",
      "Appending [ 5  6  7  8  9 10 11 12 13 14 15 16 17 18 19 20 21 22 23 24 25 26 27 28\n",
      " 29 30 31 32 33 34 35 36 37 38 39 40 41 42 43 44 45 46 47 48 49 50 51 52\n",
      " 53 54 55 56 57 58 59 60 61 62 63 64] of 0 class to 0 col...\n",
      "Trying to append 463 of 1 class to 0 col...\n",
      "Appending [510 511 512 513 514 515 516 517 518 519 520 521 522 523 524 525 526 527\n",
      " 528 529 530 531 532 533 534 535 536 537 538 539 540 541 542 543 544 545\n",
      " 546 547 548 549 550 551 552 553 554 555 556 557 558 559 560 561 562 563\n",
      " 564 565 566 567 568 569 570 571 572 573 574 575 576 577 578 579 580 581\n",
      " 582 583 584 585 586 587 588 589 590 591 592 593 594 595 596 597 598 599\n",
      " 600 601 602 603 604 605 606 607 608 609 610 611 612 613 614 615 616 617\n",
      " 618 619 620 621 622 623 624 625 626 627 628 629 630 631 632 633 634 635\n",
      " 636 637 638 639 640 641 642 643 644 645 646 647 648 649 650 651 652 653\n",
      " 654 655 656 657 658 659 660 661 662 663 664 665 666 667 668 669 670 671\n",
      " 672 673 674 675 676 677 678 679 680 681 682 683 684 685 686 687 688 689\n",
      " 690 691 692 693 694 695 696 697 698 699 700 701 702 703 704 705 706 707\n",
      " 708 709 710 711 712 713 714 715 716 717 718 719 720 721 722 723 724 725\n",
      " 726 727 728 729 730 731 732 733 734 735 736 737 738 739 740 741 742 743\n",
      " 744 745 746 747 748 749 750 751 752 753 754 755 756 757 758 759 760 761\n",
      " 762 763 764 765 766 767 768 769 770 771 772 773 774 775 776 777 778 779\n",
      " 780 781 782 783 784 785 786 787 788 789 790 791 792 793 794 795 796 797\n",
      " 798 799 800 801 802 803 804 805 806 807 808 809 810 811 812 813 814 815\n",
      " 816 817 818 819 820 821 822 823 824 825 826 827 828 829 830 831 832 833\n",
      " 834 835 836 837 838 839 840 841 842 843 844 845 846 847 848 849 850 851\n",
      " 852 853 854 855 856 857 858 859 860 861 862 863 864 865 866 867 868 869\n",
      " 870 871 872 873 874 875 876 877 878 879 880 881 882 883 884 885 886 887\n",
      " 888 889 890 891 892 893 894 895 896 897 898 899 900 901 902 903 904 905\n",
      " 906 907 908 909 910 911 912 913 914 915 916 917 918 919 920 921 922 923\n",
      " 924 925 926 927 928 929 930 931 932 933 934 935 936 937 938 939 940 941\n",
      " 942 943 944 945 946 947 948 949 950 951 952 953 954 955 956 957 958 959\n",
      " 960 961 962 963 964 965 966 967 968 969 970 971 972] of 1 class to 0 col...\n",
      "Trying to append 31 of 1 class to 1 col...\n",
      "Trying to append 2 of 2 class to 1 col...\n",
      "Appending [1010 1011] of 2 class to 1 col...\n",
      "Trying to append 492 of 2 class to 2 col...\n",
      "Trying to append 382 of 3 class to 2 col...\n",
      "Appending [1510 1511 1512 1513 1514 1515 1516 1517 1518 1519 1520 1521 1522 1523\n",
      " 1524 1525 1526 1527 1528 1529 1530 1531 1532 1533 1534 1535 1536 1537\n",
      " 1538 1539 1540 1541 1542 1543 1544 1545 1546 1547 1548 1549 1550 1551\n",
      " 1552 1553 1554 1555 1556 1557 1558 1559 1560 1561 1562 1563 1564 1565\n",
      " 1566 1567 1568 1569 1570 1571 1572 1573 1574 1575 1576 1577 1578 1579\n",
      " 1580 1581 1582 1583 1584 1585 1586 1587 1588 1589 1590 1591 1592 1593\n",
      " 1594 1595 1596 1597 1598 1599 1600 1601 1602 1603 1604 1605 1606 1607\n",
      " 1608 1609 1610 1611 1612 1613 1614 1615 1616 1617 1618 1619 1620 1621\n",
      " 1622 1623 1624 1625 1626 1627 1628 1629 1630 1631 1632 1633 1634 1635\n",
      " 1636 1637 1638 1639 1640 1641 1642 1643 1644 1645 1646 1647 1648 1649\n",
      " 1650 1651 1652 1653 1654 1655 1656 1657 1658 1659 1660 1661 1662 1663\n",
      " 1664 1665 1666 1667 1668 1669 1670 1671 1672 1673 1674 1675 1676 1677\n",
      " 1678 1679 1680 1681 1682 1683 1684 1685 1686 1687 1688 1689 1690 1691\n",
      " 1692 1693 1694 1695 1696 1697 1698 1699 1700 1701 1702 1703 1704 1705\n",
      " 1706 1707 1708 1709 1710 1711 1712 1713 1714 1715 1716 1717 1718 1719\n",
      " 1720 1721 1722 1723 1724 1725 1726 1727 1728 1729 1730 1731 1732 1733\n",
      " 1734 1735 1736 1737 1738 1739 1740 1741 1742 1743 1744 1745 1746 1747\n",
      " 1748 1749 1750 1751 1752 1753 1754 1755 1756 1757 1758 1759 1760 1761\n",
      " 1762 1763 1764 1765 1766 1767 1768 1769 1770 1771 1772 1773 1774 1775\n",
      " 1776 1777 1778 1779 1780 1781 1782 1783 1784 1785 1786 1787 1788 1789\n",
      " 1790 1791 1792 1793 1794 1795 1796 1797 1798 1799 1800 1801 1802 1803\n",
      " 1804 1805 1806 1807 1808 1809 1810 1811 1812 1813 1814 1815 1816 1817\n",
      " 1818 1819 1820 1821 1822 1823 1824 1825 1826 1827 1828 1829 1830 1831\n",
      " 1832 1833 1834 1835 1836 1837 1838 1839 1840 1841 1842 1843 1844 1845\n",
      " 1846 1847 1848 1849 1850 1851 1852 1853 1854 1855 1856 1857 1858 1859\n",
      " 1860 1861 1862 1863 1864 1865 1866 1867 1868 1869 1870 1871 1872 1873\n",
      " 1874 1875 1876 1877 1878 1879 1880 1881 1882 1883 1884 1885 1886 1887\n",
      " 1888 1889 1890 1891] of 3 class to 2 col...\n",
      "Trying to append 112 of 3 class to 3 col...\n",
      "Trying to append 85 of 4 class to 3 col...\n",
      "Appending [2010 2011 2012 2013 2014 2015 2016 2017 2018 2019 2020 2021 2022 2023\n",
      " 2024 2025 2026 2027 2028 2029 2030 2031 2032 2033 2034 2035 2036 2037\n",
      " 2038 2039 2040 2041 2042 2043 2044 2045 2046 2047 2048 2049 2050 2051\n",
      " 2052 2053 2054 2055 2056 2057 2058 2059 2060 2061 2062 2063 2064 2065\n",
      " 2066 2067 2068 2069 2070 2071 2072 2073 2074 2075 2076 2077 2078 2079\n",
      " 2080 2081 2082 2083 2084 2085 2086 2087 2088 2089 2090 2091 2092 2093\n",
      " 2094] of 4 class to 3 col...\n",
      "Trying to append 409 of 4 class to 4 col...\n",
      "Trying to append 100 of 5 class to 4 col...\n",
      "Appending [2510 2511 2512 2513 2514 2515 2516 2517 2518 2519 2520 2521 2522 2523\n",
      " 2524 2525 2526 2527 2528 2529 2530 2531 2532 2533 2534 2535 2536 2537\n",
      " 2538 2539 2540 2541 2542 2543 2544 2545 2546 2547 2548 2549 2550 2551\n",
      " 2552 2553 2554 2555 2556 2557 2558 2559 2560 2561 2562 2563 2564 2565\n",
      " 2566 2567 2568 2569 2570 2571 2572 2573 2574 2575 2576 2577 2578 2579\n",
      " 2580 2581 2582 2583 2584 2585 2586 2587 2588 2589 2590 2591 2592 2593\n",
      " 2594 2595 2596 2597 2598 2599 2600 2601 2602 2603 2604 2605 2606 2607\n",
      " 2608 2609] of 5 class to 4 col...\n",
      "Trying to append 394 of 5 class to 5 col...\n",
      "Trying to append 199 of 6 class to 5 col...\n",
      "Appending [3010 3011 3012 3013 3014 3015 3016 3017 3018 3019 3020 3021 3022 3023\n",
      " 3024 3025 3026 3027 3028 3029 3030 3031 3032 3033 3034 3035 3036 3037\n",
      " 3038 3039 3040 3041 3042 3043 3044 3045 3046 3047 3048 3049 3050 3051\n",
      " 3052 3053 3054 3055 3056 3057 3058 3059 3060 3061 3062 3063 3064 3065\n",
      " 3066 3067 3068 3069 3070 3071 3072 3073 3074 3075 3076 3077 3078 3079\n",
      " 3080 3081 3082 3083 3084 3085 3086 3087 3088 3089 3090 3091 3092 3093\n",
      " 3094 3095 3096 3097 3098 3099 3100 3101 3102 3103 3104 3105 3106 3107\n",
      " 3108 3109 3110 3111 3112 3113 3114 3115 3116 3117 3118 3119 3120 3121\n",
      " 3122 3123 3124 3125 3126 3127 3128 3129 3130 3131 3132 3133 3134 3135\n",
      " 3136 3137 3138 3139 3140 3141 3142 3143 3144 3145 3146 3147 3148 3149\n",
      " 3150 3151 3152 3153 3154 3155 3156 3157 3158 3159 3160 3161 3162 3163\n",
      " 3164 3165 3166 3167 3168 3169 3170 3171 3172 3173 3174 3175 3176 3177\n",
      " 3178 3179 3180 3181 3182 3183 3184 3185 3186 3187 3188 3189 3190 3191\n",
      " 3192 3193 3194 3195 3196 3197 3198 3199 3200 3201 3202 3203 3204 3205\n",
      " 3206 3207 3208] of 6 class to 5 col...\n",
      "Trying to append 295 of 6 class to 6 col...\n",
      "Trying to append 96 of 7 class to 6 col...\n",
      "Appending [3510 3511 3512 3513 3514 3515 3516 3517 3518 3519 3520 3521 3522 3523\n",
      " 3524 3525 3526 3527 3528 3529 3530 3531 3532 3533 3534 3535 3536 3537\n",
      " 3538 3539 3540 3541 3542 3543 3544 3545 3546 3547 3548 3549 3550 3551\n",
      " 3552 3553 3554 3555 3556 3557 3558 3559 3560 3561 3562 3563 3564 3565\n",
      " 3566 3567 3568 3569 3570 3571 3572 3573 3574 3575 3576 3577 3578 3579\n",
      " 3580 3581 3582 3583 3584 3585 3586 3587 3588 3589 3590 3591 3592 3593\n",
      " 3594 3595 3596 3597 3598 3599 3600 3601 3602 3603 3604 3605] of 7 class to 6 col...\n",
      "Trying to append 398 of 7 class to 7 col...\n",
      "Trying to append 384 of 8 class to 7 col...\n",
      "Appending [4010 4011 4012 4013 4014 4015 4016 4017 4018 4019 4020 4021 4022 4023\n",
      " 4024 4025 4026 4027 4028 4029 4030 4031 4032 4033 4034 4035 4036 4037\n",
      " 4038 4039 4040 4041 4042 4043 4044 4045 4046 4047 4048 4049 4050 4051\n",
      " 4052 4053 4054 4055 4056 4057 4058 4059 4060 4061 4062 4063 4064 4065\n",
      " 4066 4067 4068 4069 4070 4071 4072 4073 4074 4075 4076 4077 4078 4079\n",
      " 4080 4081 4082 4083 4084 4085 4086 4087 4088 4089 4090 4091 4092 4093\n",
      " 4094 4095 4096 4097 4098 4099 4100 4101 4102 4103 4104 4105 4106 4107\n",
      " 4108 4109 4110 4111 4112 4113 4114 4115 4116 4117 4118 4119 4120 4121\n",
      " 4122 4123 4124 4125 4126 4127 4128 4129 4130 4131 4132 4133 4134 4135\n",
      " 4136 4137 4138 4139 4140 4141 4142 4143 4144 4145 4146 4147 4148 4149\n",
      " 4150 4151 4152 4153 4154 4155 4156 4157 4158 4159 4160 4161 4162 4163\n",
      " 4164 4165 4166 4167 4168 4169 4170 4171 4172 4173 4174 4175 4176 4177\n",
      " 4178 4179 4180 4181 4182 4183 4184 4185 4186 4187 4188 4189 4190 4191\n",
      " 4192 4193 4194 4195 4196 4197 4198 4199 4200 4201 4202 4203 4204 4205\n",
      " 4206 4207 4208 4209 4210 4211 4212 4213 4214 4215 4216 4217 4218 4219\n",
      " 4220 4221 4222 4223 4224 4225 4226 4227 4228 4229 4230 4231 4232 4233\n",
      " 4234 4235 4236 4237 4238 4239 4240 4241 4242 4243 4244 4245 4246 4247\n",
      " 4248 4249 4250 4251 4252 4253 4254 4255 4256 4257 4258 4259 4260 4261\n",
      " 4262 4263 4264 4265 4266 4267 4268 4269 4270 4271 4272 4273 4274 4275\n",
      " 4276 4277 4278 4279 4280 4281 4282 4283 4284 4285 4286 4287 4288 4289\n",
      " 4290 4291 4292 4293 4294 4295 4296 4297 4298 4299 4300 4301 4302 4303\n",
      " 4304 4305 4306 4307 4308 4309 4310 4311 4312 4313 4314 4315 4316 4317\n",
      " 4318 4319 4320 4321 4322 4323 4324 4325 4326 4327 4328 4329 4330 4331\n",
      " 4332 4333 4334 4335 4336 4337 4338 4339 4340 4341 4342 4343 4344 4345\n",
      " 4346 4347 4348 4349 4350 4351 4352 4353 4354 4355 4356 4357 4358 4359\n",
      " 4360 4361 4362 4363 4364 4365 4366 4367 4368 4369 4370 4371 4372 4373\n",
      " 4374 4375 4376 4377 4378 4379 4380 4381 4382 4383 4384 4385 4386 4387\n",
      " 4388 4389 4390 4391 4392 4393] of 8 class to 7 col...\n",
      "Trying to append 110 of 8 class to 8 col...\n",
      "Trying to append 246 of 9 class to 8 col...\n",
      "Appending [4510 4511 4512 4513 4514 4515 4516 4517 4518 4519 4520 4521 4522 4523\n",
      " 4524 4525 4526 4527 4528 4529 4530 4531 4532 4533 4534 4535 4536 4537\n",
      " 4538 4539 4540 4541 4542 4543 4544 4545 4546 4547 4548 4549 4550 4551\n",
      " 4552 4553 4554 4555 4556 4557 4558 4559 4560 4561 4562 4563 4564 4565\n",
      " 4566 4567 4568 4569 4570 4571 4572 4573 4574 4575 4576 4577 4578 4579\n",
      " 4580 4581 4582 4583 4584 4585 4586 4587 4588 4589 4590 4591 4592 4593\n",
      " 4594 4595 4596 4597 4598 4599 4600 4601 4602 4603 4604 4605 4606 4607\n",
      " 4608 4609 4610 4611 4612 4613 4614 4615 4616 4617 4618 4619 4620 4621\n",
      " 4622 4623 4624 4625 4626 4627 4628 4629 4630 4631 4632 4633 4634 4635\n",
      " 4636 4637 4638 4639 4640 4641 4642 4643 4644 4645 4646 4647 4648 4649\n",
      " 4650 4651 4652 4653 4654 4655 4656 4657 4658 4659 4660 4661 4662 4663\n",
      " 4664 4665 4666 4667 4668 4669 4670 4671 4672 4673 4674 4675 4676 4677\n",
      " 4678 4679 4680 4681 4682 4683 4684 4685 4686 4687 4688 4689 4690 4691\n",
      " 4692 4693 4694 4695 4696 4697 4698 4699 4700 4701 4702 4703 4704 4705\n",
      " 4706 4707 4708 4709 4710 4711 4712 4713 4714 4715 4716 4717 4718 4719\n",
      " 4720 4721 4722 4723 4724 4725 4726 4727 4728 4729 4730 4731 4732 4733\n",
      " 4734 4735 4736 4737 4738 4739 4740 4741 4742 4743 4744 4745 4746 4747\n",
      " 4748 4749 4750 4751 4752 4753 4754 4755] of 9 class to 8 col...\n",
      "Trying to append 248 of 9 class to 9 col...\n",
      "Trying to append 5 of 10 class to 9 col...\n",
      "Appending [5005 5006 5007 5008 5009] of 10 class to 9 col...\n"
     ]
    },
    {
     "name": "stderr",
     "output_type": "stream",
     "text": [
      "\n",
      "100%|██████████| 10/10 [00:00<00:00, 1704.38it/s]"
     ]
    },
    {
     "name": "stdout",
     "output_type": "stream",
     "text": [
      "Assigning 0:5 of 0 class to 0 col...\n",
      "Assigning 5:10 of 1 class to 0 col...\n",
      "Assigning 0:5 of 1 class to 1 col...\n",
      "Assigning 5:10 of 2 class to 1 col...\n",
      "Assigning 0:5 of 2 class to 2 col...\n",
      "Assigning 5:10 of 3 class to 2 col...\n",
      "Assigning 0:5 of 3 class to 3 col...\n",
      "Assigning 5:10 of 4 class to 3 col...\n",
      "Assigning 0:5 of 4 class to 4 col...\n",
      "Assigning 5:10 of 5 class to 4 col...\n",
      "Assigning 0:5 of 5 class to 5 col...\n",
      "Assigning 5:10 of 6 class to 5 col...\n",
      "Assigning 0:5 of 6 class to 6 col...\n",
      "Assigning 5:10 of 7 class to 6 col...\n",
      "Assigning 0:5 of 7 class to 7 col...\n",
      "Assigning 5:10 of 8 class to 7 col...\n",
      "Assigning 0:5 of 8 class to 8 col...\n",
      "Assigning 5:10 of 9 class to 8 col...\n",
      "Assigning 0:5 of 9 class to 9 col...\n",
      "Assigning 5:10 of 10 class to 9 col...\n",
      "Trying to append 0 of 0 class to 0 col...\n",
      "Appending [] of 0 class to 0 col...\n",
      "Trying to append 17 of 1 class to 0 col...\n",
      "Appending [2882 3039 3093 3253 3411 3839 4044 4292 4362 4660 4706 4883 4918 5071\n",
      " 5156 5354 6012] of 1 class to 0 col...\n",
      "Trying to append 27 of 1 class to 1 col...\n",
      "Trying to append 42 of 2 class to 1 col...\n",
      "Trying to append 2 of 2 class to 2 col...\n",
      "Appending [1780 1827] of 2 class to 2 col...\n",
      "Trying to append 3 of 3 class to 2 col...\n",
      "Appending [2798 3221 3498] of 3 class to 2 col...\n",
      "Trying to append 41 of 3 class to 3 col...\n",
      "Trying to append 36 of 4 class to 3 col...\n",
      "Appending [4003 4078 4134 4235 4303 4605 4656 4771 4822 5306 5321 5464 5489 6254\n",
      " 6293 6374 6487 6563 6763 6851 7257 7445 7470 7639 7670 7785 8092 8149\n",
      " 8289 8438 8543 8603 8801 8845 9208 9571] of 4 class to 3 col...\n",
      "Trying to append 8 of 4 class to 4 col...\n",
      "Trying to append 15 of 5 class to 4 col...\n",
      "Appending [1737 1770 1962 2055 2403 3182 3811 3825 3836 4276 4411 4517 5045 5212\n",
      " 5729] of 5 class to 4 col...\n",
      "Trying to append 29 of 5 class to 5 col...\n",
      "Trying to append 44 of 6 class to 5 col...\n",
      "Trying to append 0 of 6 class to 6 col...\n",
      "Appending [] of 6 class to 6 col...\n",
      "Trying to append 13 of 7 class to 6 col...\n",
      "Appending [1866 2030 2365 2571 2870 3604 4086 4511 4586 4602 4696 4704 4739] of 7 class to 6 col...\n",
      "Trying to append 31 of 7 class to 7 col...\n",
      "Trying to append 19 of 8 class to 7 col...\n",
      "Appending [1929 2307 3077 3187 3417 3434 3864 3932 4185 4240 4374 4601 4812 5076\n",
      " 5391 5411 5442 5767 5934] of 8 class to 7 col...\n",
      "Trying to append 25 of 8 class to 8 col...\n",
      "Trying to append 2 of 9 class to 8 col...\n",
      "Appending [2702 2794] of 9 class to 8 col...\n",
      "Trying to append 42 of 9 class to 9 col...\n",
      "Trying to append 38 of 10 class to 9 col...\n",
      "Appending [1047 1127 1839 2002 2384 2521 2729 2819 3011 3702 3743 4033 4252 4860\n",
      " 5088 5112 5183 5186 5238 5277 5361 5466 5627 5667 5772 5942 5992 6043\n",
      " 6096 6214 6302 6489 6757 6953 6990 7610 7708 7735] of 10 class to 9 col...\n"
     ]
    },
    {
     "name": "stderr",
     "output_type": "stream",
     "text": [
      "\n"
     ]
    },
    {
     "data": {
      "text/html": [
       "<pre style=\"white-space:pre;overflow-x:auto;line-height:normal;font-family:Menlo,'DejaVu Sans Mono',consolas,'Courier New',monospace\"><span style=\"color: #7fbfbf\">[11:09:55] </span><span style=\"color: #800000\">WARNING</span>  tried to remove tensor: __opt_state_needed not present in the tensor dict                                                       <a href=\"file:///home/itrushkin/.virtualenvs/openfl/lib/python3.8/site-packages/openfl/utilities/utils.py\"><span style=\"color: #7f7f7f\">utils.py</span></a><span style=\"color: #7f7f7f\">:162</span>\n",
       "</pre>\n"
      ],
      "text/plain": [
       "<rich.jupyter.JupyterRenderable at 0x7f5e6dc13d00>"
      ]
     },
     "metadata": {},
     "output_type": "display_data"
    },
    {
     "data": {
      "text/html": [
       "<pre style=\"white-space:pre;overflow-x:auto;line-height:normal;font-family:Menlo,'DejaVu Sans Mono',consolas,'Courier New',monospace\"><span style=\"color: #7fbfbf\">           </span><span style=\"color: #800000\">WARNING</span>  tried to remove tensor: __opt_state_needed not present in the tensor dict                                                       <a href=\"file:///home/itrushkin/.virtualenvs/openfl/lib/python3.8/site-packages/openfl/utilities/utils.py\"><span style=\"color: #7f7f7f\">utils.py</span></a><span style=\"color: #7f7f7f\">:162</span>\n",
       "</pre>\n"
      ],
      "text/plain": [
       "<rich.jupyter.JupyterRenderable at 0x7f5e6df99d00>"
      ]
     },
     "metadata": {},
     "output_type": "display_data"
    },
    {
     "data": {
      "text/html": [
       "<pre style=\"white-space:pre;overflow-x:auto;line-height:normal;font-family:Menlo,'DejaVu Sans Mono',consolas,'Courier New',monospace\"><span style=\"color: #7fbfbf\">           </span><span style=\"color: #800000\">WARNING</span>  tried to remove tensor: __opt_state_needed not present in the tensor dict                                                       <a href=\"file:///home/itrushkin/.virtualenvs/openfl/lib/python3.8/site-packages/openfl/utilities/utils.py\"><span style=\"color: #7f7f7f\">utils.py</span></a><span style=\"color: #7f7f7f\">:162</span>\n",
       "</pre>\n"
      ],
      "text/plain": [
       "<rich.jupyter.JupyterRenderable at 0x7f5e6dea0bb0>"
      ]
     },
     "metadata": {},
     "output_type": "display_data"
    },
    {
     "data": {
      "text/html": [
       "<pre style=\"white-space:pre;overflow-x:auto;line-height:normal;font-family:Menlo,'DejaVu Sans Mono',consolas,'Courier New',monospace\"><span style=\"color: #7fbfbf\">           </span><span style=\"color: #800000\">WARNING</span>  tried to remove tensor: __opt_state_needed not present in the tensor dict                                                       <a href=\"file:///home/itrushkin/.virtualenvs/openfl/lib/python3.8/site-packages/openfl/utilities/utils.py\"><span style=\"color: #7f7f7f\">utils.py</span></a><span style=\"color: #7f7f7f\">:162</span>\n",
       "</pre>\n"
      ],
      "text/plain": [
       "<rich.jupyter.JupyterRenderable at 0x7f5e6ddc0d00>"
      ]
     },
     "metadata": {},
     "output_type": "display_data"
    },
    {
     "data": {
      "text/html": [
       "<pre style=\"white-space:pre;overflow-x:auto;line-height:normal;font-family:Menlo,'DejaVu Sans Mono',consolas,'Courier New',monospace\"><span style=\"color: #7fbfbf\">           </span><span style=\"color: #800000\">WARNING</span>  tried to remove tensor: __opt_state_needed not present in the tensor dict                                                       <a href=\"file:///home/itrushkin/.virtualenvs/openfl/lib/python3.8/site-packages/openfl/utilities/utils.py\"><span style=\"color: #7f7f7f\">utils.py</span></a><span style=\"color: #7f7f7f\">:162</span>\n",
       "</pre>\n"
      ],
      "text/plain": [
       "<rich.jupyter.JupyterRenderable at 0x7f5e6dd3ad00>"
      ]
     },
     "metadata": {},
     "output_type": "display_data"
    },
    {
     "data": {
      "text/html": [
       "<pre style=\"white-space:pre;overflow-x:auto;line-height:normal;font-family:Menlo,'DejaVu Sans Mono',consolas,'Courier New',monospace\"><span style=\"color: #7fbfbf\">           </span><span style=\"color: #800000\">WARNING</span>  tried to remove tensor: __opt_state_needed not present in the tensor dict                                                       <a href=\"file:///home/itrushkin/.virtualenvs/openfl/lib/python3.8/site-packages/openfl/utilities/utils.py\"><span style=\"color: #7f7f7f\">utils.py</span></a><span style=\"color: #7f7f7f\">:162</span>\n",
       "</pre>\n"
      ],
      "text/plain": [
       "<rich.jupyter.JupyterRenderable at 0x7f5e6dc6ae50>"
      ]
     },
     "metadata": {},
     "output_type": "display_data"
    },
    {
     "data": {
      "text/html": [
       "<pre style=\"white-space:pre;overflow-x:auto;line-height:normal;font-family:Menlo,'DejaVu Sans Mono',consolas,'Courier New',monospace\"><span style=\"color: #7fbfbf\">           </span><span style=\"color: #800000\">WARNING</span>  tried to remove tensor: __opt_state_needed not present in the tensor dict                                                       <a href=\"file:///home/itrushkin/.virtualenvs/openfl/lib/python3.8/site-packages/openfl/utilities/utils.py\"><span style=\"color: #7f7f7f\">utils.py</span></a><span style=\"color: #7f7f7f\">:162</span>\n",
       "</pre>\n"
      ],
      "text/plain": [
       "<rich.jupyter.JupyterRenderable at 0x7f5e6dafed00>"
      ]
     },
     "metadata": {},
     "output_type": "display_data"
    },
    {
     "data": {
      "text/html": [
       "<pre style=\"white-space:pre;overflow-x:auto;line-height:normal;font-family:Menlo,'DejaVu Sans Mono',consolas,'Courier New',monospace\"><span style=\"color: #7fbfbf\">           </span><span style=\"color: #800000\">WARNING</span>  tried to remove tensor: __opt_state_needed not present in the tensor dict                                                       <a href=\"file:///home/itrushkin/.virtualenvs/openfl/lib/python3.8/site-packages/openfl/utilities/utils.py\"><span style=\"color: #7f7f7f\">utils.py</span></a><span style=\"color: #7f7f7f\">:162</span>\n",
       "</pre>\n"
      ],
      "text/plain": [
       "<rich.jupyter.JupyterRenderable at 0x7f5e6da18430>"
      ]
     },
     "metadata": {},
     "output_type": "display_data"
    },
    {
     "data": {
      "text/html": [
       "<pre style=\"white-space:pre;overflow-x:auto;line-height:normal;font-family:Menlo,'DejaVu Sans Mono',consolas,'Courier New',monospace\"><span style=\"color: #7fbfbf\">           </span><span style=\"color: #800000\">WARNING</span>  tried to remove tensor: __opt_state_needed not present in the tensor dict                                                       <a href=\"file:///home/itrushkin/.virtualenvs/openfl/lib/python3.8/site-packages/openfl/utilities/utils.py\"><span style=\"color: #7f7f7f\">utils.py</span></a><span style=\"color: #7f7f7f\">:162</span>\n",
       "</pre>\n"
      ],
      "text/plain": [
       "<rich.jupyter.JupyterRenderable at 0x7f5e6d927d00>"
      ]
     },
     "metadata": {},
     "output_type": "display_data"
    },
    {
     "data": {
      "text/html": [
       "<pre style=\"white-space:pre;overflow-x:auto;line-height:normal;font-family:Menlo,'DejaVu Sans Mono',consolas,'Courier New',monospace\"><span style=\"color: #7fbfbf\">           </span><span style=\"color: #800000\">WARNING</span>  tried to remove tensor: __opt_state_needed not present in the tensor dict                                                       <a href=\"file:///home/itrushkin/.virtualenvs/openfl/lib/python3.8/site-packages/openfl/utilities/utils.py\"><span style=\"color: #7f7f7f\">utils.py</span></a><span style=\"color: #7f7f7f\">:162</span>\n",
       "</pre>\n"
      ],
      "text/plain": [
       "<rich.jupyter.JupyterRenderable at 0x7f5e6d81fd00>"
      ]
     },
     "metadata": {},
     "output_type": "display_data"
    }
   ],
   "source": [
    "collaborator_models = fl_model.setup(num_collaborators=10)\n",
    "collaborators = {'one':collaborator_models[0],'two':collaborator_models[1]}#, 'three':collaborator_models[2]}"
   ]
  },
  {
   "cell_type": "code",
   "execution_count": 11,
   "metadata": {},
   "outputs": [
    {
     "name": "stdout",
     "output_type": "stream",
     "text": [
      "Original training data size: 100000\n",
      "Original validation data size: 10000\n",
      "\n",
      "Collaborator 0's training data size: 533\n",
      "Collaborator 0's validation data size: 27\n",
      "\n",
      "Collaborator 1's training data size: 12\n",
      "Collaborator 1's validation data size: 10\n",
      "\n",
      "Collaborator 2's training data size: 392\n",
      "Collaborator 2's validation data size: 15\n",
      "\n",
      "Collaborator 3's training data size: 95\n",
      "Collaborator 3's validation data size: 46\n",
      "\n",
      "Collaborator 4's training data size: 110\n",
      "Collaborator 4's validation data size: 25\n",
      "\n",
      "Collaborator 5's training data size: 209\n",
      "Collaborator 5's validation data size: 10\n",
      "\n",
      "Collaborator 6's training data size: 106\n",
      "Collaborator 6's validation data size: 23\n",
      "\n",
      "Collaborator 7's training data size: 394\n",
      "Collaborator 7's validation data size: 29\n",
      "\n",
      "Collaborator 8's training data size: 256\n",
      "Collaborator 8's validation data size: 12\n",
      "\n",
      "Collaborator 9's training data size: 15\n",
      "Collaborator 9's validation data size: 48\n",
      "\n"
     ]
    }
   ],
   "source": [
    "#Original TinyImageNet dataset\n",
    "print(f'Original training data size: {len(fl_data.train_set)}')\n",
    "print(f'Original validation data size: {len(fl_data.valid_set)}\\n')\n",
    "\n",
    "#Collaborator one's data\n",
    "for i, model in enumerate(collaborator_models):\n",
    "    print(f'Collaborator {i}\\'s training data size: {len(model.data_loader.train_set)}')\n",
    "    print(f'Collaborator {i}\\'s validation data size: {len(model.data_loader.valid_set)}\\n')\n",
    "\n",
    "#Collaborator three's data\n",
    "#print(f'Collaborator three\\'s training data size: {len(collaborator_models[2].data_loader.X_train)}')\n",
    "#print(f'Collaborator three\\'s validation data size: {len(collaborator_models[2].data_loader.X_valid)}')"
   ]
  },
  {
   "cell_type": "code",
   "execution_count": null,
   "metadata": {
    "scrolled": true
   },
   "outputs": [
    {
     "data": {
      "text/html": [
       "<pre style=\"white-space:pre;overflow-x:auto;line-height:normal;font-family:Menlo,'DejaVu Sans Mono',consolas,'Courier New',monospace\"><span style=\"color: #7fbfbf\">           </span><span style=\"color: #000080\">INFO</span>     Updating aggregator.settings.rounds_to_train to <span style=\"color: #000080; font-weight: bold\">10</span><span style=\"color: #808000\">...</span>                                                                           <a href=\"file:///home/itrushkin/.virtualenvs/openfl/lib/python3.8/site-packages/openfl/native/native.py\"><span style=\"color: #7f7f7f\">native.py</span></a><span style=\"color: #7f7f7f\">:86</span>\n",
       "</pre>\n"
      ],
      "text/plain": [
       "<rich.jupyter.JupyterRenderable at 0x7f5e6d8534c0>"
      ]
     },
     "metadata": {},
     "output_type": "display_data"
    },
    {
     "data": {
      "text/html": [
       "<pre style=\"white-space:pre;overflow-x:auto;line-height:normal;font-family:Menlo,'DejaVu Sans Mono',consolas,'Courier New',monospace\"><span style=\"color: #7fbfbf\">           </span><span style=\"color: #000080\">INFO</span>     FL-Plan hash is <span style=\"color: #000080\">c330d934c40cfaad142d8fea8540158f97ba34678bfa2de6d5242239cd2ac30c45c5cabdb7cb29c6912ca12a4e8f5f98</span>                 <a href=\"file:///home/itrushkin/.virtualenvs/openfl/lib/python3.8/site-packages/openfl/federated/plan/plan.py\"><span style=\"color: #7f7f7f\">plan.py</span></a><span style=\"color: #7f7f7f\">:231</span>\n",
       "</pre>\n"
      ],
      "text/plain": [
       "<rich.jupyter.JupyterRenderable at 0x7f5e6d81f370>"
      ]
     },
     "metadata": {},
     "output_type": "display_data"
    },
    {
     "data": {
      "text/html": [
       "<pre style=\"white-space:pre;overflow-x:auto;line-height:normal;font-family:Menlo,'DejaVu Sans Mono',consolas,'Courier New',monospace\"><span style=\"color: #7fbfbf\">           </span><span style=\"color: #000080\">INFO</span>     FL-Plan hash is <span style=\"color: #000080\">f6e419e13e76e0df03da75dd41b26b1fb01244b802d0df482c744e51b3ff1bbf6b9fc451bdbf14a7928fee7e4d872da8</span>                 <a href=\"file:///home/itrushkin/.virtualenvs/openfl/lib/python3.8/site-packages/openfl/federated/plan/plan.py\"><span style=\"color: #7f7f7f\">plan.py</span></a><span style=\"color: #7f7f7f\">:231</span>\n",
       "</pre>\n"
      ],
      "text/plain": [
       "<rich.jupyter.JupyterRenderable at 0x7f5e6d853340>"
      ]
     },
     "metadata": {},
     "output_type": "display_data"
    },
    {
     "data": {
      "text/html": [
       "<pre style=\"white-space:pre;overflow-x:auto;line-height:normal;font-family:Menlo,'DejaVu Sans Mono',consolas,'Courier New',monospace\"><span style=\"color: #7fbfbf\">           </span><span style=\"color: #000080\">INFO</span>     Building <span style=\"color: #800000\">🡆</span> Object <span style=\"color: #800000\">NoCompressionPipeline</span> from <span style=\"color: #800000\">openfl.pipelines</span> Module.                                                            <a href=\"file:///home/itrushkin/.virtualenvs/openfl/lib/python3.8/site-packages/openfl/federated/plan/plan.py\"><span style=\"color: #7f7f7f\">plan.py</span></a><span style=\"color: #7f7f7f\">:170</span>\n",
       "</pre>\n"
      ],
      "text/plain": [
       "<rich.jupyter.JupyterRenderable at 0x7f5e6d853f70>"
      ]
     },
     "metadata": {},
     "output_type": "display_data"
    },
    {
     "data": {
      "text/html": [
       "<pre style=\"white-space:pre;overflow-x:auto;line-height:normal;font-family:Menlo,'DejaVu Sans Mono',consolas,'Courier New',monospace\"><span style=\"color: #7fbfbf\">           </span><span style=\"color: #000080\">INFO</span>     Settings <span style=\"color: #800000\">🡆</span> <span style=\"font-weight: bold\">{}</span>                                                                                                                    <a href=\"file:///home/itrushkin/.virtualenvs/openfl/lib/python3.8/site-packages/openfl/federated/plan/plan.py\"><span style=\"color: #7f7f7f\">plan.py</span></a><span style=\"color: #7f7f7f\">:173</span>\n",
       "</pre>\n"
      ],
      "text/plain": [
       "<rich.jupyter.JupyterRenderable at 0x7f5e6d8531f0>"
      ]
     },
     "metadata": {},
     "output_type": "display_data"
    },
    {
     "data": {
      "text/html": [
       "<pre style=\"white-space:pre;overflow-x:auto;line-height:normal;font-family:Menlo,'DejaVu Sans Mono',consolas,'Courier New',monospace\"><span style=\"color: #7fbfbf\">           </span><span style=\"color: #000080\">INFO</span>     Override <span style=\"color: #800000\">🡆</span> <span style=\"font-weight: bold\">{</span><span style=\"color: #008000\">'defaults'</span>: <span style=\"color: #008000\">'plan/defaults/compression_pipeline.yaml'</span><span style=\"font-weight: bold\">}</span>                                                               <a href=\"file:///home/itrushkin/.virtualenvs/openfl/lib/python3.8/site-packages/openfl/federated/plan/plan.py\"><span style=\"color: #7f7f7f\">plan.py</span></a><span style=\"color: #7f7f7f\">:175</span>\n",
       "</pre>\n"
      ],
      "text/plain": [
       "<rich.jupyter.JupyterRenderable at 0x7f5e6d853310>"
      ]
     },
     "metadata": {},
     "output_type": "display_data"
    },
    {
     "data": {
      "text/html": [
       "<pre style=\"white-space:pre;overflow-x:auto;line-height:normal;font-family:Menlo,'DejaVu Sans Mono',consolas,'Courier New',monospace\"><span style=\"color: #7fbfbf\">[11:09:56] </span><span style=\"color: #000080\">INFO</span>     Creating Initial Weights File    🠆 save/torch_cnn_mnist_init.pbuf                                                              <a href=\"file:///home/itrushkin/.virtualenvs/openfl/lib/python3.8/site-packages/openfl/native/native.py\"><span style=\"color: #7f7f7f\">native.py</span></a><span style=\"color: #7f7f7f\">:266</span>\n",
       "</pre>\n"
      ],
      "text/plain": [
       "<rich.jupyter.JupyterRenderable at 0x7f5e6fb86b80>"
      ]
     },
     "metadata": {},
     "output_type": "display_data"
    },
    {
     "data": {
      "text/html": [
       "<pre style=\"white-space:pre;overflow-x:auto;line-height:normal;font-family:Menlo,'DejaVu Sans Mono',consolas,'Courier New',monospace\"><span style=\"color: #7fbfbf\">           </span><span style=\"color: #000080\">INFO</span>     Starting Experiment<span style=\"color: #808000\">...</span>                                                                                                         <a href=\"file:///home/itrushkin/.virtualenvs/openfl/lib/python3.8/site-packages/openfl/native/native.py\"><span style=\"color: #7f7f7f\">native.py</span></a><span style=\"color: #7f7f7f\">:270</span>\n",
       "</pre>\n"
      ],
      "text/plain": [
       "<rich.jupyter.JupyterRenderable at 0x7f5e6fb86c40>"
      ]
     },
     "metadata": {},
     "output_type": "display_data"
    },
    {
     "data": {
      "text/html": [
       "<pre style=\"white-space:pre;overflow-x:auto;line-height:normal;font-family:Menlo,'DejaVu Sans Mono',consolas,'Courier New',monospace\"><span style=\"color: #7fbfbf\">           </span><span style=\"color: #000080\">INFO</span>     Building <span style=\"color: #800000\">🡆</span> Object <span style=\"color: #800000\">RandomGroupedAssigner</span> from <span style=\"color: #800000\">openfl.component</span> Module.                                                            <a href=\"file:///home/itrushkin/.virtualenvs/openfl/lib/python3.8/site-packages/openfl/federated/plan/plan.py\"><span style=\"color: #7f7f7f\">plan.py</span></a><span style=\"color: #7f7f7f\">:170</span>\n",
       "</pre>\n"
      ],
      "text/plain": [
       "<rich.jupyter.JupyterRenderable at 0x7f5e6fb86c40>"
      ]
     },
     "metadata": {},
     "output_type": "display_data"
    },
    {
     "data": {
      "text/html": [
       "<pre style=\"white-space:pre;overflow-x:auto;line-height:normal;font-family:Menlo,'DejaVu Sans Mono',consolas,'Courier New',monospace\"><span style=\"color: #7fbfbf\">           </span><span style=\"color: #000080\">INFO</span>     Settings <span style=\"color: #800000\">🡆</span> <span style=\"font-weight: bold\">{</span><span style=\"color: #008000\">'task_groups'</span>: <span style=\"font-weight: bold\">[{</span><span style=\"color: #008000\">'name'</span>: <span style=\"color: #008000\">'train_and_validate'</span>, <span style=\"color: #008000\">'percentage'</span>: <span style=\"color: #000080; font-weight: bold\">1.0</span>, <span style=\"color: #008000\">'tasks'</span>: <span style=\"font-weight: bold\">[</span><span style=\"color: #008000\">'aggregated_model_validation'</span>, <span style=\"color: #008000\">'train'</span>,  <a href=\"file:///home/itrushkin/.virtualenvs/openfl/lib/python3.8/site-packages/openfl/federated/plan/plan.py\"><span style=\"color: #7f7f7f\">plan.py</span></a><span style=\"color: #7f7f7f\">:173</span>\n",
       "                    <span style=\"color: #008000\">'locally_tuned_model_validation'</span><span style=\"font-weight: bold\">]}]</span>, <span style=\"color: #008000\">'authorized_cols'</span>: <span style=\"font-weight: bold\">[</span><span style=\"color: #008000\">'one'</span>, <span style=\"color: #008000\">'two'</span><span style=\"font-weight: bold\">]</span>, <span style=\"color: #008000\">'rounds_to_train'</span>: <span style=\"color: #000080; font-weight: bold\">10</span>, <span style=\"color: #008000\">'tasks'</span>:                                     \n",
       "                    <span style=\"font-weight: bold\">{</span><span style=\"color: #008000\">'aggregated_model_validation'</span>: <span style=\"font-weight: bold\">{</span><span style=\"color: #008000\">'function'</span>: <span style=\"color: #008000\">'validate'</span>, <span style=\"color: #008000\">'kwargs'</span>: <span style=\"font-weight: bold\">{</span><span style=\"color: #008000\">'apply'</span>: <span style=\"color: #008000\">'global'</span>, <span style=\"color: #008000\">'metrics'</span>: <span style=\"font-weight: bold\">[</span><span style=\"color: #008000\">'acc'</span><span style=\"font-weight: bold\">]}</span>, <span style=\"color: #008000\">'aggregation_type'</span>:             \n",
       "                    <span style=\"font-weight: bold\">&lt;</span><span style=\"color: #ff00ff; font-weight: bold\">openfl.component.aggregation_functions.weighted_average.WeightedAverage</span><span style=\"color: #000000\"> object at </span><span style=\"color: #000080; font-weight: bold\">0x7f5e6fb86dc0</span><span style=\"font-weight: bold\">&gt;}</span>,                                        \n",
       "                    <span style=\"color: #008000\">'locally_tuned_model_validation'</span>: <span style=\"font-weight: bold\">{</span><span style=\"color: #008000\">'function'</span>: <span style=\"color: #008000\">'validate'</span>, <span style=\"color: #008000\">'kwargs'</span>: <span style=\"font-weight: bold\">{</span><span style=\"color: #008000\">'apply'</span>: <span style=\"color: #008000\">'local'</span>, <span style=\"color: #008000\">'metrics'</span>: <span style=\"font-weight: bold\">[</span><span style=\"color: #008000\">'acc'</span><span style=\"font-weight: bold\">]}</span>, <span style=\"color: #008000\">'aggregation_type'</span>:            \n",
       "                    <span style=\"font-weight: bold\">&lt;</span><span style=\"color: #ff00ff; font-weight: bold\">openfl.component.aggregation_functions.weighted_average.WeightedAverage</span><span style=\"color: #000000\"> object at </span><span style=\"color: #000080; font-weight: bold\">0x7f5e6fb86dc0</span><span style=\"font-weight: bold\">&gt;}</span>, <span style=\"color: #008000\">'train'</span>: <span style=\"font-weight: bold\">{</span><span style=\"color: #008000\">'function'</span>:                  \n",
       "                    <span style=\"color: #008000\">'train_batches'</span>, <span style=\"color: #008000\">'kwargs'</span>: <span style=\"font-weight: bold\">{</span><span style=\"color: #008000\">'metrics'</span>: <span style=\"font-weight: bold\">[</span><span style=\"color: #008000\">'loss'</span><span style=\"font-weight: bold\">]}</span>, <span style=\"color: #008000\">'aggregation_type'</span>:                                                                       \n",
       "                    <span style=\"font-weight: bold\">&lt;</span><span style=\"color: #ff00ff; font-weight: bold\">openfl.component.aggregation_functions.weighted_average.WeightedAverage</span><span style=\"color: #000000\"> object at </span><span style=\"color: #000080; font-weight: bold\">0x7f5e6fb86dc0</span><span style=\"font-weight: bold\">&gt;}}}</span>                                       \n",
       "</pre>\n"
      ],
      "text/plain": [
       "<rich.jupyter.JupyterRenderable at 0x7f5e6fb86c40>"
      ]
     },
     "metadata": {},
     "output_type": "display_data"
    },
    {
     "data": {
      "text/html": [
       "<pre style=\"white-space:pre;overflow-x:auto;line-height:normal;font-family:Menlo,'DejaVu Sans Mono',consolas,'Courier New',monospace\"><span style=\"color: #7fbfbf\">           </span><span style=\"color: #000080\">INFO</span>     Override <span style=\"color: #800000\">🡆</span> <span style=\"font-weight: bold\">{</span><span style=\"color: #008000\">'defaults'</span>: <span style=\"color: #008000\">'plan/defaults/assigner.yaml'</span><span style=\"font-weight: bold\">}</span>                                                                           <a href=\"file:///home/itrushkin/.virtualenvs/openfl/lib/python3.8/site-packages/openfl/federated/plan/plan.py\"><span style=\"color: #7f7f7f\">plan.py</span></a><span style=\"color: #7f7f7f\">:175</span>\n",
       "</pre>\n"
      ],
      "text/plain": [
       "<rich.jupyter.JupyterRenderable at 0x7f5e6fb86c40>"
      ]
     },
     "metadata": {},
     "output_type": "display_data"
    },
    {
     "data": {
      "text/html": [
       "<pre style=\"white-space:pre;overflow-x:auto;line-height:normal;font-family:Menlo,'DejaVu Sans Mono',consolas,'Courier New',monospace\"><span style=\"color: #7fbfbf\">           </span><span style=\"color: #000080\">INFO</span>     Importing <span style=\"color: #800000\">🡆</span> Object <span style=\"color: #800000\">write_metric</span> from <span style=\"color: #800000\">src.mnist_utils</span> Module.                                                                     <a href=\"file:///home/itrushkin/.virtualenvs/openfl/lib/python3.8/site-packages/openfl/federated/plan/plan.py\"><span style=\"color: #7f7f7f\">plan.py</span></a><span style=\"color: #7f7f7f\">:198</span>\n",
       "</pre>\n"
      ],
      "text/plain": [
       "<rich.jupyter.JupyterRenderable at 0x7f5e6d853190>"
      ]
     },
     "metadata": {},
     "output_type": "display_data"
    },
    {
     "data": {
      "text/html": [
       "<pre style=\"white-space:pre;overflow-x:auto;line-height:normal;font-family:Menlo,'DejaVu Sans Mono',consolas,'Courier New',monospace\"><span style=\"color: #7fbfbf\">           </span><span style=\"color: #000080\">INFO</span>     Building <span style=\"color: #800000\">🡆</span> Object <span style=\"color: #800000\">Aggregator</span> from <span style=\"color: #800000\">openfl.component</span> Module.                                                                       <a href=\"file:///home/itrushkin/.virtualenvs/openfl/lib/python3.8/site-packages/openfl/federated/plan/plan.py\"><span style=\"color: #7f7f7f\">plan.py</span></a><span style=\"color: #7f7f7f\">:170</span>\n",
       "</pre>\n"
      ],
      "text/plain": [
       "<rich.jupyter.JupyterRenderable at 0x7f5e6d74eee0>"
      ]
     },
     "metadata": {},
     "output_type": "display_data"
    },
    {
     "data": {
      "text/html": [
       "<pre style=\"white-space:pre;overflow-x:auto;line-height:normal;font-family:Menlo,'DejaVu Sans Mono',consolas,'Courier New',monospace\"><span style=\"color: #7fbfbf\">           </span><span style=\"color: #000080\">INFO</span>     Settings <span style=\"color: #800000\">🡆</span> <span style=\"font-weight: bold\">{</span><span style=\"color: #008000\">'best_state_path'</span>: <span style=\"color: #008000\">'save/torch_cnn_mnist_best.pbuf'</span>, <span style=\"color: #008000\">'last_state_path'</span>: <span style=\"color: #008000\">'save/torch_cnn_mnist_last.pbuf'</span>,            <a href=\"file:///home/itrushkin/.virtualenvs/openfl/lib/python3.8/site-packages/openfl/federated/plan/plan.py\"><span style=\"color: #7f7f7f\">plan.py</span></a><span style=\"color: #7f7f7f\">:173</span>\n",
       "                    <span style=\"color: #008000\">'init_state_path'</span>: <span style=\"color: #008000\">'save/torch_cnn_mnist_init.pbuf'</span>, <span style=\"color: #008000\">'db_store_rounds'</span>: <span style=\"color: #000080; font-weight: bold\">1</span>, <span style=\"color: #008000\">'rounds_to_train'</span>: <span style=\"color: #000080; font-weight: bold\">10</span>, <span style=\"color: #008000\">'log_metric_callback'</span>:                    \n",
       "                    <span style=\"font-weight: bold\">&lt;</span><span style=\"color: #ff00ff; font-weight: bold\">function</span><span style=\"color: #000000\"> write_metric at </span><span style=\"color: #000080; font-weight: bold\">0x7f5e6d8451f0</span><span style=\"font-weight: bold\">&gt;</span>, <span style=\"color: #008000\">'aggregator_uuid'</span>: <span style=\"color: #008000\">'aggregator_plan.yaml_c330d934'</span>, <span style=\"color: #008000\">'federation_uuid'</span>:                           \n",
       "                    <span style=\"color: #008000\">'plan.yaml_c330d934'</span>, <span style=\"color: #008000\">'authorized_cols'</span>: <span style=\"font-weight: bold\">[</span><span style=\"color: #008000\">'one'</span>, <span style=\"color: #008000\">'two'</span><span style=\"font-weight: bold\">]</span>, <span style=\"color: #008000\">'assigner'</span>:                                                                        \n",
       "                    <span style=\"font-weight: bold\">&lt;</span><span style=\"color: #ff00ff; font-weight: bold\">openfl.component.assigner.random_grouped_assigner.RandomGroupedAssigner</span><span style=\"color: #000000\"> object at </span><span style=\"color: #000080; font-weight: bold\">0x7f5ee4e69070</span><span style=\"font-weight: bold\">&gt;</span>, <span style=\"color: #008000\">'compression_pipeline'</span>:                 \n",
       "                    <span style=\"font-weight: bold\">&lt;</span><span style=\"color: #ff00ff; font-weight: bold\">openfl.pipelines.no_compression_pipeline.NoCompressionPipeline</span><span style=\"color: #000000\"> object at </span><span style=\"color: #000080; font-weight: bold\">0x7f5e6fb86310</span><span style=\"font-weight: bold\">&gt;}</span>                                                  \n",
       "</pre>\n"
      ],
      "text/plain": [
       "<rich.jupyter.JupyterRenderable at 0x7f5e6d74ee50>"
      ]
     },
     "metadata": {},
     "output_type": "display_data"
    },
    {
     "data": {
      "text/html": [
       "<pre style=\"white-space:pre;overflow-x:auto;line-height:normal;font-family:Menlo,'DejaVu Sans Mono',consolas,'Courier New',monospace\"><span style=\"color: #7fbfbf\">           </span><span style=\"color: #000080\">INFO</span>     Override <span style=\"color: #800000\">🡆</span> <span style=\"font-weight: bold\">{</span><span style=\"color: #008000\">'defaults'</span>: <span style=\"color: #008000\">'plan/defaults/aggregator.yaml'</span>, <span style=\"color: #008000\">'initial_tensor_dict'</span>: <span style=\"color: #800080; font-style: italic\">None</span><span style=\"font-weight: bold\">}</span>                                            <a href=\"file:///home/itrushkin/.virtualenvs/openfl/lib/python3.8/site-packages/openfl/federated/plan/plan.py\"><span style=\"color: #7f7f7f\">plan.py</span></a><span style=\"color: #7f7f7f\">:175</span>\n",
       "</pre>\n"
      ],
      "text/plain": [
       "<rich.jupyter.JupyterRenderable at 0x7f5e6d853f70>"
      ]
     },
     "metadata": {},
     "output_type": "display_data"
    },
    {
     "data": {
      "text/html": [
       "<pre style=\"white-space:pre;overflow-x:auto;line-height:normal;font-family:Menlo,'DejaVu Sans Mono',consolas,'Courier New',monospace\"><span style=\"color: #7fbfbf\">           </span><span style=\"color: #000080\">INFO</span>     Building <span style=\"color: #800000\">🡆</span> Object <span style=\"color: #800000\">Collaborator</span> from <span style=\"color: #800000\">openfl.component</span> Module.                                                                     <a href=\"file:///home/itrushkin/.virtualenvs/openfl/lib/python3.8/site-packages/openfl/federated/plan/plan.py\"><span style=\"color: #7f7f7f\">plan.py</span></a><span style=\"color: #7f7f7f\">:170</span>\n",
       "</pre>\n"
      ],
      "text/plain": [
       "<rich.jupyter.JupyterRenderable at 0x7f5e6ce5d820>"
      ]
     },
     "metadata": {},
     "output_type": "display_data"
    },
    {
     "data": {
      "text/html": [
       "<pre style=\"white-space:pre;overflow-x:auto;line-height:normal;font-family:Menlo,'DejaVu Sans Mono',consolas,'Courier New',monospace\"><span style=\"color: #7fbfbf\">           </span><span style=\"color: #000080\">INFO</span>     Settings <span style=\"color: #800000\">🡆</span> <span style=\"font-weight: bold\">{</span><span style=\"color: #008000\">'opt_treatment'</span>: <span style=\"color: #008000\">'RESET'</span>, <span style=\"color: #008000\">'delta_updates'</span>: <span style=\"color: #ff0000; font-style: italic\">False</span>, <span style=\"color: #008000\">'db_store_rounds'</span>: <span style=\"color: #000080; font-weight: bold\">1</span>, <span style=\"color: #008000\">'collaborator_name'</span>: <span style=\"color: #008000\">'one'</span>,                  <a href=\"file:///home/itrushkin/.virtualenvs/openfl/lib/python3.8/site-packages/openfl/federated/plan/plan.py\"><span style=\"color: #7f7f7f\">plan.py</span></a><span style=\"color: #7f7f7f\">:173</span>\n",
       "                    <span style=\"color: #008000\">'aggregator_uuid'</span>: <span style=\"color: #008000\">'aggregator_plan.yaml_c330d934'</span>, <span style=\"color: #008000\">'federation_uuid'</span>: <span style=\"color: #008000\">'plan.yaml_c330d934'</span>, <span style=\"color: #008000\">'task_runner'</span>:                                 \n",
       "                    <span style=\"font-weight: bold\">&lt;</span><span style=\"color: #ff00ff; font-weight: bold\">openfl.federated.task.fl_model.FederatedModel</span><span style=\"color: #000000\"> object at </span><span style=\"color: #000080; font-weight: bold\">0x7f5ee4e69b80</span><span style=\"font-weight: bold\">&gt;</span>, <span style=\"color: #008000\">'compression_pipeline'</span>:                                           \n",
       "                    <span style=\"font-weight: bold\">&lt;</span><span style=\"color: #ff00ff; font-weight: bold\">openfl.pipelines.no_compression_pipeline.NoCompressionPipeline</span><span style=\"color: #000000\"> object at </span><span style=\"color: #000080; font-weight: bold\">0x7f5e6fb86310</span><span style=\"font-weight: bold\">&gt;</span>, <span style=\"color: #008000\">'task_config'</span>:                                   \n",
       "                    <span style=\"font-weight: bold\">{</span><span style=\"color: #008000\">'aggregated_model_validation'</span>: <span style=\"font-weight: bold\">{</span><span style=\"color: #008000\">'function'</span>: <span style=\"color: #008000\">'validate'</span>, <span style=\"color: #008000\">'kwargs'</span>: <span style=\"font-weight: bold\">{</span><span style=\"color: #008000\">'apply'</span>: <span style=\"color: #008000\">'global'</span>, <span style=\"color: #008000\">'metrics'</span>: <span style=\"font-weight: bold\">[</span><span style=\"color: #008000\">'acc'</span><span style=\"font-weight: bold\">]}</span>, <span style=\"color: #008000\">'aggregation_type'</span>:             \n",
       "                    <span style=\"font-weight: bold\">&lt;</span><span style=\"color: #ff00ff; font-weight: bold\">openfl.component.aggregation_functions.weighted_average.WeightedAverage</span><span style=\"color: #000000\"> object at </span><span style=\"color: #000080; font-weight: bold\">0x7f5e6fb86dc0</span><span style=\"font-weight: bold\">&gt;}</span>,                                        \n",
       "                    <span style=\"color: #008000\">'locally_tuned_model_validation'</span>: <span style=\"font-weight: bold\">{</span><span style=\"color: #008000\">'function'</span>: <span style=\"color: #008000\">'validate'</span>, <span style=\"color: #008000\">'kwargs'</span>: <span style=\"font-weight: bold\">{</span><span style=\"color: #008000\">'apply'</span>: <span style=\"color: #008000\">'local'</span>, <span style=\"color: #008000\">'metrics'</span>: <span style=\"font-weight: bold\">[</span><span style=\"color: #008000\">'acc'</span><span style=\"font-weight: bold\">]}</span>, <span style=\"color: #008000\">'aggregation_type'</span>:            \n",
       "                    <span style=\"font-weight: bold\">&lt;</span><span style=\"color: #ff00ff; font-weight: bold\">openfl.component.aggregation_functions.weighted_average.WeightedAverage</span><span style=\"color: #000000\"> object at </span><span style=\"color: #000080; font-weight: bold\">0x7f5e6fb86dc0</span><span style=\"font-weight: bold\">&gt;}</span>, <span style=\"color: #008000\">'train'</span>: <span style=\"font-weight: bold\">{</span><span style=\"color: #008000\">'function'</span>:                  \n",
       "                    <span style=\"color: #008000\">'train_batches'</span>, <span style=\"color: #008000\">'kwargs'</span>: <span style=\"font-weight: bold\">{</span><span style=\"color: #008000\">'metrics'</span>: <span style=\"font-weight: bold\">[</span><span style=\"color: #008000\">'loss'</span><span style=\"font-weight: bold\">]}</span>, <span style=\"color: #008000\">'aggregation_type'</span>:                                                                       \n",
       "                    <span style=\"font-weight: bold\">&lt;</span><span style=\"color: #ff00ff; font-weight: bold\">openfl.component.aggregation_functions.weighted_average.WeightedAverage</span><span style=\"color: #000000\"> object at </span><span style=\"color: #000080; font-weight: bold\">0x7f5e6fb86dc0</span><span style=\"font-weight: bold\">&gt;}}</span>, <span style=\"color: #008000\">'client'</span>:                             \n",
       "                    <span style=\"font-weight: bold\">&lt;</span><span style=\"color: #ff00ff; font-weight: bold\">openfl.component.aggregator.aggregator.Aggregator</span><span style=\"color: #000000\"> object at </span><span style=\"color: #000080; font-weight: bold\">0x7f5e6fb86520</span><span style=\"font-weight: bold\">&gt;}</span>                                                               \n",
       "</pre>\n"
      ],
      "text/plain": [
       "<rich.jupyter.JupyterRenderable at 0x7f5e6ce5df40>"
      ]
     },
     "metadata": {},
     "output_type": "display_data"
    },
    {
     "data": {
      "text/html": [
       "<pre style=\"white-space:pre;overflow-x:auto;line-height:normal;font-family:Menlo,'DejaVu Sans Mono',consolas,'Courier New',monospace\"><span style=\"color: #7fbfbf\">           </span><span style=\"color: #000080\">INFO</span>     Override <span style=\"color: #800000\">🡆</span> <span style=\"font-weight: bold\">{</span><span style=\"color: #008000\">'defaults'</span>: <span style=\"color: #008000\">'plan/defaults/collaborator.yaml'</span><span style=\"font-weight: bold\">}</span>                                                                       <a href=\"file:///home/itrushkin/.virtualenvs/openfl/lib/python3.8/site-packages/openfl/federated/plan/plan.py\"><span style=\"color: #7f7f7f\">plan.py</span></a><span style=\"color: #7f7f7f\">:175</span>\n",
       "</pre>\n"
      ],
      "text/plain": [
       "<rich.jupyter.JupyterRenderable at 0x7f5e6ce5d8b0>"
      ]
     },
     "metadata": {},
     "output_type": "display_data"
    },
    {
     "data": {
      "text/html": [
       "<pre style=\"white-space:pre;overflow-x:auto;line-height:normal;font-family:Menlo,'DejaVu Sans Mono',consolas,'Courier New',monospace\"><span style=\"color: #7fbfbf\">           </span><span style=\"color: #000080\">INFO</span>     Building <span style=\"color: #800000\">🡆</span> Object <span style=\"color: #800000\">Collaborator</span> from <span style=\"color: #800000\">openfl.component</span> Module.                                                                     <a href=\"file:///home/itrushkin/.virtualenvs/openfl/lib/python3.8/site-packages/openfl/federated/plan/plan.py\"><span style=\"color: #7f7f7f\">plan.py</span></a><span style=\"color: #7f7f7f\">:170</span>\n",
       "</pre>\n"
      ],
      "text/plain": [
       "<rich.jupyter.JupyterRenderable at 0x7f5e6ce5d7c0>"
      ]
     },
     "metadata": {},
     "output_type": "display_data"
    },
    {
     "data": {
      "text/html": [
       "<pre style=\"white-space:pre;overflow-x:auto;line-height:normal;font-family:Menlo,'DejaVu Sans Mono',consolas,'Courier New',monospace\"><span style=\"color: #7fbfbf\">           </span><span style=\"color: #000080\">INFO</span>     Settings <span style=\"color: #800000\">🡆</span> <span style=\"font-weight: bold\">{</span><span style=\"color: #008000\">'opt_treatment'</span>: <span style=\"color: #008000\">'RESET'</span>, <span style=\"color: #008000\">'delta_updates'</span>: <span style=\"color: #ff0000; font-style: italic\">False</span>, <span style=\"color: #008000\">'db_store_rounds'</span>: <span style=\"color: #000080; font-weight: bold\">1</span>, <span style=\"color: #008000\">'collaborator_name'</span>: <span style=\"color: #008000\">'two'</span>,                  <a href=\"file:///home/itrushkin/.virtualenvs/openfl/lib/python3.8/site-packages/openfl/federated/plan/plan.py\"><span style=\"color: #7f7f7f\">plan.py</span></a><span style=\"color: #7f7f7f\">:173</span>\n",
       "                    <span style=\"color: #008000\">'aggregator_uuid'</span>: <span style=\"color: #008000\">'aggregator_plan.yaml_c330d934'</span>, <span style=\"color: #008000\">'federation_uuid'</span>: <span style=\"color: #008000\">'plan.yaml_c330d934'</span>, <span style=\"color: #008000\">'task_runner'</span>:                                 \n",
       "                    <span style=\"font-weight: bold\">&lt;</span><span style=\"color: #ff00ff; font-weight: bold\">openfl.federated.task.fl_model.FederatedModel</span><span style=\"color: #000000\"> object at </span><span style=\"color: #000080; font-weight: bold\">0x7f5ee4e69580</span><span style=\"font-weight: bold\">&gt;</span>, <span style=\"color: #008000\">'compression_pipeline'</span>:                                           \n",
       "                    <span style=\"font-weight: bold\">&lt;</span><span style=\"color: #ff00ff; font-weight: bold\">openfl.pipelines.no_compression_pipeline.NoCompressionPipeline</span><span style=\"color: #000000\"> object at </span><span style=\"color: #000080; font-weight: bold\">0x7f5e6fb86310</span><span style=\"font-weight: bold\">&gt;</span>, <span style=\"color: #008000\">'task_config'</span>:                                   \n",
       "                    <span style=\"font-weight: bold\">{</span><span style=\"color: #008000\">'aggregated_model_validation'</span>: <span style=\"font-weight: bold\">{</span><span style=\"color: #008000\">'function'</span>: <span style=\"color: #008000\">'validate'</span>, <span style=\"color: #008000\">'kwargs'</span>: <span style=\"font-weight: bold\">{</span><span style=\"color: #008000\">'apply'</span>: <span style=\"color: #008000\">'global'</span>, <span style=\"color: #008000\">'metrics'</span>: <span style=\"font-weight: bold\">[</span><span style=\"color: #008000\">'acc'</span><span style=\"font-weight: bold\">]}</span>, <span style=\"color: #008000\">'aggregation_type'</span>:             \n",
       "                    <span style=\"font-weight: bold\">&lt;</span><span style=\"color: #ff00ff; font-weight: bold\">openfl.component.aggregation_functions.weighted_average.WeightedAverage</span><span style=\"color: #000000\"> object at </span><span style=\"color: #000080; font-weight: bold\">0x7f5e6fb86dc0</span><span style=\"font-weight: bold\">&gt;}</span>,                                        \n",
       "                    <span style=\"color: #008000\">'locally_tuned_model_validation'</span>: <span style=\"font-weight: bold\">{</span><span style=\"color: #008000\">'function'</span>: <span style=\"color: #008000\">'validate'</span>, <span style=\"color: #008000\">'kwargs'</span>: <span style=\"font-weight: bold\">{</span><span style=\"color: #008000\">'apply'</span>: <span style=\"color: #008000\">'local'</span>, <span style=\"color: #008000\">'metrics'</span>: <span style=\"font-weight: bold\">[</span><span style=\"color: #008000\">'acc'</span><span style=\"font-weight: bold\">]}</span>, <span style=\"color: #008000\">'aggregation_type'</span>:            \n",
       "                    <span style=\"font-weight: bold\">&lt;</span><span style=\"color: #ff00ff; font-weight: bold\">openfl.component.aggregation_functions.weighted_average.WeightedAverage</span><span style=\"color: #000000\"> object at </span><span style=\"color: #000080; font-weight: bold\">0x7f5e6fb86dc0</span><span style=\"font-weight: bold\">&gt;}</span>, <span style=\"color: #008000\">'train'</span>: <span style=\"font-weight: bold\">{</span><span style=\"color: #008000\">'function'</span>:                  \n",
       "                    <span style=\"color: #008000\">'train_batches'</span>, <span style=\"color: #008000\">'kwargs'</span>: <span style=\"font-weight: bold\">{</span><span style=\"color: #008000\">'metrics'</span>: <span style=\"font-weight: bold\">[</span><span style=\"color: #008000\">'loss'</span><span style=\"font-weight: bold\">]}</span>, <span style=\"color: #008000\">'aggregation_type'</span>:                                                                       \n",
       "                    <span style=\"font-weight: bold\">&lt;</span><span style=\"color: #ff00ff; font-weight: bold\">openfl.component.aggregation_functions.weighted_average.WeightedAverage</span><span style=\"color: #000000\"> object at </span><span style=\"color: #000080; font-weight: bold\">0x7f5e6fb86dc0</span><span style=\"font-weight: bold\">&gt;}}</span>, <span style=\"color: #008000\">'client'</span>:                             \n",
       "                    <span style=\"font-weight: bold\">&lt;</span><span style=\"color: #ff00ff; font-weight: bold\">openfl.component.aggregator.aggregator.Aggregator</span><span style=\"color: #000000\"> object at </span><span style=\"color: #000080; font-weight: bold\">0x7f5e6fb86520</span><span style=\"font-weight: bold\">&gt;</span>, <span style=\"color: #008000\">'defaults'</span>: <span style=\"color: #008000\">'plan/defaults/collaborator.yaml'</span><span style=\"font-weight: bold\">}</span>                \n",
       "</pre>\n"
      ],
      "text/plain": [
       "<rich.jupyter.JupyterRenderable at 0x7f5e6ce5d7c0>"
      ]
     },
     "metadata": {},
     "output_type": "display_data"
    },
    {
     "data": {
      "text/html": [
       "<pre style=\"white-space:pre;overflow-x:auto;line-height:normal;font-family:Menlo,'DejaVu Sans Mono',consolas,'Courier New',monospace\"><span style=\"color: #7fbfbf\">           </span><span style=\"color: #000080\">INFO</span>     Override <span style=\"color: #800000\">🡆</span> <span style=\"font-weight: bold\">{</span><span style=\"color: #008000\">'defaults'</span>: <span style=\"color: #008000\">'plan/defaults/collaborator.yaml'</span><span style=\"font-weight: bold\">}</span>                                                                       <a href=\"file:///home/itrushkin/.virtualenvs/openfl/lib/python3.8/site-packages/openfl/federated/plan/plan.py\"><span style=\"color: #7f7f7f\">plan.py</span></a><span style=\"color: #7f7f7f\">:175</span>\n",
       "</pre>\n"
      ],
      "text/plain": [
       "<rich.jupyter.JupyterRenderable at 0x7f5e6ce5df10>"
      ]
     },
     "metadata": {},
     "output_type": "display_data"
    },
    {
     "data": {
      "text/html": [
       "<pre style=\"white-space:pre;overflow-x:auto;line-height:normal;font-family:Menlo,'DejaVu Sans Mono',consolas,'Courier New',monospace\"><span style=\"color: #7fbfbf\">           </span><span style=\"color: #000080\">INFO</span>     Waiting for tasks<span style=\"color: #808000\">...</span>                                                                                                     <a href=\"file:///home/itrushkin/.virtualenvs/openfl/lib/python3.8/site-packages/openfl/component/collaborator/collaborator.py\"><span style=\"color: #7f7f7f\">collaborator.py</span></a><span style=\"color: #7f7f7f\">:153</span>\n",
       "</pre>\n"
      ],
      "text/plain": [
       "<rich.jupyter.JupyterRenderable at 0x7f5e08d83940>"
      ]
     },
     "metadata": {},
     "output_type": "display_data"
    },
    {
     "data": {
      "text/html": [
       "<pre style=\"white-space:pre;overflow-x:auto;line-height:normal;font-family:Menlo,'DejaVu Sans Mono',consolas,'Courier New',monospace\"><span style=\"color: #7fbfbf\">           </span><span style=\"color: #000080\">INFO</span>     Sending tasks to collaborator one for round <span style=\"color: #000080; font-weight: bold\">0</span>                                                                              <a href=\"file:///home/itrushkin/.virtualenvs/openfl/lib/python3.8/site-packages/openfl/component/aggregator/aggregator.py\"><span style=\"color: #7f7f7f\">aggregator.py</span></a><span style=\"color: #7f7f7f\">:303</span>\n",
       "</pre>\n"
      ],
      "text/plain": [
       "<rich.jupyter.JupyterRenderable at 0x7f5e08d83040>"
      ]
     },
     "metadata": {},
     "output_type": "display_data"
    },
    {
     "data": {
      "text/html": [
       "<pre style=\"white-space:pre;overflow-x:auto;line-height:normal;font-family:Menlo,'DejaVu Sans Mono',consolas,'Courier New',monospace\"><span style=\"color: #7fbfbf\">           </span><span style=\"color: #000080\">INFO</span>     Received the following tasks: <span style=\"font-weight: bold\">[</span><span style=\"color: #008000\">'aggregated_model_validation'</span>, <span style=\"color: #008000\">'train'</span>, <span style=\"color: #008000\">'locally_tuned_model_validation'</span><span style=\"font-weight: bold\">]</span>                 <a href=\"file:///home/itrushkin/.virtualenvs/openfl/lib/python3.8/site-packages/openfl/component/collaborator/collaborator.py\"><span style=\"color: #7f7f7f\">collaborator.py</span></a><span style=\"color: #7f7f7f\">:143</span>\n",
       "</pre>\n"
      ],
      "text/plain": [
       "<rich.jupyter.JupyterRenderable at 0x7f5e08d83d00>"
      ]
     },
     "metadata": {},
     "output_type": "display_data"
    },
    {
     "data": {
      "text/html": [
       "<pre style=\"white-space:pre;overflow-x:auto;line-height:normal;font-family:Menlo,'DejaVu Sans Mono',consolas,'Courier New',monospace\"><span style=\"color: #7fbfbf\">[11:09:57] </span><span style=\"color: #000080\">INFO</span>     Using TaskRunner subclassing API                                                                                         <a href=\"file:///home/itrushkin/.virtualenvs/openfl/lib/python3.8/site-packages/openfl/component/collaborator/collaborator.py\"><span style=\"color: #7f7f7f\">collaborator.py</span></a><span style=\"color: #7f7f7f\">:203</span>\n",
       "</pre>\n"
      ],
      "text/plain": [
       "<rich.jupyter.JupyterRenderable at 0x7f5e08cb8790>"
      ]
     },
     "metadata": {},
     "output_type": "display_data"
    },
    {
     "name": "stderr",
     "output_type": "stream",
     "text": [
      "/home/itrushkin/.virtualenvs/openfl/lib/python3.8/site-packages/openfl/federated/task/runner_pt.py:281: UserWarning: The given NumPy array is not writeable, and PyTorch does not support non-writeable tensors. This means you can write to the underlying (supposedly non-writeable) NumPy array using the tensor. You may want to copy the array to protect its data or make it writeable before converting it to a tensor. This type of warning will be suppressed for the rest of this program. (Triggered internally at  /pytorch/torch/csrc/utils/tensor_numpy.cpp:180.)\n",
      "  new_state[k] = pt.from_numpy(tensor_dict.pop(k)).to(device)\n",
      "/home/itrushkin/.virtualenvs/openfl/lib/python3.8/site-packages/openfl/federated/task/runner_pt.py:106: UserWarning: To copy construct from a tensor, it is recommended to use sourceTensor.clone().detach() or sourceTensor.clone().detach().requires_grad_(True), rather than torch.tensor(sourceTensor).\n",
      "  data, target = pt.tensor(data).to(self.device), pt.tensor(\n"
     ]
    },
    {
     "data": {
      "text/html": [
       "<pre style=\"white-space:pre;overflow-x:auto;line-height:normal;font-family:Menlo,'DejaVu Sans Mono',consolas,'Courier New',monospace\"><span style=\"color: #7fbfbf\">[11:09:59] </span>METRIC   Round <span style=\"color: #000080; font-weight: bold\">0</span>, collaborator one is sending metric for task aggregated_model_validation: acc   <span style=\"color: #000080; font-weight: bold\">0.0</span>                              <a href=\"file:///home/itrushkin/.virtualenvs/openfl/lib/python3.8/site-packages/openfl/component/collaborator/collaborator.py\"><span style=\"color: #7f7f7f\">collaborator.py</span></a><span style=\"color: #7f7f7f\">:366</span>\n",
       "</pre>\n"
      ],
      "text/plain": [
       "<rich.jupyter.JupyterRenderable at 0x7f5e08c88a00>"
      ]
     },
     "metadata": {},
     "output_type": "display_data"
    },
    {
     "data": {
      "text/html": [
       "<pre style=\"white-space:pre;overflow-x:auto;line-height:normal;font-family:Menlo,'DejaVu Sans Mono',consolas,'Courier New',monospace\"><span style=\"color: #7fbfbf\">           </span><span style=\"color: #000080\">INFO</span>     Collaborator one is sending task results for aggregated_model_validation, round <span style=\"color: #000080; font-weight: bold\">0</span>                                          <a href=\"file:///home/itrushkin/.virtualenvs/openfl/lib/python3.8/site-packages/openfl/component/aggregator/aggregator.py\"><span style=\"color: #7f7f7f\">aggregator.py</span></a><span style=\"color: #7f7f7f\">:456</span>\n",
       "</pre>\n"
      ],
      "text/plain": [
       "<rich.jupyter.JupyterRenderable at 0x7f5e08c88b80>"
      ]
     },
     "metadata": {},
     "output_type": "display_data"
    },
    {
     "data": {
      "text/html": [
       "<pre style=\"white-space:pre;overflow-x:auto;line-height:normal;font-family:Menlo,'DejaVu Sans Mono',consolas,'Courier New',monospace\"><span style=\"color: #7fbfbf\">           </span>METRIC   Round <span style=\"color: #000080; font-weight: bold\">0</span>, collaborator one aggregated_model_validation result acc:       <span style=\"color: #000080; font-weight: bold\">0.0</span>                                                <a href=\"file:///home/itrushkin/.virtualenvs/openfl/lib/python3.8/site-packages/openfl/component/aggregator/aggregator.py\"><span style=\"color: #7f7f7f\">aggregator.py</span></a><span style=\"color: #7f7f7f\">:494</span>\n",
       "</pre>\n"
      ],
      "text/plain": [
       "<rich.jupyter.JupyterRenderable at 0x7f5e08c90700>"
      ]
     },
     "metadata": {},
     "output_type": "display_data"
    },
    {
     "data": {
      "text/html": [
       "<pre style=\"white-space:pre;overflow-x:auto;line-height:normal;font-family:Menlo,'DejaVu Sans Mono',consolas,'Courier New',monospace\"><span style=\"color: #7fbfbf\">           </span><span style=\"color: #000080\">INFO</span>     Using TaskRunner subclassing API                                                                                         <a href=\"file:///home/itrushkin/.virtualenvs/openfl/lib/python3.8/site-packages/openfl/component/collaborator/collaborator.py\"><span style=\"color: #7f7f7f\">collaborator.py</span></a><span style=\"color: #7f7f7f\">:203</span>\n",
       "</pre>\n"
      ],
      "text/plain": [
       "<rich.jupyter.JupyterRenderable at 0x7f5e08c90d30>"
      ]
     },
     "metadata": {},
     "output_type": "display_data"
    },
    {
     "name": "stderr",
     "output_type": "stream",
     "text": [
      "/home/itrushkin/.virtualenvs/openfl/lib/python3.8/site-packages/openfl/federated/task/runner_pt.py:457: UserWarning: To copy construct from a tensor, it is recommended to use sourceTensor.clone().detach() or sourceTensor.clone().detach().requires_grad_(True), rather than torch.tensor(sourceTensor).\n",
      "  data, target = pt.tensor(data).to(self.device), pt.tensor(\n"
     ]
    },
    {
     "data": {
      "text/html": [
       "<pre style=\"white-space:pre;overflow-x:auto;line-height:normal;font-family:Menlo,'DejaVu Sans Mono',consolas,'Courier New',monospace\"><span style=\"color: #7fbfbf\">[11:10:00] </span>METRIC   Round <span style=\"color: #000080; font-weight: bold\">0</span>, collaborator one is sending metric for task train: cross_entropy       <span style=\"color: #000080; font-weight: bold\">4.223968982696533</span>                        <a href=\"file:///home/itrushkin/.virtualenvs/openfl/lib/python3.8/site-packages/openfl/component/collaborator/collaborator.py\"><span style=\"color: #7f7f7f\">collaborator.py</span></a><span style=\"color: #7f7f7f\">:366</span>\n",
       "</pre>\n"
      ],
      "text/plain": [
       "<rich.jupyter.JupyterRenderable at 0x7f5e08cc8040>"
      ]
     },
     "metadata": {},
     "output_type": "display_data"
    },
    {
     "data": {
      "text/html": [
       "<pre style=\"white-space:pre;overflow-x:auto;line-height:normal;font-family:Menlo,'DejaVu Sans Mono',consolas,'Courier New',monospace\"><span style=\"color: #7fbfbf\">           </span><span style=\"color: #000080\">INFO</span>     Collaborator one is sending task results for train, round <span style=\"color: #000080; font-weight: bold\">0</span>                                                                <a href=\"file:///home/itrushkin/.virtualenvs/openfl/lib/python3.8/site-packages/openfl/component/aggregator/aggregator.py\"><span style=\"color: #7f7f7f\">aggregator.py</span></a><span style=\"color: #7f7f7f\">:456</span>\n",
       "</pre>\n"
      ],
      "text/plain": [
       "<rich.jupyter.JupyterRenderable at 0x7f5e08cc8b80>"
      ]
     },
     "metadata": {},
     "output_type": "display_data"
    },
    {
     "data": {
      "text/html": [
       "<pre style=\"white-space:pre;overflow-x:auto;line-height:normal;font-family:Menlo,'DejaVu Sans Mono',consolas,'Courier New',monospace\"><span style=\"color: #7fbfbf\">           </span>METRIC   Round <span style=\"color: #000080; font-weight: bold\">0</span>, collaborator one train result cross_entropy:   <span style=\"color: #000080; font-weight: bold\">4.223968982696533</span>                                                  <a href=\"file:///home/itrushkin/.virtualenvs/openfl/lib/python3.8/site-packages/openfl/component/aggregator/aggregator.py\"><span style=\"color: #7f7f7f\">aggregator.py</span></a><span style=\"color: #7f7f7f\">:494</span>\n",
       "</pre>\n"
      ],
      "text/plain": [
       "<rich.jupyter.JupyterRenderable at 0x7f5e08cc8a00>"
      ]
     },
     "metadata": {},
     "output_type": "display_data"
    },
    {
     "data": {
      "text/html": [
       "<pre style=\"white-space:pre;overflow-x:auto;line-height:normal;font-family:Menlo,'DejaVu Sans Mono',consolas,'Courier New',monospace\"><span style=\"color: #7fbfbf\">           </span><span style=\"color: #000080\">INFO</span>     Using TaskRunner subclassing API                                                                                         <a href=\"file:///home/itrushkin/.virtualenvs/openfl/lib/python3.8/site-packages/openfl/component/collaborator/collaborator.py\"><span style=\"color: #7f7f7f\">collaborator.py</span></a><span style=\"color: #7f7f7f\">:203</span>\n",
       "</pre>\n"
      ],
      "text/plain": [
       "<rich.jupyter.JupyterRenderable at 0x7f5e08c88700>"
      ]
     },
     "metadata": {},
     "output_type": "display_data"
    },
    {
     "data": {
      "text/html": [
       "<pre style=\"white-space:pre;overflow-x:auto;line-height:normal;font-family:Menlo,'DejaVu Sans Mono',consolas,'Courier New',monospace\"><span style=\"color: #7fbfbf\">           </span>METRIC   Round <span style=\"color: #000080; font-weight: bold\">0</span>, collaborator one is sending metric for task locally_tuned_model_validation: acc        <span style=\"color: #000080; font-weight: bold\">0.7407407407407407</span>       <a href=\"file:///home/itrushkin/.virtualenvs/openfl/lib/python3.8/site-packages/openfl/component/collaborator/collaborator.py\"><span style=\"color: #7f7f7f\">collaborator.py</span></a><span style=\"color: #7f7f7f\">:366</span>\n",
       "</pre>\n"
      ],
      "text/plain": [
       "<rich.jupyter.JupyterRenderable at 0x7f5e08cc8460>"
      ]
     },
     "metadata": {},
     "output_type": "display_data"
    },
    {
     "data": {
      "text/html": [
       "<pre style=\"white-space:pre;overflow-x:auto;line-height:normal;font-family:Menlo,'DejaVu Sans Mono',consolas,'Courier New',monospace\"><span style=\"color: #7fbfbf\">           </span><span style=\"color: #000080\">INFO</span>     Collaborator one is sending task results for locally_tuned_model_validation, round <span style=\"color: #000080; font-weight: bold\">0</span>                                       <a href=\"file:///home/itrushkin/.virtualenvs/openfl/lib/python3.8/site-packages/openfl/component/aggregator/aggregator.py\"><span style=\"color: #7f7f7f\">aggregator.py</span></a><span style=\"color: #7f7f7f\">:456</span>\n",
       "</pre>\n"
      ],
      "text/plain": [
       "<rich.jupyter.JupyterRenderable at 0x7f5e08c88790>"
      ]
     },
     "metadata": {},
     "output_type": "display_data"
    },
    {
     "data": {
      "text/html": [
       "<pre style=\"white-space:pre;overflow-x:auto;line-height:normal;font-family:Menlo,'DejaVu Sans Mono',consolas,'Courier New',monospace\"><span style=\"color: #7fbfbf\">           </span>METRIC   Round <span style=\"color: #000080; font-weight: bold\">0</span>, collaborator one locally_tuned_model_validation result acc:    <span style=\"color: #000080; font-weight: bold\">0.7407407164573669</span>                                 <a href=\"file:///home/itrushkin/.virtualenvs/openfl/lib/python3.8/site-packages/openfl/component/aggregator/aggregator.py\"><span style=\"color: #7f7f7f\">aggregator.py</span></a><span style=\"color: #7f7f7f\">:494</span>\n",
       "</pre>\n"
      ],
      "text/plain": [
       "<rich.jupyter.JupyterRenderable at 0x7f5e08ca2280>"
      ]
     },
     "metadata": {},
     "output_type": "display_data"
    },
    {
     "data": {
      "text/html": [
       "<pre style=\"white-space:pre;overflow-x:auto;line-height:normal;font-family:Menlo,'DejaVu Sans Mono',consolas,'Courier New',monospace\"><span style=\"color: #7fbfbf\">           </span><span style=\"color: #000080\">INFO</span>     All tasks completed on one for round <span style=\"color: #000080; font-weight: bold\">0</span><span style=\"color: #808000\">...</span>                                                                                <a href=\"file:///home/itrushkin/.virtualenvs/openfl/lib/python3.8/site-packages/openfl/component/collaborator/collaborator.py\"><span style=\"color: #7f7f7f\">collaborator.py</span></a><span style=\"color: #7f7f7f\">:146</span>\n",
       "</pre>\n"
      ],
      "text/plain": [
       "<rich.jupyter.JupyterRenderable at 0x7f5e08cc8400>"
      ]
     },
     "metadata": {},
     "output_type": "display_data"
    },
    {
     "data": {
      "text/html": [
       "<pre style=\"white-space:pre;overflow-x:auto;line-height:normal;font-family:Menlo,'DejaVu Sans Mono',consolas,'Courier New',monospace\"><span style=\"color: #7fbfbf\">           </span><span style=\"color: #000080\">INFO</span>     Waiting for tasks<span style=\"color: #808000\">...</span>                                                                                                     <a href=\"file:///home/itrushkin/.virtualenvs/openfl/lib/python3.8/site-packages/openfl/component/collaborator/collaborator.py\"><span style=\"color: #7f7f7f\">collaborator.py</span></a><span style=\"color: #7f7f7f\">:153</span>\n",
       "</pre>\n"
      ],
      "text/plain": [
       "<rich.jupyter.JupyterRenderable at 0x7f5e08c884f0>"
      ]
     },
     "metadata": {},
     "output_type": "display_data"
    },
    {
     "data": {
      "text/html": [
       "<pre style=\"white-space:pre;overflow-x:auto;line-height:normal;font-family:Menlo,'DejaVu Sans Mono',consolas,'Courier New',monospace\"><span style=\"color: #7fbfbf\">           </span><span style=\"color: #000080\">INFO</span>     Sending tasks to collaborator two for round <span style=\"color: #000080; font-weight: bold\">0</span>                                                                              <a href=\"file:///home/itrushkin/.virtualenvs/openfl/lib/python3.8/site-packages/openfl/component/aggregator/aggregator.py\"><span style=\"color: #7f7f7f\">aggregator.py</span></a><span style=\"color: #7f7f7f\">:303</span>\n",
       "</pre>\n"
      ],
      "text/plain": [
       "<rich.jupyter.JupyterRenderable at 0x7f5e08c88d90>"
      ]
     },
     "metadata": {},
     "output_type": "display_data"
    },
    {
     "data": {
      "text/html": [
       "<pre style=\"white-space:pre;overflow-x:auto;line-height:normal;font-family:Menlo,'DejaVu Sans Mono',consolas,'Courier New',monospace\"><span style=\"color: #7fbfbf\">           </span><span style=\"color: #000080\">INFO</span>     Received the following tasks: <span style=\"font-weight: bold\">[</span><span style=\"color: #008000\">'aggregated_model_validation'</span>, <span style=\"color: #008000\">'train'</span>, <span style=\"color: #008000\">'locally_tuned_model_validation'</span><span style=\"font-weight: bold\">]</span>                 <a href=\"file:///home/itrushkin/.virtualenvs/openfl/lib/python3.8/site-packages/openfl/component/collaborator/collaborator.py\"><span style=\"color: #7f7f7f\">collaborator.py</span></a><span style=\"color: #7f7f7f\">:143</span>\n",
       "</pre>\n"
      ],
      "text/plain": [
       "<rich.jupyter.JupyterRenderable at 0x7f5e08cc89a0>"
      ]
     },
     "metadata": {},
     "output_type": "display_data"
    },
    {
     "data": {
      "text/html": [
       "<pre style=\"white-space:pre;overflow-x:auto;line-height:normal;font-family:Menlo,'DejaVu Sans Mono',consolas,'Courier New',monospace\"><span style=\"color: #7fbfbf\">[11:10:02] </span><span style=\"color: #000080\">INFO</span>     Using TaskRunner subclassing API                                                                                         <a href=\"file:///home/itrushkin/.virtualenvs/openfl/lib/python3.8/site-packages/openfl/component/collaborator/collaborator.py\"><span style=\"color: #7f7f7f\">collaborator.py</span></a><span style=\"color: #7f7f7f\">:203</span>\n",
       "</pre>\n"
      ],
      "text/plain": [
       "<rich.jupyter.JupyterRenderable at 0x7f5e08da3790>"
      ]
     },
     "metadata": {},
     "output_type": "display_data"
    },
    {
     "data": {
      "text/html": [
       "<pre style=\"white-space:pre;overflow-x:auto;line-height:normal;font-family:Menlo,'DejaVu Sans Mono',consolas,'Courier New',monospace\"><span style=\"color: #7fbfbf\">           </span>METRIC   Round <span style=\"color: #000080; font-weight: bold\">0</span>, collaborator two is sending metric for task aggregated_model_validation: acc   <span style=\"color: #000080; font-weight: bold\">0.0</span>                              <a href=\"file:///home/itrushkin/.virtualenvs/openfl/lib/python3.8/site-packages/openfl/component/collaborator/collaborator.py\"><span style=\"color: #7f7f7f\">collaborator.py</span></a><span style=\"color: #7f7f7f\">:366</span>\n",
       "</pre>\n"
      ],
      "text/plain": [
       "<rich.jupyter.JupyterRenderable at 0x7f5e08db5a00>"
      ]
     },
     "metadata": {},
     "output_type": "display_data"
    },
    {
     "data": {
      "text/html": [
       "<pre style=\"white-space:pre;overflow-x:auto;line-height:normal;font-family:Menlo,'DejaVu Sans Mono',consolas,'Courier New',monospace\"><span style=\"color: #7fbfbf\">           </span><span style=\"color: #000080\">INFO</span>     Collaborator two is sending task results for aggregated_model_validation, round <span style=\"color: #000080; font-weight: bold\">0</span>                                          <a href=\"file:///home/itrushkin/.virtualenvs/openfl/lib/python3.8/site-packages/openfl/component/aggregator/aggregator.py\"><span style=\"color: #7f7f7f\">aggregator.py</span></a><span style=\"color: #7f7f7f\">:456</span>\n",
       "</pre>\n"
      ],
      "text/plain": [
       "<rich.jupyter.JupyterRenderable at 0x7f5e08db55e0>"
      ]
     },
     "metadata": {},
     "output_type": "display_data"
    },
    {
     "data": {
      "text/html": [
       "<pre style=\"white-space:pre;overflow-x:auto;line-height:normal;font-family:Menlo,'DejaVu Sans Mono',consolas,'Courier New',monospace\"><span style=\"color: #7fbfbf\">           </span>METRIC   Round <span style=\"color: #000080; font-weight: bold\">0</span>, collaborator two aggregated_model_validation result acc:       <span style=\"color: #000080; font-weight: bold\">0.0</span>                                                <a href=\"file:///home/itrushkin/.virtualenvs/openfl/lib/python3.8/site-packages/openfl/component/aggregator/aggregator.py\"><span style=\"color: #7f7f7f\">aggregator.py</span></a><span style=\"color: #7f7f7f\">:494</span>\n",
       "</pre>\n"
      ],
      "text/plain": [
       "<rich.jupyter.JupyterRenderable at 0x7f5e08ca2760>"
      ]
     },
     "metadata": {},
     "output_type": "display_data"
    },
    {
     "data": {
      "text/html": [
       "<pre style=\"white-space:pre;overflow-x:auto;line-height:normal;font-family:Menlo,'DejaVu Sans Mono',consolas,'Courier New',monospace\"><span style=\"color: #7fbfbf\">           </span><span style=\"color: #000080\">INFO</span>     Using TaskRunner subclassing API                                                                                         <a href=\"file:///home/itrushkin/.virtualenvs/openfl/lib/python3.8/site-packages/openfl/component/collaborator/collaborator.py\"><span style=\"color: #7f7f7f\">collaborator.py</span></a><span style=\"color: #7f7f7f\">:203</span>\n",
       "</pre>\n"
      ],
      "text/plain": [
       "<rich.jupyter.JupyterRenderable at 0x7f5e08cc8790>"
      ]
     },
     "metadata": {},
     "output_type": "display_data"
    },
    {
     "data": {
      "text/html": [
       "<pre style=\"white-space:pre;overflow-x:auto;line-height:normal;font-family:Menlo,'DejaVu Sans Mono',consolas,'Courier New',monospace\"><span style=\"color: #7fbfbf\">           </span>METRIC   Round <span style=\"color: #000080; font-weight: bold\">0</span>, collaborator two is sending metric for task train: cross_entropy       <span style=\"color: #000080; font-weight: bold\">5.2316718101501465</span>                       <a href=\"file:///home/itrushkin/.virtualenvs/openfl/lib/python3.8/site-packages/openfl/component/collaborator/collaborator.py\"><span style=\"color: #7f7f7f\">collaborator.py</span></a><span style=\"color: #7f7f7f\">:366</span>\n",
       "</pre>\n"
      ],
      "text/plain": [
       "<rich.jupyter.JupyterRenderable at 0x7f5e08c7ea00>"
      ]
     },
     "metadata": {},
     "output_type": "display_data"
    },
    {
     "data": {
      "text/html": [
       "<pre style=\"white-space:pre;overflow-x:auto;line-height:normal;font-family:Menlo,'DejaVu Sans Mono',consolas,'Courier New',monospace\"><span style=\"color: #7fbfbf\">           </span><span style=\"color: #000080\">INFO</span>     Collaborator two is sending task results for train, round <span style=\"color: #000080; font-weight: bold\">0</span>                                                                <a href=\"file:///home/itrushkin/.virtualenvs/openfl/lib/python3.8/site-packages/openfl/component/aggregator/aggregator.py\"><span style=\"color: #7f7f7f\">aggregator.py</span></a><span style=\"color: #7f7f7f\">:456</span>\n",
       "</pre>\n"
      ],
      "text/plain": [
       "<rich.jupyter.JupyterRenderable at 0x7f5e08ca2760>"
      ]
     },
     "metadata": {},
     "output_type": "display_data"
    },
    {
     "data": {
      "text/html": [
       "<pre style=\"white-space:pre;overflow-x:auto;line-height:normal;font-family:Menlo,'DejaVu Sans Mono',consolas,'Courier New',monospace\"><span style=\"color: #7fbfbf\">           </span>METRIC   Round <span style=\"color: #000080; font-weight: bold\">0</span>, collaborator two train result cross_entropy:   <span style=\"color: #000080; font-weight: bold\">5.2316718101501465</span>                                                 <a href=\"file:///home/itrushkin/.virtualenvs/openfl/lib/python3.8/site-packages/openfl/component/aggregator/aggregator.py\"><span style=\"color: #7f7f7f\">aggregator.py</span></a><span style=\"color: #7f7f7f\">:494</span>\n",
       "</pre>\n"
      ],
      "text/plain": [
       "<rich.jupyter.JupyterRenderable at 0x7f5e08c7eac0>"
      ]
     },
     "metadata": {},
     "output_type": "display_data"
    },
    {
     "data": {
      "text/html": [
       "<pre style=\"white-space:pre;overflow-x:auto;line-height:normal;font-family:Menlo,'DejaVu Sans Mono',consolas,'Courier New',monospace\"><span style=\"color: #7fbfbf\">[11:10:03] </span><span style=\"color: #000080\">INFO</span>     Using TaskRunner subclassing API                                                                                         <a href=\"file:///home/itrushkin/.virtualenvs/openfl/lib/python3.8/site-packages/openfl/component/collaborator/collaborator.py\"><span style=\"color: #7f7f7f\">collaborator.py</span></a><span style=\"color: #7f7f7f\">:203</span>\n",
       "</pre>\n"
      ],
      "text/plain": [
       "<rich.jupyter.JupyterRenderable at 0x7f5e08d9de80>"
      ]
     },
     "metadata": {},
     "output_type": "display_data"
    },
    {
     "data": {
      "text/html": [
       "<pre style=\"white-space:pre;overflow-x:auto;line-height:normal;font-family:Menlo,'DejaVu Sans Mono',consolas,'Courier New',monospace\"><span style=\"color: #7fbfbf\">           </span>METRIC   Round <span style=\"color: #000080; font-weight: bold\">0</span>, collaborator two is sending metric for task locally_tuned_model_validation: acc        <span style=\"color: #000080; font-weight: bold\">0.1</span>                      <a href=\"file:///home/itrushkin/.virtualenvs/openfl/lib/python3.8/site-packages/openfl/component/collaborator/collaborator.py\"><span style=\"color: #7f7f7f\">collaborator.py</span></a><span style=\"color: #7f7f7f\">:366</span>\n",
       "</pre>\n"
      ],
      "text/plain": [
       "<rich.jupyter.JupyterRenderable at 0x7f5e08c7e640>"
      ]
     },
     "metadata": {},
     "output_type": "display_data"
    },
    {
     "data": {
      "text/html": [
       "<pre style=\"white-space:pre;overflow-x:auto;line-height:normal;font-family:Menlo,'DejaVu Sans Mono',consolas,'Courier New',monospace\"><span style=\"color: #7fbfbf\">           </span><span style=\"color: #000080\">INFO</span>     Collaborator two is sending task results for locally_tuned_model_validation, round <span style=\"color: #000080; font-weight: bold\">0</span>                                       <a href=\"file:///home/itrushkin/.virtualenvs/openfl/lib/python3.8/site-packages/openfl/component/aggregator/aggregator.py\"><span style=\"color: #7f7f7f\">aggregator.py</span></a><span style=\"color: #7f7f7f\">:456</span>\n",
       "</pre>\n"
      ],
      "text/plain": [
       "<rich.jupyter.JupyterRenderable at 0x7f5e08c7e4c0>"
      ]
     },
     "metadata": {},
     "output_type": "display_data"
    },
    {
     "data": {
      "text/html": [
       "<pre style=\"white-space:pre;overflow-x:auto;line-height:normal;font-family:Menlo,'DejaVu Sans Mono',consolas,'Courier New',monospace\"><span style=\"color: #7fbfbf\">           </span>METRIC   Round <span style=\"color: #000080; font-weight: bold\">0</span>, collaborator two locally_tuned_model_validation result acc:    <span style=\"color: #000080; font-weight: bold\">0.10000000149011612</span>                                <a href=\"file:///home/itrushkin/.virtualenvs/openfl/lib/python3.8/site-packages/openfl/component/aggregator/aggregator.py\"><span style=\"color: #7f7f7f\">aggregator.py</span></a><span style=\"color: #7f7f7f\">:494</span>\n",
       "</pre>\n"
      ],
      "text/plain": [
       "<rich.jupyter.JupyterRenderable at 0x7f5e08c7e4c0>"
      ]
     },
     "metadata": {},
     "output_type": "display_data"
    },
    {
     "data": {
      "text/html": [
       "<pre style=\"white-space:pre;overflow-x:auto;line-height:normal;font-family:Menlo,'DejaVu Sans Mono',consolas,'Courier New',monospace\"><span style=\"color: #7fbfbf\">           </span>METRIC   Round <span style=\"color: #000080; font-weight: bold\">0</span>, aggregator: locally_tuned_model_validation                                                                        <a href=\"file:///home/itrushkin/.virtualenvs/openfl/lib/python3.8/site-packages/openfl/component/aggregator/aggregator.py\"><span style=\"color: #7f7f7f\">aggregator.py</span></a><span style=\"color: #7f7f7f\">:764</span>\n",
       "                    <span style=\"font-weight: bold\">&lt;</span><span style=\"color: #ff00ff; font-weight: bold\">openfl.component.aggregation_functions.weighted_average.WeightedAverage</span><span style=\"color: #000000\"> object at </span><span style=\"color: #000080; font-weight: bold\">0x7f5e6fb86dc0</span><span style=\"font-weight: bold\">&gt;</span> acc:     <span style=\"color: #000080; font-weight: bold\">0.5676</span>                          \n",
       "</pre>\n"
      ],
      "text/plain": [
       "<rich.jupyter.JupyterRenderable at 0x7f5e08d9d910>"
      ]
     },
     "metadata": {},
     "output_type": "display_data"
    },
    {
     "data": {
      "text/html": [
       "<pre style=\"white-space:pre;overflow-x:auto;line-height:normal;font-family:Menlo,'DejaVu Sans Mono',consolas,'Courier New',monospace\"><span style=\"color: #7fbfbf\">           </span>METRIC   Round <span style=\"color: #000080; font-weight: bold\">0</span>, aggregator: aggregated_model_validation <span style=\"font-weight: bold\">&lt;</span><span style=\"color: #ff00ff; font-weight: bold\">openfl.component.aggregation_functions.weighted_average.WeightedAverage</span><span style=\"color: #000000\"> </span> <a href=\"file:///home/itrushkin/.virtualenvs/openfl/lib/python3.8/site-packages/openfl/component/aggregator/aggregator.py\"><span style=\"color: #7f7f7f\">aggregator.py</span></a><span style=\"color: #7f7f7f\">:764</span>\n",
       "                    <span style=\"color: #000000\">object at </span><span style=\"color: #000080; font-weight: bold\">0x7f5e6fb86dc0</span><span style=\"font-weight: bold\">&gt;</span> acc:        <span style=\"color: #000080; font-weight: bold\">0.0000</span>                                                                                                \n",
       "</pre>\n"
      ],
      "text/plain": [
       "<rich.jupyter.JupyterRenderable at 0x7f5e08c7e4c0>"
      ]
     },
     "metadata": {},
     "output_type": "display_data"
    },
    {
     "data": {
      "text/html": [
       "<pre style=\"white-space:pre;overflow-x:auto;line-height:normal;font-family:Menlo,'DejaVu Sans Mono',consolas,'Courier New',monospace\"><span style=\"color: #7fbfbf\">           </span>METRIC   Round <span style=\"color: #000080; font-weight: bold\">0</span>: saved the best model with score <span style=\"color: #000080; font-weight: bold\">0.000000</span>                                                                          <a href=\"file:///home/itrushkin/.virtualenvs/openfl/lib/python3.8/site-packages/openfl/component/aggregator/aggregator.py\"><span style=\"color: #7f7f7f\">aggregator.py</span></a><span style=\"color: #7f7f7f\">:779</span>\n",
       "</pre>\n"
      ],
      "text/plain": [
       "<rich.jupyter.JupyterRenderable at 0x7f5e08c7ee50>"
      ]
     },
     "metadata": {},
     "output_type": "display_data"
    },
    {
     "data": {
      "text/html": [
       "<pre style=\"white-space:pre;overflow-x:auto;line-height:normal;font-family:Menlo,'DejaVu Sans Mono',consolas,'Courier New',monospace\"><span style=\"color: #7fbfbf\">           </span>METRIC   Round <span style=\"color: #000080; font-weight: bold\">0</span>, aggregator: train <span style=\"font-weight: bold\">&lt;</span><span style=\"color: #ff00ff; font-weight: bold\">openfl.component.aggregation_functions.weighted_average.WeightedAverage</span><span style=\"color: #000000\"> object at </span>             <a href=\"file:///home/itrushkin/.virtualenvs/openfl/lib/python3.8/site-packages/openfl/component/aggregator/aggregator.py\"><span style=\"color: #7f7f7f\">aggregator.py</span></a><span style=\"color: #7f7f7f\">:764</span>\n",
       "                    <span style=\"color: #000080; font-weight: bold\">0x7f5e6fb86dc0</span><span style=\"font-weight: bold\">&gt;</span> cross_entropy:    <span style=\"color: #000080; font-weight: bold\">4.2462</span>                                                                                                    \n",
       "</pre>\n"
      ],
      "text/plain": [
       "<rich.jupyter.JupyterRenderable at 0x7f5e08d9d730>"
      ]
     },
     "metadata": {},
     "output_type": "display_data"
    },
    {
     "data": {
      "text/html": [
       "<pre style=\"white-space:pre;overflow-x:auto;line-height:normal;font-family:Menlo,'DejaVu Sans Mono',consolas,'Courier New',monospace\"><span style=\"color: #7fbfbf\">[11:10:06] </span><span style=\"color: #000080\">INFO</span>     Saving round <span style=\"color: #000080; font-weight: bold\">1</span> model<span style=\"color: #808000\">...</span>                                                                                                    <a href=\"file:///home/itrushkin/.virtualenvs/openfl/lib/python3.8/site-packages/openfl/component/aggregator/aggregator.py\"><span style=\"color: #7f7f7f\">aggregator.py</span></a><span style=\"color: #7f7f7f\">:813</span>\n",
       "</pre>\n"
      ],
      "text/plain": [
       "<rich.jupyter.JupyterRenderable at 0x7f5e08bd4a00>"
      ]
     },
     "metadata": {},
     "output_type": "display_data"
    },
    {
     "data": {
      "text/html": [
       "<pre style=\"white-space:pre;overflow-x:auto;line-height:normal;font-family:Menlo,'DejaVu Sans Mono',consolas,'Courier New',monospace\"><span style=\"color: #7fbfbf\">           </span><span style=\"color: #000080\">INFO</span>     Starting round <span style=\"color: #000080; font-weight: bold\">1</span><span style=\"color: #808000\">...</span>                                                                                                        <a href=\"file:///home/itrushkin/.virtualenvs/openfl/lib/python3.8/site-packages/openfl/component/aggregator/aggregator.py\"><span style=\"color: #7f7f7f\">aggregator.py</span></a><span style=\"color: #7f7f7f\">:820</span>\n",
       "</pre>\n"
      ],
      "text/plain": [
       "<rich.jupyter.JupyterRenderable at 0x7f5e08d9dcd0>"
      ]
     },
     "metadata": {},
     "output_type": "display_data"
    },
    {
     "data": {
      "text/html": [
       "<pre style=\"white-space:pre;overflow-x:auto;line-height:normal;font-family:Menlo,'DejaVu Sans Mono',consolas,'Courier New',monospace\"><span style=\"color: #7fbfbf\">           </span><span style=\"color: #000080\">INFO</span>     All tasks completed on two for round <span style=\"color: #000080; font-weight: bold\">0</span><span style=\"color: #808000\">...</span>                                                                                <a href=\"file:///home/itrushkin/.virtualenvs/openfl/lib/python3.8/site-packages/openfl/component/collaborator/collaborator.py\"><span style=\"color: #7f7f7f\">collaborator.py</span></a><span style=\"color: #7f7f7f\">:146</span>\n",
       "</pre>\n"
      ],
      "text/plain": [
       "<rich.jupyter.JupyterRenderable at 0x7f5e08d9adc0>"
      ]
     },
     "metadata": {},
     "output_type": "display_data"
    },
    {
     "data": {
      "text/html": [
       "<pre style=\"white-space:pre;overflow-x:auto;line-height:normal;font-family:Menlo,'DejaVu Sans Mono',consolas,'Courier New',monospace\"><span style=\"color: #7fbfbf\">           </span><span style=\"color: #000080\">INFO</span>     Waiting for tasks<span style=\"color: #808000\">...</span>                                                                                                     <a href=\"file:///home/itrushkin/.virtualenvs/openfl/lib/python3.8/site-packages/openfl/component/collaborator/collaborator.py\"><span style=\"color: #7f7f7f\">collaborator.py</span></a><span style=\"color: #7f7f7f\">:153</span>\n",
       "</pre>\n"
      ],
      "text/plain": [
       "<rich.jupyter.JupyterRenderable at 0x7f5e08c88760>"
      ]
     },
     "metadata": {},
     "output_type": "display_data"
    },
    {
     "data": {
      "text/html": [
       "<pre style=\"white-space:pre;overflow-x:auto;line-height:normal;font-family:Menlo,'DejaVu Sans Mono',consolas,'Courier New',monospace\"><span style=\"color: #7fbfbf\">           </span><span style=\"color: #000080\">INFO</span>     Sending tasks to collaborator one for round <span style=\"color: #000080; font-weight: bold\">1</span>                                                                              <a href=\"file:///home/itrushkin/.virtualenvs/openfl/lib/python3.8/site-packages/openfl/component/aggregator/aggregator.py\"><span style=\"color: #7f7f7f\">aggregator.py</span></a><span style=\"color: #7f7f7f\">:303</span>\n",
       "</pre>\n"
      ],
      "text/plain": [
       "<rich.jupyter.JupyterRenderable at 0x7f5e6e0ffee0>"
      ]
     },
     "metadata": {},
     "output_type": "display_data"
    },
    {
     "data": {
      "text/html": [
       "<pre style=\"white-space:pre;overflow-x:auto;line-height:normal;font-family:Menlo,'DejaVu Sans Mono',consolas,'Courier New',monospace\"><span style=\"color: #7fbfbf\">           </span><span style=\"color: #000080\">INFO</span>     Received the following tasks: <span style=\"font-weight: bold\">[</span><span style=\"color: #008000\">'aggregated_model_validation'</span>, <span style=\"color: #008000\">'train'</span>, <span style=\"color: #008000\">'locally_tuned_model_validation'</span><span style=\"font-weight: bold\">]</span>                 <a href=\"file:///home/itrushkin/.virtualenvs/openfl/lib/python3.8/site-packages/openfl/component/collaborator/collaborator.py\"><span style=\"color: #7f7f7f\">collaborator.py</span></a><span style=\"color: #7f7f7f\">:143</span>\n",
       "</pre>\n"
      ],
      "text/plain": [
       "<rich.jupyter.JupyterRenderable at 0x7f5e6d7c92e0>"
      ]
     },
     "metadata": {},
     "output_type": "display_data"
    },
    {
     "data": {
      "text/html": [
       "<pre style=\"white-space:pre;overflow-x:auto;line-height:normal;font-family:Menlo,'DejaVu Sans Mono',consolas,'Courier New',monospace\"><span style=\"color: #7fbfbf\">[11:10:08] </span><span style=\"color: #000080\">INFO</span>     Using TaskRunner subclassing API                                                                                         <a href=\"file:///home/itrushkin/.virtualenvs/openfl/lib/python3.8/site-packages/openfl/component/collaborator/collaborator.py\"><span style=\"color: #7f7f7f\">collaborator.py</span></a><span style=\"color: #7f7f7f\">:203</span>\n",
       "</pre>\n"
      ],
      "text/plain": [
       "<rich.jupyter.JupyterRenderable at 0x7f5e08d9dcd0>"
      ]
     },
     "metadata": {},
     "output_type": "display_data"
    },
    {
     "data": {
      "text/html": [
       "<pre style=\"white-space:pre;overflow-x:auto;line-height:normal;font-family:Menlo,'DejaVu Sans Mono',consolas,'Courier New',monospace\"><span style=\"color: #7fbfbf\">           </span>METRIC   Round <span style=\"color: #000080; font-weight: bold\">1</span>, collaborator one is sending metric for task aggregated_model_validation: acc   <span style=\"color: #000080; font-weight: bold\">0.7407407407407407</span>               <a href=\"file:///home/itrushkin/.virtualenvs/openfl/lib/python3.8/site-packages/openfl/component/collaborator/collaborator.py\"><span style=\"color: #7f7f7f\">collaborator.py</span></a><span style=\"color: #7f7f7f\">:366</span>\n",
       "</pre>\n"
      ],
      "text/plain": [
       "<rich.jupyter.JupyterRenderable at 0x7f5e08cb7490>"
      ]
     },
     "metadata": {},
     "output_type": "display_data"
    },
    {
     "data": {
      "text/html": [
       "<pre style=\"white-space:pre;overflow-x:auto;line-height:normal;font-family:Menlo,'DejaVu Sans Mono',consolas,'Courier New',monospace\"><span style=\"color: #7fbfbf\">           </span><span style=\"color: #000080\">INFO</span>     Collaborator one is sending task results for aggregated_model_validation, round <span style=\"color: #000080; font-weight: bold\">1</span>                                          <a href=\"file:///home/itrushkin/.virtualenvs/openfl/lib/python3.8/site-packages/openfl/component/aggregator/aggregator.py\"><span style=\"color: #7f7f7f\">aggregator.py</span></a><span style=\"color: #7f7f7f\">:456</span>\n",
       "</pre>\n"
      ],
      "text/plain": [
       "<rich.jupyter.JupyterRenderable at 0x7f5e08d9db50>"
      ]
     },
     "metadata": {},
     "output_type": "display_data"
    },
    {
     "data": {
      "text/html": [
       "<pre style=\"white-space:pre;overflow-x:auto;line-height:normal;font-family:Menlo,'DejaVu Sans Mono',consolas,'Courier New',monospace\"><span style=\"color: #7fbfbf\">           </span>METRIC   Round <span style=\"color: #000080; font-weight: bold\">1</span>, collaborator one aggregated_model_validation result acc:       <span style=\"color: #000080; font-weight: bold\">0.7407407164573669</span>                                 <a href=\"file:///home/itrushkin/.virtualenvs/openfl/lib/python3.8/site-packages/openfl/component/aggregator/aggregator.py\"><span style=\"color: #7f7f7f\">aggregator.py</span></a><span style=\"color: #7f7f7f\">:494</span>\n",
       "</pre>\n"
      ],
      "text/plain": [
       "<rich.jupyter.JupyterRenderable at 0x7f5e08c26130>"
      ]
     },
     "metadata": {},
     "output_type": "display_data"
    },
    {
     "data": {
      "text/html": [
       "<pre style=\"white-space:pre;overflow-x:auto;line-height:normal;font-family:Menlo,'DejaVu Sans Mono',consolas,'Courier New',monospace\"><span style=\"color: #7fbfbf\">           </span><span style=\"color: #000080\">INFO</span>     Using TaskRunner subclassing API                                                                                         <a href=\"file:///home/itrushkin/.virtualenvs/openfl/lib/python3.8/site-packages/openfl/component/collaborator/collaborator.py\"><span style=\"color: #7f7f7f\">collaborator.py</span></a><span style=\"color: #7f7f7f\">:203</span>\n",
       "</pre>\n"
      ],
      "text/plain": [
       "<rich.jupyter.JupyterRenderable at 0x7f5e08d9dfd0>"
      ]
     },
     "metadata": {},
     "output_type": "display_data"
    },
    {
     "data": {
      "text/html": [
       "<pre style=\"white-space:pre;overflow-x:auto;line-height:normal;font-family:Menlo,'DejaVu Sans Mono',consolas,'Courier New',monospace\"><span style=\"color: #7fbfbf\">[11:10:09] </span>METRIC   Round <span style=\"color: #000080; font-weight: bold\">1</span>, collaborator one is sending metric for task train: cross_entropy       <span style=\"color: #000080; font-weight: bold\">2.4549660682678223</span>                       <a href=\"file:///home/itrushkin/.virtualenvs/openfl/lib/python3.8/site-packages/openfl/component/collaborator/collaborator.py\"><span style=\"color: #7f7f7f\">collaborator.py</span></a><span style=\"color: #7f7f7f\">:366</span>\n",
       "</pre>\n"
      ],
      "text/plain": [
       "<rich.jupyter.JupyterRenderable at 0x7f5e08bc6b80>"
      ]
     },
     "metadata": {},
     "output_type": "display_data"
    },
    {
     "data": {
      "text/html": [
       "<pre style=\"white-space:pre;overflow-x:auto;line-height:normal;font-family:Menlo,'DejaVu Sans Mono',consolas,'Courier New',monospace\"><span style=\"color: #7fbfbf\">           </span><span style=\"color: #000080\">INFO</span>     Collaborator one is sending task results for train, round <span style=\"color: #000080; font-weight: bold\">1</span>                                                                <a href=\"file:///home/itrushkin/.virtualenvs/openfl/lib/python3.8/site-packages/openfl/component/aggregator/aggregator.py\"><span style=\"color: #7f7f7f\">aggregator.py</span></a><span style=\"color: #7f7f7f\">:456</span>\n",
       "</pre>\n"
      ],
      "text/plain": [
       "<rich.jupyter.JupyterRenderable at 0x7f5e08bc6e20>"
      ]
     },
     "metadata": {},
     "output_type": "display_data"
    },
    {
     "data": {
      "text/html": [
       "<pre style=\"white-space:pre;overflow-x:auto;line-height:normal;font-family:Menlo,'DejaVu Sans Mono',consolas,'Courier New',monospace\"><span style=\"color: #7fbfbf\">           </span>METRIC   Round <span style=\"color: #000080; font-weight: bold\">1</span>, collaborator one train result cross_entropy:   <span style=\"color: #000080; font-weight: bold\">2.4549660682678223</span>                                                 <a href=\"file:///home/itrushkin/.virtualenvs/openfl/lib/python3.8/site-packages/openfl/component/aggregator/aggregator.py\"><span style=\"color: #7f7f7f\">aggregator.py</span></a><span style=\"color: #7f7f7f\">:494</span>\n",
       "</pre>\n"
      ],
      "text/plain": [
       "<rich.jupyter.JupyterRenderable at 0x7f5e08bc6880>"
      ]
     },
     "metadata": {},
     "output_type": "display_data"
    },
    {
     "data": {
      "text/html": [
       "<pre style=\"white-space:pre;overflow-x:auto;line-height:normal;font-family:Menlo,'DejaVu Sans Mono',consolas,'Courier New',monospace\"><span style=\"color: #7fbfbf\">[11:10:10] </span><span style=\"color: #000080\">INFO</span>     Using TaskRunner subclassing API                                                                                         <a href=\"file:///home/itrushkin/.virtualenvs/openfl/lib/python3.8/site-packages/openfl/component/collaborator/collaborator.py\"><span style=\"color: #7f7f7f\">collaborator.py</span></a><span style=\"color: #7f7f7f\">:203</span>\n",
       "</pre>\n"
      ],
      "text/plain": [
       "<rich.jupyter.JupyterRenderable at 0x7f5e08bf3cd0>"
      ]
     },
     "metadata": {},
     "output_type": "display_data"
    },
    {
     "data": {
      "text/html": [
       "<pre style=\"white-space:pre;overflow-x:auto;line-height:normal;font-family:Menlo,'DejaVu Sans Mono',consolas,'Courier New',monospace\"><span style=\"color: #7fbfbf\">           </span>METRIC   Round <span style=\"color: #000080; font-weight: bold\">1</span>, collaborator one is sending metric for task locally_tuned_model_validation: acc        <span style=\"color: #000080; font-weight: bold\">0.8148148148148148</span>       <a href=\"file:///home/itrushkin/.virtualenvs/openfl/lib/python3.8/site-packages/openfl/component/collaborator/collaborator.py\"><span style=\"color: #7f7f7f\">collaborator.py</span></a><span style=\"color: #7f7f7f\">:366</span>\n",
       "</pre>\n"
      ],
      "text/plain": [
       "<rich.jupyter.JupyterRenderable at 0x7f5e08bf3760>"
      ]
     },
     "metadata": {},
     "output_type": "display_data"
    },
    {
     "data": {
      "text/html": [
       "<pre style=\"white-space:pre;overflow-x:auto;line-height:normal;font-family:Menlo,'DejaVu Sans Mono',consolas,'Courier New',monospace\"><span style=\"color: #7fbfbf\">           </span><span style=\"color: #000080\">INFO</span>     Collaborator one is sending task results for locally_tuned_model_validation, round <span style=\"color: #000080; font-weight: bold\">1</span>                                       <a href=\"file:///home/itrushkin/.virtualenvs/openfl/lib/python3.8/site-packages/openfl/component/aggregator/aggregator.py\"><span style=\"color: #7f7f7f\">aggregator.py</span></a><span style=\"color: #7f7f7f\">:456</span>\n",
       "</pre>\n"
      ],
      "text/plain": [
       "<rich.jupyter.JupyterRenderable at 0x7f5e08bf3160>"
      ]
     },
     "metadata": {},
     "output_type": "display_data"
    },
    {
     "data": {
      "text/html": [
       "<pre style=\"white-space:pre;overflow-x:auto;line-height:normal;font-family:Menlo,'DejaVu Sans Mono',consolas,'Courier New',monospace\"><span style=\"color: #7fbfbf\">           </span>METRIC   Round <span style=\"color: #000080; font-weight: bold\">1</span>, collaborator one locally_tuned_model_validation result acc:    <span style=\"color: #000080; font-weight: bold\">0.8148148059844971</span>                                 <a href=\"file:///home/itrushkin/.virtualenvs/openfl/lib/python3.8/site-packages/openfl/component/aggregator/aggregator.py\"><span style=\"color: #7f7f7f\">aggregator.py</span></a><span style=\"color: #7f7f7f\">:494</span>\n",
       "</pre>\n"
      ],
      "text/plain": [
       "<rich.jupyter.JupyterRenderable at 0x7f5e08bf3d60>"
      ]
     },
     "metadata": {},
     "output_type": "display_data"
    },
    {
     "data": {
      "text/html": [
       "<pre style=\"white-space:pre;overflow-x:auto;line-height:normal;font-family:Menlo,'DejaVu Sans Mono',consolas,'Courier New',monospace\"><span style=\"color: #7fbfbf\">           </span><span style=\"color: #000080\">INFO</span>     All tasks completed on one for round <span style=\"color: #000080; font-weight: bold\">1</span><span style=\"color: #808000\">...</span>                                                                                <a href=\"file:///home/itrushkin/.virtualenvs/openfl/lib/python3.8/site-packages/openfl/component/collaborator/collaborator.py\"><span style=\"color: #7f7f7f\">collaborator.py</span></a><span style=\"color: #7f7f7f\">:146</span>\n",
       "</pre>\n"
      ],
      "text/plain": [
       "<rich.jupyter.JupyterRenderable at 0x7f5e08bf3610>"
      ]
     },
     "metadata": {},
     "output_type": "display_data"
    },
    {
     "data": {
      "text/html": [
       "<pre style=\"white-space:pre;overflow-x:auto;line-height:normal;font-family:Menlo,'DejaVu Sans Mono',consolas,'Courier New',monospace\"><span style=\"color: #7fbfbf\">           </span><span style=\"color: #000080\">INFO</span>     Waiting for tasks<span style=\"color: #808000\">...</span>                                                                                                     <a href=\"file:///home/itrushkin/.virtualenvs/openfl/lib/python3.8/site-packages/openfl/component/collaborator/collaborator.py\"><span style=\"color: #7f7f7f\">collaborator.py</span></a><span style=\"color: #7f7f7f\">:153</span>\n",
       "</pre>\n"
      ],
      "text/plain": [
       "<rich.jupyter.JupyterRenderable at 0x7f5e08bf3f70>"
      ]
     },
     "metadata": {},
     "output_type": "display_data"
    },
    {
     "data": {
      "text/html": [
       "<pre style=\"white-space:pre;overflow-x:auto;line-height:normal;font-family:Menlo,'DejaVu Sans Mono',consolas,'Courier New',monospace\"><span style=\"color: #7fbfbf\">           </span><span style=\"color: #000080\">INFO</span>     Sending tasks to collaborator two for round <span style=\"color: #000080; font-weight: bold\">1</span>                                                                              <a href=\"file:///home/itrushkin/.virtualenvs/openfl/lib/python3.8/site-packages/openfl/component/aggregator/aggregator.py\"><span style=\"color: #7f7f7f\">aggregator.py</span></a><span style=\"color: #7f7f7f\">:303</span>\n",
       "</pre>\n"
      ],
      "text/plain": [
       "<rich.jupyter.JupyterRenderable at 0x7f5e08bf33a0>"
      ]
     },
     "metadata": {},
     "output_type": "display_data"
    },
    {
     "data": {
      "text/html": [
       "<pre style=\"white-space:pre;overflow-x:auto;line-height:normal;font-family:Menlo,'DejaVu Sans Mono',consolas,'Courier New',monospace\"><span style=\"color: #7fbfbf\">           </span><span style=\"color: #000080\">INFO</span>     Received the following tasks: <span style=\"font-weight: bold\">[</span><span style=\"color: #008000\">'aggregated_model_validation'</span>, <span style=\"color: #008000\">'train'</span>, <span style=\"color: #008000\">'locally_tuned_model_validation'</span><span style=\"font-weight: bold\">]</span>                 <a href=\"file:///home/itrushkin/.virtualenvs/openfl/lib/python3.8/site-packages/openfl/component/collaborator/collaborator.py\"><span style=\"color: #7f7f7f\">collaborator.py</span></a><span style=\"color: #7f7f7f\">:143</span>\n",
       "</pre>\n"
      ],
      "text/plain": [
       "<rich.jupyter.JupyterRenderable at 0x7f5e08bf3d30>"
      ]
     },
     "metadata": {},
     "output_type": "display_data"
    },
    {
     "data": {
      "text/html": [
       "<pre style=\"white-space:pre;overflow-x:auto;line-height:normal;font-family:Menlo,'DejaVu Sans Mono',consolas,'Courier New',monospace\"><span style=\"color: #7fbfbf\">[11:10:11] </span><span style=\"color: #000080\">INFO</span>     Using TaskRunner subclassing API                                                                                         <a href=\"file:///home/itrushkin/.virtualenvs/openfl/lib/python3.8/site-packages/openfl/component/collaborator/collaborator.py\"><span style=\"color: #7f7f7f\">collaborator.py</span></a><span style=\"color: #7f7f7f\">:203</span>\n",
       "</pre>\n"
      ],
      "text/plain": [
       "<rich.jupyter.JupyterRenderable at 0x7f5e08d55dc0>"
      ]
     },
     "metadata": {},
     "output_type": "display_data"
    },
    {
     "data": {
      "text/html": [
       "<pre style=\"white-space:pre;overflow-x:auto;line-height:normal;font-family:Menlo,'DejaVu Sans Mono',consolas,'Courier New',monospace\"><span style=\"color: #7fbfbf\">           </span>METRIC   Round <span style=\"color: #000080; font-weight: bold\">1</span>, collaborator two is sending metric for task aggregated_model_validation: acc   <span style=\"color: #000080; font-weight: bold\">0.5</span>                              <a href=\"file:///home/itrushkin/.virtualenvs/openfl/lib/python3.8/site-packages/openfl/component/collaborator/collaborator.py\"><span style=\"color: #7f7f7f\">collaborator.py</span></a><span style=\"color: #7f7f7f\">:366</span>\n",
       "</pre>\n"
      ],
      "text/plain": [
       "<rich.jupyter.JupyterRenderable at 0x7f5e08d55b80>"
      ]
     },
     "metadata": {},
     "output_type": "display_data"
    },
    {
     "data": {
      "text/html": [
       "<pre style=\"white-space:pre;overflow-x:auto;line-height:normal;font-family:Menlo,'DejaVu Sans Mono',consolas,'Courier New',monospace\"><span style=\"color: #7fbfbf\">           </span><span style=\"color: #000080\">INFO</span>     Collaborator two is sending task results for aggregated_model_validation, round <span style=\"color: #000080; font-weight: bold\">1</span>                                          <a href=\"file:///home/itrushkin/.virtualenvs/openfl/lib/python3.8/site-packages/openfl/component/aggregator/aggregator.py\"><span style=\"color: #7f7f7f\">aggregator.py</span></a><span style=\"color: #7f7f7f\">:456</span>\n",
       "</pre>\n"
      ],
      "text/plain": [
       "<rich.jupyter.JupyterRenderable at 0x7f5e08d55dc0>"
      ]
     },
     "metadata": {},
     "output_type": "display_data"
    },
    {
     "data": {
      "text/html": [
       "<pre style=\"white-space:pre;overflow-x:auto;line-height:normal;font-family:Menlo,'DejaVu Sans Mono',consolas,'Courier New',monospace\"><span style=\"color: #7fbfbf\">           </span>METRIC   Round <span style=\"color: #000080; font-weight: bold\">1</span>, collaborator two aggregated_model_validation result acc:       <span style=\"color: #000080; font-weight: bold\">0.5</span>                                                <a href=\"file:///home/itrushkin/.virtualenvs/openfl/lib/python3.8/site-packages/openfl/component/aggregator/aggregator.py\"><span style=\"color: #7f7f7f\">aggregator.py</span></a><span style=\"color: #7f7f7f\">:494</span>\n",
       "</pre>\n"
      ],
      "text/plain": [
       "<rich.jupyter.JupyterRenderable at 0x7f5e08d62fa0>"
      ]
     },
     "metadata": {},
     "output_type": "display_data"
    },
    {
     "data": {
      "text/html": [
       "<pre style=\"white-space:pre;overflow-x:auto;line-height:normal;font-family:Menlo,'DejaVu Sans Mono',consolas,'Courier New',monospace\"><span style=\"color: #7fbfbf\">           </span><span style=\"color: #000080\">INFO</span>     Using TaskRunner subclassing API                                                                                         <a href=\"file:///home/itrushkin/.virtualenvs/openfl/lib/python3.8/site-packages/openfl/component/collaborator/collaborator.py\"><span style=\"color: #7f7f7f\">collaborator.py</span></a><span style=\"color: #7f7f7f\">:203</span>\n",
       "</pre>\n"
      ],
      "text/plain": [
       "<rich.jupyter.JupyterRenderable at 0x7f5e08bf3b50>"
      ]
     },
     "metadata": {},
     "output_type": "display_data"
    },
    {
     "data": {
      "text/html": [
       "<pre style=\"white-space:pre;overflow-x:auto;line-height:normal;font-family:Menlo,'DejaVu Sans Mono',consolas,'Courier New',monospace\"><span style=\"color: #7fbfbf\">[11:10:12] </span>METRIC   Round <span style=\"color: #000080; font-weight: bold\">1</span>, collaborator two is sending metric for task train: cross_entropy       <span style=\"color: #000080; font-weight: bold\">4.3472514152526855</span>                       <a href=\"file:///home/itrushkin/.virtualenvs/openfl/lib/python3.8/site-packages/openfl/component/collaborator/collaborator.py\"><span style=\"color: #7f7f7f\">collaborator.py</span></a><span style=\"color: #7f7f7f\">:366</span>\n",
       "</pre>\n"
      ],
      "text/plain": [
       "<rich.jupyter.JupyterRenderable at 0x7f5e08bc6730>"
      ]
     },
     "metadata": {},
     "output_type": "display_data"
    },
    {
     "data": {
      "text/html": [
       "<pre style=\"white-space:pre;overflow-x:auto;line-height:normal;font-family:Menlo,'DejaVu Sans Mono',consolas,'Courier New',monospace\"><span style=\"color: #7fbfbf\">           </span><span style=\"color: #000080\">INFO</span>     Collaborator two is sending task results for train, round <span style=\"color: #000080; font-weight: bold\">1</span>                                                                <a href=\"file:///home/itrushkin/.virtualenvs/openfl/lib/python3.8/site-packages/openfl/component/aggregator/aggregator.py\"><span style=\"color: #7f7f7f\">aggregator.py</span></a><span style=\"color: #7f7f7f\">:456</span>\n",
       "</pre>\n"
      ],
      "text/plain": [
       "<rich.jupyter.JupyterRenderable at 0x7f5e08c7ed30>"
      ]
     },
     "metadata": {},
     "output_type": "display_data"
    },
    {
     "data": {
      "text/html": [
       "<pre style=\"white-space:pre;overflow-x:auto;line-height:normal;font-family:Menlo,'DejaVu Sans Mono',consolas,'Courier New',monospace\"><span style=\"color: #7fbfbf\">           </span>METRIC   Round <span style=\"color: #000080; font-weight: bold\">1</span>, collaborator two train result cross_entropy:   <span style=\"color: #000080; font-weight: bold\">4.3472514152526855</span>                                                 <a href=\"file:///home/itrushkin/.virtualenvs/openfl/lib/python3.8/site-packages/openfl/component/aggregator/aggregator.py\"><span style=\"color: #7f7f7f\">aggregator.py</span></a><span style=\"color: #7f7f7f\">:494</span>\n",
       "</pre>\n"
      ],
      "text/plain": [
       "<rich.jupyter.JupyterRenderable at 0x7f5e08c7ed30>"
      ]
     },
     "metadata": {},
     "output_type": "display_data"
    },
    {
     "data": {
      "text/html": [
       "<pre style=\"white-space:pre;overflow-x:auto;line-height:normal;font-family:Menlo,'DejaVu Sans Mono',consolas,'Courier New',monospace\"><span style=\"color: #7fbfbf\">           </span><span style=\"color: #000080\">INFO</span>     Using TaskRunner subclassing API                                                                                         <a href=\"file:///home/itrushkin/.virtualenvs/openfl/lib/python3.8/site-packages/openfl/component/collaborator/collaborator.py\"><span style=\"color: #7f7f7f\">collaborator.py</span></a><span style=\"color: #7f7f7f\">:203</span>\n",
       "</pre>\n"
      ],
      "text/plain": [
       "<rich.jupyter.JupyterRenderable at 0x7f5e08d4dbb0>"
      ]
     },
     "metadata": {},
     "output_type": "display_data"
    },
    {
     "data": {
      "text/html": [
       "<pre style=\"white-space:pre;overflow-x:auto;line-height:normal;font-family:Menlo,'DejaVu Sans Mono',consolas,'Courier New',monospace\"><span style=\"color: #7fbfbf\">           </span>METRIC   Round <span style=\"color: #000080; font-weight: bold\">1</span>, collaborator two is sending metric for task locally_tuned_model_validation: acc        <span style=\"color: #000080; font-weight: bold\">0.5</span>                      <a href=\"file:///home/itrushkin/.virtualenvs/openfl/lib/python3.8/site-packages/openfl/component/collaborator/collaborator.py\"><span style=\"color: #7f7f7f\">collaborator.py</span></a><span style=\"color: #7f7f7f\">:366</span>\n",
       "</pre>\n"
      ],
      "text/plain": [
       "<rich.jupyter.JupyterRenderable at 0x7f5e08d4dd00>"
      ]
     },
     "metadata": {},
     "output_type": "display_data"
    },
    {
     "data": {
      "text/html": [
       "<pre style=\"white-space:pre;overflow-x:auto;line-height:normal;font-family:Menlo,'DejaVu Sans Mono',consolas,'Courier New',monospace\"><span style=\"color: #7fbfbf\">           </span><span style=\"color: #000080\">INFO</span>     Collaborator two is sending task results for locally_tuned_model_validation, round <span style=\"color: #000080; font-weight: bold\">1</span>                                       <a href=\"file:///home/itrushkin/.virtualenvs/openfl/lib/python3.8/site-packages/openfl/component/aggregator/aggregator.py\"><span style=\"color: #7f7f7f\">aggregator.py</span></a><span style=\"color: #7f7f7f\">:456</span>\n",
       "</pre>\n"
      ],
      "text/plain": [
       "<rich.jupyter.JupyterRenderable at 0x7f5e08d4da30>"
      ]
     },
     "metadata": {},
     "output_type": "display_data"
    },
    {
     "data": {
      "text/html": [
       "<pre style=\"white-space:pre;overflow-x:auto;line-height:normal;font-family:Menlo,'DejaVu Sans Mono',consolas,'Courier New',monospace\"><span style=\"color: #7fbfbf\">           </span>METRIC   Round <span style=\"color: #000080; font-weight: bold\">1</span>, collaborator two locally_tuned_model_validation result acc:    <span style=\"color: #000080; font-weight: bold\">0.5</span>                                                <a href=\"file:///home/itrushkin/.virtualenvs/openfl/lib/python3.8/site-packages/openfl/component/aggregator/aggregator.py\"><span style=\"color: #7f7f7f\">aggregator.py</span></a><span style=\"color: #7f7f7f\">:494</span>\n",
       "</pre>\n"
      ],
      "text/plain": [
       "<rich.jupyter.JupyterRenderable at 0x7f5e08d4dbe0>"
      ]
     },
     "metadata": {},
     "output_type": "display_data"
    },
    {
     "data": {
      "text/html": [
       "<pre style=\"white-space:pre;overflow-x:auto;line-height:normal;font-family:Menlo,'DejaVu Sans Mono',consolas,'Courier New',monospace\"><span style=\"color: #7fbfbf\">           </span>METRIC   Round <span style=\"color: #000080; font-weight: bold\">1</span>, aggregator: locally_tuned_model_validation                                                                        <a href=\"file:///home/itrushkin/.virtualenvs/openfl/lib/python3.8/site-packages/openfl/component/aggregator/aggregator.py\"><span style=\"color: #7f7f7f\">aggregator.py</span></a><span style=\"color: #7f7f7f\">:764</span>\n",
       "                    <span style=\"font-weight: bold\">&lt;</span><span style=\"color: #ff00ff; font-weight: bold\">openfl.component.aggregation_functions.weighted_average.WeightedAverage</span><span style=\"color: #000000\"> object at </span><span style=\"color: #000080; font-weight: bold\">0x7f5e6fb86dc0</span><span style=\"font-weight: bold\">&gt;</span> acc:     <span style=\"color: #000080; font-weight: bold\">0.7297</span>                          \n",
       "</pre>\n"
      ],
      "text/plain": [
       "<rich.jupyter.JupyterRenderable at 0x7f5e08d4dc40>"
      ]
     },
     "metadata": {},
     "output_type": "display_data"
    },
    {
     "data": {
      "text/html": [
       "<pre style=\"white-space:pre;overflow-x:auto;line-height:normal;font-family:Menlo,'DejaVu Sans Mono',consolas,'Courier New',monospace\"><span style=\"color: #7fbfbf\">           </span>METRIC   Round <span style=\"color: #000080; font-weight: bold\">1</span>, aggregator: aggregated_model_validation <span style=\"font-weight: bold\">&lt;</span><span style=\"color: #ff00ff; font-weight: bold\">openfl.component.aggregation_functions.weighted_average.WeightedAverage</span><span style=\"color: #000000\"> </span> <a href=\"file:///home/itrushkin/.virtualenvs/openfl/lib/python3.8/site-packages/openfl/component/aggregator/aggregator.py\"><span style=\"color: #7f7f7f\">aggregator.py</span></a><span style=\"color: #7f7f7f\">:764</span>\n",
       "                    <span style=\"color: #000000\">object at </span><span style=\"color: #000080; font-weight: bold\">0x7f5e6fb86dc0</span><span style=\"font-weight: bold\">&gt;</span> acc:        <span style=\"color: #000080; font-weight: bold\">0.6757</span>                                                                                                \n",
       "</pre>\n"
      ],
      "text/plain": [
       "<rich.jupyter.JupyterRenderable at 0x7f5e08d55a90>"
      ]
     },
     "metadata": {},
     "output_type": "display_data"
    },
    {
     "data": {
      "text/html": [
       "<pre style=\"white-space:pre;overflow-x:auto;line-height:normal;font-family:Menlo,'DejaVu Sans Mono',consolas,'Courier New',monospace\"><span style=\"color: #7fbfbf\">           </span>METRIC   Round <span style=\"color: #000080; font-weight: bold\">1</span>: saved the best model with score <span style=\"color: #000080; font-weight: bold\">0.675676</span>                                                                          <a href=\"file:///home/itrushkin/.virtualenvs/openfl/lib/python3.8/site-packages/openfl/component/aggregator/aggregator.py\"><span style=\"color: #7f7f7f\">aggregator.py</span></a><span style=\"color: #7f7f7f\">:779</span>\n",
       "</pre>\n"
      ],
      "text/plain": [
       "<rich.jupyter.JupyterRenderable at 0x7f5e08d4dbe0>"
      ]
     },
     "metadata": {},
     "output_type": "display_data"
    },
    {
     "data": {
      "text/html": [
       "<pre style=\"white-space:pre;overflow-x:auto;line-height:normal;font-family:Menlo,'DejaVu Sans Mono',consolas,'Courier New',monospace\"><span style=\"color: #7fbfbf\">[11:10:13] </span>METRIC   Round <span style=\"color: #000080; font-weight: bold\">1</span>, aggregator: train <span style=\"font-weight: bold\">&lt;</span><span style=\"color: #ff00ff; font-weight: bold\">openfl.component.aggregation_functions.weighted_average.WeightedAverage</span><span style=\"color: #000000\"> object at </span>             <a href=\"file:///home/itrushkin/.virtualenvs/openfl/lib/python3.8/site-packages/openfl/component/aggregator/aggregator.py\"><span style=\"color: #7f7f7f\">aggregator.py</span></a><span style=\"color: #7f7f7f\">:764</span>\n",
       "                    <span style=\"color: #000080; font-weight: bold\">0x7f5e6fb86dc0</span><span style=\"font-weight: bold\">&gt;</span> cross_entropy:    <span style=\"color: #000080; font-weight: bold\">2.4966</span>                                                                                                    \n",
       "</pre>\n"
      ],
      "text/plain": [
       "<rich.jupyter.JupyterRenderable at 0x7f5e08d55d00>"
      ]
     },
     "metadata": {},
     "output_type": "display_data"
    },
    {
     "data": {
      "text/html": [
       "<pre style=\"white-space:pre;overflow-x:auto;line-height:normal;font-family:Menlo,'DejaVu Sans Mono',consolas,'Courier New',monospace\"><span style=\"color: #7fbfbf\">[11:10:16] </span><span style=\"color: #000080\">INFO</span>     Saving round <span style=\"color: #000080; font-weight: bold\">2</span> model<span style=\"color: #808000\">...</span>                                                                                                    <a href=\"file:///home/itrushkin/.virtualenvs/openfl/lib/python3.8/site-packages/openfl/component/aggregator/aggregator.py\"><span style=\"color: #7f7f7f\">aggregator.py</span></a><span style=\"color: #7f7f7f\">:813</span>\n",
       "</pre>\n"
      ],
      "text/plain": [
       "<rich.jupyter.JupyterRenderable at 0x7f5e088b98b0>"
      ]
     },
     "metadata": {},
     "output_type": "display_data"
    },
    {
     "data": {
      "text/html": [
       "<pre style=\"white-space:pre;overflow-x:auto;line-height:normal;font-family:Menlo,'DejaVu Sans Mono',consolas,'Courier New',monospace\"><span style=\"color: #7fbfbf\">           </span><span style=\"color: #000080\">INFO</span>     Starting round <span style=\"color: #000080; font-weight: bold\">2</span><span style=\"color: #808000\">...</span>                                                                                                        <a href=\"file:///home/itrushkin/.virtualenvs/openfl/lib/python3.8/site-packages/openfl/component/aggregator/aggregator.py\"><span style=\"color: #7f7f7f\">aggregator.py</span></a><span style=\"color: #7f7f7f\">:820</span>\n",
       "</pre>\n"
      ],
      "text/plain": [
       "<rich.jupyter.JupyterRenderable at 0x7f5e08d4dee0>"
      ]
     },
     "metadata": {},
     "output_type": "display_data"
    },
    {
     "data": {
      "text/html": [
       "<pre style=\"white-space:pre;overflow-x:auto;line-height:normal;font-family:Menlo,'DejaVu Sans Mono',consolas,'Courier New',monospace\"><span style=\"color: #7fbfbf\">           </span><span style=\"color: #000080\">INFO</span>     All tasks completed on two for round <span style=\"color: #000080; font-weight: bold\">1</span><span style=\"color: #808000\">...</span>                                                                                <a href=\"file:///home/itrushkin/.virtualenvs/openfl/lib/python3.8/site-packages/openfl/component/collaborator/collaborator.py\"><span style=\"color: #7f7f7f\">collaborator.py</span></a><span style=\"color: #7f7f7f\">:146</span>\n",
       "</pre>\n"
      ],
      "text/plain": [
       "<rich.jupyter.JupyterRenderable at 0x7f5e08c88370>"
      ]
     },
     "metadata": {},
     "output_type": "display_data"
    },
    {
     "data": {
      "text/html": [
       "<pre style=\"white-space:pre;overflow-x:auto;line-height:normal;font-family:Menlo,'DejaVu Sans Mono',consolas,'Courier New',monospace\"><span style=\"color: #7fbfbf\">           </span><span style=\"color: #000080\">INFO</span>     Waiting for tasks<span style=\"color: #808000\">...</span>                                                                                                     <a href=\"file:///home/itrushkin/.virtualenvs/openfl/lib/python3.8/site-packages/openfl/component/collaborator/collaborator.py\"><span style=\"color: #7f7f7f\">collaborator.py</span></a><span style=\"color: #7f7f7f\">:153</span>\n",
       "</pre>\n"
      ],
      "text/plain": [
       "<rich.jupyter.JupyterRenderable at 0x7f5e08bf5d00>"
      ]
     },
     "metadata": {},
     "output_type": "display_data"
    },
    {
     "data": {
      "text/html": [
       "<pre style=\"white-space:pre;overflow-x:auto;line-height:normal;font-family:Menlo,'DejaVu Sans Mono',consolas,'Courier New',monospace\"><span style=\"color: #7fbfbf\">           </span><span style=\"color: #000080\">INFO</span>     Sending tasks to collaborator one for round <span style=\"color: #000080; font-weight: bold\">2</span>                                                                              <a href=\"file:///home/itrushkin/.virtualenvs/openfl/lib/python3.8/site-packages/openfl/component/aggregator/aggregator.py\"><span style=\"color: #7f7f7f\">aggregator.py</span></a><span style=\"color: #7f7f7f\">:303</span>\n",
       "</pre>\n"
      ],
      "text/plain": [
       "<rich.jupyter.JupyterRenderable at 0x7f5e08be6d90>"
      ]
     },
     "metadata": {},
     "output_type": "display_data"
    },
    {
     "data": {
      "text/html": [
       "<pre style=\"white-space:pre;overflow-x:auto;line-height:normal;font-family:Menlo,'DejaVu Sans Mono',consolas,'Courier New',monospace\"><span style=\"color: #7fbfbf\">           </span><span style=\"color: #000080\">INFO</span>     Received the following tasks: <span style=\"font-weight: bold\">[</span><span style=\"color: #008000\">'aggregated_model_validation'</span>, <span style=\"color: #008000\">'train'</span>, <span style=\"color: #008000\">'locally_tuned_model_validation'</span><span style=\"font-weight: bold\">]</span>                 <a href=\"file:///home/itrushkin/.virtualenvs/openfl/lib/python3.8/site-packages/openfl/component/collaborator/collaborator.py\"><span style=\"color: #7f7f7f\">collaborator.py</span></a><span style=\"color: #7f7f7f\">:143</span>\n",
       "</pre>\n"
      ],
      "text/plain": [
       "<rich.jupyter.JupyterRenderable at 0x7f5e08d88ac0>"
      ]
     },
     "metadata": {},
     "output_type": "display_data"
    },
    {
     "data": {
      "text/html": [
       "<pre style=\"white-space:pre;overflow-x:auto;line-height:normal;font-family:Menlo,'DejaVu Sans Mono',consolas,'Courier New',monospace\"><span style=\"color: #7fbfbf\">[11:10:18] </span><span style=\"color: #000080\">INFO</span>     Using TaskRunner subclassing API                                                                                         <a href=\"file:///home/itrushkin/.virtualenvs/openfl/lib/python3.8/site-packages/openfl/component/collaborator/collaborator.py\"><span style=\"color: #7f7f7f\">collaborator.py</span></a><span style=\"color: #7f7f7f\">:203</span>\n",
       "</pre>\n"
      ],
      "text/plain": [
       "<rich.jupyter.JupyterRenderable at 0x7f5e08c77b50>"
      ]
     },
     "metadata": {},
     "output_type": "display_data"
    },
    {
     "data": {
      "text/html": [
       "<pre style=\"white-space:pre;overflow-x:auto;line-height:normal;font-family:Menlo,'DejaVu Sans Mono',consolas,'Courier New',monospace\"><span style=\"color: #7fbfbf\">           </span>METRIC   Round <span style=\"color: #000080; font-weight: bold\">2</span>, collaborator one is sending metric for task aggregated_model_validation: acc   <span style=\"color: #000080; font-weight: bold\">0.8148148148148148</span>               <a href=\"file:///home/itrushkin/.virtualenvs/openfl/lib/python3.8/site-packages/openfl/component/collaborator/collaborator.py\"><span style=\"color: #7f7f7f\">collaborator.py</span></a><span style=\"color: #7f7f7f\">:366</span>\n",
       "</pre>\n"
      ],
      "text/plain": [
       "<rich.jupyter.JupyterRenderable at 0x7f5e08d3c5e0>"
      ]
     },
     "metadata": {},
     "output_type": "display_data"
    },
    {
     "data": {
      "text/html": [
       "<pre style=\"white-space:pre;overflow-x:auto;line-height:normal;font-family:Menlo,'DejaVu Sans Mono',consolas,'Courier New',monospace\"><span style=\"color: #7fbfbf\">           </span><span style=\"color: #000080\">INFO</span>     Collaborator one is sending task results for aggregated_model_validation, round <span style=\"color: #000080; font-weight: bold\">2</span>                                          <a href=\"file:///home/itrushkin/.virtualenvs/openfl/lib/python3.8/site-packages/openfl/component/aggregator/aggregator.py\"><span style=\"color: #7f7f7f\">aggregator.py</span></a><span style=\"color: #7f7f7f\">:456</span>\n",
       "</pre>\n"
      ],
      "text/plain": [
       "<rich.jupyter.JupyterRenderable at 0x7f5e088feb50>"
      ]
     },
     "metadata": {},
     "output_type": "display_data"
    },
    {
     "data": {
      "text/html": [
       "<pre style=\"white-space:pre;overflow-x:auto;line-height:normal;font-family:Menlo,'DejaVu Sans Mono',consolas,'Courier New',monospace\"><span style=\"color: #7fbfbf\">           </span>METRIC   Round <span style=\"color: #000080; font-weight: bold\">2</span>, collaborator one aggregated_model_validation result acc:       <span style=\"color: #000080; font-weight: bold\">0.8148148059844971</span>                                 <a href=\"file:///home/itrushkin/.virtualenvs/openfl/lib/python3.8/site-packages/openfl/component/aggregator/aggregator.py\"><span style=\"color: #7f7f7f\">aggregator.py</span></a><span style=\"color: #7f7f7f\">:494</span>\n",
       "</pre>\n"
      ],
      "text/plain": [
       "<rich.jupyter.JupyterRenderable at 0x7f5e08bf3d90>"
      ]
     },
     "metadata": {},
     "output_type": "display_data"
    },
    {
     "data": {
      "text/html": [
       "<pre style=\"white-space:pre;overflow-x:auto;line-height:normal;font-family:Menlo,'DejaVu Sans Mono',consolas,'Courier New',monospace\"><span style=\"color: #7fbfbf\">           </span><span style=\"color: #000080\">INFO</span>     Using TaskRunner subclassing API                                                                                         <a href=\"file:///home/itrushkin/.virtualenvs/openfl/lib/python3.8/site-packages/openfl/component/collaborator/collaborator.py\"><span style=\"color: #7f7f7f\">collaborator.py</span></a><span style=\"color: #7f7f7f\">:203</span>\n",
       "</pre>\n"
      ],
      "text/plain": [
       "<rich.jupyter.JupyterRenderable at 0x7f5e08bc69d0>"
      ]
     },
     "metadata": {},
     "output_type": "display_data"
    },
    {
     "data": {
      "text/html": [
       "<pre style=\"white-space:pre;overflow-x:auto;line-height:normal;font-family:Menlo,'DejaVu Sans Mono',consolas,'Courier New',monospace\"><span style=\"color: #7fbfbf\">[11:10:19] </span>METRIC   Round <span style=\"color: #000080; font-weight: bold\">2</span>, collaborator one is sending metric for task train: cross_entropy       <span style=\"color: #000080; font-weight: bold\">1.405450463294983</span>                        <a href=\"file:///home/itrushkin/.virtualenvs/openfl/lib/python3.8/site-packages/openfl/component/collaborator/collaborator.py\"><span style=\"color: #7f7f7f\">collaborator.py</span></a><span style=\"color: #7f7f7f\">:366</span>\n",
       "</pre>\n"
      ],
      "text/plain": [
       "<rich.jupyter.JupyterRenderable at 0x7f5e088b9be0>"
      ]
     },
     "metadata": {},
     "output_type": "display_data"
    },
    {
     "data": {
      "text/html": [
       "<pre style=\"white-space:pre;overflow-x:auto;line-height:normal;font-family:Menlo,'DejaVu Sans Mono',consolas,'Courier New',monospace\"><span style=\"color: #7fbfbf\">           </span><span style=\"color: #000080\">INFO</span>     Collaborator one is sending task results for train, round <span style=\"color: #000080; font-weight: bold\">2</span>                                                                <a href=\"file:///home/itrushkin/.virtualenvs/openfl/lib/python3.8/site-packages/openfl/component/aggregator/aggregator.py\"><span style=\"color: #7f7f7f\">aggregator.py</span></a><span style=\"color: #7f7f7f\">:456</span>\n",
       "</pre>\n"
      ],
      "text/plain": [
       "<rich.jupyter.JupyterRenderable at 0x7f5e088b94f0>"
      ]
     },
     "metadata": {},
     "output_type": "display_data"
    },
    {
     "data": {
      "text/html": [
       "<pre style=\"white-space:pre;overflow-x:auto;line-height:normal;font-family:Menlo,'DejaVu Sans Mono',consolas,'Courier New',monospace\"><span style=\"color: #7fbfbf\">           </span>METRIC   Round <span style=\"color: #000080; font-weight: bold\">2</span>, collaborator one train result cross_entropy:   <span style=\"color: #000080; font-weight: bold\">1.405450463294983</span>                                                  <a href=\"file:///home/itrushkin/.virtualenvs/openfl/lib/python3.8/site-packages/openfl/component/aggregator/aggregator.py\"><span style=\"color: #7f7f7f\">aggregator.py</span></a><span style=\"color: #7f7f7f\">:494</span>\n",
       "</pre>\n"
      ],
      "text/plain": [
       "<rich.jupyter.JupyterRenderable at 0x7f5e088b9f40>"
      ]
     },
     "metadata": {},
     "output_type": "display_data"
    },
    {
     "data": {
      "text/html": [
       "<pre style=\"white-space:pre;overflow-x:auto;line-height:normal;font-family:Menlo,'DejaVu Sans Mono',consolas,'Courier New',monospace\"><span style=\"color: #7fbfbf\">[11:10:20] </span><span style=\"color: #000080\">INFO</span>     Using TaskRunner subclassing API                                                                                         <a href=\"file:///home/itrushkin/.virtualenvs/openfl/lib/python3.8/site-packages/openfl/component/collaborator/collaborator.py\"><span style=\"color: #7f7f7f\">collaborator.py</span></a><span style=\"color: #7f7f7f\">:203</span>\n",
       "</pre>\n"
      ],
      "text/plain": [
       "<rich.jupyter.JupyterRenderable at 0x7f5e088c0700>"
      ]
     },
     "metadata": {},
     "output_type": "display_data"
    },
    {
     "data": {
      "text/html": [
       "<pre style=\"white-space:pre;overflow-x:auto;line-height:normal;font-family:Menlo,'DejaVu Sans Mono',consolas,'Courier New',monospace\"><span style=\"color: #7fbfbf\">           </span>METRIC   Round <span style=\"color: #000080; font-weight: bold\">2</span>, collaborator one is sending metric for task locally_tuned_model_validation: acc        <span style=\"color: #000080; font-weight: bold\">0.8148148148148148</span>       <a href=\"file:///home/itrushkin/.virtualenvs/openfl/lib/python3.8/site-packages/openfl/component/collaborator/collaborator.py\"><span style=\"color: #7f7f7f\">collaborator.py</span></a><span style=\"color: #7f7f7f\">:366</span>\n",
       "</pre>\n"
      ],
      "text/plain": [
       "<rich.jupyter.JupyterRenderable at 0x7f5e088b9fd0>"
      ]
     },
     "metadata": {},
     "output_type": "display_data"
    },
    {
     "data": {
      "text/html": [
       "<pre style=\"white-space:pre;overflow-x:auto;line-height:normal;font-family:Menlo,'DejaVu Sans Mono',consolas,'Courier New',monospace\"><span style=\"color: #7fbfbf\">           </span><span style=\"color: #000080\">INFO</span>     Collaborator one is sending task results for locally_tuned_model_validation, round <span style=\"color: #000080; font-weight: bold\">2</span>                                       <a href=\"file:///home/itrushkin/.virtualenvs/openfl/lib/python3.8/site-packages/openfl/component/aggregator/aggregator.py\"><span style=\"color: #7f7f7f\">aggregator.py</span></a><span style=\"color: #7f7f7f\">:456</span>\n",
       "</pre>\n"
      ],
      "text/plain": [
       "<rich.jupyter.JupyterRenderable at 0x7f5e088b9970>"
      ]
     },
     "metadata": {},
     "output_type": "display_data"
    },
    {
     "data": {
      "text/html": [
       "<pre style=\"white-space:pre;overflow-x:auto;line-height:normal;font-family:Menlo,'DejaVu Sans Mono',consolas,'Courier New',monospace\"><span style=\"color: #7fbfbf\">           </span>METRIC   Round <span style=\"color: #000080; font-weight: bold\">2</span>, collaborator one locally_tuned_model_validation result acc:    <span style=\"color: #000080; font-weight: bold\">0.8148148059844971</span>                                 <a href=\"file:///home/itrushkin/.virtualenvs/openfl/lib/python3.8/site-packages/openfl/component/aggregator/aggregator.py\"><span style=\"color: #7f7f7f\">aggregator.py</span></a><span style=\"color: #7f7f7f\">:494</span>\n",
       "</pre>\n"
      ],
      "text/plain": [
       "<rich.jupyter.JupyterRenderable at 0x7f5e088b9850>"
      ]
     },
     "metadata": {},
     "output_type": "display_data"
    },
    {
     "data": {
      "text/html": [
       "<pre style=\"white-space:pre;overflow-x:auto;line-height:normal;font-family:Menlo,'DejaVu Sans Mono',consolas,'Courier New',monospace\"><span style=\"color: #7fbfbf\">           </span><span style=\"color: #000080\">INFO</span>     All tasks completed on one for round <span style=\"color: #000080; font-weight: bold\">2</span><span style=\"color: #808000\">...</span>                                                                                <a href=\"file:///home/itrushkin/.virtualenvs/openfl/lib/python3.8/site-packages/openfl/component/collaborator/collaborator.py\"><span style=\"color: #7f7f7f\">collaborator.py</span></a><span style=\"color: #7f7f7f\">:146</span>\n",
       "</pre>\n"
      ],
      "text/plain": [
       "<rich.jupyter.JupyterRenderable at 0x7f5e088b9340>"
      ]
     },
     "metadata": {},
     "output_type": "display_data"
    },
    {
     "data": {
      "text/html": [
       "<pre style=\"white-space:pre;overflow-x:auto;line-height:normal;font-family:Menlo,'DejaVu Sans Mono',consolas,'Courier New',monospace\"><span style=\"color: #7fbfbf\">           </span><span style=\"color: #000080\">INFO</span>     Waiting for tasks<span style=\"color: #808000\">...</span>                                                                                                     <a href=\"file:///home/itrushkin/.virtualenvs/openfl/lib/python3.8/site-packages/openfl/component/collaborator/collaborator.py\"><span style=\"color: #7f7f7f\">collaborator.py</span></a><span style=\"color: #7f7f7f\">:153</span>\n",
       "</pre>\n"
      ],
      "text/plain": [
       "<rich.jupyter.JupyterRenderable at 0x7f5e088b9160>"
      ]
     },
     "metadata": {},
     "output_type": "display_data"
    },
    {
     "data": {
      "text/html": [
       "<pre style=\"white-space:pre;overflow-x:auto;line-height:normal;font-family:Menlo,'DejaVu Sans Mono',consolas,'Courier New',monospace\"><span style=\"color: #7fbfbf\">           </span><span style=\"color: #000080\">INFO</span>     Sending tasks to collaborator two for round <span style=\"color: #000080; font-weight: bold\">2</span>                                                                              <a href=\"file:///home/itrushkin/.virtualenvs/openfl/lib/python3.8/site-packages/openfl/component/aggregator/aggregator.py\"><span style=\"color: #7f7f7f\">aggregator.py</span></a><span style=\"color: #7f7f7f\">:303</span>\n",
       "</pre>\n"
      ],
      "text/plain": [
       "<rich.jupyter.JupyterRenderable at 0x7f5e088b90d0>"
      ]
     },
     "metadata": {},
     "output_type": "display_data"
    },
    {
     "data": {
      "text/html": [
       "<pre style=\"white-space:pre;overflow-x:auto;line-height:normal;font-family:Menlo,'DejaVu Sans Mono',consolas,'Courier New',monospace\"><span style=\"color: #7fbfbf\">           </span><span style=\"color: #000080\">INFO</span>     Received the following tasks: <span style=\"font-weight: bold\">[</span><span style=\"color: #008000\">'aggregated_model_validation'</span>, <span style=\"color: #008000\">'train'</span>, <span style=\"color: #008000\">'locally_tuned_model_validation'</span><span style=\"font-weight: bold\">]</span>                 <a href=\"file:///home/itrushkin/.virtualenvs/openfl/lib/python3.8/site-packages/openfl/component/collaborator/collaborator.py\"><span style=\"color: #7f7f7f\">collaborator.py</span></a><span style=\"color: #7f7f7f\">:143</span>\n",
       "</pre>\n"
      ],
      "text/plain": [
       "<rich.jupyter.JupyterRenderable at 0x7f5e088b9850>"
      ]
     },
     "metadata": {},
     "output_type": "display_data"
    },
    {
     "data": {
      "text/html": [
       "<pre style=\"white-space:pre;overflow-x:auto;line-height:normal;font-family:Menlo,'DejaVu Sans Mono',consolas,'Courier New',monospace\"><span style=\"color: #7fbfbf\">[11:10:21] </span><span style=\"color: #000080\">INFO</span>     Using TaskRunner subclassing API                                                                                         <a href=\"file:///home/itrushkin/.virtualenvs/openfl/lib/python3.8/site-packages/openfl/component/collaborator/collaborator.py\"><span style=\"color: #7f7f7f\">collaborator.py</span></a><span style=\"color: #7f7f7f\">:203</span>\n",
       "</pre>\n"
      ],
      "text/plain": [
       "<rich.jupyter.JupyterRenderable at 0x7f5e08891ca0>"
      ]
     },
     "metadata": {},
     "output_type": "display_data"
    },
    {
     "data": {
      "text/html": [
       "<pre style=\"white-space:pre;overflow-x:auto;line-height:normal;font-family:Menlo,'DejaVu Sans Mono',consolas,'Courier New',monospace\"><span style=\"color: #7fbfbf\">           </span>METRIC   Round <span style=\"color: #000080; font-weight: bold\">2</span>, collaborator two is sending metric for task aggregated_model_validation: acc   <span style=\"color: #000080; font-weight: bold\">0.5</span>                              <a href=\"file:///home/itrushkin/.virtualenvs/openfl/lib/python3.8/site-packages/openfl/component/collaborator/collaborator.py\"><span style=\"color: #7f7f7f\">collaborator.py</span></a><span style=\"color: #7f7f7f\">:366</span>\n",
       "</pre>\n"
      ],
      "text/plain": [
       "<rich.jupyter.JupyterRenderable at 0x7f5e08891f40>"
      ]
     },
     "metadata": {},
     "output_type": "display_data"
    },
    {
     "data": {
      "text/html": [
       "<pre style=\"white-space:pre;overflow-x:auto;line-height:normal;font-family:Menlo,'DejaVu Sans Mono',consolas,'Courier New',monospace\"><span style=\"color: #7fbfbf\">           </span><span style=\"color: #000080\">INFO</span>     Collaborator two is sending task results for aggregated_model_validation, round <span style=\"color: #000080; font-weight: bold\">2</span>                                          <a href=\"file:///home/itrushkin/.virtualenvs/openfl/lib/python3.8/site-packages/openfl/component/aggregator/aggregator.py\"><span style=\"color: #7f7f7f\">aggregator.py</span></a><span style=\"color: #7f7f7f\">:456</span>\n",
       "</pre>\n"
      ],
      "text/plain": [
       "<rich.jupyter.JupyterRenderable at 0x7f5e08badd00>"
      ]
     },
     "metadata": {},
     "output_type": "display_data"
    },
    {
     "data": {
      "text/html": [
       "<pre style=\"white-space:pre;overflow-x:auto;line-height:normal;font-family:Menlo,'DejaVu Sans Mono',consolas,'Courier New',monospace\"><span style=\"color: #7fbfbf\">           </span>METRIC   Round <span style=\"color: #000080; font-weight: bold\">2</span>, collaborator two aggregated_model_validation result acc:       <span style=\"color: #000080; font-weight: bold\">0.5</span>                                                <a href=\"file:///home/itrushkin/.virtualenvs/openfl/lib/python3.8/site-packages/openfl/component/aggregator/aggregator.py\"><span style=\"color: #7f7f7f\">aggregator.py</span></a><span style=\"color: #7f7f7f\">:494</span>\n",
       "</pre>\n"
      ],
      "text/plain": [
       "<rich.jupyter.JupyterRenderable at 0x7f5e08951fd0>"
      ]
     },
     "metadata": {},
     "output_type": "display_data"
    },
    {
     "data": {
      "text/html": [
       "<pre style=\"white-space:pre;overflow-x:auto;line-height:normal;font-family:Menlo,'DejaVu Sans Mono',consolas,'Courier New',monospace\"><span style=\"color: #7fbfbf\">           </span><span style=\"color: #000080\">INFO</span>     Using TaskRunner subclassing API                                                                                         <a href=\"file:///home/itrushkin/.virtualenvs/openfl/lib/python3.8/site-packages/openfl/component/collaborator/collaborator.py\"><span style=\"color: #7f7f7f\">collaborator.py</span></a><span style=\"color: #7f7f7f\">:203</span>\n",
       "</pre>\n"
      ],
      "text/plain": [
       "<rich.jupyter.JupyterRenderable at 0x7f5e088c0d90>"
      ]
     },
     "metadata": {},
     "output_type": "display_data"
    },
    {
     "data": {
      "text/html": [
       "<pre style=\"white-space:pre;overflow-x:auto;line-height:normal;font-family:Menlo,'DejaVu Sans Mono',consolas,'Courier New',monospace\"><span style=\"color: #7fbfbf\">[11:10:22] </span>METRIC   Round <span style=\"color: #000080; font-weight: bold\">2</span>, collaborator two is sending metric for task train: cross_entropy       <span style=\"color: #000080; font-weight: bold\">4.07345724105835</span>                         <a href=\"file:///home/itrushkin/.virtualenvs/openfl/lib/python3.8/site-packages/openfl/component/collaborator/collaborator.py\"><span style=\"color: #7f7f7f\">collaborator.py</span></a><span style=\"color: #7f7f7f\">:366</span>\n",
       "</pre>\n"
      ],
      "text/plain": [
       "<rich.jupyter.JupyterRenderable at 0x7f5e08d55e50>"
      ]
     },
     "metadata": {},
     "output_type": "display_data"
    },
    {
     "data": {
      "text/html": [
       "<pre style=\"white-space:pre;overflow-x:auto;line-height:normal;font-family:Menlo,'DejaVu Sans Mono',consolas,'Courier New',monospace\"><span style=\"color: #7fbfbf\">           </span><span style=\"color: #000080\">INFO</span>     Collaborator two is sending task results for train, round <span style=\"color: #000080; font-weight: bold\">2</span>                                                                <a href=\"file:///home/itrushkin/.virtualenvs/openfl/lib/python3.8/site-packages/openfl/component/aggregator/aggregator.py\"><span style=\"color: #7f7f7f\">aggregator.py</span></a><span style=\"color: #7f7f7f\">:456</span>\n",
       "</pre>\n"
      ],
      "text/plain": [
       "<rich.jupyter.JupyterRenderable at 0x7f5e6ce8fbb0>"
      ]
     },
     "metadata": {},
     "output_type": "display_data"
    },
    {
     "data": {
      "text/html": [
       "<pre style=\"white-space:pre;overflow-x:auto;line-height:normal;font-family:Menlo,'DejaVu Sans Mono',consolas,'Courier New',monospace\"><span style=\"color: #7fbfbf\">           </span>METRIC   Round <span style=\"color: #000080; font-weight: bold\">2</span>, collaborator two train result cross_entropy:   <span style=\"color: #000080; font-weight: bold\">4.07345724105835</span>                                                   <a href=\"file:///home/itrushkin/.virtualenvs/openfl/lib/python3.8/site-packages/openfl/component/aggregator/aggregator.py\"><span style=\"color: #7f7f7f\">aggregator.py</span></a><span style=\"color: #7f7f7f\">:494</span>\n",
       "</pre>\n"
      ],
      "text/plain": [
       "<rich.jupyter.JupyterRenderable at 0x7f5e6ce8f640>"
      ]
     },
     "metadata": {},
     "output_type": "display_data"
    },
    {
     "data": {
      "text/html": [
       "<pre style=\"white-space:pre;overflow-x:auto;line-height:normal;font-family:Menlo,'DejaVu Sans Mono',consolas,'Courier New',monospace\"><span style=\"color: #7fbfbf\">[11:10:23] </span><span style=\"color: #000080\">INFO</span>     Using TaskRunner subclassing API                                                                                         <a href=\"file:///home/itrushkin/.virtualenvs/openfl/lib/python3.8/site-packages/openfl/component/collaborator/collaborator.py\"><span style=\"color: #7f7f7f\">collaborator.py</span></a><span style=\"color: #7f7f7f\">:203</span>\n",
       "</pre>\n"
      ],
      "text/plain": [
       "<rich.jupyter.JupyterRenderable at 0x7f5e08daa520>"
      ]
     },
     "metadata": {},
     "output_type": "display_data"
    },
    {
     "data": {
      "text/html": [
       "<pre style=\"white-space:pre;overflow-x:auto;line-height:normal;font-family:Menlo,'DejaVu Sans Mono',consolas,'Courier New',monospace\"><span style=\"color: #7fbfbf\">           </span>METRIC   Round <span style=\"color: #000080; font-weight: bold\">2</span>, collaborator two is sending metric for task locally_tuned_model_validation: acc        <span style=\"color: #000080; font-weight: bold\">0.5</span>                      <a href=\"file:///home/itrushkin/.virtualenvs/openfl/lib/python3.8/site-packages/openfl/component/collaborator/collaborator.py\"><span style=\"color: #7f7f7f\">collaborator.py</span></a><span style=\"color: #7f7f7f\">:366</span>\n",
       "</pre>\n"
      ],
      "text/plain": [
       "<rich.jupyter.JupyterRenderable at 0x7f5e08dc0490>"
      ]
     },
     "metadata": {},
     "output_type": "display_data"
    },
    {
     "data": {
      "text/html": [
       "<pre style=\"white-space:pre;overflow-x:auto;line-height:normal;font-family:Menlo,'DejaVu Sans Mono',consolas,'Courier New',monospace\"><span style=\"color: #7fbfbf\">           </span><span style=\"color: #000080\">INFO</span>     Collaborator two is sending task results for locally_tuned_model_validation, round <span style=\"color: #000080; font-weight: bold\">2</span>                                       <a href=\"file:///home/itrushkin/.virtualenvs/openfl/lib/python3.8/site-packages/openfl/component/aggregator/aggregator.py\"><span style=\"color: #7f7f7f\">aggregator.py</span></a><span style=\"color: #7f7f7f\">:456</span>\n",
       "</pre>\n"
      ],
      "text/plain": [
       "<rich.jupyter.JupyterRenderable at 0x7f5e08daa520>"
      ]
     },
     "metadata": {},
     "output_type": "display_data"
    },
    {
     "data": {
      "text/html": [
       "<pre style=\"white-space:pre;overflow-x:auto;line-height:normal;font-family:Menlo,'DejaVu Sans Mono',consolas,'Courier New',monospace\"><span style=\"color: #7fbfbf\">           </span>METRIC   Round <span style=\"color: #000080; font-weight: bold\">2</span>, collaborator two locally_tuned_model_validation result acc:    <span style=\"color: #000080; font-weight: bold\">0.5</span>                                                <a href=\"file:///home/itrushkin/.virtualenvs/openfl/lib/python3.8/site-packages/openfl/component/aggregator/aggregator.py\"><span style=\"color: #7f7f7f\">aggregator.py</span></a><span style=\"color: #7f7f7f\">:494</span>\n",
       "</pre>\n"
      ],
      "text/plain": [
       "<rich.jupyter.JupyterRenderable at 0x7f5e08daa1c0>"
      ]
     },
     "metadata": {},
     "output_type": "display_data"
    },
    {
     "data": {
      "text/html": [
       "<pre style=\"white-space:pre;overflow-x:auto;line-height:normal;font-family:Menlo,'DejaVu Sans Mono',consolas,'Courier New',monospace\"><span style=\"color: #7fbfbf\">           </span>METRIC   Round <span style=\"color: #000080; font-weight: bold\">2</span>, aggregator: locally_tuned_model_validation                                                                        <a href=\"file:///home/itrushkin/.virtualenvs/openfl/lib/python3.8/site-packages/openfl/component/aggregator/aggregator.py\"><span style=\"color: #7f7f7f\">aggregator.py</span></a><span style=\"color: #7f7f7f\">:764</span>\n",
       "                    <span style=\"font-weight: bold\">&lt;</span><span style=\"color: #ff00ff; font-weight: bold\">openfl.component.aggregation_functions.weighted_average.WeightedAverage</span><span style=\"color: #000000\"> object at </span><span style=\"color: #000080; font-weight: bold\">0x7f5e6fb86dc0</span><span style=\"font-weight: bold\">&gt;</span> acc:     <span style=\"color: #000080; font-weight: bold\">0.7297</span>                          \n",
       "</pre>\n"
      ],
      "text/plain": [
       "<rich.jupyter.JupyterRenderable at 0x7f5e08daa730>"
      ]
     },
     "metadata": {},
     "output_type": "display_data"
    },
    {
     "data": {
      "text/html": [
       "<pre style=\"white-space:pre;overflow-x:auto;line-height:normal;font-family:Menlo,'DejaVu Sans Mono',consolas,'Courier New',monospace\"><span style=\"color: #7fbfbf\">           </span>METRIC   Round <span style=\"color: #000080; font-weight: bold\">2</span>, aggregator: aggregated_model_validation <span style=\"font-weight: bold\">&lt;</span><span style=\"color: #ff00ff; font-weight: bold\">openfl.component.aggregation_functions.weighted_average.WeightedAverage</span><span style=\"color: #000000\"> </span> <a href=\"file:///home/itrushkin/.virtualenvs/openfl/lib/python3.8/site-packages/openfl/component/aggregator/aggregator.py\"><span style=\"color: #7f7f7f\">aggregator.py</span></a><span style=\"color: #7f7f7f\">:764</span>\n",
       "                    <span style=\"color: #000000\">object at </span><span style=\"color: #000080; font-weight: bold\">0x7f5e6fb86dc0</span><span style=\"font-weight: bold\">&gt;</span> acc:        <span style=\"color: #000080; font-weight: bold\">0.7297</span>                                                                                                \n",
       "</pre>\n"
      ],
      "text/plain": [
       "<rich.jupyter.JupyterRenderable at 0x7f5e08dc0c10>"
      ]
     },
     "metadata": {},
     "output_type": "display_data"
    },
    {
     "data": {
      "text/html": [
       "<pre style=\"white-space:pre;overflow-x:auto;line-height:normal;font-family:Menlo,'DejaVu Sans Mono',consolas,'Courier New',monospace\"><span style=\"color: #7fbfbf\">           </span>METRIC   Round <span style=\"color: #000080; font-weight: bold\">2</span>: saved the best model with score <span style=\"color: #000080; font-weight: bold\">0.729730</span>                                                                          <a href=\"file:///home/itrushkin/.virtualenvs/openfl/lib/python3.8/site-packages/openfl/component/aggregator/aggregator.py\"><span style=\"color: #7f7f7f\">aggregator.py</span></a><span style=\"color: #7f7f7f\">:779</span>\n",
       "</pre>\n"
      ],
      "text/plain": [
       "<rich.jupyter.JupyterRenderable at 0x7f5e08daa520>"
      ]
     },
     "metadata": {},
     "output_type": "display_data"
    },
    {
     "data": {
      "text/html": [
       "<pre style=\"white-space:pre;overflow-x:auto;line-height:normal;font-family:Menlo,'DejaVu Sans Mono',consolas,'Courier New',monospace\"><span style=\"color: #7fbfbf\">           </span>METRIC   Round <span style=\"color: #000080; font-weight: bold\">2</span>, aggregator: train <span style=\"font-weight: bold\">&lt;</span><span style=\"color: #ff00ff; font-weight: bold\">openfl.component.aggregation_functions.weighted_average.WeightedAverage</span><span style=\"color: #000000\"> object at </span>             <a href=\"file:///home/itrushkin/.virtualenvs/openfl/lib/python3.8/site-packages/openfl/component/aggregator/aggregator.py\"><span style=\"color: #7f7f7f\">aggregator.py</span></a><span style=\"color: #7f7f7f\">:764</span>\n",
       "                    <span style=\"color: #000080; font-weight: bold\">0x7f5e6fb86dc0</span><span style=\"font-weight: bold\">&gt;</span> cross_entropy:    <span style=\"color: #000080; font-weight: bold\">1.4642</span>                                                                                                    \n",
       "</pre>\n"
      ],
      "text/plain": [
       "<rich.jupyter.JupyterRenderable at 0x7f5e08cea970>"
      ]
     },
     "metadata": {},
     "output_type": "display_data"
    },
    {
     "data": {
      "text/html": [
       "<pre style=\"white-space:pre;overflow-x:auto;line-height:normal;font-family:Menlo,'DejaVu Sans Mono',consolas,'Courier New',monospace\"><span style=\"color: #7fbfbf\">[11:10:26] </span><span style=\"color: #000080\">INFO</span>     Saving round <span style=\"color: #000080; font-weight: bold\">3</span> model<span style=\"color: #808000\">...</span>                                                                                                    <a href=\"file:///home/itrushkin/.virtualenvs/openfl/lib/python3.8/site-packages/openfl/component/aggregator/aggregator.py\"><span style=\"color: #7f7f7f\">aggregator.py</span></a><span style=\"color: #7f7f7f\">:813</span>\n",
       "</pre>\n"
      ],
      "text/plain": [
       "<rich.jupyter.JupyterRenderable at 0x7f5e08bc5640>"
      ]
     },
     "metadata": {},
     "output_type": "display_data"
    },
    {
     "data": {
      "text/html": [
       "<pre style=\"white-space:pre;overflow-x:auto;line-height:normal;font-family:Menlo,'DejaVu Sans Mono',consolas,'Courier New',monospace\"><span style=\"color: #7fbfbf\">[11:10:27] </span><span style=\"color: #000080\">INFO</span>     Starting round <span style=\"color: #000080; font-weight: bold\">3</span><span style=\"color: #808000\">...</span>                                                                                                        <a href=\"file:///home/itrushkin/.virtualenvs/openfl/lib/python3.8/site-packages/openfl/component/aggregator/aggregator.py\"><span style=\"color: #7f7f7f\">aggregator.py</span></a><span style=\"color: #7f7f7f\">:820</span>\n",
       "</pre>\n"
      ],
      "text/plain": [
       "<rich.jupyter.JupyterRenderable at 0x7f5e08d2c490>"
      ]
     },
     "metadata": {},
     "output_type": "display_data"
    },
    {
     "data": {
      "text/html": [
       "<pre style=\"white-space:pre;overflow-x:auto;line-height:normal;font-family:Menlo,'DejaVu Sans Mono',consolas,'Courier New',monospace\"><span style=\"color: #7fbfbf\">           </span><span style=\"color: #000080\">INFO</span>     All tasks completed on two for round <span style=\"color: #000080; font-weight: bold\">2</span><span style=\"color: #808000\">...</span>                                                                                <a href=\"file:///home/itrushkin/.virtualenvs/openfl/lib/python3.8/site-packages/openfl/component/collaborator/collaborator.py\"><span style=\"color: #7f7f7f\">collaborator.py</span></a><span style=\"color: #7f7f7f\">:146</span>\n",
       "</pre>\n"
      ],
      "text/plain": [
       "<rich.jupyter.JupyterRenderable at 0x7f5e08d3c6a0>"
      ]
     },
     "metadata": {},
     "output_type": "display_data"
    },
    {
     "data": {
      "text/html": [
       "<pre style=\"white-space:pre;overflow-x:auto;line-height:normal;font-family:Menlo,'DejaVu Sans Mono',consolas,'Courier New',monospace\"><span style=\"color: #7fbfbf\">           </span><span style=\"color: #000080\">INFO</span>     Waiting for tasks<span style=\"color: #808000\">...</span>                                                                                                     <a href=\"file:///home/itrushkin/.virtualenvs/openfl/lib/python3.8/site-packages/openfl/component/collaborator/collaborator.py\"><span style=\"color: #7f7f7f\">collaborator.py</span></a><span style=\"color: #7f7f7f\">:153</span>\n",
       "</pre>\n"
      ],
      "text/plain": [
       "<rich.jupyter.JupyterRenderable at 0x7f5e08975fd0>"
      ]
     },
     "metadata": {},
     "output_type": "display_data"
    },
    {
     "data": {
      "text/html": [
       "<pre style=\"white-space:pre;overflow-x:auto;line-height:normal;font-family:Menlo,'DejaVu Sans Mono',consolas,'Courier New',monospace\"><span style=\"color: #7fbfbf\">           </span><span style=\"color: #000080\">INFO</span>     Sending tasks to collaborator one for round <span style=\"color: #000080; font-weight: bold\">3</span>                                                                              <a href=\"file:///home/itrushkin/.virtualenvs/openfl/lib/python3.8/site-packages/openfl/component/aggregator/aggregator.py\"><span style=\"color: #7f7f7f\">aggregator.py</span></a><span style=\"color: #7f7f7f\">:303</span>\n",
       "</pre>\n"
      ],
      "text/plain": [
       "<rich.jupyter.JupyterRenderable at 0x7f5e08951d30>"
      ]
     },
     "metadata": {},
     "output_type": "display_data"
    },
    {
     "data": {
      "text/html": [
       "<pre style=\"white-space:pre;overflow-x:auto;line-height:normal;font-family:Menlo,'DejaVu Sans Mono',consolas,'Courier New',monospace\"><span style=\"color: #7fbfbf\">           </span><span style=\"color: #000080\">INFO</span>     Received the following tasks: <span style=\"font-weight: bold\">[</span><span style=\"color: #008000\">'aggregated_model_validation'</span>, <span style=\"color: #008000\">'train'</span>, <span style=\"color: #008000\">'locally_tuned_model_validation'</span><span style=\"font-weight: bold\">]</span>                 <a href=\"file:///home/itrushkin/.virtualenvs/openfl/lib/python3.8/site-packages/openfl/component/collaborator/collaborator.py\"><span style=\"color: #7f7f7f\">collaborator.py</span></a><span style=\"color: #7f7f7f\">:143</span>\n",
       "</pre>\n"
      ],
      "text/plain": [
       "<rich.jupyter.JupyterRenderable at 0x7f5e6e137c10>"
      ]
     },
     "metadata": {},
     "output_type": "display_data"
    },
    {
     "data": {
      "text/html": [
       "<pre style=\"white-space:pre;overflow-x:auto;line-height:normal;font-family:Menlo,'DejaVu Sans Mono',consolas,'Courier New',monospace\"><span style=\"color: #7fbfbf\">[11:10:28] </span><span style=\"color: #000080\">INFO</span>     Using TaskRunner subclassing API                                                                                         <a href=\"file:///home/itrushkin/.virtualenvs/openfl/lib/python3.8/site-packages/openfl/component/collaborator/collaborator.py\"><span style=\"color: #7f7f7f\">collaborator.py</span></a><span style=\"color: #7f7f7f\">:203</span>\n",
       "</pre>\n"
      ],
      "text/plain": [
       "<rich.jupyter.JupyterRenderable at 0x7f5e08892c40>"
      ]
     },
     "metadata": {},
     "output_type": "display_data"
    },
    {
     "data": {
      "text/html": [
       "<pre style=\"white-space:pre;overflow-x:auto;line-height:normal;font-family:Menlo,'DejaVu Sans Mono',consolas,'Courier New',monospace\"><span style=\"color: #7fbfbf\">           </span>METRIC   Round <span style=\"color: #000080; font-weight: bold\">3</span>, collaborator one is sending metric for task aggregated_model_validation: acc   <span style=\"color: #000080; font-weight: bold\">0.8148148148148148</span>               <a href=\"file:///home/itrushkin/.virtualenvs/openfl/lib/python3.8/site-packages/openfl/component/collaborator/collaborator.py\"><span style=\"color: #7f7f7f\">collaborator.py</span></a><span style=\"color: #7f7f7f\">:366</span>\n",
       "</pre>\n"
      ],
      "text/plain": [
       "<rich.jupyter.JupyterRenderable at 0x7f5e088fb880>"
      ]
     },
     "metadata": {},
     "output_type": "display_data"
    },
    {
     "data": {
      "text/html": [
       "<pre style=\"white-space:pre;overflow-x:auto;line-height:normal;font-family:Menlo,'DejaVu Sans Mono',consolas,'Courier New',monospace\"><span style=\"color: #7fbfbf\">           </span><span style=\"color: #000080\">INFO</span>     Collaborator one is sending task results for aggregated_model_validation, round <span style=\"color: #000080; font-weight: bold\">3</span>                                          <a href=\"file:///home/itrushkin/.virtualenvs/openfl/lib/python3.8/site-packages/openfl/component/aggregator/aggregator.py\"><span style=\"color: #7f7f7f\">aggregator.py</span></a><span style=\"color: #7f7f7f\">:456</span>\n",
       "</pre>\n"
      ],
      "text/plain": [
       "<rich.jupyter.JupyterRenderable at 0x7f5e088fb790>"
      ]
     },
     "metadata": {},
     "output_type": "display_data"
    },
    {
     "data": {
      "text/html": [
       "<pre style=\"white-space:pre;overflow-x:auto;line-height:normal;font-family:Menlo,'DejaVu Sans Mono',consolas,'Courier New',monospace\"><span style=\"color: #7fbfbf\">           </span>METRIC   Round <span style=\"color: #000080; font-weight: bold\">3</span>, collaborator one aggregated_model_validation result acc:       <span style=\"color: #000080; font-weight: bold\">0.8148148059844971</span>                                 <a href=\"file:///home/itrushkin/.virtualenvs/openfl/lib/python3.8/site-packages/openfl/component/aggregator/aggregator.py\"><span style=\"color: #7f7f7f\">aggregator.py</span></a><span style=\"color: #7f7f7f\">:494</span>\n",
       "</pre>\n"
      ],
      "text/plain": [
       "<rich.jupyter.JupyterRenderable at 0x7f5e08dc0cd0>"
      ]
     },
     "metadata": {},
     "output_type": "display_data"
    },
    {
     "data": {
      "text/html": [
       "<pre style=\"white-space:pre;overflow-x:auto;line-height:normal;font-family:Menlo,'DejaVu Sans Mono',consolas,'Courier New',monospace\"><span style=\"color: #7fbfbf\">[11:10:29] </span><span style=\"color: #000080\">INFO</span>     Using TaskRunner subclassing API                                                                                         <a href=\"file:///home/itrushkin/.virtualenvs/openfl/lib/python3.8/site-packages/openfl/component/collaborator/collaborator.py\"><span style=\"color: #7f7f7f\">collaborator.py</span></a><span style=\"color: #7f7f7f\">:203</span>\n",
       "</pre>\n"
      ],
      "text/plain": [
       "<rich.jupyter.JupyterRenderable at 0x7f5e088b3bb0>"
      ]
     },
     "metadata": {},
     "output_type": "display_data"
    },
    {
     "data": {
      "text/html": [
       "<pre style=\"white-space:pre;overflow-x:auto;line-height:normal;font-family:Menlo,'DejaVu Sans Mono',consolas,'Courier New',monospace\"><span style=\"color: #7fbfbf\">           </span>METRIC   Round <span style=\"color: #000080; font-weight: bold\">3</span>, collaborator one is sending metric for task train: cross_entropy       <span style=\"color: #000080; font-weight: bold\">1.0353612899780273</span>                       <a href=\"file:///home/itrushkin/.virtualenvs/openfl/lib/python3.8/site-packages/openfl/component/collaborator/collaborator.py\"><span style=\"color: #7f7f7f\">collaborator.py</span></a><span style=\"color: #7f7f7f\">:366</span>\n",
       "</pre>\n"
      ],
      "text/plain": [
       "<rich.jupyter.JupyterRenderable at 0x7f5e08893640>"
      ]
     },
     "metadata": {},
     "output_type": "display_data"
    },
    {
     "data": {
      "text/html": [
       "<pre style=\"white-space:pre;overflow-x:auto;line-height:normal;font-family:Menlo,'DejaVu Sans Mono',consolas,'Courier New',monospace\"><span style=\"color: #7fbfbf\">           </span><span style=\"color: #000080\">INFO</span>     Collaborator one is sending task results for train, round <span style=\"color: #000080; font-weight: bold\">3</span>                                                                <a href=\"file:///home/itrushkin/.virtualenvs/openfl/lib/python3.8/site-packages/openfl/component/aggregator/aggregator.py\"><span style=\"color: #7f7f7f\">aggregator.py</span></a><span style=\"color: #7f7f7f\">:456</span>\n",
       "</pre>\n"
      ],
      "text/plain": [
       "<rich.jupyter.JupyterRenderable at 0x7f5e088fbdc0>"
      ]
     },
     "metadata": {},
     "output_type": "display_data"
    },
    {
     "data": {
      "text/html": [
       "<pre style=\"white-space:pre;overflow-x:auto;line-height:normal;font-family:Menlo,'DejaVu Sans Mono',consolas,'Courier New',monospace\"><span style=\"color: #7fbfbf\">           </span>METRIC   Round <span style=\"color: #000080; font-weight: bold\">3</span>, collaborator one train result cross_entropy:   <span style=\"color: #000080; font-weight: bold\">1.0353612899780273</span>                                                 <a href=\"file:///home/itrushkin/.virtualenvs/openfl/lib/python3.8/site-packages/openfl/component/aggregator/aggregator.py\"><span style=\"color: #7f7f7f\">aggregator.py</span></a><span style=\"color: #7f7f7f\">:494</span>\n",
       "</pre>\n"
      ],
      "text/plain": [
       "<rich.jupyter.JupyterRenderable at 0x7f5e08d3caf0>"
      ]
     },
     "metadata": {},
     "output_type": "display_data"
    },
    {
     "data": {
      "text/html": [
       "<pre style=\"white-space:pre;overflow-x:auto;line-height:normal;font-family:Menlo,'DejaVu Sans Mono',consolas,'Courier New',monospace\"><span style=\"color: #7fbfbf\">[11:10:30] </span><span style=\"color: #000080\">INFO</span>     Using TaskRunner subclassing API                                                                                         <a href=\"file:///home/itrushkin/.virtualenvs/openfl/lib/python3.8/site-packages/openfl/component/collaborator/collaborator.py\"><span style=\"color: #7f7f7f\">collaborator.py</span></a><span style=\"color: #7f7f7f\">:203</span>\n",
       "</pre>\n"
      ],
      "text/plain": [
       "<rich.jupyter.JupyterRenderable at 0x7f5e08d2cd60>"
      ]
     },
     "metadata": {},
     "output_type": "display_data"
    },
    {
     "data": {
      "text/html": [
       "<pre style=\"white-space:pre;overflow-x:auto;line-height:normal;font-family:Menlo,'DejaVu Sans Mono',consolas,'Courier New',monospace\"><span style=\"color: #7fbfbf\">           </span>METRIC   Round <span style=\"color: #000080; font-weight: bold\">3</span>, collaborator one is sending metric for task locally_tuned_model_validation: acc        <span style=\"color: #000080; font-weight: bold\">0.8148148148148148</span>       <a href=\"file:///home/itrushkin/.virtualenvs/openfl/lib/python3.8/site-packages/openfl/component/collaborator/collaborator.py\"><span style=\"color: #7f7f7f\">collaborator.py</span></a><span style=\"color: #7f7f7f\">:366</span>\n",
       "</pre>\n"
      ],
      "text/plain": [
       "<rich.jupyter.JupyterRenderable at 0x7f5e088676d0>"
      ]
     },
     "metadata": {},
     "output_type": "display_data"
    },
    {
     "data": {
      "text/html": [
       "<pre style=\"white-space:pre;overflow-x:auto;line-height:normal;font-family:Menlo,'DejaVu Sans Mono',consolas,'Courier New',monospace\"><span style=\"color: #7fbfbf\">           </span><span style=\"color: #000080\">INFO</span>     Collaborator one is sending task results for locally_tuned_model_validation, round <span style=\"color: #000080; font-weight: bold\">3</span>                                       <a href=\"file:///home/itrushkin/.virtualenvs/openfl/lib/python3.8/site-packages/openfl/component/aggregator/aggregator.py\"><span style=\"color: #7f7f7f\">aggregator.py</span></a><span style=\"color: #7f7f7f\">:456</span>\n",
       "</pre>\n"
      ],
      "text/plain": [
       "<rich.jupyter.JupyterRenderable at 0x7f5e08867c40>"
      ]
     },
     "metadata": {},
     "output_type": "display_data"
    },
    {
     "data": {
      "text/html": [
       "<pre style=\"white-space:pre;overflow-x:auto;line-height:normal;font-family:Menlo,'DejaVu Sans Mono',consolas,'Courier New',monospace\"><span style=\"color: #7fbfbf\">           </span>METRIC   Round <span style=\"color: #000080; font-weight: bold\">3</span>, collaborator one locally_tuned_model_validation result acc:    <span style=\"color: #000080; font-weight: bold\">0.8148148059844971</span>                                 <a href=\"file:///home/itrushkin/.virtualenvs/openfl/lib/python3.8/site-packages/openfl/component/aggregator/aggregator.py\"><span style=\"color: #7f7f7f\">aggregator.py</span></a><span style=\"color: #7f7f7f\">:494</span>\n",
       "</pre>\n"
      ],
      "text/plain": [
       "<rich.jupyter.JupyterRenderable at 0x7f5e08867100>"
      ]
     },
     "metadata": {},
     "output_type": "display_data"
    },
    {
     "data": {
      "text/html": [
       "<pre style=\"white-space:pre;overflow-x:auto;line-height:normal;font-family:Menlo,'DejaVu Sans Mono',consolas,'Courier New',monospace\"><span style=\"color: #7fbfbf\">           </span><span style=\"color: #000080\">INFO</span>     All tasks completed on one for round <span style=\"color: #000080; font-weight: bold\">3</span><span style=\"color: #808000\">...</span>                                                                                <a href=\"file:///home/itrushkin/.virtualenvs/openfl/lib/python3.8/site-packages/openfl/component/collaborator/collaborator.py\"><span style=\"color: #7f7f7f\">collaborator.py</span></a><span style=\"color: #7f7f7f\">:146</span>\n",
       "</pre>\n"
      ],
      "text/plain": [
       "<rich.jupyter.JupyterRenderable at 0x7f5e088935e0>"
      ]
     },
     "metadata": {},
     "output_type": "display_data"
    },
    {
     "data": {
      "text/html": [
       "<pre style=\"white-space:pre;overflow-x:auto;line-height:normal;font-family:Menlo,'DejaVu Sans Mono',consolas,'Courier New',monospace\"><span style=\"color: #7fbfbf\">           </span><span style=\"color: #000080\">INFO</span>     Waiting for tasks<span style=\"color: #808000\">...</span>                                                                                                     <a href=\"file:///home/itrushkin/.virtualenvs/openfl/lib/python3.8/site-packages/openfl/component/collaborator/collaborator.py\"><span style=\"color: #7f7f7f\">collaborator.py</span></a><span style=\"color: #7f7f7f\">:153</span>\n",
       "</pre>\n"
      ],
      "text/plain": [
       "<rich.jupyter.JupyterRenderable at 0x7f5e088935e0>"
      ]
     },
     "metadata": {},
     "output_type": "display_data"
    },
    {
     "data": {
      "text/html": [
       "<pre style=\"white-space:pre;overflow-x:auto;line-height:normal;font-family:Menlo,'DejaVu Sans Mono',consolas,'Courier New',monospace\"><span style=\"color: #7fbfbf\">           </span><span style=\"color: #000080\">INFO</span>     Sending tasks to collaborator two for round <span style=\"color: #000080; font-weight: bold\">3</span>                                                                              <a href=\"file:///home/itrushkin/.virtualenvs/openfl/lib/python3.8/site-packages/openfl/component/aggregator/aggregator.py\"><span style=\"color: #7f7f7f\">aggregator.py</span></a><span style=\"color: #7f7f7f\">:303</span>\n",
       "</pre>\n"
      ],
      "text/plain": [
       "<rich.jupyter.JupyterRenderable at 0x7f5e08867580>"
      ]
     },
     "metadata": {},
     "output_type": "display_data"
    },
    {
     "data": {
      "text/html": [
       "<pre style=\"white-space:pre;overflow-x:auto;line-height:normal;font-family:Menlo,'DejaVu Sans Mono',consolas,'Courier New',monospace\"><span style=\"color: #7fbfbf\">           </span><span style=\"color: #000080\">INFO</span>     Received the following tasks: <span style=\"font-weight: bold\">[</span><span style=\"color: #008000\">'aggregated_model_validation'</span>, <span style=\"color: #008000\">'train'</span>, <span style=\"color: #008000\">'locally_tuned_model_validation'</span><span style=\"font-weight: bold\">]</span>                 <a href=\"file:///home/itrushkin/.virtualenvs/openfl/lib/python3.8/site-packages/openfl/component/collaborator/collaborator.py\"><span style=\"color: #7f7f7f\">collaborator.py</span></a><span style=\"color: #7f7f7f\">:143</span>\n",
       "</pre>\n"
      ],
      "text/plain": [
       "<rich.jupyter.JupyterRenderable at 0x7f5e088935e0>"
      ]
     },
     "metadata": {},
     "output_type": "display_data"
    },
    {
     "data": {
      "text/html": [
       "<pre style=\"white-space:pre;overflow-x:auto;line-height:normal;font-family:Menlo,'DejaVu Sans Mono',consolas,'Courier New',monospace\"><span style=\"color: #7fbfbf\">[11:10:32] </span><span style=\"color: #000080\">INFO</span>     Using TaskRunner subclassing API                                                                                         <a href=\"file:///home/itrushkin/.virtualenvs/openfl/lib/python3.8/site-packages/openfl/component/collaborator/collaborator.py\"><span style=\"color: #7f7f7f\">collaborator.py</span></a><span style=\"color: #7f7f7f\">:203</span>\n",
       "</pre>\n"
      ],
      "text/plain": [
       "<rich.jupyter.JupyterRenderable at 0x7f5e08cccd00>"
      ]
     },
     "metadata": {},
     "output_type": "display_data"
    },
    {
     "data": {
      "text/html": [
       "<pre style=\"white-space:pre;overflow-x:auto;line-height:normal;font-family:Menlo,'DejaVu Sans Mono',consolas,'Courier New',monospace\"><span style=\"color: #7fbfbf\">           </span>METRIC   Round <span style=\"color: #000080; font-weight: bold\">3</span>, collaborator two is sending metric for task aggregated_model_validation: acc   <span style=\"color: #000080; font-weight: bold\">0.5</span>                              <a href=\"file:///home/itrushkin/.virtualenvs/openfl/lib/python3.8/site-packages/openfl/component/collaborator/collaborator.py\"><span style=\"color: #7f7f7f\">collaborator.py</span></a><span style=\"color: #7f7f7f\">:366</span>\n",
       "</pre>\n"
      ],
      "text/plain": [
       "<rich.jupyter.JupyterRenderable at 0x7f5e08892a00>"
      ]
     },
     "metadata": {},
     "output_type": "display_data"
    },
    {
     "data": {
      "text/html": [
       "<pre style=\"white-space:pre;overflow-x:auto;line-height:normal;font-family:Menlo,'DejaVu Sans Mono',consolas,'Courier New',monospace\"><span style=\"color: #7fbfbf\">           </span><span style=\"color: #000080\">INFO</span>     Collaborator two is sending task results for aggregated_model_validation, round <span style=\"color: #000080; font-weight: bold\">3</span>                                          <a href=\"file:///home/itrushkin/.virtualenvs/openfl/lib/python3.8/site-packages/openfl/component/aggregator/aggregator.py\"><span style=\"color: #7f7f7f\">aggregator.py</span></a><span style=\"color: #7f7f7f\">:456</span>\n",
       "</pre>\n"
      ],
      "text/plain": [
       "<rich.jupyter.JupyterRenderable at 0x7f5e08cd67f0>"
      ]
     },
     "metadata": {},
     "output_type": "display_data"
    },
    {
     "data": {
      "text/html": [
       "<pre style=\"white-space:pre;overflow-x:auto;line-height:normal;font-family:Menlo,'DejaVu Sans Mono',consolas,'Courier New',monospace\"><span style=\"color: #7fbfbf\">           </span>METRIC   Round <span style=\"color: #000080; font-weight: bold\">3</span>, collaborator two aggregated_model_validation result acc:       <span style=\"color: #000080; font-weight: bold\">0.5</span>                                                <a href=\"file:///home/itrushkin/.virtualenvs/openfl/lib/python3.8/site-packages/openfl/component/aggregator/aggregator.py\"><span style=\"color: #7f7f7f\">aggregator.py</span></a><span style=\"color: #7f7f7f\">:494</span>\n",
       "</pre>\n"
      ],
      "text/plain": [
       "<rich.jupyter.JupyterRenderable at 0x7f5e08cd67f0>"
      ]
     },
     "metadata": {},
     "output_type": "display_data"
    },
    {
     "data": {
      "text/html": [
       "<pre style=\"white-space:pre;overflow-x:auto;line-height:normal;font-family:Menlo,'DejaVu Sans Mono',consolas,'Courier New',monospace\"><span style=\"color: #7fbfbf\">           </span><span style=\"color: #000080\">INFO</span>     Using TaskRunner subclassing API                                                                                         <a href=\"file:///home/itrushkin/.virtualenvs/openfl/lib/python3.8/site-packages/openfl/component/collaborator/collaborator.py\"><span style=\"color: #7f7f7f\">collaborator.py</span></a><span style=\"color: #7f7f7f\">:203</span>\n",
       "</pre>\n"
      ],
      "text/plain": [
       "<rich.jupyter.JupyterRenderable at 0x7f5e08867ca0>"
      ]
     },
     "metadata": {},
     "output_type": "display_data"
    },
    {
     "data": {
      "text/html": [
       "<pre style=\"white-space:pre;overflow-x:auto;line-height:normal;font-family:Menlo,'DejaVu Sans Mono',consolas,'Courier New',monospace\"><span style=\"color: #7fbfbf\">           </span>METRIC   Round <span style=\"color: #000080; font-weight: bold\">3</span>, collaborator two is sending metric for task train: cross_entropy       <span style=\"color: #000080; font-weight: bold\">4.068572521209717</span>                        <a href=\"file:///home/itrushkin/.virtualenvs/openfl/lib/python3.8/site-packages/openfl/component/collaborator/collaborator.py\"><span style=\"color: #7f7f7f\">collaborator.py</span></a><span style=\"color: #7f7f7f\">:366</span>\n",
       "</pre>\n"
      ],
      "text/plain": [
       "<rich.jupyter.JupyterRenderable at 0x7f5e08cfb190>"
      ]
     },
     "metadata": {},
     "output_type": "display_data"
    },
    {
     "data": {
      "text/html": [
       "<pre style=\"white-space:pre;overflow-x:auto;line-height:normal;font-family:Menlo,'DejaVu Sans Mono',consolas,'Courier New',monospace\"><span style=\"color: #7fbfbf\">           </span><span style=\"color: #000080\">INFO</span>     Collaborator two is sending task results for train, round <span style=\"color: #000080; font-weight: bold\">3</span>                                                                <a href=\"file:///home/itrushkin/.virtualenvs/openfl/lib/python3.8/site-packages/openfl/component/aggregator/aggregator.py\"><span style=\"color: #7f7f7f\">aggregator.py</span></a><span style=\"color: #7f7f7f\">:456</span>\n",
       "</pre>\n"
      ],
      "text/plain": [
       "<rich.jupyter.JupyterRenderable at 0x7f5e08cfbd90>"
      ]
     },
     "metadata": {},
     "output_type": "display_data"
    },
    {
     "data": {
      "text/html": [
       "<pre style=\"white-space:pre;overflow-x:auto;line-height:normal;font-family:Menlo,'DejaVu Sans Mono',consolas,'Courier New',monospace\"><span style=\"color: #7fbfbf\">           </span>METRIC   Round <span style=\"color: #000080; font-weight: bold\">3</span>, collaborator two train result cross_entropy:   <span style=\"color: #000080; font-weight: bold\">4.068572521209717</span>                                                  <a href=\"file:///home/itrushkin/.virtualenvs/openfl/lib/python3.8/site-packages/openfl/component/aggregator/aggregator.py\"><span style=\"color: #7f7f7f\">aggregator.py</span></a><span style=\"color: #7f7f7f\">:494</span>\n",
       "</pre>\n"
      ],
      "text/plain": [
       "<rich.jupyter.JupyterRenderable at 0x7f5e08cfb3d0>"
      ]
     },
     "metadata": {},
     "output_type": "display_data"
    },
    {
     "data": {
      "text/html": [
       "<pre style=\"white-space:pre;overflow-x:auto;line-height:normal;font-family:Menlo,'DejaVu Sans Mono',consolas,'Courier New',monospace\"><span style=\"color: #7fbfbf\">[11:10:33] </span><span style=\"color: #000080\">INFO</span>     Using TaskRunner subclassing API                                                                                         <a href=\"file:///home/itrushkin/.virtualenvs/openfl/lib/python3.8/site-packages/openfl/component/collaborator/collaborator.py\"><span style=\"color: #7f7f7f\">collaborator.py</span></a><span style=\"color: #7f7f7f\">:203</span>\n",
       "</pre>\n"
      ],
      "text/plain": [
       "<rich.jupyter.JupyterRenderable at 0x7f5e08892a00>"
      ]
     },
     "metadata": {},
     "output_type": "display_data"
    },
    {
     "data": {
      "text/html": [
       "<pre style=\"white-space:pre;overflow-x:auto;line-height:normal;font-family:Menlo,'DejaVu Sans Mono',consolas,'Courier New',monospace\"><span style=\"color: #7fbfbf\">           </span>METRIC   Round <span style=\"color: #000080; font-weight: bold\">3</span>, collaborator two is sending metric for task locally_tuned_model_validation: acc        <span style=\"color: #000080; font-weight: bold\">0.5</span>                      <a href=\"file:///home/itrushkin/.virtualenvs/openfl/lib/python3.8/site-packages/openfl/component/collaborator/collaborator.py\"><span style=\"color: #7f7f7f\">collaborator.py</span></a><span style=\"color: #7f7f7f\">:366</span>\n",
       "</pre>\n"
      ],
      "text/plain": [
       "<rich.jupyter.JupyterRenderable at 0x7f5e08cfb490>"
      ]
     },
     "metadata": {},
     "output_type": "display_data"
    },
    {
     "data": {
      "text/html": [
       "<pre style=\"white-space:pre;overflow-x:auto;line-height:normal;font-family:Menlo,'DejaVu Sans Mono',consolas,'Courier New',monospace\"><span style=\"color: #7fbfbf\">           </span><span style=\"color: #000080\">INFO</span>     Collaborator two is sending task results for locally_tuned_model_validation, round <span style=\"color: #000080; font-weight: bold\">3</span>                                       <a href=\"file:///home/itrushkin/.virtualenvs/openfl/lib/python3.8/site-packages/openfl/component/aggregator/aggregator.py\"><span style=\"color: #7f7f7f\">aggregator.py</span></a><span style=\"color: #7f7f7f\">:456</span>\n",
       "</pre>\n"
      ],
      "text/plain": [
       "<rich.jupyter.JupyterRenderable at 0x7f5e08cfb430>"
      ]
     },
     "metadata": {},
     "output_type": "display_data"
    },
    {
     "data": {
      "text/html": [
       "<pre style=\"white-space:pre;overflow-x:auto;line-height:normal;font-family:Menlo,'DejaVu Sans Mono',consolas,'Courier New',monospace\"><span style=\"color: #7fbfbf\">           </span>METRIC   Round <span style=\"color: #000080; font-weight: bold\">3</span>, collaborator two locally_tuned_model_validation result acc:    <span style=\"color: #000080; font-weight: bold\">0.5</span>                                                <a href=\"file:///home/itrushkin/.virtualenvs/openfl/lib/python3.8/site-packages/openfl/component/aggregator/aggregator.py\"><span style=\"color: #7f7f7f\">aggregator.py</span></a><span style=\"color: #7f7f7f\">:494</span>\n",
       "</pre>\n"
      ],
      "text/plain": [
       "<rich.jupyter.JupyterRenderable at 0x7f5e08cfba90>"
      ]
     },
     "metadata": {},
     "output_type": "display_data"
    },
    {
     "data": {
      "text/html": [
       "<pre style=\"white-space:pre;overflow-x:auto;line-height:normal;font-family:Menlo,'DejaVu Sans Mono',consolas,'Courier New',monospace\"><span style=\"color: #7fbfbf\">           </span>METRIC   Round <span style=\"color: #000080; font-weight: bold\">3</span>, aggregator: locally_tuned_model_validation                                                                        <a href=\"file:///home/itrushkin/.virtualenvs/openfl/lib/python3.8/site-packages/openfl/component/aggregator/aggregator.py\"><span style=\"color: #7f7f7f\">aggregator.py</span></a><span style=\"color: #7f7f7f\">:764</span>\n",
       "                    <span style=\"font-weight: bold\">&lt;</span><span style=\"color: #ff00ff; font-weight: bold\">openfl.component.aggregation_functions.weighted_average.WeightedAverage</span><span style=\"color: #000000\"> object at </span><span style=\"color: #000080; font-weight: bold\">0x7f5e6fb86dc0</span><span style=\"font-weight: bold\">&gt;</span> acc:     <span style=\"color: #000080; font-weight: bold\">0.7297</span>                          \n",
       "</pre>\n"
      ],
      "text/plain": [
       "<rich.jupyter.JupyterRenderable at 0x7f5e08cfb9d0>"
      ]
     },
     "metadata": {},
     "output_type": "display_data"
    },
    {
     "data": {
      "text/html": [
       "<pre style=\"white-space:pre;overflow-x:auto;line-height:normal;font-family:Menlo,'DejaVu Sans Mono',consolas,'Courier New',monospace\"><span style=\"color: #7fbfbf\">           </span>METRIC   Round <span style=\"color: #000080; font-weight: bold\">3</span>, aggregator: aggregated_model_validation <span style=\"font-weight: bold\">&lt;</span><span style=\"color: #ff00ff; font-weight: bold\">openfl.component.aggregation_functions.weighted_average.WeightedAverage</span><span style=\"color: #000000\"> </span> <a href=\"file:///home/itrushkin/.virtualenvs/openfl/lib/python3.8/site-packages/openfl/component/aggregator/aggregator.py\"><span style=\"color: #7f7f7f\">aggregator.py</span></a><span style=\"color: #7f7f7f\">:764</span>\n",
       "                    <span style=\"color: #000000\">object at </span><span style=\"color: #000080; font-weight: bold\">0x7f5e6fb86dc0</span><span style=\"font-weight: bold\">&gt;</span> acc:        <span style=\"color: #000080; font-weight: bold\">0.7297</span>                                                                                                \n",
       "</pre>\n"
      ],
      "text/plain": [
       "<rich.jupyter.JupyterRenderable at 0x7f5e08cfbd00>"
      ]
     },
     "metadata": {},
     "output_type": "display_data"
    },
    {
     "data": {
      "text/html": [
       "<pre style=\"white-space:pre;overflow-x:auto;line-height:normal;font-family:Menlo,'DejaVu Sans Mono',consolas,'Courier New',monospace\"><span style=\"color: #7fbfbf\">           </span>METRIC   Round <span style=\"color: #000080; font-weight: bold\">3</span>, aggregator: train <span style=\"font-weight: bold\">&lt;</span><span style=\"color: #ff00ff; font-weight: bold\">openfl.component.aggregation_functions.weighted_average.WeightedAverage</span><span style=\"color: #000000\"> object at </span>             <a href=\"file:///home/itrushkin/.virtualenvs/openfl/lib/python3.8/site-packages/openfl/component/aggregator/aggregator.py\"><span style=\"color: #7f7f7f\">aggregator.py</span></a><span style=\"color: #7f7f7f\">:764</span>\n",
       "                    <span style=\"color: #000080; font-weight: bold\">0x7f5e6fb86dc0</span><span style=\"font-weight: bold\">&gt;</span> cross_entropy:    <span style=\"color: #000080; font-weight: bold\">1.1021</span>                                                                                                    \n",
       "</pre>\n"
      ],
      "text/plain": [
       "<rich.jupyter.JupyterRenderable at 0x7f5e08cccc40>"
      ]
     },
     "metadata": {},
     "output_type": "display_data"
    },
    {
     "data": {
      "text/html": [
       "<pre style=\"white-space:pre;overflow-x:auto;line-height:normal;font-family:Menlo,'DejaVu Sans Mono',consolas,'Courier New',monospace\"><span style=\"color: #7fbfbf\">[11:10:37] </span><span style=\"color: #000080\">INFO</span>     Saving round <span style=\"color: #000080; font-weight: bold\">4</span> model<span style=\"color: #808000\">...</span>                                                                                                    <a href=\"file:///home/itrushkin/.virtualenvs/openfl/lib/python3.8/site-packages/openfl/component/aggregator/aggregator.py\"><span style=\"color: #7f7f7f\">aggregator.py</span></a><span style=\"color: #7f7f7f\">:813</span>\n",
       "</pre>\n"
      ],
      "text/plain": [
       "<rich.jupyter.JupyterRenderable at 0x7f5e08cfb7c0>"
      ]
     },
     "metadata": {},
     "output_type": "display_data"
    },
    {
     "data": {
      "text/html": [
       "<pre style=\"white-space:pre;overflow-x:auto;line-height:normal;font-family:Menlo,'DejaVu Sans Mono',consolas,'Courier New',monospace\"><span style=\"color: #7fbfbf\">           </span><span style=\"color: #000080\">INFO</span>     Starting round <span style=\"color: #000080; font-weight: bold\">4</span><span style=\"color: #808000\">...</span>                                                                                                        <a href=\"file:///home/itrushkin/.virtualenvs/openfl/lib/python3.8/site-packages/openfl/component/aggregator/aggregator.py\"><span style=\"color: #7f7f7f\">aggregator.py</span></a><span style=\"color: #7f7f7f\">:820</span>\n",
       "</pre>\n"
      ],
      "text/plain": [
       "<rich.jupyter.JupyterRenderable at 0x7f5e08700f10>"
      ]
     },
     "metadata": {},
     "output_type": "display_data"
    },
    {
     "data": {
      "text/html": [
       "<pre style=\"white-space:pre;overflow-x:auto;line-height:normal;font-family:Menlo,'DejaVu Sans Mono',consolas,'Courier New',monospace\"><span style=\"color: #7fbfbf\">           </span><span style=\"color: #000080\">INFO</span>     All tasks completed on two for round <span style=\"color: #000080; font-weight: bold\">3</span><span style=\"color: #808000\">...</span>                                                                                <a href=\"file:///home/itrushkin/.virtualenvs/openfl/lib/python3.8/site-packages/openfl/component/collaborator/collaborator.py\"><span style=\"color: #7f7f7f\">collaborator.py</span></a><span style=\"color: #7f7f7f\">:146</span>\n",
       "</pre>\n"
      ],
      "text/plain": [
       "<rich.jupyter.JupyterRenderable at 0x7f5e088caf40>"
      ]
     },
     "metadata": {},
     "output_type": "display_data"
    },
    {
     "data": {
      "text/html": [
       "<pre style=\"white-space:pre;overflow-x:auto;line-height:normal;font-family:Menlo,'DejaVu Sans Mono',consolas,'Courier New',monospace\"><span style=\"color: #7fbfbf\">           </span><span style=\"color: #000080\">INFO</span>     Waiting for tasks<span style=\"color: #808000\">...</span>                                                                                                     <a href=\"file:///home/itrushkin/.virtualenvs/openfl/lib/python3.8/site-packages/openfl/component/collaborator/collaborator.py\"><span style=\"color: #7f7f7f\">collaborator.py</span></a><span style=\"color: #7f7f7f\">:153</span>\n",
       "</pre>\n"
      ],
      "text/plain": [
       "<rich.jupyter.JupyterRenderable at 0x7f5e088fb8b0>"
      ]
     },
     "metadata": {},
     "output_type": "display_data"
    },
    {
     "data": {
      "text/html": [
       "<pre style=\"white-space:pre;overflow-x:auto;line-height:normal;font-family:Menlo,'DejaVu Sans Mono',consolas,'Courier New',monospace\"><span style=\"color: #7fbfbf\">           </span><span style=\"color: #000080\">INFO</span>     Sending tasks to collaborator one for round <span style=\"color: #000080; font-weight: bold\">4</span>                                                                              <a href=\"file:///home/itrushkin/.virtualenvs/openfl/lib/python3.8/site-packages/openfl/component/aggregator/aggregator.py\"><span style=\"color: #7f7f7f\">aggregator.py</span></a><span style=\"color: #7f7f7f\">:303</span>\n",
       "</pre>\n"
      ],
      "text/plain": [
       "<rich.jupyter.JupyterRenderable at 0x7f5e088b3b20>"
      ]
     },
     "metadata": {},
     "output_type": "display_data"
    },
    {
     "data": {
      "text/html": [
       "<pre style=\"white-space:pre;overflow-x:auto;line-height:normal;font-family:Menlo,'DejaVu Sans Mono',consolas,'Courier New',monospace\"><span style=\"color: #7fbfbf\">           </span><span style=\"color: #000080\">INFO</span>     Received the following tasks: <span style=\"font-weight: bold\">[</span><span style=\"color: #008000\">'aggregated_model_validation'</span>, <span style=\"color: #008000\">'train'</span>, <span style=\"color: #008000\">'locally_tuned_model_validation'</span><span style=\"font-weight: bold\">]</span>                 <a href=\"file:///home/itrushkin/.virtualenvs/openfl/lib/python3.8/site-packages/openfl/component/collaborator/collaborator.py\"><span style=\"color: #7f7f7f\">collaborator.py</span></a><span style=\"color: #7f7f7f\">:143</span>\n",
       "</pre>\n"
      ],
      "text/plain": [
       "<rich.jupyter.JupyterRenderable at 0x7f5e08bea220>"
      ]
     },
     "metadata": {},
     "output_type": "display_data"
    },
    {
     "data": {
      "text/html": [
       "<pre style=\"white-space:pre;overflow-x:auto;line-height:normal;font-family:Menlo,'DejaVu Sans Mono',consolas,'Courier New',monospace\"><span style=\"color: #7fbfbf\">[11:10:39] </span><span style=\"color: #000080\">INFO</span>     Using TaskRunner subclassing API                                                                                         <a href=\"file:///home/itrushkin/.virtualenvs/openfl/lib/python3.8/site-packages/openfl/component/collaborator/collaborator.py\"><span style=\"color: #7f7f7f\">collaborator.py</span></a><span style=\"color: #7f7f7f\">:203</span>\n",
       "</pre>\n"
      ],
      "text/plain": [
       "<rich.jupyter.JupyterRenderable at 0x7f5e088a8e80>"
      ]
     },
     "metadata": {},
     "output_type": "display_data"
    },
    {
     "data": {
      "text/html": [
       "<pre style=\"white-space:pre;overflow-x:auto;line-height:normal;font-family:Menlo,'DejaVu Sans Mono',consolas,'Courier New',monospace\"><span style=\"color: #7fbfbf\">           </span>METRIC   Round <span style=\"color: #000080; font-weight: bold\">4</span>, collaborator one is sending metric for task aggregated_model_validation: acc   <span style=\"color: #000080; font-weight: bold\">0.8148148148148148</span>               <a href=\"file:///home/itrushkin/.virtualenvs/openfl/lib/python3.8/site-packages/openfl/component/collaborator/collaborator.py\"><span style=\"color: #7f7f7f\">collaborator.py</span></a><span style=\"color: #7f7f7f\">:366</span>\n",
       "</pre>\n"
      ],
      "text/plain": [
       "<rich.jupyter.JupyterRenderable at 0x7f5e08d83e20>"
      ]
     },
     "metadata": {},
     "output_type": "display_data"
    },
    {
     "data": {
      "text/html": [
       "<pre style=\"white-space:pre;overflow-x:auto;line-height:normal;font-family:Menlo,'DejaVu Sans Mono',consolas,'Courier New',monospace\"><span style=\"color: #7fbfbf\">           </span><span style=\"color: #000080\">INFO</span>     Collaborator one is sending task results for aggregated_model_validation, round <span style=\"color: #000080; font-weight: bold\">4</span>                                          <a href=\"file:///home/itrushkin/.virtualenvs/openfl/lib/python3.8/site-packages/openfl/component/aggregator/aggregator.py\"><span style=\"color: #7f7f7f\">aggregator.py</span></a><span style=\"color: #7f7f7f\">:456</span>\n",
       "</pre>\n"
      ],
      "text/plain": [
       "<rich.jupyter.JupyterRenderable at 0x7f5e08892a00>"
      ]
     },
     "metadata": {},
     "output_type": "display_data"
    },
    {
     "data": {
      "text/html": [
       "<pre style=\"white-space:pre;overflow-x:auto;line-height:normal;font-family:Menlo,'DejaVu Sans Mono',consolas,'Courier New',monospace\"><span style=\"color: #7fbfbf\">           </span>METRIC   Round <span style=\"color: #000080; font-weight: bold\">4</span>, collaborator one aggregated_model_validation result acc:       <span style=\"color: #000080; font-weight: bold\">0.8148148059844971</span>                                 <a href=\"file:///home/itrushkin/.virtualenvs/openfl/lib/python3.8/site-packages/openfl/component/aggregator/aggregator.py\"><span style=\"color: #7f7f7f\">aggregator.py</span></a><span style=\"color: #7f7f7f\">:494</span>\n",
       "</pre>\n"
      ],
      "text/plain": [
       "<rich.jupyter.JupyterRenderable at 0x7f5e088caf40>"
      ]
     },
     "metadata": {},
     "output_type": "display_data"
    },
    {
     "data": {
      "text/html": [
       "<pre style=\"white-space:pre;overflow-x:auto;line-height:normal;font-family:Menlo,'DejaVu Sans Mono',consolas,'Courier New',monospace\"><span style=\"color: #7fbfbf\">           </span><span style=\"color: #000080\">INFO</span>     Using TaskRunner subclassing API                                                                                         <a href=\"file:///home/itrushkin/.virtualenvs/openfl/lib/python3.8/site-packages/openfl/component/collaborator/collaborator.py\"><span style=\"color: #7f7f7f\">collaborator.py</span></a><span style=\"color: #7f7f7f\">:203</span>\n",
       "</pre>\n"
      ],
      "text/plain": [
       "<rich.jupyter.JupyterRenderable at 0x7f5e08893e50>"
      ]
     },
     "metadata": {},
     "output_type": "display_data"
    },
    {
     "data": {
      "text/html": [
       "<pre style=\"white-space:pre;overflow-x:auto;line-height:normal;font-family:Menlo,'DejaVu Sans Mono',consolas,'Courier New',monospace\"><span style=\"color: #7fbfbf\">[11:10:40] </span>METRIC   Round <span style=\"color: #000080; font-weight: bold\">4</span>, collaborator one is sending metric for task train: cross_entropy       <span style=\"color: #000080; font-weight: bold\">0.8490225076675415</span>                       <a href=\"file:///home/itrushkin/.virtualenvs/openfl/lib/python3.8/site-packages/openfl/component/collaborator/collaborator.py\"><span style=\"color: #7f7f7f\">collaborator.py</span></a><span style=\"color: #7f7f7f\">:366</span>\n",
       "</pre>\n"
      ],
      "text/plain": [
       "<rich.jupyter.JupyterRenderable at 0x7f5e08700070>"
      ]
     },
     "metadata": {},
     "output_type": "display_data"
    },
    {
     "data": {
      "text/html": [
       "<pre style=\"white-space:pre;overflow-x:auto;line-height:normal;font-family:Menlo,'DejaVu Sans Mono',consolas,'Courier New',monospace\"><span style=\"color: #7fbfbf\">           </span><span style=\"color: #000080\">INFO</span>     Collaborator one is sending task results for train, round <span style=\"color: #000080; font-weight: bold\">4</span>                                                                <a href=\"file:///home/itrushkin/.virtualenvs/openfl/lib/python3.8/site-packages/openfl/component/aggregator/aggregator.py\"><span style=\"color: #7f7f7f\">aggregator.py</span></a><span style=\"color: #7f7f7f\">:456</span>\n",
       "</pre>\n"
      ],
      "text/plain": [
       "<rich.jupyter.JupyterRenderable at 0x7f5e08700190>"
      ]
     },
     "metadata": {},
     "output_type": "display_data"
    },
    {
     "data": {
      "text/html": [
       "<pre style=\"white-space:pre;overflow-x:auto;line-height:normal;font-family:Menlo,'DejaVu Sans Mono',consolas,'Courier New',monospace\"><span style=\"color: #7fbfbf\">           </span>METRIC   Round <span style=\"color: #000080; font-weight: bold\">4</span>, collaborator one train result cross_entropy:   <span style=\"color: #000080; font-weight: bold\">0.8490225076675415</span>                                                 <a href=\"file:///home/itrushkin/.virtualenvs/openfl/lib/python3.8/site-packages/openfl/component/aggregator/aggregator.py\"><span style=\"color: #7f7f7f\">aggregator.py</span></a><span style=\"color: #7f7f7f\">:494</span>\n",
       "</pre>\n"
      ],
      "text/plain": [
       "<rich.jupyter.JupyterRenderable at 0x7f5e08700220>"
      ]
     },
     "metadata": {},
     "output_type": "display_data"
    },
    {
     "data": {
      "text/html": [
       "<pre style=\"white-space:pre;overflow-x:auto;line-height:normal;font-family:Menlo,'DejaVu Sans Mono',consolas,'Courier New',monospace\"><span style=\"color: #7fbfbf\">[11:10:41] </span><span style=\"color: #000080\">INFO</span>     Using TaskRunner subclassing API                                                                                         <a href=\"file:///home/itrushkin/.virtualenvs/openfl/lib/python3.8/site-packages/openfl/component/collaborator/collaborator.py\"><span style=\"color: #7f7f7f\">collaborator.py</span></a><span style=\"color: #7f7f7f\">:203</span>\n",
       "</pre>\n"
      ],
      "text/plain": [
       "<rich.jupyter.JupyterRenderable at 0x7f5e08867760>"
      ]
     },
     "metadata": {},
     "output_type": "display_data"
    },
    {
     "data": {
      "text/html": [
       "<pre style=\"white-space:pre;overflow-x:auto;line-height:normal;font-family:Menlo,'DejaVu Sans Mono',consolas,'Courier New',monospace\"><span style=\"color: #7fbfbf\">           </span>METRIC   Round <span style=\"color: #000080; font-weight: bold\">4</span>, collaborator one is sending metric for task locally_tuned_model_validation: acc        <span style=\"color: #000080; font-weight: bold\">0.8148148148148148</span>       <a href=\"file:///home/itrushkin/.virtualenvs/openfl/lib/python3.8/site-packages/openfl/component/collaborator/collaborator.py\"><span style=\"color: #7f7f7f\">collaborator.py</span></a><span style=\"color: #7f7f7f\">:366</span>\n",
       "</pre>\n"
      ],
      "text/plain": [
       "<rich.jupyter.JupyterRenderable at 0x7f5e08d83370>"
      ]
     },
     "metadata": {},
     "output_type": "display_data"
    },
    {
     "data": {
      "text/html": [
       "<pre style=\"white-space:pre;overflow-x:auto;line-height:normal;font-family:Menlo,'DejaVu Sans Mono',consolas,'Courier New',monospace\"><span style=\"color: #7fbfbf\">           </span><span style=\"color: #000080\">INFO</span>     Collaborator one is sending task results for locally_tuned_model_validation, round <span style=\"color: #000080; font-weight: bold\">4</span>                                       <a href=\"file:///home/itrushkin/.virtualenvs/openfl/lib/python3.8/site-packages/openfl/component/aggregator/aggregator.py\"><span style=\"color: #7f7f7f\">aggregator.py</span></a><span style=\"color: #7f7f7f\">:456</span>\n",
       "</pre>\n"
      ],
      "text/plain": [
       "<rich.jupyter.JupyterRenderable at 0x7f5e08d83370>"
      ]
     },
     "metadata": {},
     "output_type": "display_data"
    },
    {
     "data": {
      "text/html": [
       "<pre style=\"white-space:pre;overflow-x:auto;line-height:normal;font-family:Menlo,'DejaVu Sans Mono',consolas,'Courier New',monospace\"><span style=\"color: #7fbfbf\">           </span>METRIC   Round <span style=\"color: #000080; font-weight: bold\">4</span>, collaborator one locally_tuned_model_validation result acc:    <span style=\"color: #000080; font-weight: bold\">0.8148148059844971</span>                                 <a href=\"file:///home/itrushkin/.virtualenvs/openfl/lib/python3.8/site-packages/openfl/component/aggregator/aggregator.py\"><span style=\"color: #7f7f7f\">aggregator.py</span></a><span style=\"color: #7f7f7f\">:494</span>\n",
       "</pre>\n"
      ],
      "text/plain": [
       "<rich.jupyter.JupyterRenderable at 0x7f5e086c9d00>"
      ]
     },
     "metadata": {},
     "output_type": "display_data"
    },
    {
     "data": {
      "text/html": [
       "<pre style=\"white-space:pre;overflow-x:auto;line-height:normal;font-family:Menlo,'DejaVu Sans Mono',consolas,'Courier New',monospace\"><span style=\"color: #7fbfbf\">           </span><span style=\"color: #000080\">INFO</span>     All tasks completed on one for round <span style=\"color: #000080; font-weight: bold\">4</span><span style=\"color: #808000\">...</span>                                                                                <a href=\"file:///home/itrushkin/.virtualenvs/openfl/lib/python3.8/site-packages/openfl/component/collaborator/collaborator.py\"><span style=\"color: #7f7f7f\">collaborator.py</span></a><span style=\"color: #7f7f7f\">:146</span>\n",
       "</pre>\n"
      ],
      "text/plain": [
       "<rich.jupyter.JupyterRenderable at 0x7f5e08700790>"
      ]
     },
     "metadata": {},
     "output_type": "display_data"
    },
    {
     "data": {
      "text/html": [
       "<pre style=\"white-space:pre;overflow-x:auto;line-height:normal;font-family:Menlo,'DejaVu Sans Mono',consolas,'Courier New',monospace\"><span style=\"color: #7fbfbf\">           </span><span style=\"color: #000080\">INFO</span>     Waiting for tasks<span style=\"color: #808000\">...</span>                                                                                                     <a href=\"file:///home/itrushkin/.virtualenvs/openfl/lib/python3.8/site-packages/openfl/component/collaborator/collaborator.py\"><span style=\"color: #7f7f7f\">collaborator.py</span></a><span style=\"color: #7f7f7f\">:153</span>\n",
       "</pre>\n"
      ],
      "text/plain": [
       "<rich.jupyter.JupyterRenderable at 0x7f5e08700d60>"
      ]
     },
     "metadata": {},
     "output_type": "display_data"
    },
    {
     "data": {
      "text/html": [
       "<pre style=\"white-space:pre;overflow-x:auto;line-height:normal;font-family:Menlo,'DejaVu Sans Mono',consolas,'Courier New',monospace\"><span style=\"color: #7fbfbf\">           </span><span style=\"color: #000080\">INFO</span>     Sending tasks to collaborator two for round <span style=\"color: #000080; font-weight: bold\">4</span>                                                                              <a href=\"file:///home/itrushkin/.virtualenvs/openfl/lib/python3.8/site-packages/openfl/component/aggregator/aggregator.py\"><span style=\"color: #7f7f7f\">aggregator.py</span></a><span style=\"color: #7f7f7f\">:303</span>\n",
       "</pre>\n"
      ],
      "text/plain": [
       "<rich.jupyter.JupyterRenderable at 0x7f5e08700340>"
      ]
     },
     "metadata": {},
     "output_type": "display_data"
    },
    {
     "data": {
      "text/html": [
       "<pre style=\"white-space:pre;overflow-x:auto;line-height:normal;font-family:Menlo,'DejaVu Sans Mono',consolas,'Courier New',monospace\"><span style=\"color: #7fbfbf\">           </span><span style=\"color: #000080\">INFO</span>     Received the following tasks: <span style=\"font-weight: bold\">[</span><span style=\"color: #008000\">'aggregated_model_validation'</span>, <span style=\"color: #008000\">'train'</span>, <span style=\"color: #008000\">'locally_tuned_model_validation'</span><span style=\"font-weight: bold\">]</span>                 <a href=\"file:///home/itrushkin/.virtualenvs/openfl/lib/python3.8/site-packages/openfl/component/collaborator/collaborator.py\"><span style=\"color: #7f7f7f\">collaborator.py</span></a><span style=\"color: #7f7f7f\">:143</span>\n",
       "</pre>\n"
      ],
      "text/plain": [
       "<rich.jupyter.JupyterRenderable at 0x7f5e08700790>"
      ]
     },
     "metadata": {},
     "output_type": "display_data"
    },
    {
     "data": {
      "text/html": [
       "<pre style=\"white-space:pre;overflow-x:auto;line-height:normal;font-family:Menlo,'DejaVu Sans Mono',consolas,'Courier New',monospace\"><span style=\"color: #7fbfbf\">[11:10:43] </span><span style=\"color: #000080\">INFO</span>     Using TaskRunner subclassing API                                                                                         <a href=\"file:///home/itrushkin/.virtualenvs/openfl/lib/python3.8/site-packages/openfl/component/collaborator/collaborator.py\"><span style=\"color: #7f7f7f\">collaborator.py</span></a><span style=\"color: #7f7f7f\">:203</span>\n",
       "</pre>\n"
      ],
      "text/plain": [
       "<rich.jupyter.JupyterRenderable at 0x7f5e0875ba90>"
      ]
     },
     "metadata": {},
     "output_type": "display_data"
    },
    {
     "data": {
      "text/html": [
       "<pre style=\"white-space:pre;overflow-x:auto;line-height:normal;font-family:Menlo,'DejaVu Sans Mono',consolas,'Courier New',monospace\"><span style=\"color: #7fbfbf\">           </span>METRIC   Round <span style=\"color: #000080; font-weight: bold\">4</span>, collaborator two is sending metric for task aggregated_model_validation: acc   <span style=\"color: #000080; font-weight: bold\">0.5</span>                              <a href=\"file:///home/itrushkin/.virtualenvs/openfl/lib/python3.8/site-packages/openfl/component/collaborator/collaborator.py\"><span style=\"color: #7f7f7f\">collaborator.py</span></a><span style=\"color: #7f7f7f\">:366</span>\n",
       "</pre>\n"
      ],
      "text/plain": [
       "<rich.jupyter.JupyterRenderable at 0x7f5e0875b880>"
      ]
     },
     "metadata": {},
     "output_type": "display_data"
    },
    {
     "data": {
      "text/html": [
       "<pre style=\"white-space:pre;overflow-x:auto;line-height:normal;font-family:Menlo,'DejaVu Sans Mono',consolas,'Courier New',monospace\"><span style=\"color: #7fbfbf\">           </span><span style=\"color: #000080\">INFO</span>     Collaborator two is sending task results for aggregated_model_validation, round <span style=\"color: #000080; font-weight: bold\">4</span>                                          <a href=\"file:///home/itrushkin/.virtualenvs/openfl/lib/python3.8/site-packages/openfl/component/aggregator/aggregator.py\"><span style=\"color: #7f7f7f\">aggregator.py</span></a><span style=\"color: #7f7f7f\">:456</span>\n",
       "</pre>\n"
      ],
      "text/plain": [
       "<rich.jupyter.JupyterRenderable at 0x7f5e0875bf40>"
      ]
     },
     "metadata": {},
     "output_type": "display_data"
    },
    {
     "data": {
      "text/html": [
       "<pre style=\"white-space:pre;overflow-x:auto;line-height:normal;font-family:Menlo,'DejaVu Sans Mono',consolas,'Courier New',monospace\"><span style=\"color: #7fbfbf\">           </span>METRIC   Round <span style=\"color: #000080; font-weight: bold\">4</span>, collaborator two aggregated_model_validation result acc:       <span style=\"color: #000080; font-weight: bold\">0.5</span>                                                <a href=\"file:///home/itrushkin/.virtualenvs/openfl/lib/python3.8/site-packages/openfl/component/aggregator/aggregator.py\"><span style=\"color: #7f7f7f\">aggregator.py</span></a><span style=\"color: #7f7f7f\">:494</span>\n",
       "</pre>\n"
      ],
      "text/plain": [
       "<rich.jupyter.JupyterRenderable at 0x7f5e088c0070>"
      ]
     },
     "metadata": {},
     "output_type": "display_data"
    },
    {
     "data": {
      "text/html": [
       "<pre style=\"white-space:pre;overflow-x:auto;line-height:normal;font-family:Menlo,'DejaVu Sans Mono',consolas,'Courier New',monospace\"><span style=\"color: #7fbfbf\">           </span><span style=\"color: #000080\">INFO</span>     Using TaskRunner subclassing API                                                                                         <a href=\"file:///home/itrushkin/.virtualenvs/openfl/lib/python3.8/site-packages/openfl/component/collaborator/collaborator.py\"><span style=\"color: #7f7f7f\">collaborator.py</span></a><span style=\"color: #7f7f7f\">:203</span>\n",
       "</pre>\n"
      ],
      "text/plain": [
       "<rich.jupyter.JupyterRenderable at 0x7f5e0897b4c0>"
      ]
     },
     "metadata": {},
     "output_type": "display_data"
    },
    {
     "data": {
      "text/html": [
       "<pre style=\"white-space:pre;overflow-x:auto;line-height:normal;font-family:Menlo,'DejaVu Sans Mono',consolas,'Courier New',monospace\"><span style=\"color: #7fbfbf\">           </span>METRIC   Round <span style=\"color: #000080; font-weight: bold\">4</span>, collaborator two is sending metric for task train: cross_entropy       <span style=\"color: #000080; font-weight: bold\">5.11093282699585</span>                         <a href=\"file:///home/itrushkin/.virtualenvs/openfl/lib/python3.8/site-packages/openfl/component/collaborator/collaborator.py\"><span style=\"color: #7f7f7f\">collaborator.py</span></a><span style=\"color: #7f7f7f\">:366</span>\n",
       "</pre>\n"
      ],
      "text/plain": [
       "<rich.jupyter.JupyterRenderable at 0x7f5e088c0070>"
      ]
     },
     "metadata": {},
     "output_type": "display_data"
    },
    {
     "data": {
      "text/html": [
       "<pre style=\"white-space:pre;overflow-x:auto;line-height:normal;font-family:Menlo,'DejaVu Sans Mono',consolas,'Courier New',monospace\"><span style=\"color: #7fbfbf\">           </span><span style=\"color: #000080\">INFO</span>     Collaborator two is sending task results for train, round <span style=\"color: #000080; font-weight: bold\">4</span>                                                                <a href=\"file:///home/itrushkin/.virtualenvs/openfl/lib/python3.8/site-packages/openfl/component/aggregator/aggregator.py\"><span style=\"color: #7f7f7f\">aggregator.py</span></a><span style=\"color: #7f7f7f\">:456</span>\n",
       "</pre>\n"
      ],
      "text/plain": [
       "<rich.jupyter.JupyterRenderable at 0x7f5e08dc0790>"
      ]
     },
     "metadata": {},
     "output_type": "display_data"
    },
    {
     "data": {
      "text/html": [
       "<pre style=\"white-space:pre;overflow-x:auto;line-height:normal;font-family:Menlo,'DejaVu Sans Mono',consolas,'Courier New',monospace\"><span style=\"color: #7fbfbf\">           </span>METRIC   Round <span style=\"color: #000080; font-weight: bold\">4</span>, collaborator two train result cross_entropy:   <span style=\"color: #000080; font-weight: bold\">5.11093282699585</span>                                                   <a href=\"file:///home/itrushkin/.virtualenvs/openfl/lib/python3.8/site-packages/openfl/component/aggregator/aggregator.py\"><span style=\"color: #7f7f7f\">aggregator.py</span></a><span style=\"color: #7f7f7f\">:494</span>\n",
       "</pre>\n"
      ],
      "text/plain": [
       "<rich.jupyter.JupyterRenderable at 0x7f5e08db96a0>"
      ]
     },
     "metadata": {},
     "output_type": "display_data"
    },
    {
     "data": {
      "text/html": [
       "<pre style=\"white-space:pre;overflow-x:auto;line-height:normal;font-family:Menlo,'DejaVu Sans Mono',consolas,'Courier New',monospace\"><span style=\"color: #7fbfbf\">[11:10:44] </span><span style=\"color: #000080\">INFO</span>     Using TaskRunner subclassing API                                                                                         <a href=\"file:///home/itrushkin/.virtualenvs/openfl/lib/python3.8/site-packages/openfl/component/collaborator/collaborator.py\"><span style=\"color: #7f7f7f\">collaborator.py</span></a><span style=\"color: #7f7f7f\">:203</span>\n",
       "</pre>\n"
      ],
      "text/plain": [
       "<rich.jupyter.JupyterRenderable at 0x7f5e086c9580>"
      ]
     },
     "metadata": {},
     "output_type": "display_data"
    },
    {
     "data": {
      "text/html": [
       "<pre style=\"white-space:pre;overflow-x:auto;line-height:normal;font-family:Menlo,'DejaVu Sans Mono',consolas,'Courier New',monospace\"><span style=\"color: #7fbfbf\">           </span>METRIC   Round <span style=\"color: #000080; font-weight: bold\">4</span>, collaborator two is sending metric for task locally_tuned_model_validation: acc        <span style=\"color: #000080; font-weight: bold\">0.5</span>                      <a href=\"file:///home/itrushkin/.virtualenvs/openfl/lib/python3.8/site-packages/openfl/component/collaborator/collaborator.py\"><span style=\"color: #7f7f7f\">collaborator.py</span></a><span style=\"color: #7f7f7f\">:366</span>\n",
       "</pre>\n"
      ],
      "text/plain": [
       "<rich.jupyter.JupyterRenderable at 0x7f5e086c9580>"
      ]
     },
     "metadata": {},
     "output_type": "display_data"
    },
    {
     "data": {
      "text/html": [
       "<pre style=\"white-space:pre;overflow-x:auto;line-height:normal;font-family:Menlo,'DejaVu Sans Mono',consolas,'Courier New',monospace\"><span style=\"color: #7fbfbf\">           </span><span style=\"color: #000080\">INFO</span>     Collaborator two is sending task results for locally_tuned_model_validation, round <span style=\"color: #000080; font-weight: bold\">4</span>                                       <a href=\"file:///home/itrushkin/.virtualenvs/openfl/lib/python3.8/site-packages/openfl/component/aggregator/aggregator.py\"><span style=\"color: #7f7f7f\">aggregator.py</span></a><span style=\"color: #7f7f7f\">:456</span>\n",
       "</pre>\n"
      ],
      "text/plain": [
       "<rich.jupyter.JupyterRenderable at 0x7f5e086c9850>"
      ]
     },
     "metadata": {},
     "output_type": "display_data"
    },
    {
     "data": {
      "text/html": [
       "<pre style=\"white-space:pre;overflow-x:auto;line-height:normal;font-family:Menlo,'DejaVu Sans Mono',consolas,'Courier New',monospace\"><span style=\"color: #7fbfbf\">           </span>METRIC   Round <span style=\"color: #000080; font-weight: bold\">4</span>, collaborator two locally_tuned_model_validation result acc:    <span style=\"color: #000080; font-weight: bold\">0.5</span>                                                <a href=\"file:///home/itrushkin/.virtualenvs/openfl/lib/python3.8/site-packages/openfl/component/aggregator/aggregator.py\"><span style=\"color: #7f7f7f\">aggregator.py</span></a><span style=\"color: #7f7f7f\">:494</span>\n",
       "</pre>\n"
      ],
      "text/plain": [
       "<rich.jupyter.JupyterRenderable at 0x7f5e086c9eb0>"
      ]
     },
     "metadata": {},
     "output_type": "display_data"
    },
    {
     "data": {
      "text/html": [
       "<pre style=\"white-space:pre;overflow-x:auto;line-height:normal;font-family:Menlo,'DejaVu Sans Mono',consolas,'Courier New',monospace\"><span style=\"color: #7fbfbf\">           </span>METRIC   Round <span style=\"color: #000080; font-weight: bold\">4</span>, aggregator: locally_tuned_model_validation                                                                        <a href=\"file:///home/itrushkin/.virtualenvs/openfl/lib/python3.8/site-packages/openfl/component/aggregator/aggregator.py\"><span style=\"color: #7f7f7f\">aggregator.py</span></a><span style=\"color: #7f7f7f\">:764</span>\n",
       "                    <span style=\"font-weight: bold\">&lt;</span><span style=\"color: #ff00ff; font-weight: bold\">openfl.component.aggregation_functions.weighted_average.WeightedAverage</span><span style=\"color: #000000\"> object at </span><span style=\"color: #000080; font-weight: bold\">0x7f5e6fb86dc0</span><span style=\"font-weight: bold\">&gt;</span> acc:     <span style=\"color: #000080; font-weight: bold\">0.7297</span>                          \n",
       "</pre>\n"
      ],
      "text/plain": [
       "<rich.jupyter.JupyterRenderable at 0x7f5e086c91f0>"
      ]
     },
     "metadata": {},
     "output_type": "display_data"
    },
    {
     "data": {
      "text/html": [
       "<pre style=\"white-space:pre;overflow-x:auto;line-height:normal;font-family:Menlo,'DejaVu Sans Mono',consolas,'Courier New',monospace\"><span style=\"color: #7fbfbf\">           </span>METRIC   Round <span style=\"color: #000080; font-weight: bold\">4</span>, aggregator: aggregated_model_validation <span style=\"font-weight: bold\">&lt;</span><span style=\"color: #ff00ff; font-weight: bold\">openfl.component.aggregation_functions.weighted_average.WeightedAverage</span><span style=\"color: #000000\"> </span> <a href=\"file:///home/itrushkin/.virtualenvs/openfl/lib/python3.8/site-packages/openfl/component/aggregator/aggregator.py\"><span style=\"color: #7f7f7f\">aggregator.py</span></a><span style=\"color: #7f7f7f\">:764</span>\n",
       "                    <span style=\"color: #000000\">object at </span><span style=\"color: #000080; font-weight: bold\">0x7f5e6fb86dc0</span><span style=\"font-weight: bold\">&gt;</span> acc:        <span style=\"color: #000080; font-weight: bold\">0.7297</span>                                                                                                \n",
       "</pre>\n"
      ],
      "text/plain": [
       "<rich.jupyter.JupyterRenderable at 0x7f5e086c9eb0>"
      ]
     },
     "metadata": {},
     "output_type": "display_data"
    },
    {
     "data": {
      "text/html": [
       "<pre style=\"white-space:pre;overflow-x:auto;line-height:normal;font-family:Menlo,'DejaVu Sans Mono',consolas,'Courier New',monospace\"><span style=\"color: #7fbfbf\">           </span>METRIC   Round <span style=\"color: #000080; font-weight: bold\">4</span>, aggregator: train <span style=\"font-weight: bold\">&lt;</span><span style=\"color: #ff00ff; font-weight: bold\">openfl.component.aggregation_functions.weighted_average.WeightedAverage</span><span style=\"color: #000000\"> object at </span>             <a href=\"file:///home/itrushkin/.virtualenvs/openfl/lib/python3.8/site-packages/openfl/component/aggregator/aggregator.py\"><span style=\"color: #7f7f7f\">aggregator.py</span></a><span style=\"color: #7f7f7f\">:764</span>\n",
       "                    <span style=\"color: #000080; font-weight: bold\">0x7f5e6fb86dc0</span><span style=\"font-weight: bold\">&gt;</span> cross_entropy:    <span style=\"color: #000080; font-weight: bold\">0.9429</span>                                                                                                    \n",
       "</pre>\n"
      ],
      "text/plain": [
       "<rich.jupyter.JupyterRenderable at 0x7f5e086c9cd0>"
      ]
     },
     "metadata": {},
     "output_type": "display_data"
    }
   ],
   "source": [
    "#Run experiment, return trained FederatedModel\n",
    "final_fl_model = fx.run_experiment(collaborators,{'aggregator.settings.rounds_to_train':10})"
   ]
  },
  {
   "cell_type": "code",
   "execution_count": null,
   "metadata": {},
   "outputs": [],
   "source": [
    "#Save final model\n",
    "final_fl_model.save_native('final_model.pth')"
   ]
  },
  {
   "cell_type": "code",
   "execution_count": null,
   "metadata": {},
   "outputs": [],
   "source": []
  },
  {
   "cell_type": "code",
   "execution_count": null,
   "metadata": {},
   "outputs": [],
   "source": []
  }
 ],
 "metadata": {
  "kernelspec": {
   "display_name": "Python 3",
   "language": "python",
   "name": "python3"
  },
  "language_info": {
   "codemirror_mode": {
    "name": "ipython",
    "version": 3
   },
   "file_extension": ".py",
   "mimetype": "text/x-python",
   "name": "python",
   "nbconvert_exporter": "python",
   "pygments_lexer": "ipython3",
   "version": "3.8.10"
  }
 },
 "nbformat": 4,
 "nbformat_minor": 4
}

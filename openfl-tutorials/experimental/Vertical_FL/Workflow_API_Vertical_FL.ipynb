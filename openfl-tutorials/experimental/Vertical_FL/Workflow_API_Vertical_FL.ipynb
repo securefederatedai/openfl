{
 "cells": [
  {
   "attachments": {},
   "cell_type": "markdown",
   "id": "aedbb436",
   "metadata": {},
   "source": [
    "# Vertical FL Example"
   ]
  },
  {
   "cell_type": "code",
   "execution_count": null,
   "id": "b6ae12bf",
   "metadata": {},
   "outputs": [],
   "source": [
    "!pip install git+https://github.com/intel/openfl.git\n",
    "!pip install -r ../requirements_workflow_api.txt"
   ]
  },
  {
   "cell_type": "code",
   "execution_count": null,
   "id": "difficult-madrid",
   "metadata": {},
   "outputs": [],
   "source": [
    "from openfl.experimental.interface import FLSpec, Aggregator, Collaborator\n",
    "from openfl.experimental.runtime import LocalRuntime\n",
    "from openfl.experimental.placement import aggregator, collaborator"
   ]
  },
  {
   "cell_type": "code",
   "execution_count": null,
   "id": "198492b1",
   "metadata": {},
   "outputs": [],
   "source": [
    "class VerticalFlow(FLSpec):\n",
    "\n",
    "    @aggregator\n",
    "    def start(self):\n",
    "        self.collaborators = self.runtime.collaborators\n",
    "        self.round = 0\n",
    "        self.next_collaborator = ['Portland']\n",
    "        self.next(self.custom_task_portland, foreach='next_collaborator')\n",
    "\n",
    "    @collaborator\n",
    "    def custom_task_portland(self):\n",
    "        print(f'Collaborator {self.input}: performing custom task')\n",
    "        self.result = 0\n",
    "        self.next(self.gather_portland_results)\n",
    "\n",
    "    @aggregator\n",
    "    def gather_portland_results(self,inputs):\n",
    "        self.results = []\n",
    "        self.results.append(inputs[0].result)\n",
    "        self.next_collaborator = ['Seattle']\n",
    "        self.next(self.custom_task_seattle, foreach='next_collaborator', exclude=['results'])\n",
    "\n",
    "    @collaborator\n",
    "    def custom_task_seattle(self):\n",
    "        print(f'Collaborator {self.input}: performing custom task')\n",
    "        self.result = 1\n",
    "        self.next(self.gather_seattle_results)\n",
    "\n",
    "    @aggregator\n",
    "    def gather_seattle_results(self,inputs):\n",
    "        self.results.append(inputs[0].result)\n",
    "        self.next_collaborator = ['Chandler']\n",
    "        self.next(self.custom_task_chandler, foreach='next_collaborator', exclude=['results'])\n",
    "\n",
    "    @collaborator\n",
    "    def custom_task_chandler(self):\n",
    "        print(f'Collaborator {self.input}: performing custom task')\n",
    "        self.result = 2\n",
    "        self.next(self.gather_chandler_results)\n",
    "\n",
    "    @aggregator\n",
    "    def gather_chandler_results(self,inputs):\n",
    "        self.results.append(inputs[0].result)\n",
    "        self.next_collaborator = ['Bangalore']\n",
    "        self.next(self.custom_task_bangalore, foreach='next_collaborator', exclude=['results'])\n",
    "\n",
    "    @collaborator\n",
    "    def custom_task_bangalore(self):\n",
    "        print(f'Collaborator {self.input}: performing custom task')\n",
    "        self.result = 3\n",
    "        self.next(self.gather_bangalore_results)\n",
    "\n",
    "    @aggregator\n",
    "    def gather_bangalore_results(self,inputs):\n",
    "        self.results.append(inputs[0].result)\n",
    "        self.next(self.combine)\n",
    "\n",
    "    @aggregator\n",
    "    def combine(self):\n",
    "        print(f'The results from each of the collaborators are: {self.results}')\n",
    "        print(f'Their average = {sum(self.results) / len(self.results)}')\n",
    "        self.round += 1\n",
    "        if self.round < 10:\n",
    "            print()\n",
    "            print(f'Starting round {self.round}...')\n",
    "            self.next_collaborator = ['Portland']\n",
    "            self.next(self.custom_task_portland,foreach='next_collaborator')\n",
    "        else:\n",
    "            self.next(self.end)\n",
    "\n",
    "    @aggregator\n",
    "    def end(self):\n",
    "        print(f'This is the end of the flow')"
   ]
  },
  {
   "cell_type": "code",
   "execution_count": null,
   "id": "forward-world",
   "metadata": {},
   "outputs": [],
   "source": [
    "# Setup participants\n",
    "aggregator = Aggregator()\n",
    "\n",
    "# Setup collaborators private attributes via callable function\n",
    "collaborator_names = ['Portland', 'Seattle', 'Chandler', 'Bangalore']\n",
    "collaborators = []\n",
    "for idx, collaborator_name in enumerate(collaborator_names):\n",
    "    collaborators.append(Collaborator(name=collaborator_name))\n",
    "\n",
    "local_runtime = LocalRuntime(\n",
    "    aggregator=aggregator, collaborators=collaborators,backend='ray')\n",
    "print(f'Local runtime collaborators = {local_runtime.collaborators}')\n",
    "\n",
    "vflow = VerticalFlow(checkpoint=True)\n",
    "vflow.runtime = local_runtime\n",
    "vflow.run()\n",
    "print(f'Reached end of the flow with collaborator results = {vflow.results}')"
   ]
  },
  {
   "attachments": {},
   "cell_type": "markdown",
   "id": "308b5d35",
   "metadata": {},
   "source": [
    "Now that the flow has completed, you can use metaflow tooling to look at the data associated with the experiment"
   ]
  },
  {
   "cell_type": "code",
   "execution_count": null,
   "id": "verified-favor",
   "metadata": {},
   "outputs": [],
   "source": [
    "run_id = vflow._run_id"
   ]
  },
  {
   "cell_type": "code",
   "execution_count": null,
   "id": "statutory-prime",
   "metadata": {},
   "outputs": [],
   "source": [
    "from metaflow import Metaflow, Flow, Step, Task"
   ]
  },
  {
   "cell_type": "code",
   "execution_count": null,
   "id": "fifty-tamil",
   "metadata": {},
   "outputs": [],
   "source": [
    "m = Metaflow()\n",
    "list(m)"
   ]
  },
  {
   "cell_type": "code",
   "execution_count": null,
   "id": "grand-defendant",
   "metadata": {},
   "outputs": [],
   "source": [
    "f = Flow('VerticalFlow').latest_run"
   ]
  },
  {
   "cell_type": "code",
   "execution_count": null,
   "id": "incident-novelty",
   "metadata": {},
   "outputs": [],
   "source": [
    "f"
   ]
  },
  {
   "cell_type": "code",
   "execution_count": null,
   "id": "increasing-dressing",
   "metadata": {},
   "outputs": [],
   "source": [
    "list(f)"
   ]
  },
  {
   "cell_type": "code",
   "execution_count": null,
   "id": "olympic-latter",
   "metadata": {},
   "outputs": [],
   "source": [
    "s = Step(f'VerticalFlow/{run_id}/combine')"
   ]
  },
  {
   "cell_type": "code",
   "execution_count": null,
   "id": "awful-posting",
   "metadata": {},
   "outputs": [],
   "source": [
    "s"
   ]
  },
  {
   "cell_type": "code",
   "execution_count": null,
   "id": "median-double",
   "metadata": {},
   "outputs": [],
   "source": [
    "list(s)"
   ]
  },
  {
   "cell_type": "code",
   "execution_count": null,
   "id": "adult-maldives",
   "metadata": {},
   "outputs": [],
   "source": [
    "t = Task(f'VerticalFlow/{run_id}/combine/91')"
   ]
  },
  {
   "cell_type": "code",
   "execution_count": null,
   "id": "changed-hungarian",
   "metadata": {},
   "outputs": [],
   "source": [
    "t"
   ]
  },
  {
   "cell_type": "code",
   "execution_count": null,
   "id": "academic-hierarchy",
   "metadata": {},
   "outputs": [],
   "source": [
    "t.data"
   ]
  },
  {
   "cell_type": "code",
   "execution_count": null,
   "id": "thermal-torture",
   "metadata": {},
   "outputs": [],
   "source": [
    "t.data.round"
   ]
  }
 ],
 "metadata": {
  "kernelspec": {
   "display_name": "Python 3 (ipykernel)",
   "language": "python",
   "name": "python3"
  },
  "language_info": {
   "codemirror_mode": {
    "name": "ipython",
    "version": 3
   },
   "file_extension": ".py",
   "mimetype": "text/x-python",
   "name": "python",
   "nbconvert_exporter": "python",
   "pygments_lexer": "ipython3",
   "version": "3.8.16"
  }
 },
 "nbformat": 4,
 "nbformat_minor": 5
}

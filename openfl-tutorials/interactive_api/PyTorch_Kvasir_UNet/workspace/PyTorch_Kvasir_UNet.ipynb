{
 "cells": [
  {
   "cell_type": "markdown",
   "id": "liquid-jacket",
   "metadata": {},
   "source": [
    "# Federated Kvasir with Director example\n",
    "## Using low-level Python API"
   ]
  },
  {
   "cell_type": "markdown",
   "id": "af0579f8",
   "metadata": {},
   "source": [
    "# Long-Living entities update\n",
    "\n",
    "* We now may have director running on another machine.\n",
    "* We use Federation API to communicate with Director.\n",
    "* Federation object should hold a Director's client (for user service)\n",
    "* Keeping in mind that several API instances may be connacted to one Director.\n",
    "\n",
    "\n",
    "* We do not think for now how we start a Director.\n",
    "* But it knows the data shape and target shape for the DataScience problem in the Federation.\n",
    "* Director holds the list of connected envoys, we do not need to specify it anymore.\n",
    "* Director and Envoys are responsible for encrypting connections, we do not need to worry about certs.\n",
    "\n",
    "\n",
    "* Yet we MUST have a cert to communicate to the Director.\n",
    "* We MUST know the FQDN of a Director.\n",
    "* Director communicates data and target shape to the Federation interface object.\n",
    "\n",
    "\n",
    "* Experiment API may use this info to construct a dummy dataset and a `shard descriptor` stub."
   ]
  },
  {
   "cell_type": "code",
   "execution_count": 1,
   "id": "alike-sharing",
   "metadata": {
    "scrolled": true
   },
   "outputs": [
    {
     "name": "stdout",
     "output_type": "stream",
     "text": [
      "Requirement already satisfied: torchvision==0.8.1 in /home/itrushkin/.virtualenvs/openfl_research/lib/python3.8/site-packages (0.8.1)\n",
      "Requirement already satisfied: numpy in /home/itrushkin/.virtualenvs/openfl_research/lib/python3.8/site-packages (from torchvision==0.8.1) (1.19.5)\n",
      "Requirement already satisfied: torch==1.7.0 in /home/itrushkin/.virtualenvs/openfl_research/lib/python3.8/site-packages (from torchvision==0.8.1) (1.7.0)\n",
      "Requirement already satisfied: pillow>=4.1.1 in /home/itrushkin/.virtualenvs/openfl_research/lib/python3.8/site-packages (from torchvision==0.8.1) (8.1.2)\n",
      "Requirement already satisfied: future in /home/itrushkin/.virtualenvs/openfl_research/lib/python3.8/site-packages (from torch==1.7.0->torchvision==0.8.1) (0.18.2)\n",
      "Requirement already satisfied: dataclasses in /home/itrushkin/.virtualenvs/openfl_research/lib/python3.8/site-packages (from torch==1.7.0->torchvision==0.8.1) (0.6)\n",
      "Requirement already satisfied: typing-extensions in /home/itrushkin/.virtualenvs/openfl_research/lib/python3.8/site-packages (from torch==1.7.0->torchvision==0.8.1) (3.7.4.3)\n",
      "\u001b[33mWARNING: You are using pip version 21.0.1; however, version 21.3 is available.\n",
      "You should consider upgrading via the '/home/itrushkin/.virtualenvs/openfl_research/bin/python -m pip install --upgrade pip' command.\u001b[0m\n"
     ]
    }
   ],
   "source": [
    "# Install dependencies if not already installed\n",
    "!pip install torchvision==0.8.1"
   ]
  },
  {
   "cell_type": "markdown",
   "id": "16986f22",
   "metadata": {},
   "source": [
    "# Connect to the Federation"
   ]
  },
  {
   "cell_type": "code",
   "execution_count": 2,
   "id": "4485ac79",
   "metadata": {},
   "outputs": [],
   "source": [
    "# Create a federation\n",
    "from openfl.interface.interactive_api.federation import Federation\n",
    "\n",
    "# please use the same identificator that was used in signed certificate\n",
    "cliend_id = 'frontend'\n",
    "\n",
    "# 1) Run with API layer - Director mTLS \n",
    "# If the user wants to enable mTLS their must provide CA root chain, and signed key pair to the federation interface\n",
    "# cert_chain = 'cert/root_ca.crt'\n",
    "# API_certificate = 'cert/frontend.crt'\n",
    "# API_private_key = 'cert/frontend.key'\n",
    "\n",
    "# federation = Federation(client_id='frontend', director_node_fqdn='localhost', director_port='50051',\n",
    "#                        cert_chain=cert_chain, api_cert=API_certificate, api_private_key=API_private_key)\n",
    "\n",
    "# --------------------------------------------------------------------------------------------------------------------\n",
    "\n",
    "# 2) Run with TLS disabled (trusted environment)\n",
    "# Federation can also determine local fqdn automatically\n",
    "federation = Federation(client_id='frontend', director_node_fqdn='localhost', director_port='50052', tls=False)\n"
   ]
  },
  {
   "cell_type": "code",
   "execution_count": 3,
   "id": "e35802d5",
   "metadata": {
    "scrolled": true
   },
   "outputs": [
    {
     "data": {
      "text/plain": [
       "{'env_one': {'shard_info': node_info {\n",
       "    name: \"env_one\"\n",
       "  }\n",
       "  shard_description: \"Kvasir dataset, shard number 1 out of 90\"\n",
       "  n_samples: 12\n",
       "  sample_shape: \"300\"\n",
       "  sample_shape: \"400\"\n",
       "  sample_shape: \"3\"\n",
       "  target_shape: \"300\"\n",
       "  target_shape: \"400\",\n",
       "  'is_online': True,\n",
       "  'is_experiment_running': False,\n",
       "  'last_updated': '2021-10-12 09:36:16',\n",
       "  'current_time': '2021-10-12 09:36:32',\n",
       "  'valid_duration': seconds: 120}}"
      ]
     },
     "execution_count": 3,
     "metadata": {},
     "output_type": "execute_result"
    }
   ],
   "source": [
    "shard_registry = federation.get_shard_registry()\n",
    "shard_registry"
   ]
  },
  {
   "cell_type": "code",
   "execution_count": 4,
   "id": "67ae50de",
   "metadata": {},
   "outputs": [
    {
     "data": {
      "text/plain": [
       "['300', '400']"
      ]
     },
     "execution_count": 4,
     "metadata": {},
     "output_type": "execute_result"
    }
   ],
   "source": [
    "federation.target_shape"
   ]
  },
  {
   "cell_type": "code",
   "execution_count": 5,
   "id": "920216d3",
   "metadata": {
    "scrolled": true
   },
   "outputs": [],
   "source": [
    "# First, request a dummy_shard_desc that holds information about the federated dataset \n",
    "dummy_shard_desc = federation.get_dummy_shard_descriptor(size=10)\n",
    "sample, target = dummy_shard_desc[0]"
   ]
  },
  {
   "cell_type": "markdown",
   "id": "obvious-tyler",
   "metadata": {},
   "source": [
    "## Creating a FL experiment using Interactive API"
   ]
  },
  {
   "cell_type": "code",
   "execution_count": 6,
   "id": "rubber-address",
   "metadata": {},
   "outputs": [],
   "source": [
    "from openfl.interface.interactive_api.experiment import TaskInterface, DataInterface, ModelInterface, AggregationFunctionInterface, FLExperiment"
   ]
  },
  {
   "cell_type": "markdown",
   "id": "sustainable-public",
   "metadata": {},
   "source": [
    "### Register dataset"
   ]
  },
  {
   "cell_type": "markdown",
   "id": "unlike-texas",
   "metadata": {},
   "source": [
    "We extract User dataset class implementation.\n",
    "Is it convinient?\n",
    "What if the dataset is not a class?"
   ]
  },
  {
   "cell_type": "code",
   "execution_count": 7,
   "id": "64f37dcf",
   "metadata": {
    "scrolled": true
   },
   "outputs": [],
   "source": [
    "import os\n",
    "import PIL\n",
    "import numpy as np\n",
    "from torch.utils.data import Dataset, DataLoader, SubsetRandomSampler\n",
    "from torchvision import transforms as tsf\n",
    "\n",
    "# Now you can implement you data loaders using dummy_shard_desc\n",
    "class KvasirSD(DataInterface, Dataset):\n",
    "\n",
    "    def __init__(self, validation_fraction=1/8, **kwargs):\n",
    "        super().__init__(**kwargs)\n",
    "        \n",
    "        self.validation_fraction = validation_fraction\n",
    "        \n",
    "        # Prepare transforms\n",
    "        self.img_trans = tsf.Compose([\n",
    "            tsf.ToPILImage(),\n",
    "            tsf.Resize((332, 332)),\n",
    "            tsf.ToTensor(),\n",
    "            tsf.Normalize(mean=[0.5, 0.5, 0.5], std=[0.5, 0.5, 0.5])])\n",
    "        self.mask_trans = tsf.Compose([\n",
    "            tsf.ToPILImage(),\n",
    "            tsf.Resize((332, 332), interpolation=PIL.Image.NEAREST),\n",
    "            tsf.ToTensor()])\n",
    "        \n",
    "    @property\n",
    "    def shard_descriptor(self):\n",
    "        return self._shard_descriptor\n",
    "        \n",
    "    @shard_descriptor.setter\n",
    "    def shard_descriptor(self, shard_descriptor):\n",
    "        \"\"\"\n",
    "        Describe per-collaborator procedures or sharding.\n",
    "\n",
    "        This method will be called during a collaborator initialization.\n",
    "        Local shard_descriptor  will be set by Envoy.\n",
    "        \"\"\"\n",
    "        self._shard_descriptor = shard_descriptor\n",
    "        \n",
    "        validation_size = max(1, int(len(self.shard_descriptor) * self.validation_fraction))\n",
    "        \n",
    "        self.train_indeces = np.arange(len(self.shard_descriptor) - validation_size)\n",
    "        self.val_indeces = np.arange(len(self.shard_descriptor) - validation_size, len(self.shard_descriptor))\n",
    "        \n",
    "\n",
    "    def __getitem__(self, index):\n",
    "        img, mask = self.shard_descriptor[index]\n",
    "        img = self.img_trans(img).numpy()\n",
    "        mask = self.mask_trans(mask).numpy()\n",
    "        return img, mask\n",
    "\n",
    "    def __len__(self):\n",
    "        return len(self.shard_descriptor)\n",
    "    \n",
    "    \n",
    "    def get_train_loader(self, **kwargs):\n",
    "        \"\"\"\n",
    "        Output of this method will be provided to tasks with optimizer in contract\n",
    "        \"\"\"\n",
    "        train_sampler = SubsetRandomSampler(self.train_indeces)\n",
    "        return DataLoader(\n",
    "            self, num_workers=8, batch_size=self.kwargs['train_bs'], sampler=train_sampler\n",
    "            )\n",
    "\n",
    "    def get_valid_loader(self, **kwargs):\n",
    "        \"\"\"\n",
    "        Output of this method will be provided to tasks without optimizer in contract\n",
    "        \"\"\"\n",
    "        val_sampler = SubsetRandomSampler(self.val_indeces)\n",
    "        return DataLoader(self, num_workers=8, batch_size=self.kwargs['valid_bs'], sampler=val_sampler)\n",
    "\n",
    "    def get_train_data_size(self):\n",
    "        \"\"\"\n",
    "        Information for aggregation\n",
    "        \"\"\"\n",
    "        return len(self.train_indeces)\n",
    "\n",
    "    def get_valid_data_size(self):\n",
    "        \"\"\"\n",
    "        Information for aggregation\n",
    "        \"\"\"\n",
    "        return len(self.val_indeces)"
   ]
  },
  {
   "cell_type": "code",
   "execution_count": 8,
   "id": "d8df35f5",
   "metadata": {},
   "outputs": [
    {
     "name": "stdout",
     "output_type": "stream",
     "text": [
      "torch.Size([4, 3, 332, 332])\n",
      "torch.Size([4, 3, 332, 332])\n",
      "torch.Size([1, 3, 332, 332])\n"
     ]
    }
   ],
   "source": [
    "fed_dataset = KvasirSD(train_bs=4, valid_bs=8)\n",
    "fed_dataset.shard_descriptor = dummy_shard_desc\n",
    "for i, (sample, target) in enumerate(fed_dataset.get_train_loader()):\n",
    "    print(sample.shape)"
   ]
  },
  {
   "cell_type": "markdown",
   "id": "caring-distinction",
   "metadata": {},
   "source": [
    "### Describe a model and optimizer"
   ]
  },
  {
   "cell_type": "code",
   "execution_count": 9,
   "id": "visible-victor",
   "metadata": {},
   "outputs": [],
   "source": [
    "import torch\n",
    "import torch.nn as nn\n",
    "import torch.optim as optim"
   ]
  },
  {
   "cell_type": "code",
   "execution_count": 10,
   "id": "foreign-gospel",
   "metadata": {},
   "outputs": [],
   "source": [
    "\"\"\"\n",
    "UNet model definition\n",
    "\"\"\"\n",
    "from layers import soft_dice_coef, soft_dice_loss, DoubleConv, Down, Up\n",
    "\n",
    "\n",
    "class UNet(nn.Module):\n",
    "    def __init__(self, n_channels=3, n_classes=1):\n",
    "        super().__init__()\n",
    "        self.inc = DoubleConv(n_channels, 64)\n",
    "        self.down1 = Down(64, 128)\n",
    "        self.down2 = Down(128, 256)\n",
    "        self.down3 = Down(256, 512)\n",
    "        self.up1 = Up(512, 256)\n",
    "        self.up2 = Up(256, 128)\n",
    "        self.up3 = Up(128, 64)\n",
    "        self.outc = nn.Conv2d(64, n_classes, 1)\n",
    "\n",
    "    def forward(self, x):\n",
    "        x1 = self.inc(x)\n",
    "        x2 = self.down1(x1)\n",
    "        x3 = self.down2(x2)\n",
    "        x4 = self.down3(x3)\n",
    "        x = self.up1(x4, x3)\n",
    "        x = self.up2(x, x2)\n",
    "        x = self.up3(x, x1)\n",
    "        x = self.outc(x)\n",
    "        x = torch.sigmoid(x)\n",
    "        return x\n",
    "    \n",
    "model_unet = UNet()"
   ]
  },
  {
   "cell_type": "code",
   "execution_count": 11,
   "id": "greater-activation",
   "metadata": {},
   "outputs": [],
   "source": [
    "optimizer_adam = optim.Adam(model_unet.parameters(), lr=1e-4)"
   ]
  },
  {
   "cell_type": "markdown",
   "id": "caroline-passion",
   "metadata": {},
   "source": [
    "#### Register model"
   ]
  },
  {
   "cell_type": "code",
   "execution_count": 12,
   "id": "handled-teens",
   "metadata": {},
   "outputs": [],
   "source": [
    "from copy import deepcopy\n",
    "\n",
    "framework_adapter = 'openfl.plugins.frameworks_adapters.pytorch_adapter.FrameworkAdapterPlugin'\n",
    "MI = ModelInterface(model=model_unet, optimizer=optimizer_adam, framework_plugin=framework_adapter)\n",
    "\n",
    "# Save the initial model state\n",
    "initial_model = deepcopy(model_unet)"
   ]
  },
  {
   "cell_type": "markdown",
   "id": "portuguese-groove",
   "metadata": {},
   "source": [
    "### Define and register FL tasks"
   ]
  },
  {
   "cell_type": "code",
   "execution_count": 13,
   "id": "increasing-builder",
   "metadata": {},
   "outputs": [],
   "source": [
    "TI = TaskInterface()\n",
    "AFI = AggregationFunctionInterface()\n",
    "import torch\n",
    "\n",
    "import tqdm\n",
    "from openfl.component.aggregation_functions import Median\n",
    "\n",
    "# The Interactive API supports registering functions definied in main module or imported.\n",
    "def function_defined_in_notebook(some_parameter):\n",
    "    print(f'Also I accept a parameter and it is {some_parameter}')\n",
    "\n",
    "#The Interactive API supports overriding of the aggregation function\n",
    "aggregation_function = Median()\n",
    "\n",
    "# Task interface currently supports only standalone functions.\n",
    "@TI.add_kwargs(**{'some_parameter': 42})\n",
    "@TI.register_fl_task(model='unet_model', data_loader='train_loader', \\\n",
    "                     device='device', optimizer='optimizer')     \n",
    "@AFI.set_aggregation_function(aggregation_function)\n",
    "def train(unet_model, train_loader, optimizer, device, loss_fn=soft_dice_loss, some_parameter=None):\n",
    "    if not torch.cuda.is_available():\n",
    "        device = 'cpu'\n",
    "    else:\n",
    "        device = 'cuda'\n",
    "    \n",
    "    function_defined_in_notebook(some_parameter)\n",
    "    \n",
    "    train_loader = tqdm.tqdm(train_loader, desc=\"train\")\n",
    "    \n",
    "    unet_model.train()\n",
    "    unet_model.to(device)\n",
    "\n",
    "    losses = []\n",
    "\n",
    "    for data, target in train_loader:\n",
    "        data, target = torch.tensor(data).to(device), torch.tensor(\n",
    "            target).to(device, dtype=torch.float32)\n",
    "        optimizer.zero_grad()\n",
    "        output = unet_model(data)\n",
    "        loss = loss_fn(output=output, target=target)\n",
    "        loss.backward()\n",
    "        optimizer.step()\n",
    "        losses.append(loss.detach().cpu().numpy())\n",
    "        \n",
    "    return {'train_loss': np.mean(losses),}\n",
    "\n",
    "\n",
    "@TI.register_fl_task(model='unet_model', data_loader='val_loader', device='device')     \n",
    "def validate(unet_model, val_loader, device):\n",
    "    if not torch.cuda.is_available():\n",
    "        device = 'cpu'\n",
    "    else:\n",
    "        device = 'cuda'\n",
    "        \n",
    "    unet_model.eval()\n",
    "    unet_model.to(device)\n",
    "    \n",
    "    val_loader = tqdm.tqdm(val_loader, desc=\"validate\")\n",
    "\n",
    "    val_score = 0\n",
    "    total_samples = 0\n",
    "\n",
    "    with torch.no_grad():\n",
    "        for data, target in val_loader:\n",
    "            samples = target.shape[0]\n",
    "            total_samples += samples\n",
    "            data, target = torch.tensor(data).to(device), \\\n",
    "                torch.tensor(target).to(device, dtype=torch.int64)\n",
    "            output = unet_model(data)\n",
    "            val = soft_dice_coef(output, target)\n",
    "            val_score += val.sum().cpu().numpy()\n",
    "            \n",
    "    return {'dice_coef': val_score / total_samples,}"
   ]
  },
  {
   "cell_type": "markdown",
   "id": "derived-bride",
   "metadata": {},
   "source": [
    "## Time to start a federated learning experiment"
   ]
  },
  {
   "cell_type": "code",
   "execution_count": 14,
   "id": "mature-renewal",
   "metadata": {},
   "outputs": [],
   "source": [
    "# create an experimnet in federation\n",
    "experiment_name = 'kvasir_test_experiment'\n",
    "fl_experiment = FLExperiment(federation=federation, experiment_name=experiment_name)"
   ]
  },
  {
   "cell_type": "code",
   "execution_count": 15,
   "id": "lightweight-causing",
   "metadata": {
    "scrolled": true
   },
   "outputs": [
    {
     "data": {
      "text/html": [
       "<pre style=\"white-space:pre;overflow-x:auto;line-height:normal;font-family:Menlo,'DejaVu Sans Mono',consolas,'Courier New',monospace\"><span style=\"color: #7fbfbf\">[09:36:38] </span><span style=\"color: #000080\">INFO</span>     Building <span style=\"color: #800000\">🡆</span> Object <span style=\"color: #800000\">CloudpickleSerializer</span> from <span style=\"color: #800000\">openfl.plugins.interface_serializer.cloudpickle_serializer</span> Module.                  <a href=\"file:///home/itrushkin/.virtualenvs/openfl_research/lib/python3.8/site-packages/openfl/federated/plan/plan.py\"><span style=\"color: #7f7f7f\">plan.py</span></a><span style=\"color: #7f7f7f\">:170</span>\n",
       "</pre>\n"
      ],
      "text/plain": [
       "<rich.jupyter.JupyterRenderable at 0x7f00d3b24e50>"
      ]
     },
     "metadata": {},
     "output_type": "display_data"
    },
    {
     "data": {
      "text/html": [
       "<pre style=\"white-space:pre;overflow-x:auto;line-height:normal;font-family:Menlo,'DejaVu Sans Mono',consolas,'Courier New',monospace\"><span style=\"color: #7fbfbf\">           </span><span style=\"color: #000080\">INFO</span>     Settings <span style=\"color: #800000\">🡆</span> <span style=\"font-weight: bold\">{}</span>                                                                                                                    <a href=\"file:///home/itrushkin/.virtualenvs/openfl_research/lib/python3.8/site-packages/openfl/federated/plan/plan.py\"><span style=\"color: #7f7f7f\">plan.py</span></a><span style=\"color: #7f7f7f\">:173</span>\n",
       "</pre>\n"
      ],
      "text/plain": [
       "<rich.jupyter.JupyterRenderable at 0x7f00d3b249d0>"
      ]
     },
     "metadata": {},
     "output_type": "display_data"
    },
    {
     "data": {
      "text/html": [
       "<pre style=\"white-space:pre;overflow-x:auto;line-height:normal;font-family:Menlo,'DejaVu Sans Mono',consolas,'Courier New',monospace\"><span style=\"color: #7fbfbf\">           </span><span style=\"color: #000080\">INFO</span>     Override <span style=\"color: #800000\">🡆</span> <span style=\"font-weight: bold\">{}</span>                                                                                                                    <a href=\"file:///home/itrushkin/.virtualenvs/openfl_research/lib/python3.8/site-packages/openfl/federated/plan/plan.py\"><span style=\"color: #7f7f7f\">plan.py</span></a><span style=\"color: #7f7f7f\">:175</span>\n",
       "</pre>\n"
      ],
      "text/plain": [
       "<rich.jupyter.JupyterRenderable at 0x7f00d3b24670>"
      ]
     },
     "metadata": {},
     "output_type": "display_data"
    },
    {
     "data": {
      "text/html": [
       "<pre style=\"white-space:pre;overflow-x:auto;line-height:normal;font-family:Menlo,'DejaVu Sans Mono',consolas,'Courier New',monospace\"><span style=\"color: #7fbfbf\">           </span><span style=\"color: #000080\">INFO</span>     Building <span style=\"color: #800000\">🡆</span> Object <span style=\"color: #800000\">FrameworkAdapterPlugin</span> from <span style=\"color: #800000\">openfl.plugins.frameworks_adapters.pytorch_adapter</span> Module.                         <a href=\"file:///home/itrushkin/.virtualenvs/openfl_research/lib/python3.8/site-packages/openfl/federated/plan/plan.py\"><span style=\"color: #7f7f7f\">plan.py</span></a><span style=\"color: #7f7f7f\">:170</span>\n",
       "</pre>\n"
      ],
      "text/plain": [
       "<rich.jupyter.JupyterRenderable at 0x7f00d3b24460>"
      ]
     },
     "metadata": {},
     "output_type": "display_data"
    },
    {
     "data": {
      "text/html": [
       "<pre style=\"white-space:pre;overflow-x:auto;line-height:normal;font-family:Menlo,'DejaVu Sans Mono',consolas,'Courier New',monospace\"><span style=\"color: #7fbfbf\">           </span><span style=\"color: #000080\">INFO</span>     Settings <span style=\"color: #800000\">🡆</span> <span style=\"font-weight: bold\">{}</span>                                                                                                                    <a href=\"file:///home/itrushkin/.virtualenvs/openfl_research/lib/python3.8/site-packages/openfl/federated/plan/plan.py\"><span style=\"color: #7f7f7f\">plan.py</span></a><span style=\"color: #7f7f7f\">:173</span>\n",
       "</pre>\n"
      ],
      "text/plain": [
       "<rich.jupyter.JupyterRenderable at 0x7eff208da160>"
      ]
     },
     "metadata": {},
     "output_type": "display_data"
    },
    {
     "data": {
      "text/html": [
       "<pre style=\"white-space:pre;overflow-x:auto;line-height:normal;font-family:Menlo,'DejaVu Sans Mono',consolas,'Courier New',monospace\"><span style=\"color: #7fbfbf\">           </span><span style=\"color: #000080\">INFO</span>     Override <span style=\"color: #800000\">🡆</span> <span style=\"font-weight: bold\">{}</span>                                                                                                                    <a href=\"file:///home/itrushkin/.virtualenvs/openfl_research/lib/python3.8/site-packages/openfl/federated/plan/plan.py\"><span style=\"color: #7f7f7f\">plan.py</span></a><span style=\"color: #7f7f7f\">:175</span>\n",
       "</pre>\n"
      ],
      "text/plain": [
       "<rich.jupyter.JupyterRenderable at 0x7f00d3b02910>"
      ]
     },
     "metadata": {},
     "output_type": "display_data"
    },
    {
     "data": {
      "text/html": [
       "<pre style=\"white-space:pre;overflow-x:auto;line-height:normal;font-family:Menlo,'DejaVu Sans Mono',consolas,'Courier New',monospace\"><span style=\"color: #7fbfbf\">[09:36:39] </span><span style=\"color: #800000\">WARNING</span>  Could not generate requirement for distribution -orch <span style=\"color: #000080; font-weight: bold\">1.8</span>.<span style=\"color: #000080; font-weight: bold\">1</span>                                                                     <a href=\"file:///home/itrushkin/.virtualenvs/openfl_research/lib/python3.8/site-packages/pip/_internal/operations/freeze.py\"><span style=\"color: #7f7f7f\">freeze.py</span></a><span style=\"color: #7f7f7f\">:72</span>\n",
       "                    <span style=\"font-weight: bold\">(</span><span style=\"color: #800080\">/home/itrushkin/.virtualenvs/openfl_research/lib/python3.8/</span><span style=\"color: #ff00ff\">site-packages</span><span style=\"font-weight: bold\">)</span>: Parse error at <span style=\"color: #008000\">\"'-orch==1'\"</span>: Expected W:<span style=\"font-weight: bold\">(</span>abcd<span style=\"color: #808000\">...</span><span style=\"font-weight: bold\">)</span>               \n",
       "</pre>\n"
      ],
      "text/plain": [
       "<rich.jupyter.JupyterRenderable at 0x7f00d16b08e0>"
      ]
     },
     "metadata": {},
     "output_type": "display_data"
    },
    {
     "data": {
      "text/html": [
       "<pre style=\"white-space:pre;overflow-x:auto;line-height:normal;font-family:Menlo,'DejaVu Sans Mono',consolas,'Courier New',monospace\"><span style=\"color: #7fbfbf\">[09:36:43] </span><span style=\"color: #000080\">INFO</span>     Starting experiment!                                                                                                       <a href=\"file:///home/itrushkin/.virtualenvs/openfl_research/lib/python3.8/site-packages/openfl/interface/interactive_api/experiment.py\"><span style=\"color: #7f7f7f\">experiment.py</span></a><span style=\"color: #7f7f7f\">:160</span>\n",
       "</pre>\n"
      ],
      "text/plain": [
       "<rich.jupyter.JupyterRenderable at 0x7f00ce84ba30>"
      ]
     },
     "metadata": {},
     "output_type": "display_data"
    },
    {
     "data": {
      "text/html": [
       "<pre style=\"white-space:pre;overflow-x:auto;line-height:normal;font-family:Menlo,'DejaVu Sans Mono',consolas,'Courier New',monospace\"><span style=\"color: #7fbfbf\">           </span><span style=\"color: #000080\">INFO</span>     FL-Plan hash is <span style=\"color: #000080\">0962e41bd0cea2599f58eb66fbe557a59f8b0717114b50e58cb0fc3c934a334b76d1f04e4109964f22b01fd55bb73d14</span>                 <a href=\"file:///home/itrushkin/.virtualenvs/openfl_research/lib/python3.8/site-packages/openfl/federated/plan/plan.py\"><span style=\"color: #7f7f7f\">plan.py</span></a><span style=\"color: #7f7f7f\">:232</span>\n",
       "</pre>\n"
      ],
      "text/plain": [
       "<rich.jupyter.JupyterRenderable at 0x7f00ce84b4c0>"
      ]
     },
     "metadata": {},
     "output_type": "display_data"
    },
    {
     "data": {
      "text/html": [
       "<pre style=\"white-space:pre;overflow-x:auto;line-height:normal;font-family:Menlo,'DejaVu Sans Mono',consolas,'Courier New',monospace\"><span style=\"color: #7fbfbf\">           </span><span style=\"color: #000080\">INFO</span>     FL-Plan hash is <span style=\"color: #000080\">0962e41bd0cea2599f58eb66fbe557a59f8b0717114b50e58cb0fc3c934a334b76d1f04e4109964f22b01fd55bb73d14</span>                 <a href=\"file:///home/itrushkin/.virtualenvs/openfl_research/lib/python3.8/site-packages/openfl/federated/plan/plan.py\"><span style=\"color: #7f7f7f\">plan.py</span></a><span style=\"color: #7f7f7f\">:232</span>\n",
       "</pre>\n"
      ],
      "text/plain": [
       "<rich.jupyter.JupyterRenderable at 0x7f00ce8c42b0>"
      ]
     },
     "metadata": {},
     "output_type": "display_data"
    },
    {
     "data": {
      "text/html": [
       "<pre style=\"white-space:pre;overflow-x:auto;line-height:normal;font-family:Menlo,'DejaVu Sans Mono',consolas,'Courier New',monospace\"><span style=\"color: #7fbfbf\">           </span><span style=\"color: #000080\">INFO</span>     Building <span style=\"color: #800000\">🡆</span> Object <span style=\"color: #800000\">CoreTaskRunner</span> from <span style=\"color: #800000\">openfl.federated.task.task_runner</span> Module.                                                  <a href=\"file:///home/itrushkin/.virtualenvs/openfl_research/lib/python3.8/site-packages/openfl/federated/plan/plan.py\"><span style=\"color: #7f7f7f\">plan.py</span></a><span style=\"color: #7f7f7f\">:170</span>\n",
       "</pre>\n"
      ],
      "text/plain": [
       "<rich.jupyter.JupyterRenderable at 0x7f00ce8c4c40>"
      ]
     },
     "metadata": {},
     "output_type": "display_data"
    },
    {
     "data": {
      "text/html": [
       "<pre style=\"white-space:pre;overflow-x:auto;line-height:normal;font-family:Menlo,'DejaVu Sans Mono',consolas,'Courier New',monospace\"><span style=\"color: #7fbfbf\">           </span><span style=\"color: #000080\">INFO</span>     Settings <span style=\"color: #800000\">🡆</span> <span style=\"font-weight: bold\">{}</span>                                                                                                                    <a href=\"file:///home/itrushkin/.virtualenvs/openfl_research/lib/python3.8/site-packages/openfl/federated/plan/plan.py\"><span style=\"color: #7f7f7f\">plan.py</span></a><span style=\"color: #7f7f7f\">:173</span>\n",
       "</pre>\n"
      ],
      "text/plain": [
       "<rich.jupyter.JupyterRenderable at 0x7f00ce8c41f0>"
      ]
     },
     "metadata": {},
     "output_type": "display_data"
    },
    {
     "data": {
      "text/html": [
       "<pre style=\"white-space:pre;overflow-x:auto;line-height:normal;font-family:Menlo,'DejaVu Sans Mono',consolas,'Courier New',monospace\"><span style=\"color: #7fbfbf\">           </span><span style=\"color: #000080\">INFO</span>     Override <span style=\"color: #800000\">🡆</span> <span style=\"font-weight: bold\">{</span><span style=\"color: #008000\">'required_plugin_components'</span>: <span style=\"font-weight: bold\">{</span><span style=\"color: #008000\">'framework_adapters'</span>:                                                                 <a href=\"file:///home/itrushkin/.virtualenvs/openfl_research/lib/python3.8/site-packages/openfl/federated/plan/plan.py\"><span style=\"color: #7f7f7f\">plan.py</span></a><span style=\"color: #7f7f7f\">:175</span>\n",
       "                    <span style=\"color: #008000\">'openfl.plugins.frameworks_adapters.pytorch_adapter.FrameworkAdapterPlugin'</span><span style=\"font-weight: bold\">}}</span>                                                               \n",
       "</pre>\n"
      ],
      "text/plain": [
       "<rich.jupyter.JupyterRenderable at 0x7f00ce8c4d60>"
      ]
     },
     "metadata": {},
     "output_type": "display_data"
    },
    {
     "data": {
      "text/html": [
       "<pre style=\"white-space:pre;overflow-x:auto;line-height:normal;font-family:Menlo,'DejaVu Sans Mono',consolas,'Courier New',monospace\"><span style=\"color: #7fbfbf\">           </span><span style=\"color: #000080\">INFO</span>     Building <span style=\"color: #800000\">🡆</span> Object <span style=\"color: #800000\">FrameworkAdapterPlugin</span> from <span style=\"color: #800000\">openfl.plugins.frameworks_adapters.pytorch_adapter</span> Module.                         <a href=\"file:///home/itrushkin/.virtualenvs/openfl_research/lib/python3.8/site-packages/openfl/federated/plan/plan.py\"><span style=\"color: #7f7f7f\">plan.py</span></a><span style=\"color: #7f7f7f\">:170</span>\n",
       "</pre>\n"
      ],
      "text/plain": [
       "<rich.jupyter.JupyterRenderable at 0x7f00ce8c4af0>"
      ]
     },
     "metadata": {},
     "output_type": "display_data"
    },
    {
     "data": {
      "text/html": [
       "<pre style=\"white-space:pre;overflow-x:auto;line-height:normal;font-family:Menlo,'DejaVu Sans Mono',consolas,'Courier New',monospace\"><span style=\"color: #7fbfbf\">           </span><span style=\"color: #000080\">INFO</span>     Settings <span style=\"color: #800000\">🡆</span> <span style=\"font-weight: bold\">{}</span>                                                                                                                    <a href=\"file:///home/itrushkin/.virtualenvs/openfl_research/lib/python3.8/site-packages/openfl/federated/plan/plan.py\"><span style=\"color: #7f7f7f\">plan.py</span></a><span style=\"color: #7f7f7f\">:173</span>\n",
       "</pre>\n"
      ],
      "text/plain": [
       "<rich.jupyter.JupyterRenderable at 0x7f00ce8c4a90>"
      ]
     },
     "metadata": {},
     "output_type": "display_data"
    },
    {
     "data": {
      "text/html": [
       "<pre style=\"white-space:pre;overflow-x:auto;line-height:normal;font-family:Menlo,'DejaVu Sans Mono',consolas,'Courier New',monospace\"><span style=\"color: #7fbfbf\">           </span><span style=\"color: #000080\">INFO</span>     Override <span style=\"color: #800000\">🡆</span> <span style=\"font-weight: bold\">{}</span>                                                                                                                    <a href=\"file:///home/itrushkin/.virtualenvs/openfl_research/lib/python3.8/site-packages/openfl/federated/plan/plan.py\"><span style=\"color: #7f7f7f\">plan.py</span></a><span style=\"color: #7f7f7f\">:175</span>\n",
       "</pre>\n"
      ],
      "text/plain": [
       "<rich.jupyter.JupyterRenderable at 0x7f00ce8c4580>"
      ]
     },
     "metadata": {},
     "output_type": "display_data"
    },
    {
     "data": {
      "text/html": [
       "<pre style=\"white-space:pre;overflow-x:auto;line-height:normal;font-family:Menlo,'DejaVu Sans Mono',consolas,'Courier New',monospace\"><span style=\"color: #7fbfbf\">           </span><span style=\"color: #800000\">WARNING</span>  tried to remove tensor: __opt_state_needed not present in the tensor dict                                                       <a href=\"file:///home/itrushkin/.virtualenvs/openfl_research/lib/python3.8/site-packages/openfl/utilities/utils.py\"><span style=\"color: #7f7f7f\">utils.py</span></a><span style=\"color: #7f7f7f\">:163</span>\n",
       "</pre>\n"
      ],
      "text/plain": [
       "<rich.jupyter.JupyterRenderable at 0x7f00ce8c4880>"
      ]
     },
     "metadata": {},
     "output_type": "display_data"
    },
    {
     "data": {
      "text/html": [
       "<pre style=\"white-space:pre;overflow-x:auto;line-height:normal;font-family:Menlo,'DejaVu Sans Mono',consolas,'Courier New',monospace\"><span style=\"color: #7fbfbf\">           </span><span style=\"color: #800000\">WARNING</span>  tried to remove tensor: __opt_state_needed not present in the tensor dict                                                       <a href=\"file:///home/itrushkin/.virtualenvs/openfl_research/lib/python3.8/site-packages/openfl/utilities/utils.py\"><span style=\"color: #7f7f7f\">utils.py</span></a><span style=\"color: #7f7f7f\">:163</span>\n",
       "</pre>\n"
      ],
      "text/plain": [
       "<rich.jupyter.JupyterRenderable at 0x7f00ce8c4e20>"
      ]
     },
     "metadata": {},
     "output_type": "display_data"
    },
    {
     "data": {
      "text/html": [
       "<pre style=\"white-space:pre;overflow-x:auto;line-height:normal;font-family:Menlo,'DejaVu Sans Mono',consolas,'Courier New',monospace\"><span style=\"color: #7fbfbf\">           </span><span style=\"color: #000080\">INFO</span>     SetNewExperiment                                                                                                      <a href=\"file:///home/itrushkin/.virtualenvs/openfl_research/lib/python3.8/site-packages/openfl/transport/grpc/director_client.py\"><span style=\"color: #7f7f7f\">director_client.py</span></a><span style=\"color: #7f7f7f\">:166</span>\n",
       "</pre>\n"
      ],
      "text/plain": [
       "<rich.jupyter.JupyterRenderable at 0x7f00ce8c4d90>"
      ]
     },
     "metadata": {},
     "output_type": "display_data"
    },
    {
     "data": {
      "text/html": [
       "<pre style=\"white-space:pre;overflow-x:auto;line-height:normal;font-family:Menlo,'DejaVu Sans Mono',consolas,'Courier New',monospace\"><span style=\"color: #7fbfbf\">[09:36:45] </span><span style=\"color: #000080\">INFO</span>     Experiment was accepted and launched.                                                                                      <a href=\"file:///home/itrushkin/.virtualenvs/openfl_research/lib/python3.8/site-packages/openfl/interface/interactive_api/experiment.py\"><span style=\"color: #7f7f7f\">experiment.py</span></a><span style=\"color: #7f7f7f\">:174</span>\n",
       "</pre>\n"
      ],
      "text/plain": [
       "<rich.jupyter.JupyterRenderable at 0x7f00ce8c43d0>"
      ]
     },
     "metadata": {},
     "output_type": "display_data"
    }
   ],
   "source": [
    "# If I use autoreload I got a pickling error\n",
    "\n",
    "# The following command zips the workspace and python requirements to be transfered to collaborator nodes\n",
    "fl_experiment.start(model_provider=MI, \n",
    "                    task_keeper=TI,\n",
    "                    data_loader=fed_dataset,\n",
    "                    aggregation_function_interface=AFI,\n",
    "                    rounds_to_train=2,\n",
    "                    opt_treatment='CONTINUE_GLOBAL',\n",
    "                    )\n"
   ]
  },
  {
   "cell_type": "code",
   "execution_count": 16,
   "id": "f1543a36",
   "metadata": {},
   "outputs": [
    {
     "data": {
      "text/html": [
       "<pre style=\"white-space:pre;overflow-x:auto;line-height:normal;font-family:Menlo,'DejaVu Sans Mono',consolas,'Courier New',monospace\"><span style=\"color: #7fbfbf\">[09:40:47] </span>METRIC   Round <span style=\"color: #000080; font-weight: bold\">0</span>, collaborator env_one train result train_loss:  <span style=\"color: #000080; font-weight: bold\">0.7138687968254089</span>                                                  <a href=\"file:///home/itrushkin/.virtualenvs/openfl_research/lib/python3.8/site-packages/openfl/interface/interactive_api/experiment.py\"><span style=\"color: #7f7f7f\">experiment.py</span></a><span style=\"color: #7f7f7f\">:91</span>\n",
       "</pre>\n"
      ],
      "text/plain": [
       "<rich.jupyter.JupyterRenderable at 0x7f00d3b02910>"
      ]
     },
     "metadata": {},
     "output_type": "display_data"
    },
    {
     "data": {
      "text/html": [
       "<pre style=\"white-space:pre;overflow-x:auto;line-height:normal;font-family:Menlo,'DejaVu Sans Mono',consolas,'Courier New',monospace\"><span style=\"color: #7fbfbf\">           </span>METRIC   Round <span style=\"color: #000080; font-weight: bold\">0</span>, collaborator env_one localy_tuned_model_validate result dice_coef:     <span style=\"color: #000080; font-weight: bold\">0.1746579259634018</span>                          <a href=\"file:///home/itrushkin/.virtualenvs/openfl_research/lib/python3.8/site-packages/openfl/interface/interactive_api/experiment.py\"><span style=\"color: #7f7f7f\">experiment.py</span></a><span style=\"color: #7f7f7f\">:91</span>\n",
       "</pre>\n"
      ],
      "text/plain": [
       "<rich.jupyter.JupyterRenderable at 0x7f00ce8af850>"
      ]
     },
     "metadata": {},
     "output_type": "display_data"
    },
    {
     "data": {
      "text/html": [
       "<pre style=\"white-space:pre;overflow-x:auto;line-height:normal;font-family:Menlo,'DejaVu Sans Mono',consolas,'Courier New',monospace\"><span style=\"color: #7fbfbf\">           </span>METRIC   Round <span style=\"color: #000080; font-weight: bold\">0</span>, collaborator env_one aggregated_model_validate result dice_coef:       <span style=\"color: #000080; font-weight: bold\">0.17282849550247192</span>                         <a href=\"file:///home/itrushkin/.virtualenvs/openfl_research/lib/python3.8/site-packages/openfl/interface/interactive_api/experiment.py\"><span style=\"color: #7f7f7f\">experiment.py</span></a><span style=\"color: #7f7f7f\">:91</span>\n",
       "</pre>\n"
      ],
      "text/plain": [
       "<rich.jupyter.JupyterRenderable at 0x7f00ce8af070>"
      ]
     },
     "metadata": {},
     "output_type": "display_data"
    },
    {
     "data": {
      "text/html": [
       "<pre style=\"white-space:pre;overflow-x:auto;line-height:normal;font-family:Menlo,'DejaVu Sans Mono',consolas,'Courier New',monospace\"><span style=\"color: #7fbfbf\">[09:40:57] </span>METRIC   Round <span style=\"color: #000080; font-weight: bold\">0</span>, collaborator Aggregator train result train_loss:       <span style=\"color: #000080; font-weight: bold\">0.7138687968254089</span>                                          <a href=\"file:///home/itrushkin/.virtualenvs/openfl_research/lib/python3.8/site-packages/openfl/interface/interactive_api/experiment.py\"><span style=\"color: #7f7f7f\">experiment.py</span></a><span style=\"color: #7f7f7f\">:91</span>\n",
       "</pre>\n"
      ],
      "text/plain": [
       "<rich.jupyter.JupyterRenderable at 0x7f00ce8afb50>"
      ]
     },
     "metadata": {},
     "output_type": "display_data"
    },
    {
     "data": {
      "text/html": [
       "<pre style=\"white-space:pre;overflow-x:auto;line-height:normal;font-family:Menlo,'DejaVu Sans Mono',consolas,'Courier New',monospace\"><span style=\"color: #7fbfbf\">           </span>METRIC   Round <span style=\"color: #000080; font-weight: bold\">0</span>, collaborator Aggregator aggregated_model_validate result dice_coef:    <span style=\"color: #000080; font-weight: bold\">0.17282849550247192</span>                         <a href=\"file:///home/itrushkin/.virtualenvs/openfl_research/lib/python3.8/site-packages/openfl/interface/interactive_api/experiment.py\"><span style=\"color: #7f7f7f\">experiment.py</span></a><span style=\"color: #7f7f7f\">:91</span>\n",
       "</pre>\n"
      ],
      "text/plain": [
       "<rich.jupyter.JupyterRenderable at 0x7f00ce8afa30>"
      ]
     },
     "metadata": {},
     "output_type": "display_data"
    },
    {
     "data": {
      "text/html": [
       "<pre style=\"white-space:pre;overflow-x:auto;line-height:normal;font-family:Menlo,'DejaVu Sans Mono',consolas,'Courier New',monospace\"><span style=\"color: #7fbfbf\">           </span>METRIC   Round <span style=\"color: #000080; font-weight: bold\">0</span>, collaborator Aggregator localy_tuned_model_validate result dice_coef:  <span style=\"color: #000080; font-weight: bold\">0.1746579259634018</span>                          <a href=\"file:///home/itrushkin/.virtualenvs/openfl_research/lib/python3.8/site-packages/openfl/interface/interactive_api/experiment.py\"><span style=\"color: #7f7f7f\">experiment.py</span></a><span style=\"color: #7f7f7f\">:91</span>\n",
       "</pre>\n"
      ],
      "text/plain": [
       "<rich.jupyter.JupyterRenderable at 0x7f00ce8af190>"
      ]
     },
     "metadata": {},
     "output_type": "display_data"
    },
    {
     "data": {
      "text/html": [
       "<pre style=\"white-space:pre;overflow-x:auto;line-height:normal;font-family:Menlo,'DejaVu Sans Mono',consolas,'Courier New',monospace\"><span style=\"color: #7fbfbf\">[09:41:07] </span>METRIC   Round <span style=\"color: #000080; font-weight: bold\">1</span>, collaborator env_one train result train_loss:  <span style=\"color: #000080; font-weight: bold\">0.6912698745727539</span>                                                  <a href=\"file:///home/itrushkin/.virtualenvs/openfl_research/lib/python3.8/site-packages/openfl/interface/interactive_api/experiment.py\"><span style=\"color: #7f7f7f\">experiment.py</span></a><span style=\"color: #7f7f7f\">:91</span>\n",
       "</pre>\n"
      ],
      "text/plain": [
       "<rich.jupyter.JupyterRenderable at 0x7f00ce8af880>"
      ]
     },
     "metadata": {},
     "output_type": "display_data"
    },
    {
     "data": {
      "text/html": [
       "<pre style=\"white-space:pre;overflow-x:auto;line-height:normal;font-family:Menlo,'DejaVu Sans Mono',consolas,'Courier New',monospace\"><span style=\"color: #7fbfbf\">           </span>METRIC   Round <span style=\"color: #000080; font-weight: bold\">1</span>, collaborator env_one localy_tuned_model_validate result dice_coef:     <span style=\"color: #000080; font-weight: bold\">0.17702142894268036</span>                         <a href=\"file:///home/itrushkin/.virtualenvs/openfl_research/lib/python3.8/site-packages/openfl/interface/interactive_api/experiment.py\"><span style=\"color: #7f7f7f\">experiment.py</span></a><span style=\"color: #7f7f7f\">:91</span>\n",
       "</pre>\n"
      ],
      "text/plain": [
       "<rich.jupyter.JupyterRenderable at 0x7f00ce8af190>"
      ]
     },
     "metadata": {},
     "output_type": "display_data"
    },
    {
     "data": {
      "text/html": [
       "<pre style=\"white-space:pre;overflow-x:auto;line-height:normal;font-family:Menlo,'DejaVu Sans Mono',consolas,'Courier New',monospace\"><span style=\"color: #7fbfbf\">[09:41:12] </span>METRIC   Round <span style=\"color: #000080; font-weight: bold\">1</span>, collaborator env_one aggregated_model_validate result dice_coef:       <span style=\"color: #000080; font-weight: bold\">0.1746579259634018</span>                          <a href=\"file:///home/itrushkin/.virtualenvs/openfl_research/lib/python3.8/site-packages/openfl/interface/interactive_api/experiment.py\"><span style=\"color: #7f7f7f\">experiment.py</span></a><span style=\"color: #7f7f7f\">:91</span>\n",
       "</pre>\n"
      ],
      "text/plain": [
       "<rich.jupyter.JupyterRenderable at 0x7f00ce8af220>"
      ]
     },
     "metadata": {},
     "output_type": "display_data"
    },
    {
     "data": {
      "text/html": [
       "<pre style=\"white-space:pre;overflow-x:auto;line-height:normal;font-family:Menlo,'DejaVu Sans Mono',consolas,'Courier New',monospace\"><span style=\"color: #7fbfbf\">[09:41:17] </span>METRIC   Round <span style=\"color: #000080; font-weight: bold\">1</span>, collaborator Aggregator train result train_loss:       <span style=\"color: #000080; font-weight: bold\">0.6912698745727539</span>                                          <a href=\"file:///home/itrushkin/.virtualenvs/openfl_research/lib/python3.8/site-packages/openfl/interface/interactive_api/experiment.py\"><span style=\"color: #7f7f7f\">experiment.py</span></a><span style=\"color: #7f7f7f\">:91</span>\n",
       "</pre>\n"
      ],
      "text/plain": [
       "<rich.jupyter.JupyterRenderable at 0x7f00ce8af190>"
      ]
     },
     "metadata": {},
     "output_type": "display_data"
    },
    {
     "data": {
      "text/html": [
       "<pre style=\"white-space:pre;overflow-x:auto;line-height:normal;font-family:Menlo,'DejaVu Sans Mono',consolas,'Courier New',monospace\"><span style=\"color: #7fbfbf\">           </span>METRIC   Round <span style=\"color: #000080; font-weight: bold\">1</span>, collaborator Aggregator aggregated_model_validate result dice_coef:    <span style=\"color: #000080; font-weight: bold\">0.1746579259634018</span>                          <a href=\"file:///home/itrushkin/.virtualenvs/openfl_research/lib/python3.8/site-packages/openfl/interface/interactive_api/experiment.py\"><span style=\"color: #7f7f7f\">experiment.py</span></a><span style=\"color: #7f7f7f\">:91</span>\n",
       "</pre>\n"
      ],
      "text/plain": [
       "<rich.jupyter.JupyterRenderable at 0x7f00ce8af850>"
      ]
     },
     "metadata": {},
     "output_type": "display_data"
    },
    {
     "data": {
      "text/html": [
       "<pre style=\"white-space:pre;overflow-x:auto;line-height:normal;font-family:Menlo,'DejaVu Sans Mono',consolas,'Courier New',monospace\"><span style=\"color: #7fbfbf\">           </span>METRIC   Round <span style=\"color: #000080; font-weight: bold\">1</span>, collaborator Aggregator localy_tuned_model_validate result dice_coef:  <span style=\"color: #000080; font-weight: bold\">0.17702142894268036</span>                         <a href=\"file:///home/itrushkin/.virtualenvs/openfl_research/lib/python3.8/site-packages/openfl/interface/interactive_api/experiment.py\"><span style=\"color: #7f7f7f\">experiment.py</span></a><span style=\"color: #7f7f7f\">:91</span>\n",
       "</pre>\n"
      ],
      "text/plain": [
       "<rich.jupyter.JupyterRenderable at 0x7f00ce8af340>"
      ]
     },
     "metadata": {},
     "output_type": "display_data"
    }
   ],
   "source": [
    "# If user want to stop IPython session, then reconnect and check how experiment is going \n",
    "# fl_experiment.restore_experiment_state(MI)\n",
    "\n",
    "fl_experiment.stream_metrics()"
   ]
  },
  {
   "cell_type": "markdown",
   "id": "8c30b301",
   "metadata": {},
   "source": [
    "## Now we validate the best model!"
   ]
  },
  {
   "cell_type": "code",
   "execution_count": 17,
   "id": "55acff59",
   "metadata": {
    "scrolled": true
   },
   "outputs": [
    {
     "name": "stderr",
     "output_type": "stream",
     "text": [
      "/home/itrushkin/.virtualenvs/openfl_research/lib/python3.8/site-packages/openfl/plugins/frameworks_adapters/pytorch_adapter.py:47: UserWarning: The given NumPy array is not writeable, and PyTorch does not support non-writeable tensors. This means you can write to the underlying (supposedly non-writeable) NumPy array using the tensor. You may want to copy the array to protect its data or make it writeable before converting it to a tensor. This type of warning will be suppressed for the rest of this program. (Triggered internally at  /pytorch/torch/csrc/utils/tensor_numpy.cpp:141.)\n",
      "  new_state[k] = pt.from_numpy(tensor_dict.pop(k)).to(device)\n"
     ]
    }
   ],
   "source": [
    "best_model = fl_experiment.get_best_model()"
   ]
  },
  {
   "cell_type": "code",
   "execution_count": 18,
   "id": "9479fb7f",
   "metadata": {},
   "outputs": [
    {
     "data": {
      "text/html": [
       "<pre style=\"white-space:pre;overflow-x:auto;line-height:normal;font-family:Menlo,'DejaVu Sans Mono',consolas,'Courier New',monospace\"><span style=\"color: #7fbfbf\">           </span><span style=\"color: #000080\">INFO</span>     Removing experiment data succeed.                                                                                          <a href=\"file:///home/itrushkin/.virtualenvs/openfl_research/lib/python3.8/site-packages/openfl/interface/interactive_api/experiment.py\"><span style=\"color: #7f7f7f\">experiment.py</span></a><span style=\"color: #7f7f7f\">:121</span>\n",
       "</pre>\n"
      ],
      "text/plain": [
       "<rich.jupyter.JupyterRenderable at 0x7f00ce8af310>"
      ]
     },
     "metadata": {},
     "output_type": "display_data"
    }
   ],
   "source": [
    "# We remove exremove_experiment_datamove_experiment_datamove_experiment_datariment data from director\n",
    "fl_experiment.remove_experiment_data()"
   ]
  },
  {
   "cell_type": "code",
   "execution_count": 19,
   "id": "75c8aeab",
   "metadata": {},
   "outputs": [
    {
     "data": {
      "text/plain": [
       "Parameter containing:\n",
       "tensor([[[[-0.0737, -0.1915, -0.0344],\n",
       "          [-0.0166,  0.1024, -0.1584],\n",
       "          [ 0.0114, -0.0081,  0.1731]],\n",
       "\n",
       "         [[-0.1079, -0.0270, -0.1239],\n",
       "          [-0.1247, -0.1552, -0.1031],\n",
       "          [ 0.1333,  0.0950, -0.1716]],\n",
       "\n",
       "         [[-0.0861, -0.1247, -0.1340],\n",
       "          [-0.0999,  0.1094, -0.1346],\n",
       "          [-0.1167,  0.0042, -0.0011]]],\n",
       "\n",
       "\n",
       "        [[[ 0.0277, -0.0771, -0.0197],\n",
       "          [ 0.0077, -0.1779,  0.0551],\n",
       "          [-0.1139, -0.0079,  0.1924]],\n",
       "\n",
       "         [[-0.0055, -0.0722,  0.1574],\n",
       "          [ 0.1661, -0.0146, -0.0411],\n",
       "          [ 0.0908,  0.1240,  0.0143]],\n",
       "\n",
       "         [[-0.0833,  0.0672,  0.0888],\n",
       "          [-0.0406, -0.1838, -0.1030],\n",
       "          [-0.0129, -0.0773, -0.1052]]],\n",
       "\n",
       "\n",
       "        [[[-0.1422,  0.0150, -0.1097],\n",
       "          [-0.0584,  0.0551, -0.0829],\n",
       "          [ 0.1244,  0.1618,  0.1791]],\n",
       "\n",
       "         [[ 0.1426,  0.1541, -0.1197],\n",
       "          [ 0.1415, -0.0238,  0.0541],\n",
       "          [ 0.1625,  0.1682,  0.1133]],\n",
       "\n",
       "         [[-0.1785, -0.0475, -0.0229],\n",
       "          [ 0.0120,  0.1399,  0.0152],\n",
       "          [-0.0178,  0.1129,  0.1467]]],\n",
       "\n",
       "\n",
       "        ...,\n",
       "\n",
       "\n",
       "        [[[ 0.0227,  0.0466, -0.0769],\n",
       "          [ 0.0178,  0.0066,  0.0186],\n",
       "          [ 0.0459,  0.1102,  0.0052]],\n",
       "\n",
       "         [[-0.1907,  0.1482, -0.1829],\n",
       "          [ 0.0350,  0.0171, -0.0315],\n",
       "          [-0.0227,  0.1310,  0.0980]],\n",
       "\n",
       "         [[ 0.0320, -0.0384, -0.1420],\n",
       "          [-0.0359, -0.1694,  0.1256],\n",
       "          [ 0.0738,  0.0966, -0.1112]]],\n",
       "\n",
       "\n",
       "        [[[ 0.1012,  0.0816,  0.0120],\n",
       "          [-0.1156, -0.0872, -0.0329],\n",
       "          [ 0.1768, -0.0652, -0.0343]],\n",
       "\n",
       "         [[ 0.1165,  0.1437, -0.1059],\n",
       "          [-0.0469, -0.0848,  0.0381],\n",
       "          [-0.1719, -0.1523, -0.1704]],\n",
       "\n",
       "         [[ 0.1880,  0.1718,  0.1629],\n",
       "          [-0.0264,  0.1284,  0.0646],\n",
       "          [ 0.0977,  0.1509, -0.0565]]],\n",
       "\n",
       "\n",
       "        [[[-0.1769,  0.0707,  0.0425],\n",
       "          [-0.0107,  0.1432,  0.1160],\n",
       "          [-0.0762,  0.1361, -0.0260]],\n",
       "\n",
       "         [[ 0.1580, -0.1298,  0.1117],\n",
       "          [-0.0636,  0.1459, -0.1712],\n",
       "          [ 0.0539,  0.1438, -0.1877]],\n",
       "\n",
       "         [[ 0.1760,  0.0345,  0.0044],\n",
       "          [ 0.1758, -0.0012, -0.1412],\n",
       "          [-0.1770,  0.0560, -0.1797]]]], requires_grad=True)"
      ]
     },
     "execution_count": 19,
     "metadata": {},
     "output_type": "execute_result"
    }
   ],
   "source": [
    "best_model.inc.conv[0].weight\n",
    "# model_unet.inc.conv[0].weight"
   ]
  },
  {
   "cell_type": "code",
   "execution_count": 20,
   "id": "a2acb7e6",
   "metadata": {},
   "outputs": [
    {
     "name": "stderr",
     "output_type": "stream",
     "text": [
      "validate:   0%|          | 0/1 [00:00<?, ?it/s]<ipython-input-13-9aa26c51b37c>:67: UserWarning: To copy construct from a tensor, it is recommended to use sourceTensor.clone().detach() or sourceTensor.clone().detach().requires_grad_(True), rather than torch.tensor(sourceTensor).\n",
      "  data, target = torch.tensor(data).to(device), \\\n",
      "<ipython-input-13-9aa26c51b37c>:68: UserWarning: To copy construct from a tensor, it is recommended to use sourceTensor.clone().detach() or sourceTensor.clone().detach().requires_grad_(True), rather than torch.tensor(sourceTensor).\n",
      "  torch.tensor(target).to(device, dtype=torch.int64)\n",
      "validate: 100%|██████████| 1/1 [00:00<00:00,  1.14it/s]\n"
     ]
    },
    {
     "data": {
      "text/plain": [
       "{'dice_coef': 3.748830931726843e-05}"
      ]
     },
     "execution_count": 20,
     "metadata": {},
     "output_type": "execute_result"
    }
   ],
   "source": [
    "# Validating initial model\n",
    "validate(initial_model, fed_dataset.get_valid_loader(), 'cpu')"
   ]
  },
  {
   "cell_type": "code",
   "execution_count": 21,
   "id": "c12ca93f",
   "metadata": {},
   "outputs": [
    {
     "name": "stderr",
     "output_type": "stream",
     "text": [
      "validate:   0%|          | 0/1 [00:00<?, ?it/s]<ipython-input-13-9aa26c51b37c>:67: UserWarning: To copy construct from a tensor, it is recommended to use sourceTensor.clone().detach() or sourceTensor.clone().detach().requires_grad_(True), rather than torch.tensor(sourceTensor).\n",
      "  data, target = torch.tensor(data).to(device), \\\n",
      "<ipython-input-13-9aa26c51b37c>:68: UserWarning: To copy construct from a tensor, it is recommended to use sourceTensor.clone().detach() or sourceTensor.clone().detach().requires_grad_(True), rather than torch.tensor(sourceTensor).\n",
      "  torch.tensor(target).to(device, dtype=torch.int64)\n",
      "validate: 100%|██████████| 1/1 [00:00<00:00,  1.20it/s]\n"
     ]
    },
    {
     "data": {
      "text/plain": [
       "{'dice_coef': 3.6274592275731266e-05}"
      ]
     },
     "execution_count": 21,
     "metadata": {},
     "output_type": "execute_result"
    }
   ],
   "source": [
    "# Validating trained model\n",
    "validate(best_model, fed_dataset.get_valid_loader(), 'cpu')"
   ]
  },
  {
   "cell_type": "markdown",
   "id": "1e6734f6",
   "metadata": {},
   "source": [
    "## We can tune model further!"
   ]
  },
  {
   "cell_type": "code",
   "execution_count": 22,
   "id": "3940e75e",
   "metadata": {},
   "outputs": [
    {
     "data": {
      "text/html": [
       "<pre style=\"white-space:pre;overflow-x:auto;line-height:normal;font-family:Menlo,'DejaVu Sans Mono',consolas,'Courier New',monospace\"><span style=\"color: #7fbfbf\">[09:41:25] </span><span style=\"color: #000080\">INFO</span>     Building <span style=\"color: #800000\">🡆</span> Object <span style=\"color: #800000\">CloudpickleSerializer</span> from <span style=\"color: #800000\">openfl.plugins.interface_serializer.cloudpickle_serializer</span> Module.                  <a href=\"file:///home/itrushkin/.virtualenvs/openfl_research/lib/python3.8/site-packages/openfl/federated/plan/plan.py\"><span style=\"color: #7f7f7f\">plan.py</span></a><span style=\"color: #7f7f7f\">:170</span>\n",
       "</pre>\n"
      ],
      "text/plain": [
       "<rich.jupyter.JupyterRenderable at 0x7f00ce84b7c0>"
      ]
     },
     "metadata": {},
     "output_type": "display_data"
    },
    {
     "data": {
      "text/html": [
       "<pre style=\"white-space:pre;overflow-x:auto;line-height:normal;font-family:Menlo,'DejaVu Sans Mono',consolas,'Courier New',monospace\"><span style=\"color: #7fbfbf\">           </span><span style=\"color: #000080\">INFO</span>     Settings <span style=\"color: #800000\">🡆</span> <span style=\"font-weight: bold\">{}</span>                                                                                                                    <a href=\"file:///home/itrushkin/.virtualenvs/openfl_research/lib/python3.8/site-packages/openfl/federated/plan/plan.py\"><span style=\"color: #7f7f7f\">plan.py</span></a><span style=\"color: #7f7f7f\">:173</span>\n",
       "</pre>\n"
      ],
      "text/plain": [
       "<rich.jupyter.JupyterRenderable at 0x7f00ce84b160>"
      ]
     },
     "metadata": {},
     "output_type": "display_data"
    },
    {
     "data": {
      "text/html": [
       "<pre style=\"white-space:pre;overflow-x:auto;line-height:normal;font-family:Menlo,'DejaVu Sans Mono',consolas,'Courier New',monospace\"><span style=\"color: #7fbfbf\">           </span><span style=\"color: #000080\">INFO</span>     Override <span style=\"color: #800000\">🡆</span> <span style=\"font-weight: bold\">{}</span>                                                                                                                    <a href=\"file:///home/itrushkin/.virtualenvs/openfl_research/lib/python3.8/site-packages/openfl/federated/plan/plan.py\"><span style=\"color: #7f7f7f\">plan.py</span></a><span style=\"color: #7f7f7f\">:175</span>\n",
       "</pre>\n"
      ],
      "text/plain": [
       "<rich.jupyter.JupyterRenderable at 0x7f00ce84b100>"
      ]
     },
     "metadata": {},
     "output_type": "display_data"
    },
    {
     "data": {
      "text/html": [
       "<pre style=\"white-space:pre;overflow-x:auto;line-height:normal;font-family:Menlo,'DejaVu Sans Mono',consolas,'Courier New',monospace\"><span style=\"color: #7fbfbf\">           </span><span style=\"color: #000080\">INFO</span>     Building <span style=\"color: #800000\">🡆</span> Object <span style=\"color: #800000\">FrameworkAdapterPlugin</span> from <span style=\"color: #800000\">openfl.plugins.frameworks_adapters.pytorch_adapter</span> Module.                         <a href=\"file:///home/itrushkin/.virtualenvs/openfl_research/lib/python3.8/site-packages/openfl/federated/plan/plan.py\"><span style=\"color: #7f7f7f\">plan.py</span></a><span style=\"color: #7f7f7f\">:170</span>\n",
       "</pre>\n"
      ],
      "text/plain": [
       "<rich.jupyter.JupyterRenderable at 0x7f00ce84be20>"
      ]
     },
     "metadata": {},
     "output_type": "display_data"
    },
    {
     "data": {
      "text/html": [
       "<pre style=\"white-space:pre;overflow-x:auto;line-height:normal;font-family:Menlo,'DejaVu Sans Mono',consolas,'Courier New',monospace\"><span style=\"color: #7fbfbf\">           </span><span style=\"color: #000080\">INFO</span>     Settings <span style=\"color: #800000\">🡆</span> <span style=\"font-weight: bold\">{}</span>                                                                                                                    <a href=\"file:///home/itrushkin/.virtualenvs/openfl_research/lib/python3.8/site-packages/openfl/federated/plan/plan.py\"><span style=\"color: #7f7f7f\">plan.py</span></a><span style=\"color: #7f7f7f\">:173</span>\n",
       "</pre>\n"
      ],
      "text/plain": [
       "<rich.jupyter.JupyterRenderable at 0x7f00ce84be20>"
      ]
     },
     "metadata": {},
     "output_type": "display_data"
    },
    {
     "data": {
      "text/html": [
       "<pre style=\"white-space:pre;overflow-x:auto;line-height:normal;font-family:Menlo,'DejaVu Sans Mono',consolas,'Courier New',monospace\"><span style=\"color: #7fbfbf\">           </span><span style=\"color: #000080\">INFO</span>     Override <span style=\"color: #800000\">🡆</span> <span style=\"font-weight: bold\">{}</span>                                                                                                                    <a href=\"file:///home/itrushkin/.virtualenvs/openfl_research/lib/python3.8/site-packages/openfl/federated/plan/plan.py\"><span style=\"color: #7f7f7f\">plan.py</span></a><span style=\"color: #7f7f7f\">:175</span>\n",
       "</pre>\n"
      ],
      "text/plain": [
       "<rich.jupyter.JupyterRenderable at 0x7f00ce84bb80>"
      ]
     },
     "metadata": {},
     "output_type": "display_data"
    },
    {
     "data": {
      "text/html": [
       "<pre style=\"white-space:pre;overflow-x:auto;line-height:normal;font-family:Menlo,'DejaVu Sans Mono',consolas,'Courier New',monospace\"><span style=\"color: #7fbfbf\">           </span><span style=\"color: #800000\">WARNING</span>  Could not generate requirement for distribution -orch <span style=\"color: #000080; font-weight: bold\">1.8</span>.<span style=\"color: #000080; font-weight: bold\">1</span>                                                                     <a href=\"file:///home/itrushkin/.virtualenvs/openfl_research/lib/python3.8/site-packages/pip/_internal/operations/freeze.py\"><span style=\"color: #7f7f7f\">freeze.py</span></a><span style=\"color: #7f7f7f\">:72</span>\n",
       "                    <span style=\"font-weight: bold\">(</span><span style=\"color: #800080\">/home/itrushkin/.virtualenvs/openfl_research/lib/python3.8/</span><span style=\"color: #ff00ff\">site-packages</span><span style=\"font-weight: bold\">)</span>: Parse error at <span style=\"color: #008000\">\"'-orch==1'\"</span>: Expected W:<span style=\"font-weight: bold\">(</span>abcd<span style=\"color: #808000\">...</span><span style=\"font-weight: bold\">)</span>               \n",
       "</pre>\n"
      ],
      "text/plain": [
       "<rich.jupyter.JupyterRenderable at 0x7f00ce8945e0>"
      ]
     },
     "metadata": {},
     "output_type": "display_data"
    },
    {
     "data": {
      "text/html": [
       "<pre style=\"white-space:pre;overflow-x:auto;line-height:normal;font-family:Menlo,'DejaVu Sans Mono',consolas,'Courier New',monospace\"><span style=\"color: #7fbfbf\">[09:41:28] </span><span style=\"color: #000080\">INFO</span>     Starting experiment!                                                                                                       <a href=\"file:///home/itrushkin/.virtualenvs/openfl_research/lib/python3.8/site-packages/openfl/interface/interactive_api/experiment.py\"><span style=\"color: #7f7f7f\">experiment.py</span></a><span style=\"color: #7f7f7f\">:160</span>\n",
       "</pre>\n"
      ],
      "text/plain": [
       "<rich.jupyter.JupyterRenderable at 0x7f00d3fdebb0>"
      ]
     },
     "metadata": {},
     "output_type": "display_data"
    },
    {
     "data": {
      "text/html": [
       "<pre style=\"white-space:pre;overflow-x:auto;line-height:normal;font-family:Menlo,'DejaVu Sans Mono',consolas,'Courier New',monospace\"><span style=\"color: #7fbfbf\">           </span><span style=\"color: #000080\">INFO</span>     FL-Plan hash is <span style=\"color: #000080\">81304ebe5a2a0bdfba6fb8140a11a61cec8cf15a98285f291f044aef27cffd9e842623c1389f47aaef827396b9bb9afc</span>                 <a href=\"file:///home/itrushkin/.virtualenvs/openfl_research/lib/python3.8/site-packages/openfl/federated/plan/plan.py\"><span style=\"color: #7f7f7f\">plan.py</span></a><span style=\"color: #7f7f7f\">:232</span>\n",
       "</pre>\n"
      ],
      "text/plain": [
       "<rich.jupyter.JupyterRenderable at 0x7f00d3fd52b0>"
      ]
     },
     "metadata": {},
     "output_type": "display_data"
    },
    {
     "data": {
      "text/html": [
       "<pre style=\"white-space:pre;overflow-x:auto;line-height:normal;font-family:Menlo,'DejaVu Sans Mono',consolas,'Courier New',monospace\"><span style=\"color: #7fbfbf\">           </span><span style=\"color: #000080\">INFO</span>     FL-Plan hash is <span style=\"color: #000080\">81304ebe5a2a0bdfba6fb8140a11a61cec8cf15a98285f291f044aef27cffd9e842623c1389f47aaef827396b9bb9afc</span>                 <a href=\"file:///home/itrushkin/.virtualenvs/openfl_research/lib/python3.8/site-packages/openfl/federated/plan/plan.py\"><span style=\"color: #7f7f7f\">plan.py</span></a><span style=\"color: #7f7f7f\">:232</span>\n",
       "</pre>\n"
      ],
      "text/plain": [
       "<rich.jupyter.JupyterRenderable at 0x7f00d3fd25b0>"
      ]
     },
     "metadata": {},
     "output_type": "display_data"
    },
    {
     "data": {
      "text/html": [
       "<pre style=\"white-space:pre;overflow-x:auto;line-height:normal;font-family:Menlo,'DejaVu Sans Mono',consolas,'Courier New',monospace\"><span style=\"color: #7fbfbf\">           </span><span style=\"color: #000080\">INFO</span>     Building <span style=\"color: #800000\">🡆</span> Object <span style=\"color: #800000\">CoreTaskRunner</span> from <span style=\"color: #800000\">openfl.federated.task.task_runner</span> Module.                                                  <a href=\"file:///home/itrushkin/.virtualenvs/openfl_research/lib/python3.8/site-packages/openfl/federated/plan/plan.py\"><span style=\"color: #7f7f7f\">plan.py</span></a><span style=\"color: #7f7f7f\">:170</span>\n",
       "</pre>\n"
      ],
      "text/plain": [
       "<rich.jupyter.JupyterRenderable at 0x7f00d3fd26d0>"
      ]
     },
     "metadata": {},
     "output_type": "display_data"
    },
    {
     "data": {
      "text/html": [
       "<pre style=\"white-space:pre;overflow-x:auto;line-height:normal;font-family:Menlo,'DejaVu Sans Mono',consolas,'Courier New',monospace\"><span style=\"color: #7fbfbf\">           </span><span style=\"color: #000080\">INFO</span>     Settings <span style=\"color: #800000\">🡆</span> <span style=\"font-weight: bold\">{}</span>                                                                                                                    <a href=\"file:///home/itrushkin/.virtualenvs/openfl_research/lib/python3.8/site-packages/openfl/federated/plan/plan.py\"><span style=\"color: #7f7f7f\">plan.py</span></a><span style=\"color: #7f7f7f\">:173</span>\n",
       "</pre>\n"
      ],
      "text/plain": [
       "<rich.jupyter.JupyterRenderable at 0x7f00d3fd2a60>"
      ]
     },
     "metadata": {},
     "output_type": "display_data"
    },
    {
     "data": {
      "text/html": [
       "<pre style=\"white-space:pre;overflow-x:auto;line-height:normal;font-family:Menlo,'DejaVu Sans Mono',consolas,'Courier New',monospace\"><span style=\"color: #7fbfbf\">           </span><span style=\"color: #000080\">INFO</span>     Override <span style=\"color: #800000\">🡆</span> <span style=\"font-weight: bold\">{</span><span style=\"color: #008000\">'required_plugin_components'</span>: <span style=\"font-weight: bold\">{</span><span style=\"color: #008000\">'framework_adapters'</span>:                                                                 <a href=\"file:///home/itrushkin/.virtualenvs/openfl_research/lib/python3.8/site-packages/openfl/federated/plan/plan.py\"><span style=\"color: #7f7f7f\">plan.py</span></a><span style=\"color: #7f7f7f\">:175</span>\n",
       "                    <span style=\"color: #008000\">'openfl.plugins.frameworks_adapters.pytorch_adapter.FrameworkAdapterPlugin'</span><span style=\"font-weight: bold\">}}</span>                                                               \n",
       "</pre>\n"
      ],
      "text/plain": [
       "<rich.jupyter.JupyterRenderable at 0x7f00d3fd2e20>"
      ]
     },
     "metadata": {},
     "output_type": "display_data"
    },
    {
     "data": {
      "text/html": [
       "<pre style=\"white-space:pre;overflow-x:auto;line-height:normal;font-family:Menlo,'DejaVu Sans Mono',consolas,'Courier New',monospace\"><span style=\"color: #7fbfbf\">           </span><span style=\"color: #000080\">INFO</span>     Building <span style=\"color: #800000\">🡆</span> Object <span style=\"color: #800000\">FrameworkAdapterPlugin</span> from <span style=\"color: #800000\">openfl.plugins.frameworks_adapters.pytorch_adapter</span> Module.                         <a href=\"file:///home/itrushkin/.virtualenvs/openfl_research/lib/python3.8/site-packages/openfl/federated/plan/plan.py\"><span style=\"color: #7f7f7f\">plan.py</span></a><span style=\"color: #7f7f7f\">:170</span>\n",
       "</pre>\n"
      ],
      "text/plain": [
       "<rich.jupyter.JupyterRenderable at 0x7f00d3fd2670>"
      ]
     },
     "metadata": {},
     "output_type": "display_data"
    },
    {
     "data": {
      "text/html": [
       "<pre style=\"white-space:pre;overflow-x:auto;line-height:normal;font-family:Menlo,'DejaVu Sans Mono',consolas,'Courier New',monospace\"><span style=\"color: #7fbfbf\">           </span><span style=\"color: #000080\">INFO</span>     Settings <span style=\"color: #800000\">🡆</span> <span style=\"font-weight: bold\">{}</span>                                                                                                                    <a href=\"file:///home/itrushkin/.virtualenvs/openfl_research/lib/python3.8/site-packages/openfl/federated/plan/plan.py\"><span style=\"color: #7f7f7f\">plan.py</span></a><span style=\"color: #7f7f7f\">:173</span>\n",
       "</pre>\n"
      ],
      "text/plain": [
       "<rich.jupyter.JupyterRenderable at 0x7f00d3fd2400>"
      ]
     },
     "metadata": {},
     "output_type": "display_data"
    },
    {
     "data": {
      "text/html": [
       "<pre style=\"white-space:pre;overflow-x:auto;line-height:normal;font-family:Menlo,'DejaVu Sans Mono',consolas,'Courier New',monospace\"><span style=\"color: #7fbfbf\">           </span><span style=\"color: #000080\">INFO</span>     Override <span style=\"color: #800000\">🡆</span> <span style=\"font-weight: bold\">{}</span>                                                                                                                    <a href=\"file:///home/itrushkin/.virtualenvs/openfl_research/lib/python3.8/site-packages/openfl/federated/plan/plan.py\"><span style=\"color: #7f7f7f\">plan.py</span></a><span style=\"color: #7f7f7f\">:175</span>\n",
       "</pre>\n"
      ],
      "text/plain": [
       "<rich.jupyter.JupyterRenderable at 0x7f00d3fd2640>"
      ]
     },
     "metadata": {},
     "output_type": "display_data"
    },
    {
     "data": {
      "text/html": [
       "<pre style=\"white-space:pre;overflow-x:auto;line-height:normal;font-family:Menlo,'DejaVu Sans Mono',consolas,'Courier New',monospace\"><span style=\"color: #7fbfbf\">           </span><span style=\"color: #800000\">WARNING</span>  tried to remove tensor: __opt_state_needed not present in the tensor dict                                                       <a href=\"file:///home/itrushkin/.virtualenvs/openfl_research/lib/python3.8/site-packages/openfl/utilities/utils.py\"><span style=\"color: #7f7f7f\">utils.py</span></a><span style=\"color: #7f7f7f\">:163</span>\n",
       "</pre>\n"
      ],
      "text/plain": [
       "<rich.jupyter.JupyterRenderable at 0x7f00d3fd2880>"
      ]
     },
     "metadata": {},
     "output_type": "display_data"
    },
    {
     "data": {
      "text/html": [
       "<pre style=\"white-space:pre;overflow-x:auto;line-height:normal;font-family:Menlo,'DejaVu Sans Mono',consolas,'Courier New',monospace\"><span style=\"color: #7fbfbf\">           </span><span style=\"color: #800000\">WARNING</span>  tried to remove tensor: __opt_state_needed not present in the tensor dict                                                       <a href=\"file:///home/itrushkin/.virtualenvs/openfl_research/lib/python3.8/site-packages/openfl/utilities/utils.py\"><span style=\"color: #7f7f7f\">utils.py</span></a><span style=\"color: #7f7f7f\">:163</span>\n",
       "</pre>\n"
      ],
      "text/plain": [
       "<rich.jupyter.JupyterRenderable at 0x7f00d3fd2e80>"
      ]
     },
     "metadata": {},
     "output_type": "display_data"
    },
    {
     "data": {
      "text/html": [
       "<pre style=\"white-space:pre;overflow-x:auto;line-height:normal;font-family:Menlo,'DejaVu Sans Mono',consolas,'Courier New',monospace\"><span style=\"color: #7fbfbf\">           </span><span style=\"color: #000080\">INFO</span>     SetNewExperiment                                                                                                      <a href=\"file:///home/itrushkin/.virtualenvs/openfl_research/lib/python3.8/site-packages/openfl/transport/grpc/director_client.py\"><span style=\"color: #7f7f7f\">director_client.py</span></a><span style=\"color: #7f7f7f\">:166</span>\n",
       "</pre>\n"
      ],
      "text/plain": [
       "<rich.jupyter.JupyterRenderable at 0x7f00d3fd2af0>"
      ]
     },
     "metadata": {},
     "output_type": "display_data"
    },
    {
     "data": {
      "text/html": [
       "<pre style=\"white-space:pre;overflow-x:auto;line-height:normal;font-family:Menlo,'DejaVu Sans Mono',consolas,'Courier New',monospace\"><span style=\"color: #7fbfbf\">[09:41:30] </span><span style=\"color: #000080\">INFO</span>     Experiment was accepted and launched.                                                                                      <a href=\"file:///home/itrushkin/.virtualenvs/openfl_research/lib/python3.8/site-packages/openfl/interface/interactive_api/experiment.py\"><span style=\"color: #7f7f7f\">experiment.py</span></a><span style=\"color: #7f7f7f\">:174</span>\n",
       "</pre>\n"
      ],
      "text/plain": [
       "<rich.jupyter.JupyterRenderable at 0x7f00d3fd2df0>"
      ]
     },
     "metadata": {},
     "output_type": "display_data"
    }
   ],
   "source": [
    "MI = ModelInterface(model=best_model, optimizer=optimizer_adam, framework_plugin=framework_adapter)\n",
    "fl_experiment.start(model_provider=MI, task_keeper=TI, data_loader=fed_dataset, \n",
    "                    aggregation_function_interface=AFI, rounds_to_train=4, \\\n",
    "                              opt_treatment='CONTINUE_GLOBAL')"
   ]
  },
  {
   "cell_type": "code",
   "execution_count": 23,
   "id": "1bd786d2",
   "metadata": {},
   "outputs": [
    {
     "data": {
      "text/html": [
       "<pre style=\"white-space:pre;overflow-x:auto;line-height:normal;font-family:Menlo,'DejaVu Sans Mono',consolas,'Courier New',monospace\"><span style=\"color: #7fbfbf\">[09:42:20] </span><span style=\"color: #800000; font-weight: bold\">ERROR</span>    No tensors received from director                                                                                           <a href=\"file:///home/itrushkin/.virtualenvs/openfl_research/lib/python3.8/site-packages/openfl/interface/interactive_api/experiment.py\"><span style=\"color: #7f7f7f\">experiment.py</span></a><span style=\"color: #7f7f7f\">:76</span>\n",
       "</pre>\n"
      ],
      "text/plain": [
       "<rich.jupyter.JupyterRenderable at 0x7f00f80fd8b0>"
      ]
     },
     "metadata": {},
     "output_type": "display_data"
    },
    {
     "data": {
      "text/html": [
       "<pre style=\"white-space:pre;overflow-x:auto;line-height:normal;font-family:Menlo,'DejaVu Sans Mono',consolas,'Courier New',monospace\"><span style=\"color: #7fbfbf\">           </span><span style=\"color: #800000; font-weight: bold\">ERROR</span>    Possible reasons:                                                                                                           <a href=\"file:///home/itrushkin/.virtualenvs/openfl_research/lib/python3.8/site-packages/openfl/interface/interactive_api/experiment.py\"><span style=\"color: #7f7f7f\">experiment.py</span></a><span style=\"color: #7f7f7f\">:77</span>\n",
       "                    <span style=\"color: #000080; font-weight: bold\">1</span>. Aggregated model is not ready                                                                                                            \n",
       "                    <span style=\"color: #000080; font-weight: bold\">2</span>. Experiment data removed from director                                                                                                    \n",
       "</pre>\n"
      ],
      "text/plain": [
       "<rich.jupyter.JupyterRenderable at 0x7f00f810c430>"
      ]
     },
     "metadata": {},
     "output_type": "display_data"
    },
    {
     "name": "stderr",
     "output_type": "stream",
     "text": [
      "validate:   0%|          | 0/1 [00:00<?, ?it/s]<ipython-input-13-9aa26c51b37c>:67: UserWarning: To copy construct from a tensor, it is recommended to use sourceTensor.clone().detach() or sourceTensor.clone().detach().requires_grad_(True), rather than torch.tensor(sourceTensor).\n",
      "  data, target = torch.tensor(data).to(device), \\\n",
      "<ipython-input-13-9aa26c51b37c>:68: UserWarning: To copy construct from a tensor, it is recommended to use sourceTensor.clone().detach() or sourceTensor.clone().detach().requires_grad_(True), rather than torch.tensor(sourceTensor).\n",
      "  torch.tensor(target).to(device, dtype=torch.int64)\n",
      "validate: 100%|██████████| 1/1 [00:00<00:00,  1.03it/s]\n"
     ]
    },
    {
     "data": {
      "text/plain": [
       "{'dice_coef': 3.6274592275731266e-05}"
      ]
     },
     "execution_count": 23,
     "metadata": {},
     "output_type": "execute_result"
    }
   ],
   "source": [
    "best_model = fl_experiment.get_best_model()\n",
    "# Validating trained model\n",
    "validate(best_model, fed_dataset.get_valid_loader(), 'cpu')"
   ]
  },
  {
   "cell_type": "code",
   "execution_count": 24,
   "id": "e00ff26c",
   "metadata": {},
   "outputs": [
    {
     "name": "stdout",
     "output_type": "stream",
     "text": [
      "Processing /home/itrushkin/repos/openfl-fork\n",
      "Requirement already satisfied: Click==8.0.1 in /home/itrushkin/.virtualenvs/openfl_research/lib/python3.8/site-packages (from openfl==1.1) (8.0.1)\n",
      "Requirement already satisfied: PyYAML>=5.4.1 in /home/itrushkin/.virtualenvs/openfl_research/lib/python3.8/site-packages (from openfl==1.1) (5.4.1)\n",
      "Requirement already satisfied: numpy in /home/itrushkin/.virtualenvs/openfl_research/lib/python3.8/site-packages (from openfl==1.1) (1.19.5)\n",
      "Requirement already satisfied: pandas in /home/itrushkin/.virtualenvs/openfl_research/lib/python3.8/site-packages (from openfl==1.1) (1.2.3)\n",
      "Requirement already satisfied: protobuf in /home/itrushkin/.virtualenvs/openfl_research/lib/python3.8/site-packages (from openfl==1.1) (3.15.6)\n",
      "Requirement already satisfied: grpcio~=1.34.0 in /home/itrushkin/.virtualenvs/openfl_research/lib/python3.8/site-packages (from openfl==1.1) (1.34.0)\n",
      "Requirement already satisfied: grpcio-tools~=1.34.0 in /home/itrushkin/.virtualenvs/openfl_research/lib/python3.8/site-packages (from openfl==1.1) (1.34.0)\n",
      "Requirement already satisfied: rich==9.1.0 in /home/itrushkin/.virtualenvs/openfl_research/lib/python3.8/site-packages (from openfl==1.1) (9.1.0)\n",
      "Requirement already satisfied: tqdm in /home/itrushkin/.virtualenvs/openfl_research/lib/python3.8/site-packages (from openfl==1.1) (4.59.0)\n",
      "Requirement already satisfied: scikit-learn in /home/itrushkin/.virtualenvs/openfl_research/lib/python3.8/site-packages (from openfl==1.1) (0.24.1)\n",
      "Requirement already satisfied: docker in /home/itrushkin/.virtualenvs/openfl_research/lib/python3.8/site-packages (from openfl==1.1) (4.4.4)\n",
      "Requirement already satisfied: jupyter in /home/itrushkin/.virtualenvs/openfl_research/lib/python3.8/site-packages (from openfl==1.1) (1.0.0)\n",
      "Requirement already satisfied: ipykernel in /home/itrushkin/.virtualenvs/openfl_research/lib/python3.8/site-packages (from openfl==1.1) (5.5.0)\n",
      "Requirement already satisfied: flatten_json in /home/itrushkin/.virtualenvs/openfl_research/lib/python3.8/site-packages (from openfl==1.1) (0.1.13)\n",
      "Requirement already satisfied: cryptography>=3.4.6 in /home/itrushkin/.virtualenvs/openfl_research/lib/python3.8/site-packages (from openfl==1.1) (3.4.6)\n",
      "Requirement already satisfied: cloudpickle in /home/itrushkin/.virtualenvs/openfl_research/lib/python3.8/site-packages (from openfl==1.1) (1.6.0)\n",
      "Requirement already satisfied: tensorboardX in /home/itrushkin/.virtualenvs/openfl_research/lib/python3.8/site-packages (from openfl==1.1) (2.4)\n",
      "Requirement already satisfied: tensorboard in /home/itrushkin/.virtualenvs/openfl_research/lib/python3.8/site-packages (from openfl==1.1) (2.5.0)\n",
      "Requirement already satisfied: requests in /home/itrushkin/.virtualenvs/openfl_research/lib/python3.8/site-packages (from openfl==1.1) (2.25.1)\n",
      "Requirement already satisfied: commonmark<0.10.0,>=0.9.0 in /home/itrushkin/.virtualenvs/openfl_research/lib/python3.8/site-packages (from rich==9.1.0->openfl==1.1) (0.9.1)\n",
      "Requirement already satisfied: colorama<0.5.0,>=0.4.0 in /home/itrushkin/.virtualenvs/openfl_research/lib/python3.8/site-packages (from rich==9.1.0->openfl==1.1) (0.4.4)\n",
      "Requirement already satisfied: pygments<3.0.0,>=2.6.0 in /home/itrushkin/.virtualenvs/openfl_research/lib/python3.8/site-packages (from rich==9.1.0->openfl==1.1) (2.8.1)\n",
      "Requirement already satisfied: typing-extensions<4.0.0,>=3.7.4 in /home/itrushkin/.virtualenvs/openfl_research/lib/python3.8/site-packages (from rich==9.1.0->openfl==1.1) (3.7.4.3)\n",
      "Requirement already satisfied: cffi>=1.12 in /home/itrushkin/.virtualenvs/openfl_research/lib/python3.8/site-packages (from cryptography>=3.4.6->openfl==1.1) (1.14.5)\n",
      "Requirement already satisfied: pycparser in /home/itrushkin/.virtualenvs/openfl_research/lib/python3.8/site-packages (from cffi>=1.12->cryptography>=3.4.6->openfl==1.1) (2.20)\n",
      "Requirement already satisfied: six>=1.5.2 in /home/itrushkin/.virtualenvs/openfl_research/lib/python3.8/site-packages (from grpcio~=1.34.0->openfl==1.1) (1.15.0)\n",
      "Requirement already satisfied: setuptools in /home/itrushkin/.virtualenvs/openfl_research/lib/python3.8/site-packages (from grpcio-tools~=1.34.0->openfl==1.1) (54.1.2)\n",
      "Requirement already satisfied: websocket-client>=0.32.0 in /home/itrushkin/.virtualenvs/openfl_research/lib/python3.8/site-packages (from docker->openfl==1.1) (0.58.0)\n",
      "Requirement already satisfied: idna<3,>=2.5 in /home/itrushkin/.virtualenvs/openfl_research/lib/python3.8/site-packages (from requests->openfl==1.1) (2.10)\n",
      "Requirement already satisfied: chardet<5,>=3.0.2 in /home/itrushkin/.virtualenvs/openfl_research/lib/python3.8/site-packages (from requests->openfl==1.1) (4.0.0)\n",
      "Requirement already satisfied: certifi>=2017.4.17 in /home/itrushkin/.virtualenvs/openfl_research/lib/python3.8/site-packages (from requests->openfl==1.1) (2020.12.5)\n",
      "Requirement already satisfied: urllib3<1.27,>=1.21.1 in /home/itrushkin/.virtualenvs/openfl_research/lib/python3.8/site-packages (from requests->openfl==1.1) (1.26.4)\n",
      "Requirement already satisfied: jupyter-client in /home/itrushkin/.virtualenvs/openfl_research/lib/python3.8/site-packages (from ipykernel->openfl==1.1) (6.1.12)\n",
      "Requirement already satisfied: tornado>=4.2 in /home/itrushkin/.virtualenvs/openfl_research/lib/python3.8/site-packages (from ipykernel->openfl==1.1) (6.1)\n",
      "Requirement already satisfied: ipython>=5.0.0 in /home/itrushkin/.virtualenvs/openfl_research/lib/python3.8/site-packages (from ipykernel->openfl==1.1) (7.21.0)\n",
      "Requirement already satisfied: traitlets>=4.1.0 in /home/itrushkin/.virtualenvs/openfl_research/lib/python3.8/site-packages (from ipykernel->openfl==1.1) (5.0.5)\n",
      "Requirement already satisfied: pickleshare in /home/itrushkin/.virtualenvs/openfl_research/lib/python3.8/site-packages (from ipython>=5.0.0->ipykernel->openfl==1.1) (0.7.5)\n",
      "Requirement already satisfied: jedi>=0.16 in /home/itrushkin/.virtualenvs/openfl_research/lib/python3.8/site-packages (from ipython>=5.0.0->ipykernel->openfl==1.1) (0.18.0)\n",
      "Requirement already satisfied: pexpect>4.3 in /home/itrushkin/.virtualenvs/openfl_research/lib/python3.8/site-packages (from ipython>=5.0.0->ipykernel->openfl==1.1) (4.8.0)\n",
      "Requirement already satisfied: decorator in /home/itrushkin/.virtualenvs/openfl_research/lib/python3.8/site-packages (from ipython>=5.0.0->ipykernel->openfl==1.1) (4.4.2)\n",
      "Requirement already satisfied: backcall in /home/itrushkin/.virtualenvs/openfl_research/lib/python3.8/site-packages (from ipython>=5.0.0->ipykernel->openfl==1.1) (0.2.0)\n",
      "Requirement already satisfied: prompt-toolkit!=3.0.0,!=3.0.1,<3.1.0,>=2.0.0 in /home/itrushkin/.virtualenvs/openfl_research/lib/python3.8/site-packages (from ipython>=5.0.0->ipykernel->openfl==1.1) (3.0.18)\n",
      "Requirement already satisfied: parso<0.9.0,>=0.8.0 in /home/itrushkin/.virtualenvs/openfl_research/lib/python3.8/site-packages (from jedi>=0.16->ipython>=5.0.0->ipykernel->openfl==1.1) (0.8.1)\n",
      "Requirement already satisfied: ptyprocess>=0.5 in /home/itrushkin/.virtualenvs/openfl_research/lib/python3.8/site-packages (from pexpect>4.3->ipython>=5.0.0->ipykernel->openfl==1.1) (0.7.0)\n",
      "Requirement already satisfied: wcwidth in /home/itrushkin/.virtualenvs/openfl_research/lib/python3.8/site-packages (from prompt-toolkit!=3.0.0,!=3.0.1,<3.1.0,>=2.0.0->ipython>=5.0.0->ipykernel->openfl==1.1) (0.2.5)\n",
      "Requirement already satisfied: ipython-genutils in /home/itrushkin/.virtualenvs/openfl_research/lib/python3.8/site-packages (from traitlets>=4.1.0->ipykernel->openfl==1.1) (0.2.0)\n",
      "Requirement already satisfied: nbconvert in /home/itrushkin/.virtualenvs/openfl_research/lib/python3.8/site-packages (from jupyter->openfl==1.1) (6.0.7)\n",
      "Requirement already satisfied: notebook in /home/itrushkin/.virtualenvs/openfl_research/lib/python3.8/site-packages (from jupyter->openfl==1.1) (6.3.0)\n",
      "Requirement already satisfied: jupyter-console in /home/itrushkin/.virtualenvs/openfl_research/lib/python3.8/site-packages (from jupyter->openfl==1.1) (6.3.0)\n",
      "Requirement already satisfied: qtconsole in /home/itrushkin/.virtualenvs/openfl_research/lib/python3.8/site-packages (from jupyter->openfl==1.1) (5.0.3)\n",
      "Requirement already satisfied: ipywidgets in /home/itrushkin/.virtualenvs/openfl_research/lib/python3.8/site-packages (from jupyter->openfl==1.1) (7.6.3)\n"
     ]
    },
    {
     "name": "stdout",
     "output_type": "stream",
     "text": [
      "Requirement already satisfied: jupyterlab-widgets>=1.0.0 in /home/itrushkin/.virtualenvs/openfl_research/lib/python3.8/site-packages (from ipywidgets->jupyter->openfl==1.1) (1.0.0)\n",
      "Requirement already satisfied: widgetsnbextension~=3.5.0 in /home/itrushkin/.virtualenvs/openfl_research/lib/python3.8/site-packages (from ipywidgets->jupyter->openfl==1.1) (3.5.1)\n",
      "Requirement already satisfied: nbformat>=4.2.0 in /home/itrushkin/.virtualenvs/openfl_research/lib/python3.8/site-packages (from ipywidgets->jupyter->openfl==1.1) (5.1.2)\n",
      "Requirement already satisfied: jupyter-core in /home/itrushkin/.virtualenvs/openfl_research/lib/python3.8/site-packages (from nbformat>=4.2.0->ipywidgets->jupyter->openfl==1.1) (4.7.1)\n",
      "Requirement already satisfied: jsonschema!=2.5.0,>=2.4 in /home/itrushkin/.virtualenvs/openfl_research/lib/python3.8/site-packages (from nbformat>=4.2.0->ipywidgets->jupyter->openfl==1.1) (3.2.0)\n",
      "Requirement already satisfied: pyrsistent>=0.14.0 in /home/itrushkin/.virtualenvs/openfl_research/lib/python3.8/site-packages (from jsonschema!=2.5.0,>=2.4->nbformat>=4.2.0->ipywidgets->jupyter->openfl==1.1) (0.17.3)\n",
      "Requirement already satisfied: attrs>=17.4.0 in /home/itrushkin/.virtualenvs/openfl_research/lib/python3.8/site-packages (from jsonschema!=2.5.0,>=2.4->nbformat>=4.2.0->ipywidgets->jupyter->openfl==1.1) (20.3.0)\n",
      "Requirement already satisfied: pyzmq>=17 in /home/itrushkin/.virtualenvs/openfl_research/lib/python3.8/site-packages (from notebook->jupyter->openfl==1.1) (22.0.3)\n",
      "Requirement already satisfied: jinja2 in /home/itrushkin/.virtualenvs/openfl_research/lib/python3.8/site-packages (from notebook->jupyter->openfl==1.1) (2.11.3)\n",
      "Requirement already satisfied: terminado>=0.8.3 in /home/itrushkin/.virtualenvs/openfl_research/lib/python3.8/site-packages (from notebook->jupyter->openfl==1.1) (0.9.3)\n",
      "Requirement already satisfied: prometheus-client in /home/itrushkin/.virtualenvs/openfl_research/lib/python3.8/site-packages (from notebook->jupyter->openfl==1.1) (0.9.0)\n",
      "Requirement already satisfied: Send2Trash>=1.5.0 in /home/itrushkin/.virtualenvs/openfl_research/lib/python3.8/site-packages (from notebook->jupyter->openfl==1.1) (1.5.0)\n",
      "Requirement already satisfied: argon2-cffi in /home/itrushkin/.virtualenvs/openfl_research/lib/python3.8/site-packages (from notebook->jupyter->openfl==1.1) (20.1.0)\n",
      "Requirement already satisfied: python-dateutil>=2.1 in /home/itrushkin/.virtualenvs/openfl_research/lib/python3.8/site-packages (from jupyter-client->ipykernel->openfl==1.1) (2.8.1)\n",
      "Requirement already satisfied: MarkupSafe>=0.23 in /home/itrushkin/.virtualenvs/openfl_research/lib/python3.8/site-packages (from jinja2->notebook->jupyter->openfl==1.1) (1.1.1)\n",
      "Requirement already satisfied: testpath in /home/itrushkin/.virtualenvs/openfl_research/lib/python3.8/site-packages (from nbconvert->jupyter->openfl==1.1) (0.4.4)\n",
      "Requirement already satisfied: mistune<2,>=0.8.1 in /home/itrushkin/.virtualenvs/openfl_research/lib/python3.8/site-packages (from nbconvert->jupyter->openfl==1.1) (0.8.4)\n",
      "Requirement already satisfied: entrypoints>=0.2.2 in /home/itrushkin/.virtualenvs/openfl_research/lib/python3.8/site-packages (from nbconvert->jupyter->openfl==1.1) (0.3)\n",
      "Requirement already satisfied: bleach in /home/itrushkin/.virtualenvs/openfl_research/lib/python3.8/site-packages (from nbconvert->jupyter->openfl==1.1) (3.3.0)\n",
      "Requirement already satisfied: pandocfilters>=1.4.1 in /home/itrushkin/.virtualenvs/openfl_research/lib/python3.8/site-packages (from nbconvert->jupyter->openfl==1.1) (1.4.3)\n",
      "Requirement already satisfied: jupyterlab-pygments in /home/itrushkin/.virtualenvs/openfl_research/lib/python3.8/site-packages (from nbconvert->jupyter->openfl==1.1) (0.1.2)\n",
      "Requirement already satisfied: defusedxml in /home/itrushkin/.virtualenvs/openfl_research/lib/python3.8/site-packages (from nbconvert->jupyter->openfl==1.1) (0.7.1)\n",
      "Requirement already satisfied: nbclient<0.6.0,>=0.5.0 in /home/itrushkin/.virtualenvs/openfl_research/lib/python3.8/site-packages (from nbconvert->jupyter->openfl==1.1) (0.5.3)\n",
      "Requirement already satisfied: nest-asyncio in /home/itrushkin/.virtualenvs/openfl_research/lib/python3.8/site-packages (from nbclient<0.6.0,>=0.5.0->nbconvert->jupyter->openfl==1.1) (1.5.1)\n",
      "Requirement already satisfied: async-generator in /home/itrushkin/.virtualenvs/openfl_research/lib/python3.8/site-packages (from nbclient<0.6.0,>=0.5.0->nbconvert->jupyter->openfl==1.1) (1.10)\n",
      "Requirement already satisfied: packaging in /home/itrushkin/.virtualenvs/openfl_research/lib/python3.8/site-packages (from bleach->nbconvert->jupyter->openfl==1.1) (20.9)\n",
      "Requirement already satisfied: webencodings in /home/itrushkin/.virtualenvs/openfl_research/lib/python3.8/site-packages (from bleach->nbconvert->jupyter->openfl==1.1) (0.5.1)\n",
      "Requirement already satisfied: pyparsing>=2.0.2 in /home/itrushkin/.virtualenvs/openfl_research/lib/python3.8/site-packages (from packaging->bleach->nbconvert->jupyter->openfl==1.1) (2.4.7)\n",
      "Requirement already satisfied: pytz>=2017.3 in /home/itrushkin/.virtualenvs/openfl_research/lib/python3.8/site-packages (from pandas->openfl==1.1) (2021.1)\n",
      "Requirement already satisfied: qtpy in /home/itrushkin/.virtualenvs/openfl_research/lib/python3.8/site-packages (from qtconsole->jupyter->openfl==1.1) (1.9.0)\n",
      "Requirement already satisfied: threadpoolctl>=2.0.0 in /home/itrushkin/.virtualenvs/openfl_research/lib/python3.8/site-packages (from scikit-learn->openfl==1.1) (2.1.0)\n",
      "Requirement already satisfied: scipy>=0.19.1 in /home/itrushkin/.virtualenvs/openfl_research/lib/python3.8/site-packages (from scikit-learn->openfl==1.1) (1.4.1)\n",
      "Requirement already satisfied: joblib>=0.11 in /home/itrushkin/.virtualenvs/openfl_research/lib/python3.8/site-packages (from scikit-learn->openfl==1.1) (1.0.1)\n",
      "Requirement already satisfied: tensorboard-plugin-wit>=1.6.0 in /home/itrushkin/.virtualenvs/openfl_research/lib/python3.8/site-packages (from tensorboard->openfl==1.1) (1.8.0)\n",
      "Requirement already satisfied: absl-py>=0.4 in /home/itrushkin/.virtualenvs/openfl_research/lib/python3.8/site-packages (from tensorboard->openfl==1.1) (0.12.0)\n",
      "Requirement already satisfied: tensorboard-data-server<0.7.0,>=0.6.0 in /home/itrushkin/.virtualenvs/openfl_research/lib/python3.8/site-packages (from tensorboard->openfl==1.1) (0.6.1)\n",
      "Requirement already satisfied: google-auth<2,>=1.6.3 in /home/itrushkin/.virtualenvs/openfl_research/lib/python3.8/site-packages (from tensorboard->openfl==1.1) (1.28.0)\n",
      "Requirement already satisfied: werkzeug>=0.11.15 in /home/itrushkin/.virtualenvs/openfl_research/lib/python3.8/site-packages (from tensorboard->openfl==1.1) (1.0.1)\n",
      "Requirement already satisfied: markdown>=2.6.8 in /home/itrushkin/.virtualenvs/openfl_research/lib/python3.8/site-packages (from tensorboard->openfl==1.1) (3.3.4)\n",
      "Requirement already satisfied: google-auth-oauthlib<0.5,>=0.4.1 in /home/itrushkin/.virtualenvs/openfl_research/lib/python3.8/site-packages (from tensorboard->openfl==1.1) (0.4.3)\n",
      "Requirement already satisfied: wheel>=0.26 in /home/itrushkin/.virtualenvs/openfl_research/lib/python3.8/site-packages (from tensorboard->openfl==1.1) (0.36.2)\n",
      "Requirement already satisfied: pyasn1-modules>=0.2.1 in /home/itrushkin/.virtualenvs/openfl_research/lib/python3.8/site-packages (from google-auth<2,>=1.6.3->tensorboard->openfl==1.1) (0.2.8)\n",
      "Requirement already satisfied: cachetools<5.0,>=2.0.0 in /home/itrushkin/.virtualenvs/openfl_research/lib/python3.8/site-packages (from google-auth<2,>=1.6.3->tensorboard->openfl==1.1) (4.2.1)\n",
      "Requirement already satisfied: rsa<5,>=3.1.4 in /home/itrushkin/.virtualenvs/openfl_research/lib/python3.8/site-packages (from google-auth<2,>=1.6.3->tensorboard->openfl==1.1) (4.7.2)\n",
      "Requirement already satisfied: requests-oauthlib>=0.7.0 in /home/itrushkin/.virtualenvs/openfl_research/lib/python3.8/site-packages (from google-auth-oauthlib<0.5,>=0.4.1->tensorboard->openfl==1.1) (1.3.0)\n",
      "Requirement already satisfied: pyasn1<0.5.0,>=0.4.6 in /home/itrushkin/.virtualenvs/openfl_research/lib/python3.8/site-packages (from pyasn1-modules>=0.2.1->google-auth<2,>=1.6.3->tensorboard->openfl==1.1) (0.4.8)\n",
      "Requirement already satisfied: oauthlib>=3.0.0 in /home/itrushkin/.virtualenvs/openfl_research/lib/python3.8/site-packages (from requests-oauthlib>=0.7.0->google-auth-oauthlib<0.5,>=0.4.1->tensorboard->openfl==1.1) (3.1.0)\n"
     ]
    },
    {
     "name": "stdout",
     "output_type": "stream",
     "text": [
      "Building wheels for collected packages: openfl\n",
      "  Building wheel for openfl (setup.py) ... \u001b[?25ldone\n",
      "\u001b[?25h  Created wheel for openfl: filename=openfl-1.1-py3-none-any.whl size=260071753 sha256=2b68f805bae4cd8a18e0f8054d6f96cbd37b5ba1ce88bb7a268c60216d12244f\n",
      "  Stored in directory: /home/itrushkin/.cache/pip/wheels/ed/ad/82/f26baafab4be32d052fb76a6f56c9a76ce6903cc3eed7bb394\n",
      "Successfully built openfl\n",
      "Installing collected packages: openfl\n",
      "  Attempting uninstall: openfl\n",
      "    Found existing installation: openfl 1.1\n",
      "    Uninstalling openfl-1.1:\n",
      "      Successfully uninstalled openfl-1.1\n",
      "Successfully installed openfl-1.1\n",
      "\u001b[33mWARNING: You are using pip version 21.0.1; however, version 21.3 is available.\n",
      "You should consider upgrading via the '/home/itrushkin/.virtualenvs/openfl_research/bin/python -m pip install --upgrade pip' command.\u001b[0m\n"
     ]
    }
   ],
   "source": [
    "!pip install ~/repos/openfl-fork"
   ]
  },
  {
   "cell_type": "code",
   "execution_count": null,
   "id": "primary-times",
   "metadata": {},
   "outputs": [],
   "source": []
  }
 ],
 "metadata": {
  "kernelspec": {
   "display_name": "Python 3",
   "language": "python",
   "name": "python3"
  },
  "language_info": {
   "codemirror_mode": {
    "name": "ipython",
    "version": 3
   },
   "file_extension": ".py",
   "mimetype": "text/x-python",
   "name": "python",
   "nbconvert_exporter": "python",
   "pygments_lexer": "ipython3",
   "version": "3.8.12"
  }
 },
 "nbformat": 4,
 "nbformat_minor": 5
}

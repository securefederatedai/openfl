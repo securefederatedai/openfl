{
 "cells": [
  {
   "cell_type": "markdown",
   "id": "liquid-jacket",
   "metadata": {},
   "source": [
    "# Federated PyTorch UNET Tutorial\n",
    "## Using low-level Python API"
   ]
  },
  {
   "cell_type": "code",
   "execution_count": 1,
   "id": "alike-sharing",
   "metadata": {
    "scrolled": true
   },
   "outputs": [
    {
     "name": "stdout",
     "output_type": "stream",
     "text": [
      "Requirement already satisfied: torchvision in /home/davidyuk/.virtualenvs/openfl/lib/python3.8/site-packages (0.9.1)\n",
      "Requirement already satisfied: numpy in /home/davidyuk/.virtualenvs/openfl/lib/python3.8/site-packages (from torchvision) (1.20.3)\n",
      "Requirement already satisfied: torch==1.8.1 in /home/davidyuk/.virtualenvs/openfl/lib/python3.8/site-packages (from torchvision) (1.8.1)\n",
      "Requirement already satisfied: pillow>=4.1.1 in /home/davidyuk/.virtualenvs/openfl/lib/python3.8/site-packages (from torchvision) (8.2.0)\n",
      "Requirement already satisfied: typing-extensions in /home/davidyuk/.virtualenvs/openfl/lib/python3.8/site-packages (from torch==1.8.1->torchvision) (3.10.0.0)\n",
      "\u001B[33mWARNING: You are using pip version 21.1; however, version 21.1.2 is available.\n",
      "You should consider upgrading via the '/home/davidyuk/.virtualenvs/openfl/bin/python -m pip install --upgrade pip' command.\u001B[0m\n",
      "Requirement already satisfied: scikit-image in /home/davidyuk/.virtualenvs/openfl/lib/python3.8/site-packages (0.18.1)\n",
      "Requirement already satisfied: matplotlib!=3.0.0,>=2.0.0 in /home/davidyuk/.virtualenvs/openfl/lib/python3.8/site-packages (from scikit-image) (3.4.2)\n",
      "Requirement already satisfied: numpy>=1.16.5 in /home/davidyuk/.virtualenvs/openfl/lib/python3.8/site-packages (from scikit-image) (1.20.3)\n",
      "Requirement already satisfied: scipy>=1.0.1 in /home/davidyuk/.virtualenvs/openfl/lib/python3.8/site-packages (from scikit-image) (1.6.3)\n",
      "Requirement already satisfied: pillow!=7.1.0,!=7.1.1,>=4.3.0 in /home/davidyuk/.virtualenvs/openfl/lib/python3.8/site-packages (from scikit-image) (8.2.0)\n",
      "Requirement already satisfied: networkx>=2.0 in /home/davidyuk/.virtualenvs/openfl/lib/python3.8/site-packages (from scikit-image) (2.5.1)\n",
      "Requirement already satisfied: PyWavelets>=1.1.1 in /home/davidyuk/.virtualenvs/openfl/lib/python3.8/site-packages (from scikit-image) (1.1.1)\n",
      "Requirement already satisfied: tifffile>=2019.7.26 in /home/davidyuk/.virtualenvs/openfl/lib/python3.8/site-packages (from scikit-image) (2021.4.8)\n",
      "Requirement already satisfied: imageio>=2.3.0 in /home/davidyuk/.virtualenvs/openfl/lib/python3.8/site-packages (from scikit-image) (2.9.0)\n",
      "Requirement already satisfied: cycler>=0.10 in /home/davidyuk/.virtualenvs/openfl/lib/python3.8/site-packages (from matplotlib!=3.0.0,>=2.0.0->scikit-image) (0.10.0)\n",
      "Requirement already satisfied: pyparsing>=2.2.1 in /home/davidyuk/.virtualenvs/openfl/lib/python3.8/site-packages (from matplotlib!=3.0.0,>=2.0.0->scikit-image) (2.4.7)\n",
      "Requirement already satisfied: python-dateutil>=2.7 in /home/davidyuk/.virtualenvs/openfl/lib/python3.8/site-packages (from matplotlib!=3.0.0,>=2.0.0->scikit-image) (2.8.1)\n",
      "Requirement already satisfied: kiwisolver>=1.0.1 in /home/davidyuk/.virtualenvs/openfl/lib/python3.8/site-packages (from matplotlib!=3.0.0,>=2.0.0->scikit-image) (1.3.1)\n",
      "Requirement already satisfied: six in /home/davidyuk/.virtualenvs/openfl/lib/python3.8/site-packages (from cycler>=0.10->matplotlib!=3.0.0,>=2.0.0->scikit-image) (1.16.0)\n",
      "Requirement already satisfied: decorator<5,>=4.3 in /home/davidyuk/.virtualenvs/openfl/lib/python3.8/site-packages (from networkx>=2.0->scikit-image) (4.4.2)\n",
      "\u001B[33mWARNING: You are using pip version 21.1; however, version 21.1.2 is available.\n",
      "You should consider upgrading via the '/home/davidyuk/.virtualenvs/openfl/bin/python -m pip install --upgrade pip' command.\u001B[0m\n"
     ]
    }
   ],
   "source": [
    "# Install dependencies if not already installed\n",
    "!pip install torchvision==0.8.1\n",
    "!pip install scikit-image"
   ]
  },
  {
   "cell_type": "markdown",
   "id": "caring-distinction",
   "metadata": {},
   "source": [
    "### Describe the model and optimizer"
   ]
  },
  {
   "cell_type": "code",
   "execution_count": 11,
   "id": "visible-victor",
   "metadata": {},
   "outputs": [],
   "source": [
    "import torch\n",
    "import torch.nn as nn\n",
    "import torch.optim as optim"
   ]
  },
  {
   "cell_type": "code",
   "execution_count": 12,
   "id": "foreign-gospel",
   "metadata": {},
   "outputs": [],
   "source": [
    "\"\"\"\n",
    "UNet model definition\n",
    "\"\"\"\n",
    "from layers import soft_dice_coef, soft_dice_loss, DoubleConv, Down, Up\n",
    "\n",
    "class UNet(nn.Module):\n",
    "    def __init__(self, n_channels=3, n_classes=1):\n",
    "        super().__init__()\n",
    "        self.inc = DoubleConv(n_channels, 64)\n",
    "        self.down1 = Down(64, 128)\n",
    "        self.down2 = Down(128, 256)\n",
    "        self.down3 = Down(256, 512)\n",
    "        self.down4 = Down(512, 1024)\n",
    "        self.up1 = Up(1024, 512)\n",
    "        self.up2 = Up(512, 256)\n",
    "        self.up3 = Up(256, 128)\n",
    "        self.up4 = Up(128, 64)\n",
    "        self.outc = nn.Conv2d(64, n_classes, 1)\n",
    "\n",
    "    def forward(self, x):\n",
    "        x1 = self.inc(x)\n",
    "        x2 = self.down1(x1)\n",
    "        x3 = self.down2(x2)\n",
    "        x4 = self.down3(x3)\n",
    "        x5 = self.down4(x4)\n",
    "        x = self.up1(x5, x4)\n",
    "        x = self.up2(x, x3)\n",
    "        x = self.up3(x, x2)\n",
    "        x = self.up4(x, x1)\n",
    "        x = self.outc(x)\n",
    "        x = torch.sigmoid(x)\n",
    "        return x\n",
    "    \n",
    "    # Lookup by parent module (as in current inspect)\n",
    "    if hasattr(object, '__module__'):\n",
    "        object_ = sys.modules.get(object.__module__)\n",
    "        if hasattr(object_, '__file__'):\n",
    "            return object_.__file__\n",
    "    \n",
    "    # If parent module is __main__, lookup by methods (NEW)\n",
    "    for name, member in inspect.getmembers(object):\n",
    "        if inspect.isfunction(member) and object.__qualname__ + '.' + member.__name__ == member.__qualname__:\n",
    "            return inspect.getfile(member)\n",
    "    else:\n",
    "        raise TypeError('Source for {!r} not found'.format(object))\n",
    "inspect.getfile = new_getfile\n",
    "\n",
    "obj = UNet\n",
    "cell_code = \"\".join(inspect.linecache.getlines(new_getfile(obj)))\n",
    "class_code = extract_symbols(cell_code, obj.__name__)[0][0]\n",
    "print(class_code)"
   ]
  },
  {
   "cell_type": "code",
   "execution_count": 14,
   "id": "greater-activation",
   "metadata": {},
   "outputs": [],
   "source": [
    "optimizer_adam = optim.Adam(model_unet.parameters(), lr=1e-4)"
   ]
  },
  {
   "cell_type": "markdown",
   "id": "insured-metallic",
   "metadata": {},
   "source": [
    "### Prepare data"
   ]
  },
  {
   "cell_type": "markdown",
   "id": "essential-remainder",
   "metadata": {},
   "source": [
    "We ask user to keep all the test data in `data/` folder under the workspace as it will not be sent to collaborators"
   ]
  },
  {
   "cell_type": "code",
   "execution_count": 15,
   "id": "blind-circuit",
   "metadata": {},
   "outputs": [],
   "source": [
    "import os\n",
    "from hashlib import sha384\n",
    "import PIL\n",
    "from PIL import Image\n",
    "from torch.utils.data import Dataset, DataLoader\n",
    "from torchvision import transforms as tsf"
   ]
  },
  {
   "cell_type": "code",
   "execution_count": null,
   "id": "recorded-input",
   "metadata": {
    "scrolled": true
   },
   "outputs": [],
   "source": [
    "os.makedirs('data', exist_ok=True)\n",
    "!wget -nc 'https://datasets.simula.no/hyper-kvasir/hyper-kvasir-segmented-images.zip' -O ./data/kvasir.zip\n",
    "ZIP_SHA384 = 'e30d18a772c6520476e55b610a4db457237f151e'\\\n",
    "    '19182849d54b49ae24699881c1e18e0961f77642be900450ef8b22e7'\n",
    "assert sha384(open('./data/kvasir.zip', 'rb').read(\n",
    "    os.path.getsize('./data/kvasir.zip'))).hexdigest() == ZIP_SHA384\n",
    "!unzip -n ./data/kvasir.zip -d ./data"
   ]
  },
  {
   "cell_type": "code",
   "execution_count": 10,
   "id": "5fa108f5",
   "metadata": {},
   "outputs": [
    {
     "data": {
      "text/plain": [
       "<generator object <genexpr> at 0x7f616dce3f90>"
      ]
     },
     "execution_count": 10,
     "metadata": {},
     "output_type": "execute_result"
    }
   ],
   "source": [
    "rank_worldsize='3,4'\n",
    "(int(num) for num in rank_worldsize.split(','))"
   ]
  },
  {
   "cell_type": "code",
   "execution_count": null,
   "id": "fec3c6d4",
   "metadata": {},
   "outputs": [],
   "source": []
  },
  {
   "cell_type": "code",
   "execution_count": 40,
   "id": "prepared-israel",
   "metadata": {},
   "outputs": [],
   "source": [
    "DATA_PATH = './data/segmented-images/'\n",
    "import numpy as np\n",
    "\n",
    "def read_data(image_path, mask_path):\n",
    "    \"\"\"\n",
    "    Read image and mask from disk.\n",
    "    \"\"\"\n",
    "    img = Image.open(image_path)\n",
    "    img = np.asarray(img)\n",
    "    assert(img.shape[2] == 3)\n",
    "    mask = Image.open(mask_path)\n",
    "    mask = np.asarray(mask)\n",
    "    return (img, mask[:, :, 0].astype(np.uint8))\n",
    "\n",
    "\n",
    "class KvasirDataset(Dataset):\n",
    "    \"\"\"\n",
    "    Kvasir dataset contains 1000 images for all collaborators.\n",
    "    Args:\n",
    "        data_path: path to dataset on disk\n",
    "        collaborator_count: total number of collaborators\n",
    "        collaborator_num: number of current collaborator\n",
    "        is_validation: validation option\n",
    "    \"\"\"\n",
    "\n",
    "    def __init__(self, images_path = './kvasir_data/segmented-images/images/', \\\n",
    "                        masks_path = './kvasir_data/segmented-images/masks/',\n",
    "                        validation_fraction=1/8, is_validation=False):\n",
    "\n",
    "        self.images_path = images_path\n",
    "        self.masks_path = masks_path\n",
    "        self.images_names = [\n",
    "            img_name\n",
    "            for img_name in sorted(os.listdir(self.images_path))\n",
    "            if len(img_name) > 3 and img_name[-3:] == 'jpg'\n",
    "        ]\n",
    "\n",
    "        assert(len(self.images_names) > 2), \"Too few images\"\n",
    "        \n",
    "        validation_size = max(1, int(len(self.images_names) * validation_fraction))\n",
    "        \n",
    "        if is_validation:\n",
    "            self.images_names = self.images_names[-validation_size :]\n",
    "        else:\n",
    "            self.images_names = self.images_names[: -validation_size]\n",
    "\n",
    "        # Prepare transforms\n",
    "        self.img_trans = tsf.Compose([\n",
    "            tsf.ToPILImage(),\n",
    "            tsf.Resize((332, 332)),\n",
    "            tsf.ToTensor(),\n",
    "            tsf.Normalize(mean=[0.5, 0.5, 0.5], std=[0.5, 0.5, 0.5])])\n",
    "        self.mask_trans = tsf.Compose([\n",
    "            tsf.ToPILImage(),\n",
    "            tsf.Resize((332, 332), interpolation=PIL.Image.NEAREST),\n",
    "            tsf.ToTensor()])\n",
    "        \n",
    "\n",
    "    def __getitem__(self, index):\n",
    "        name = self.images_names[index]\n",
    "        img, mask = read_data(self.images_path + name, self.masks_path + name)\n",
    "        img = self.img_trans(img).numpy()\n",
    "        mask = self.mask_trans(mask).numpy()\n",
    "        return img, mask\n",
    "\n",
    "    def __len__(self):\n",
    "        return len(self.images_names)"
   ]
  },
  {
   "cell_type": "code",
   "execution_count": 41,
   "id": "c17c0944",
   "metadata": {},
   "outputs": [],
   "source": [
    "img = Image.open('./kvasir_data/segmented-images/images/cju0qkwl35piu0993l0dewei2.jpg')\n",
    "img.resize()"
   ]
  },
  {
   "cell_type": "code",
   "execution_count": 42,
   "id": "9c889655",
   "metadata": {},
   "outputs": [
    {
     "name": "stderr",
     "output_type": "stream",
     "text": [
      "/home/davidyuk/.virtualenvs/openfl/lib/python3.8/site-packages/torchvision/transforms/transforms.py:257: UserWarning: Argument interpolation should be of type InterpolationMode instead of int. Please, use InterpolationMode enum.\n",
      "  warnings.warn(\n"
     ]
    },
    {
     "data": {
      "text/plain": [
       "array([[[-1., -1., -1., ..., -1., -1., -1.],\n",
       "        [-1., -1., -1., ..., -1., -1., -1.],\n",
       "        [-1., -1., -1., ..., -1., -1., -1.],\n",
       "        ...,\n",
       "        [-1., -1., -1., ..., -1., -1., -1.],\n",
       "        [-1., -1., -1., ..., -1., -1., -1.],\n",
       "        [-1., -1., -1., ..., -1., -1., -1.]],\n",
       "\n",
       "       [[-1., -1., -1., ..., -1., -1., -1.],\n",
       "        [-1., -1., -1., ..., -1., -1., -1.],\n",
       "        [-1., -1., -1., ..., -1., -1., -1.],\n",
       "        ...,\n",
       "        [-1., -1., -1., ..., -1., -1., -1.],\n",
       "        [-1., -1., -1., ..., -1., -1., -1.],\n",
       "        [-1., -1., -1., ..., -1., -1., -1.]],\n",
       "\n",
       "       [[-1., -1., -1., ..., -1., -1., -1.],\n",
       "        [-1., -1., -1., ..., -1., -1., -1.],\n",
       "        [-1., -1., -1., ..., -1., -1., -1.],\n",
       "        ...,\n",
       "        [-1., -1., -1., ..., -1., -1., -1.],\n",
       "        [-1., -1., -1., ..., -1., -1., -1.],\n",
       "        [-1., -1., -1., ..., -1., -1., -1.]]], dtype=float32)"
      ]
     },
     "execution_count": 42,
     "metadata": {},
     "output_type": "execute_result"
    }
   ],
   "source": [
    "dset = KvasirDataset()\n",
    "dset[0][0]"
   ]
  },
  {
   "cell_type": "markdown",
   "id": "portuguese-groove",
   "metadata": {},
   "source": [
    "### Define Federated Learning tasks"
   ]
  },
  {
   "cell_type": "code",
   "execution_count": 7,
   "id": "enclosed-abuse",
   "metadata": {},
   "outputs": [],
   "source": [
    "def train(unet_model, train_loader, optimizer, device, loss_fn=soft_dice_loss):\n",
    "    \n",
    "    function_defined_in_notebook()\n",
    "    \n",
    "    unet_model.train()\n",
    "    unet_model.to(device)\n",
    "\n",
    "    losses = []\n",
    "\n",
    "    for data, target in train_loader:\n",
    "        data, target = torch.tensor(data).to(device), torch.tensor(\n",
    "            target).to(device, dtype=torch.float32)\n",
    "        optimizer.zero_grad()\n",
    "        output = unet_model(data)\n",
    "        loss = loss_fn(output=output, target=target)\n",
    "        loss.backward()\n",
    "        optimizer.step()\n",
    "        losses.append(loss.detach().cpu().numpy())\n",
    "        \n",
    "    return {'train_loss': np.mean(losses),}\n",
    "\n",
    "\n",
    "def validate(unet_model, val_loader, device):\n",
    "    unet_model.eval()\n",
    "    unet_model.to(device)\n",
    "\n",
    "    val_score = 0\n",
    "    total_samples = 0\n",
    "\n",
    "    with torch.no_grad():\n",
    "        for data, target in val_loader:\n",
    "            samples = target.shape[0]\n",
    "            total_samples += samples\n",
    "            data, target = torch.tensor(data).to(device), \\\n",
    "                torch.tensor(target).to(device, dtype=torch.int64)\n",
    "            output = unet_model(data)\n",
    "            val = soft_dice_coef(output, target)\n",
    "            val_score += val.sum().cpu().numpy()\n",
    "            \n",
    "    return {'dice_coef': val_score / total_samples,}"
   ]
  },
  {
   "cell_type": "code",
   "execution_count": null,
   "id": "secure-protest",
   "metadata": {},
   "outputs": [],
   "source": []
  },
  {
   "cell_type": "markdown",
   "id": "obvious-tyler",
   "metadata": {},
   "source": [
    "## Describing FL experiment"
   ]
  },
  {
   "cell_type": "code",
   "execution_count": 1,
   "id": "rubber-address",
   "metadata": {},
   "outputs": [],
   "source": [
    "from openfl.interface.interactive_api.experiment import TaskInterface, DataInterface, ModelInterface, FLExperiment"
   ]
  },
  {
   "cell_type": "code",
   "execution_count": 2,
   "id": "fd0a70ed",
   "metadata": {},
   "outputs": [],
   "source": [
    "from torch.utils.data import Dataset, DataLoader\n",
    "class A(Dataset, DataInterface):\n",
    "    pass\n",
    "a = A()\n",
    "# dir(a)"
   ]
  },
  {
   "cell_type": "markdown",
   "id": "caroline-passion",
   "metadata": {},
   "source": [
    "### Register model"
   ]
  },
  {
   "cell_type": "code",
   "execution_count": 9,
   "id": "handled-teens",
   "metadata": {},
   "outputs": [],
   "source": [
    "from copy import deepcopy\n",
    "\n",
    "framework_adapter = 'openfl.plugins.frameworks_adapters.pytorch_adapter.FrameworkAdapterPlugin'\n",
    "MI = ModelInterface(model=model_unet, optimizer=optimizer_adam, framework_plugin=framework_adapter)\n",
    "\n",
    "# Save the initial model state\n",
    "initial_model = deepcopy(model_unet)"
   ]
  },
  {
   "cell_type": "markdown",
   "id": "sustainable-public",
   "metadata": {},
   "source": [
    "### Register dataset"
   ]
  },
  {
   "cell_type": "markdown",
   "id": "unlike-texas",
   "metadata": {},
   "source": [
    "We extract User dataset class implementation.\n",
    "Is it convinient?\n",
    "What if the dataset is not a class?"
   ]
  },
  {
   "cell_type": "code",
   "execution_count": 10,
   "id": "anticipated-coverage",
   "metadata": {},
   "outputs": [
    {
     "name": "stdout",
     "output_type": "stream",
     "text": [
      "We implement all abstract methods from mixin in this class\n",
      "This method is called on the collaborator node\n",
      "User Dataset initialized with data path on the collaborator node\n"
     ]
    }
   ],
   "source": [
    "class UserDataset:\n",
    "    def __init__(self, path_to_local_data):\n",
    "        print(f'User Dataset initialized with {path_to_local_data}')\n",
    "        \n",
    "        \n",
    "class OpenflMixin:   \n",
    "    def _delayed_init(self):\n",
    "        raise NotImplementedError\n",
    "        \n",
    "        \n",
    "class FedDataset(OpenflMixin):\n",
    "    def __init__(self, UserDataset):\n",
    "        self.user_dataset_class = UserDataset\n",
    "        print('We implement all abstract methods from mixin in this class')\n",
    "        \n",
    "    def _delayed_init(self, data_path):\n",
    "        print('This method is called on the collaborator node')\n",
    "        dataset_obj = self.user_dataset_class(data_path)\n",
    "        \n",
    "        \n",
    "fed_dataset = FedDataset(UserDataset)\n",
    "fed_dataset._delayed_init('data path on the collaborator node')"
   ]
  },
  {
   "cell_type": "code",
   "execution_count": 11,
   "id": "verbal-newton",
   "metadata": {},
   "outputs": [],
   "source": [
    "# class FedDataset(DataInterface):\n",
    "#     def __init__(self, UserDatasetClass, **kwargs):\n",
    "#         self.UserDatasetClass = UserDatasetClass\n",
    "#         self.kwargs = kwargs\n",
    "    \n",
    "#     def _delayed_init(self, data_path='1,1'):\n",
    "#         # With the next command the local dataset will be loaded on the collaborator node\n",
    "#         # For this example we have the same dataset on the same path, and we will shard it\n",
    "#         # So we use `data_path` information for this purpose.\n",
    "#         self.rank, self.world_size = [int(part) for part in data_path.split(',')]\n",
    "        \n",
    "#         validation_fraction=1/8\n",
    "#         self.train_set = self.UserDatasetClass(validation_fraction=validation_fraction, is_validation=False)\n",
    "#         self.valid_set = self.UserDatasetClass(validation_fraction=validation_fraction, is_validation=True)\n",
    "        \n",
    "#         # Do the actual sharding\n",
    "#         self._do_sharding( self.rank, self.world_size)\n",
    "        \n",
    "#     def _do_sharding(self, rank, world_size):\n",
    "#         # This method relies on the dataset's implementation\n",
    "#         # i.e. coupled in a bad way\n",
    "#         self.train_set.images_names = self.train_set.images_names[ rank-1 :: world_size ]\n",
    "\n",
    "#     def get_train_loader(self, **kwargs):\n",
    "#         \"\"\"\n",
    "#         Output of this method will be provided to tasks with optimizer in contract\n",
    "#         \"\"\"\n",
    "#         return DataLoader(\n",
    "#             self.train_set, num_workers=8, batch_size=self.kwargs['train_bs'], shuffle=True\n",
    "#             )\n",
    "\n",
    "#     def get_valid_loader(self, **kwargs):\n",
    "#         \"\"\"\n",
    "#         Output of this method will be provided to tasks without optimizer in contract\n",
    "#         \"\"\"\n",
    "#         return DataLoader(self.valid_set, num_workers=8, batch_size=self.kwargs['valid_bs'])\n",
    "\n",
    "#     def get_train_data_size(self):\n",
    "#         \"\"\"\n",
    "#         Information for aggregation\n",
    "#         \"\"\"\n",
    "#         return len(self.train_set)\n",
    "\n",
    "#     def get_valid_data_size(self):\n",
    "#         \"\"\"\n",
    "#         Information for aggregation\n",
    "#         \"\"\"\n",
    "#         return len(self.valid_set)\n",
    "    \n",
    "# fed_dataset = FedDataset(KvasirDataset, train_bs=8, valid_bs=8)"
   ]
  },
  {
   "cell_type": "markdown",
   "id": "marine-kansas",
   "metadata": {},
   "source": [
    "### Register tasks"
   ]
  },
  {
   "cell_type": "code",
   "execution_count": null,
   "id": "increasing-builder",
   "metadata": {},
   "outputs": [],
   "source": [
    "TI = TaskInterface()\n",
    "import torch\n",
    "\n",
    "import tqdm\n",
    "\n",
    "# The Interactive API supports registering functions definied in main module or imported.\n",
    "def function_defined_in_notebook(some_parameter):\n",
    "    print(f'Also I accept a parameter and it is {some_parameter}')\n",
    "\n",
    "# Task interface currently supports only standalone functions.\n",
    "@TI.add_kwargs(**{'some_parameter': 42})\n",
    "@TI.register_fl_task(model='unet_model', data_loader='train_loader', \\\n",
    "                     device='device', optimizer='optimizer')     \n",
    "def train(unet_model, train_loader, optimizer, device, loss_fn=soft_dice_loss, some_parameter=None):\n",
    "    if not torch.cuda.is_available():\n",
    "        device = 'cpu'\n",
    "    \n",
    "    function_defined_in_notebook(some_parameter)\n",
    "    \n",
    "    train_loader = tqdm.tqdm(train_loader, desc=\"train\")\n",
    "    \n",
    "    unet_model.train()\n",
    "    unet_model.to(device)\n",
    "\n",
    "    losses = []\n",
    "\n",
    "    for data, target in train_loader:\n",
    "        data, target = torch.tensor(data).to(device), torch.tensor(\n",
    "            target).to(device, dtype=torch.float32)\n",
    "        optimizer.zero_grad()\n",
    "        output = unet_model(data)\n",
    "        loss = loss_fn(output=output, target=target)\n",
    "        loss.backward()\n",
    "        optimizer.step()\n",
    "        losses.append(loss.detach().cpu().numpy())\n",
    "        \n",
    "    return {'train_loss': np.mean(losses),}\n",
    "\n",
    "\n",
    "@TI.register_fl_task(model='unet_model', data_loader='val_loader', device='device')     \n",
    "def validate(unet_model, val_loader, device):\n",
    "    unet_model.eval()\n",
    "    unet_model.to(device)\n",
    "    \n",
    "    val_loader = tqdm.tqdm(val_loader, desc=\"validate\")\n",
    "\n",
    "    val_score = 0\n",
    "    total_samples = 0\n",
    "\n",
    "    with torch.no_grad():\n",
    "        for data, target in val_loader:\n",
    "            samples = target.shape[0]\n",
    "            total_samples += samples\n",
    "            data, target = torch.tensor(data).to(device), \\\n",
    "                torch.tensor(target).to(device, dtype=torch.int64)\n",
    "            output = unet_model(data)\n",
    "            val = soft_dice_coef(output, target)\n",
    "            val_score += val.sum().cpu().numpy()\n",
    "            \n",
    "    return {'dice_coef': val_score / total_samples,}"
   ]
  },
  {
   "cell_type": "code",
   "execution_count": null,
   "id": "b50a39c7",
   "metadata": {},
   "outputs": [],
   "source": []
  },
  {
   "cell_type": "markdown",
   "id": "derived-bride",
   "metadata": {},
   "source": [
    "## Time to start a federated learning experiment"
   ]
  },
  {
   "cell_type": "code",
   "execution_count": 1,
   "id": "4485ac79",
   "metadata": {},
   "outputs": [],
   "source": [
    "# Create a federation\n",
    "from openfl.interface.interactive_api.federation import Federation\n",
    "\n",
    "# 1) Run with API layer - Director mTLS \n",
    "# If the user wants to enable mTLS their must provide CA root chain, and signed key pair to the federation interface\n",
    "cert_chain = 'cert/cert_chain.crt'\n",
    "API_certificate = 'cert/API_certificate.crt'\n",
    "API_private_key = 'cert/API_private.key'\n",
    "\n",
    "federation = Federation(director_node_fqdn='some.fqdn', disable_tls=False,\n",
    "                       cert_chain=cert_chain, API_cert=API_certificate, API_private_key=API_private_key)\n",
    "\n",
    "# --------------------------------------------------------------------------------------------------------------------\n",
    "\n",
    "# 2) Run with TLS disabled (trusted environment)\n",
    "# Federation can also determine local fqdn automatically\n",
    "federation = Federation(director_node_fqdn='localhost', disable_tls=True)"
   ]
  },
  {
   "cell_type": "code",
   "execution_count": 2,
   "id": "920216d3",
   "metadata": {
    "scrolled": true
   },
   "outputs": [
    {
     "name": "stdout",
     "output_type": "stream",
     "text": [
      "(300, 300, 3) (6,) 10\n"
     ]
    }
   ],
   "source": [
    "# First, request a dummy_shard_desc that holds information about the federated dataset \n",
    "dummy_shard_desc = federation.get_dummy_shard_descriptor(size=10)"
   ]
  },
  {
   "cell_type": "code",
   "execution_count": null,
   "id": "996f6460",
   "metadata": {},
   "outputs": [],
   "source": [
    "\"1,6\""
   ]
  },
  {
   "cell_type": "code",
   "execution_count": 17,
   "id": "64f37dcf",
   "metadata": {
    "scrolled": true
   },
   "outputs": [
    {
     "ename": "NameError",
     "evalue": "name 'DataInterface' is not defined",
     "output_type": "error",
     "traceback": [
      "\u001B[0;31m---------------------------------------------------------------------------\u001B[0m",
      "\u001B[0;31mNameError\u001B[0m                                 Traceback (most recent call last)",
      "\u001B[0;32m<ipython-input-17-858ae44ef56e>\u001B[0m in \u001B[0;36m<module>\u001B[0;34m\u001B[0m\n\u001B[1;32m      1\u001B[0m \u001B[0;31m# Now you can implement you data loaders using dummy_shard_desc\u001B[0m\u001B[0;34m\u001B[0m\u001B[0;34m\u001B[0m\u001B[0;34m\u001B[0m\u001B[0m\n\u001B[0;32m----> 2\u001B[0;31m \u001B[0;32mclass\u001B[0m \u001B[0mKvasirSD\u001B[0m\u001B[0;34m(\u001B[0m\u001B[0mDataInterface\u001B[0m\u001B[0;34m,\u001B[0m \u001B[0mDataset\u001B[0m\u001B[0;34m)\u001B[0m\u001B[0;34m:\u001B[0m\u001B[0;34m\u001B[0m\u001B[0;34m\u001B[0m\u001B[0m\n\u001B[0m\u001B[1;32m      3\u001B[0m \u001B[0;34m\u001B[0m\u001B[0m\n\u001B[1;32m      4\u001B[0m     \u001B[0;32mdef\u001B[0m \u001B[0m__init__\u001B[0m\u001B[0;34m(\u001B[0m\u001B[0mself\u001B[0m\u001B[0;34m,\u001B[0m \u001B[0mshard_descriptor\u001B[0m\u001B[0;34m,\u001B[0m \u001B[0mvalidation_fraction\u001B[0m\u001B[0;34m=\u001B[0m\u001B[0;36m1\u001B[0m\u001B[0;34m/\u001B[0m\u001B[0;36m8\u001B[0m\u001B[0;34m,\u001B[0m \u001B[0mis_validation\u001B[0m\u001B[0;34m=\u001B[0m\u001B[0;32mFalse\u001B[0m\u001B[0;34m,\u001B[0m \u001B[0;34m**\u001B[0m\u001B[0mkwargs\u001B[0m\u001B[0;34m)\u001B[0m\u001B[0;34m:\u001B[0m\u001B[0;34m\u001B[0m\u001B[0;34m\u001B[0m\u001B[0m\n\u001B[1;32m      5\u001B[0m         \u001B[0msuper\u001B[0m\u001B[0;34m(\u001B[0m\u001B[0;34m)\u001B[0m\u001B[0;34m.\u001B[0m\u001B[0m__init__\u001B[0m\u001B[0;34m(\u001B[0m\u001B[0;34m**\u001B[0m\u001B[0mkwargs\u001B[0m\u001B[0;34m)\u001B[0m\u001B[0;34m\u001B[0m\u001B[0;34m\u001B[0m\u001B[0m\n",
      "\u001B[0;31mNameError\u001B[0m: name 'DataInterface' is not defined"
     ]
    }
   ],
   "source": [
    "# Now you can implement you data loaders using dummy_shard_desc\n",
    "class KvasirSD(DataInterface, Dataset):\n",
    "\n",
    "    def __init__(self, shard_descriptor, validation_fraction=1/8, is_validation=False, **kwargs):\n",
    "        super().__init__(**kwargs)\n",
    "\n",
    "        self.shard_descriptor = shard_descriptor\n",
    "        \n",
    "        self.validation_fraction = validation_fraction\n",
    "        \n",
    "        validation_size = max(1, int(len(self.shard_descriptor) * validation_fraction))\n",
    "        self.train_indeces = list(range())\n",
    "        \n",
    "#         if is_validation:\n",
    "#             self.images_names = self.images_names[-validation_size :]\n",
    "#         else:\n",
    "#             self.images_names = self.images_names[: -validation_size]\n",
    "        \n",
    "        # Prepare transforms\n",
    "        self.img_trans = tsf.Compose([\n",
    "            tsf.ToPILImage(),\n",
    "            tsf.Resize((332, 332)),\n",
    "            tsf.ToTensor(),\n",
    "            tsf.Normalize(mean=[0.5, 0.5, 0.5], std=[0.5, 0.5, 0.5])])\n",
    "        self.mask_trans = tsf.Compose([\n",
    "            tsf.ToPILImage(),\n",
    "            tsf.Resize((332, 332), interpolation=PIL.Image.NEAREST),\n",
    "            tsf.ToTensor()])\n",
    "        \n",
    "\n",
    "    def __getitem__(self, index):\n",
    "        img, mask = self.shard_descriptor[index]\n",
    "        img = self.img_trans(img).numpy()\n",
    "        mask = self.mask_trans(mask).numpy()\n",
    "        return img, mask\n",
    "\n",
    "    def __len__(self):\n",
    "        return len(self.shard_descriptor)\n",
    "    \n",
    "    \n",
    "    def get_train_loader(self, **kwargs):\n",
    "        \"\"\"\n",
    "        Output of this method will be provided to tasks with optimizer in contract\n",
    "        \"\"\"\n",
    "        return DataLoader(\n",
    "            self.train_set, num_workers=8, batch_size=self.kwargs['train_bs'], shuffle=True\n",
    "            )\n",
    "\n",
    "    def get_valid_loader(self, **kwargs):\n",
    "        \"\"\"\n",
    "        Output of this method will be provided to tasks without optimizer in contract\n",
    "        \"\"\"\n",
    "        return DataLoader(self.valid_set, num_workers=8, batch_size=self.kwargs['valid_bs'])\n",
    "\n",
    "    def get_train_data_size(self):\n",
    "        \"\"\"\n",
    "        Information for aggregation\n",
    "        \"\"\"\n",
    "        return len(self.train_set)\n",
    "\n",
    "    def get_valid_data_size(self):\n",
    "        \"\"\"\n",
    "        Information for aggregation\n",
    "        \"\"\"\n",
    "        return len(self.valid_set)"
   ]
  },
  {
   "cell_type": "code",
   "execution_count": 22,
   "id": "d8df35f5",
   "metadata": {},
   "outputs": [
    {
     "ename": "SyntaxError",
     "evalue": "invalid syntax (<ipython-input-22-9778031892f4>, line 1)",
     "output_type": "error",
     "traceback": [
      "\u001B[0;36m  File \u001B[0;32m\"<ipython-input-22-9778031892f4>\"\u001B[0;36m, line \u001B[0;32m1\u001B[0m\n\u001B[0;31m    [1:10]\u001B[0m\n\u001B[0m      ^\u001B[0m\n\u001B[0;31mSyntaxError\u001B[0m\u001B[0;31m:\u001B[0m invalid syntax\n"
     ]
    }
   ],
   "source": []
  },
  {
   "cell_type": "markdown",
   "id": "af0579f8",
   "metadata": {},
   "source": [
    "# Long-Living entities update\n",
    "\n",
    "* We now may have director running on another machine.\n",
    "* We use Federation API to communicate with Director.\n",
    "* Federation object should hold a Director's client (for user service)\n",
    "* Keeping in mind that several API instances may be connacted to one Director.\n",
    "\n",
    "\n",
    "* We do not think for now how we start a Director.\n",
    "* But it knows the data shape and target shape for the DataScience problem in the Federation.\n",
    "* Director holds the list of connected envoys, we do not need to specify it anymore.\n",
    "* Director and Envoys are responsible for encrypting connections, we do not need to worry about certs.\n",
    "\n",
    "\n",
    "* Yet we MUST have a cert to communicate to the Director.\n",
    "* We MUST know the FQDN of a Director.\n",
    "* Director communicates data and target shape to the Federation interface object.\n",
    "\n",
    "\n",
    "* Experiment API may use this info to construct a dummy dataset and a `shard descriptor` stub."
   ]
  },
  {
   "cell_type": "markdown",
   "id": "adad7744",
   "metadata": {},
   "source": [
    "#### Certification of an aggregator\n",
    "* fx workspace certify: creates cert folder and CA as well as cert_chain\n",
    "* fx aggregator generate-cert-request --fqdn `FQDN`: you can pass a specific aggregator FQDN if you want\n",
    "* fx aggregator certify --fqdn `FQDN` --silent: signes aggregators cert\n",
    "<br> After that just pass the paths to required certs to the Federation API\n",
    "\n",
    "#### Certification of a collaborator\n",
    "just follow the usual procedure: <br>\n",
    "fx collaborator generate-cert-request -d {DATA_PATH} -n {COL} \n",
    "\n",
    "fx collaborator certify --request-pkg {COL_DIRECTORY}/{FED_WORKSPACE}/col_{COL}_to_agg_cert_request.zip\n",
    "\n",
    "fx collaborator certify --import {FED_DIRECTORY}/agg_to_col_{COL}_signed_cert.zip"
   ]
  },
  {
   "cell_type": "code",
   "execution_count": 2,
   "id": "12f5663f",
   "metadata": {},
   "outputs": [
    {
     "data": {
      "text/plain": [
       "2"
      ]
     },
     "execution_count": 2,
     "metadata": {},
     "output_type": "execute_result"
    }
   ],
   "source": [
    "# Interface generator\n",
    "class IFO:\n",
    "    def __init__(self):\n",
    "        self.a = 1\n",
    "    \n",
    "class EXP:\n",
    "    def __init__(self):\n",
    "        self.ifo = IFO()\n",
    "        \n",
    "    def get_ifo(self):\n",
    "        return self.ifo\n",
    "        \n",
    "exp = EXP()\n",
    "ifo = exp.get_ifo()\n",
    "ifo.a = 2\n",
    "\n",
    "# print(exp.ifo.a)\n",
    "exp2 = exp.__class__()\n",
    "exp.ifo.a"
   ]
  },
  {
   "cell_type": "code",
   "execution_count": null,
   "id": "mature-renewal",
   "metadata": {},
   "outputs": [],
   "source": [
    "# create an experimnet in federation\n",
    "fl_experiment = FLExperiment(federation=federation,)"
   ]
  },
  {
   "cell_type": "code",
   "execution_count": null,
   "id": "lightweight-causing",
   "metadata": {
    "scrolled": false
   },
   "outputs": [],
   "source": [
    "# If I use autoreload I got a pickling error\n",
    "\n",
    "# The following command zips the workspace and python requirements to be transfered to collaborator nodes\n",
    "fl_experiment.prepare_workspace_distribution(model_provider=MI, task_keeper=TI, data_loader=fed_dataset, rounds_to_train=7, \\\n",
    "                              opt_treatment='CONTINUE_GLOBAL')\n",
    "# This command starts the aggregator server. You can pass 'metric' log_level\n",
    "fl_experiment.start_experiment(model_provider=MI, log_level='INFO', log_file='federation.log')\n",
    "\n",
    "# When the aggregator server blocks the notebook one can start collaborators\n",
    "# For the test run just type console command from the workspace directory:\n",
    "# `fx collaborator start -d data.yaml -n {col_name}` for all collaborators\n",
    "# For the distributed experiment transfer zipped workspace to the collaborator nodes and run\n",
    "# `fx workspace import --archive {workspace_name}.zip` cd to the workspace and start collaborators"
   ]
  },
  {
   "cell_type": "markdown",
   "id": "8c30b301",
   "metadata": {},
   "source": [
    "## Now we validate the best model!"
   ]
  },
  {
   "cell_type": "code",
   "execution_count": null,
   "id": "55acff59",
   "metadata": {},
   "outputs": [],
   "source": [
    "best_model = fl_experiment.get_best_model()"
   ]
  },
  {
   "cell_type": "code",
   "execution_count": null,
   "id": "9fb5718d",
   "metadata": {},
   "outputs": [],
   "source": [
    "fed_dataset._delayed_init()"
   ]
  },
  {
   "cell_type": "code",
   "execution_count": null,
   "id": "a2acb7e6",
   "metadata": {},
   "outputs": [],
   "source": [
    "# Validating initial model\n",
    "validate(initial_model, fed_dataset.get_valid_loader(), 'cpu')"
   ]
  },
  {
   "cell_type": "code",
   "execution_count": null,
   "id": "c12ca93f",
   "metadata": {},
   "outputs": [],
   "source": [
    "# Validating trained model\n",
    "validate(best_model, fed_dataset.get_valid_loader(), 'cpu')"
   ]
  },
  {
   "cell_type": "markdown",
   "id": "1e6734f6",
   "metadata": {},
   "source": [
    "## We can tune model further!"
   ]
  },
  {
   "cell_type": "code",
   "execution_count": null,
   "id": "3940e75e",
   "metadata": {},
   "outputs": [],
   "source": [
    "MI = ModelInterface(model=best_model, optimizer=optimizer_adam, framework_plugin=framework_adapter)\n",
    "fl_experiment.start_experiment(model_provider=MI, task_keeper=TI, data_loader=fed_dataset, rounds_to_train=4, \\\n",
    "                              opt_treatment='CONTINUE_GLOBAL')"
   ]
  },
  {
   "cell_type": "code",
   "execution_count": null,
   "id": "1bd786d2",
   "metadata": {},
   "outputs": [],
   "source": [
    "best_model = fl_experiment.get_best_model()\n",
    "# Validating trained model\n",
    "validate(best_model, fed_dataset.get_valid_loader(), 'cpu')"
   ]
  },
  {
   "cell_type": "code",
   "execution_count": 40,
   "id": "2dcdbfeb",
   "metadata": {},
   "outputs": [
    {
     "ename": "SyntaxError",
     "evalue": "invalid syntax (<ipython-input-40-b0f7ed81de85>, line 2)",
     "output_type": "error",
     "traceback": [
      "\u001B[0;36m  File \u001B[0;32m\"<ipython-input-40-b0f7ed81de85>\"\u001B[0;36m, line \u001B[0;32m2\u001B[0m\n\u001B[0;31m    a = [elem for elem in a if elem.shape==2 else elem.newaxis()]\u001B[0m\n\u001B[0m                                             ^\u001B[0m\n\u001B[0;31mSyntaxError\u001B[0m\u001B[0;31m:\u001B[0m invalid syntax\n"
     ]
    }
   ],
   "source": [
    "a = (np.zeros((2,4)), np.ones(2,), 2*np.ones(2,))\n",
    "a = [elem for elem in a if elem.shape==2 else elem.newaxis()]\n",
    "np.concatenate(a)"
   ]
  },
  {
   "cell_type": "code",
   "execution_count": 15,
   "id": "70863215",
   "metadata": {},
   "outputs": [],
   "source": [
    "class A:\n",
    "    def __init__(self, **kwargs):\n",
    "        print(\"Class A\", kwargs)\n",
    "        \n",
    "class B:\n",
    "    def __init__(self, **kwargs):\n",
    "        super().__init__()\n",
    "        print(\"Class B\", kwargs)\n",
    "        \n",
    "class C(B, A):\n",
    "    def __init__(self, **kwargs):\n",
    "        super().__init__()\n",
    "        print(\"Class C\", kwargs)\n",
    "        \n",
    "# class A:\n",
    "#     def __init__(self, **kwargs):\n",
    "#         print(\"Class A\", kwargs)"
   ]
  },
  {
   "cell_type": "code",
   "execution_count": 16,
   "id": "4ba44919",
   "metadata": {},
   "outputs": [
    {
     "name": "stdout",
     "output_type": "stream",
     "text": [
      "Class A {}\n",
      "Class B {}\n",
      "Class C {'x': 1, 'z': 5}\n"
     ]
    }
   ],
   "source": [
    "c = C(x=1, z=5)"
   ]
  },
  {
   "cell_type": "code",
   "execution_count": null,
   "id": "0637f26f",
   "metadata": {},
   "outputs": [],
   "source": []
  }
 ],
 "metadata": {
  "kernelspec": {
   "display_name": "Python 3",
   "language": "python",
   "name": "python3"
  },
  "language_info": {
   "codemirror_mode": {
    "name": "ipython",
    "version": 3
   },
   "file_extension": ".py",
   "mimetype": "text/x-python",
   "name": "python",
   "nbconvert_exporter": "python",
   "pygments_lexer": "ipython3",
   "version": "3.6.9"
  }
 },
 "nbformat": 4,
 "nbformat_minor": 5
}
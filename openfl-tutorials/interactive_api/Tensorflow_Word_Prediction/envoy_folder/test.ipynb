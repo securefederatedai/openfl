{
 "cells": [
  {
   "cell_type": "code",
   "execution_count": 84,
   "outputs": [
    {
     "name": "stdout",
     "output_type": "stream",
     "text": [
      "10719\n"
     ]
    }
   ],
   "source": [
    "#!pip install wordfreq\n",
    "import pandas as pd\n",
    "import spacy\n",
    "from wordfreq import word_frequency, zipf_frequency\n",
    "import re\n",
    "\n",
    "nlp = spacy.load('en_core_web_sm')\n",
    "clean_vocab_list = [word for word in nlp.vocab.strings if re.fullmatch(r'[a-z]+', word)]\n",
    "\n",
    "# lst = [word for word in clean_vocab_list if word_frequency(word, 'en', wordlist='small') > 3e-6]\n",
    "lst = [word for word in clean_vocab_list if zipf_frequency(word, 'en', wordlist='small') > 3.7]  # len(x_seq) = 17558\n",
    "print(len(lst))"
   ],
   "metadata": {
    "collapsed": false,
    "pycharm": {
     "name": "#%%\n"
    }
   }
  },
  {
   "cell_type": "code",
   "execution_count": 85,
   "outputs": [
    {
     "name": "stderr",
     "output_type": "stream",
     "text": [
      "c:\\users\\merkulov\\documents\\git\\venv_openfl\\lib\\site-packages\\ipykernel_launcher.py:1: DeprecationWarning: The default dtype for empty Series will be 'object' instead of 'float64' in a future version. Specify a dtype explicitly to silence this warning.\n",
      "  \"\"\"Entry point for launching an IPython kernel.\n"
     ]
    }
   ],
   "source": [
    "word_to_vector = pd.Series([], name='vector')\n",
    "for word in lst:\n",
    "    word_to_vector[word] = nlp(word).vector\n",
    "word_to_vector.to_pickle('keyed_vectors.pkl')"
   ],
   "metadata": {
    "collapsed": false,
    "pycharm": {
     "name": "#%%\n"
    }
   }
  },
  {
   "cell_type": "code",
   "execution_count": 86,
   "outputs": [],
   "source": [
    "import re\n",
    "from pathlib import Path\n",
    "\n",
    "import numpy as np\n",
    "import pandas as pd\n",
    "from tensorflow.keras.utils import to_categorical\n",
    "\n",
    "path = Path.cwd() / 'one' / 'The Whisperer in Darkness.txt'\n",
    "file = open(path, 'r', encoding='utf8').read()\n",
    "data = re.findall(r'[a-z]+', file.lower())\n",
    "\n",
    "x_seq = []\n",
    "y_seq = []\n",
    "vectors = pd.read_pickle('keyed_vectors.pkl')\n",
    "for i in range(len(data) - 3):\n",
    "    x = data[i:i + 3]  # make 3-grams\n",
    "    y = data[i + 3]\n",
    "    cur_x = [vectors[word] for word in x if word in vectors]\n",
    "    if len(cur_x) == 3 and y in vectors:\n",
    "        x_seq.append(cur_x)\n",
    "        y_seq.append(vectors.index.get_loc(y))\n",
    "\n",
    "x_seq = np.array(x_seq)\n",
    "y_seq = to_categorical(y_seq, num_classes=vectors.shape[0])"
   ],
   "metadata": {
    "collapsed": false,
    "pycharm": {
     "name": "#%%\n"
    }
   }
  },
  {
   "cell_type": "code",
   "execution_count": 87,
   "outputs": [
    {
     "data": {
      "text/plain": "17558"
     },
     "execution_count": 87,
     "metadata": {},
     "output_type": "execute_result"
    }
   ],
   "source": [
    "len(x_seq)"
   ],
   "metadata": {
    "collapsed": false,
    "pycharm": {
     "name": "#%%\n"
    }
   }
  },
  {
   "cell_type": "code",
   "execution_count": null,
   "outputs": [],
   "source": [
    "!pip install wordfreq"
   ],
   "metadata": {
    "collapsed": false,
    "pycharm": {
     "name": "#%%\n"
    }
   }
  },
  {
   "cell_type": "code",
   "execution_count": null,
   "outputs": [],
   "source": [
    "clean_vocab_list"
   ],
   "metadata": {
    "collapsed": false,
    "pycharm": {
     "name": "#%%\n"
    }
   }
  },
  {
   "cell_type": "code",
   "execution_count": 11,
   "metadata": {
    "pycharm": {
     "name": "#%%\n"
    }
   },
   "outputs": [
    {
     "data": {
      "text/plain": [
       "a           [0.02819018, 0.009864252, -0.095220566, 0.5522...\n",
       "aa          [-0.72708106, -0.3900509, -0.5274905, -0.24052...\n",
       "aaa         [0.2759483, -0.84107316, -0.4709188, -0.121549...\n",
       "aaaaahhh    [-0.39636, -0.52181447, -0.8544498, -0.0328585...\n",
       "aab         [0.05131094, -0.5333605, -0.13755266, 0.309400...\n",
       "Name: vector, dtype: object"
      ]
     },
     "execution_count": 11,
     "metadata": {},
     "output_type": "execute_result"
    }
   ],
   "source": [
    "vectors = pd.read_pickle('keyed_vectors.pkl')\n",
    "vectors"
   ]
  },
  {
   "cell_type": "code",
   "execution_count": 28,
   "metadata": {
    "pycharm": {
     "name": "#%%\n"
    }
   },
   "outputs": [
    {
     "data": {
      "text/plain": [
       "array([ 1.7234211 ,  0.70698   ,  0.07531004,  0.01016416,  0.90625674,\n",
       "       -0.6563784 , -0.2947484 , -1.413888  , -0.5794049 , -0.2622171 ,\n",
       "        0.8249276 , -0.4351025 , -0.32808983,  0.61241966, -0.19234025,\n",
       "        0.32532322,  0.10879372,  0.06578569, -0.6768458 , -0.1377917 ,\n",
       "       -0.8914129 , -0.6982869 ,  0.1900026 , -0.1436843 , -0.07635674,\n",
       "        0.36350653,  0.6082434 , -0.21159156,  0.3636239 ,  0.0854439 ,\n",
       "       -0.25609127,  0.1762818 , -0.28762445, -0.0117182 ,  0.2569304 ,\n",
       "       -0.423652  , -0.4956298 ,  0.31628734,  1.0616965 ,  0.15893973,\n",
       "       -0.15172145, -0.5052287 , -0.06382523,  0.6445457 ,  0.35854506,\n",
       "        0.03501716, -0.1134971 ,  0.30475333, -0.3105463 ,  0.08665343,\n",
       "        0.3017515 ,  0.00964418,  0.3062988 , -0.9406882 , -0.3071625 ,\n",
       "        0.2866875 , -0.07427119, -0.2365871 ,  0.28920767, -0.6069183 ,\n",
       "       -0.42465514, -0.01203269,  0.16526166, -1.2865363 , -0.48753422,\n",
       "       -0.1325486 , -0.6748189 , -0.21193369, -0.53277934,  0.06171057,\n",
       "       -0.06349868,  0.1252301 ,  0.05173729, -0.474239  , -0.20020112,\n",
       "        0.40584868, -0.14201353, -0.48277408, -1.0026742 ,  0.22928861,\n",
       "        0.27113134,  0.35874885,  0.6515385 ,  1.5773449 , -0.79377794,\n",
       "       -0.26590276,  0.5295027 ,  0.1776939 , -0.00225127,  0.295591  ,\n",
       "       -0.43171072,  0.15821588,  0.757938  , -0.14688459,  0.71262574,\n",
       "       -0.20197208], dtype=float32)"
      ]
     },
     "execution_count": 28,
     "metadata": {},
     "output_type": "execute_result"
    }
   ],
   "source": [
    "tok2.vector"
   ]
  },
  {
   "cell_type": "code",
   "execution_count": null,
   "metadata": {
    "pycharm": {
     "name": "#%%\n"
    }
   },
   "outputs": [],
   "source": []
  }
 ],
 "metadata": {
  "kernelspec": {
   "display_name": "Python 3 (ipykernel)",
   "language": "python",
   "name": "python3"
  },
  "language_info": {
   "codemirror_mode": {
    "name": "ipython",
    "version": 3
   },
   "file_extension": ".py",
   "mimetype": "text/x-python",
   "name": "python",
   "nbconvert_exporter": "python",
   "pygments_lexer": "ipython3",
   "version": "3.7.9"
  }
 },
 "nbformat": 4,
 "nbformat_minor": 1
}
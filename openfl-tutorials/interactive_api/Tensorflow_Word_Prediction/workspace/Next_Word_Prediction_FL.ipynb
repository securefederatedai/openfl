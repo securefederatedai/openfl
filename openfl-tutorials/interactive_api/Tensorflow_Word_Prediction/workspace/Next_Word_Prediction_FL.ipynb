{
 "cells": [
  {
   "cell_type": "markdown",
   "id": "liquid-jacket",
   "metadata": {},
   "source": [
    "# Federated Next Word Prediction with Director example\n",
    "## Using low-level Python API"
   ]
  },
  {
   "cell_type": "code",
   "execution_count": null,
   "id": "f8fe381f",
   "metadata": {
    "pycharm": {
     "name": "#%%\n"
    }
   },
   "outputs": [],
   "source": [
    "# Install dependencies if not already installed\n",
    "# !pip install tensorflow==2.5.1"
   ]
  },
  {
   "cell_type": "code",
   "execution_count": null,
   "id": "42abc73c",
   "metadata": {
    "pycharm": {
     "name": "#%%\n"
    }
   },
   "outputs": [],
   "source": [
    "import numpy as np"
   ]
  },
  {
   "cell_type": "markdown",
   "id": "16986f22",
   "metadata": {},
   "source": [
    "# Connect to the Federation"
   ]
  },
  {
   "cell_type": "code",
   "execution_count": null,
   "id": "0a575ebc",
   "metadata": {},
   "outputs": [],
   "source": [
    "# Create a federation\n",
    "from openfl.interface.interactive_api.federation import Federation\n",
    "\n",
    "# please use the same identificator that was used in signed certificate\n",
    "cliend_id = 'frontend'\n",
    "\n",
    "# 1) Run with API layer - Director mTLS \n",
    "# If the user wants to enable mTLS their must provide CA root chain, and signed key pair to the federation interface\n",
    "# cert_chain = 'cert/root_ca.crt'\n",
    "# API_certificate = 'cert/frontend.crt'\n",
    "# API_private_key = 'cert/frontend.key'\n",
    "\n",
    "# federation = Federation(client_id='frontend', director_node_fqdn='localhost', director_port='50051', disable_tls=False,\n",
    "#                        cert_chain=cert_chain, api_cert=API_certificate, api_private_key=API_private_key)\n",
    "\n",
    "# --------------------------------------------------------------------------------------------------------------------\n",
    "\n",
    "# 2) Run with TLS disabled (trusted environment)\n",
    "# Federation can also determine local fqdn automatically\n",
    "federation = Federation(client_id='frontend', director_node_fqdn='localhost', director_port='50051', tls=False)"
   ]
  },
  {
   "cell_type": "code",
   "execution_count": null,
   "id": "466edd2c",
   "metadata": {},
   "outputs": [],
   "source": [
    "shard_registry = federation.get_shard_registry()\n",
    "shard_registry"
   ]
  },
  {
   "cell_type": "code",
   "execution_count": null,
   "id": "381a2e96",
   "metadata": {},
   "outputs": [],
   "source": [
    "federation.target_shape"
   ]
  },
  {
   "cell_type": "code",
   "execution_count": null,
   "id": "d72d9aef",
   "metadata": {},
   "outputs": [],
   "source": [
    "# First, request a dummy_shard_desc that holds information about the federated dataset \n",
    "dummy_shard_desc = federation.get_dummy_shard_descriptor(size=10)\n",
    "sample, target = dummy_shard_desc[0]"
   ]
  },
  {
   "cell_type": "markdown",
   "id": "obvious-tyler",
   "metadata": {},
   "source": [
    "## Creating a FL experiment using Interactive API"
   ]
  },
  {
   "cell_type": "code",
   "execution_count": null,
   "id": "9001b56e",
   "metadata": {},
   "outputs": [],
   "source": [
    "from openfl.interface.interactive_api.experiment import TaskInterface, DataInterface, ModelInterface, FLExperiment"
   ]
  },
  {
   "cell_type": "markdown",
   "id": "sustainable-public",
   "metadata": {},
   "source": [
    "### Register dataset"
   ]
  },
  {
   "cell_type": "code",
   "execution_count": null,
   "id": "41ba9a55",
   "metadata": {},
   "outputs": [],
   "source": [
    "from tensorflow.keras.utils import Sequence\n",
    "\n",
    "class DataGenerator(Sequence):\n",
    "\n",
    "    def __init__(self, shard_descriptor, indices, batch_size):\n",
    "        self.shard_descriptor = shard_descriptor\n",
    "        self.batch_size = batch_size\n",
    "        self.indices = indices\n",
    "        self.on_epoch_end()\n",
    "\n",
    "    def __len__(self):\n",
    "        return len(self.indices) // self.batch_size\n",
    "\n",
    "    def __getitem__(self, index):\n",
    "        index = self.index[index * self.batch_size:(index + 1) * self.batch_size]\n",
    "        batch = [self.indices[k] for k in index]\n",
    "\n",
    "        X, y = self.shard_descriptor[batch]\n",
    "        return X, y\n",
    "\n",
    "    def on_epoch_end(self):\n",
    "        self.index = np.arange(len(self.indices))\n",
    "\n",
    "\n",
    "# Now you can implement you data loaders using dummy_shard_desc\n",
    "class NextWordSD(DataInterface):\n",
    "\n",
    "    def __init__(self, **kwargs):\n",
    "        super().__init__(**kwargs)\n",
    "\n",
    "    @property\n",
    "    def shard_descriptor(self):\n",
    "        return self._shard_descriptor\n",
    "\n",
    "    @shard_descriptor.setter\n",
    "    def shard_descriptor(self, shard_descriptor):\n",
    "        \"\"\"\n",
    "        Describe per-collaborator procedures or sharding.\n",
    "\n",
    "        This method will be called during a collaborator initialization.\n",
    "        Local shard_descriptor will be set by Envoy.\n",
    "        \"\"\"\n",
    "        self._shard_descriptor = shard_descriptor\n",
    "\n",
    "        train = round(len(self) * 0.8)\n",
    "        self.train_indeces = list(range(1, train))\n",
    "        self.valid_indeces = list(range(train, len(self)))\n",
    "\n",
    "    def __getitem__(self, index):\n",
    "        return self.shard_descriptor[index]\n",
    "\n",
    "    def __len__(self):\n",
    "        return len(self.shard_descriptor)\n",
    "\n",
    "    def get_train_loader(self):\n",
    "        \"\"\"\n",
    "        Output of this method will be provided to tasks with optimizer in contract\n",
    "        \"\"\"\n",
    "        if self.kwargs['train_bs']:\n",
    "            batch_size = self.kwargs['train_bs']\n",
    "        else:\n",
    "            batch_size = 64\n",
    "\n",
    "        return DataGenerator(self.shard_descriptor, self.train_indeces, batch_size=batch_size)\n",
    "\n",
    "    def get_valid_loader(self):\n",
    "        \"\"\"\n",
    "        Output of this method will be provided to tasks without optimizer in contract\n",
    "        \"\"\"\n",
    "        if self.kwargs['valid_bs']:\n",
    "            batch_size = self.kwargs['valid_bs']\n",
    "        else:\n",
    "            batch_size = 512\n",
    "\n",
    "        return DataGenerator(self.shard_descriptor, self.valid_indeces, batch_size=batch_size)\n",
    "\n",
    "    def get_train_data_size(self):\n",
    "        \"\"\"\n",
    "        Information for aggregation\n",
    "        \"\"\"\n",
    "        return len(self.train_indeces)\n",
    "\n",
    "    def get_valid_data_size(self):\n",
    "        \"\"\"\n",
    "        Information for aggregation\n",
    "        \"\"\"\n",
    "        return len(self.valid_indeces)\n"
   ]
  },
  {
   "cell_type": "markdown",
   "id": "caring-distinction",
   "metadata": {},
   "source": [
    "### Describe a model and optimizer\n",
    "\n",
    "__There are 3 ways to create Model: choose one, uncomment it and comment others:__"
   ]
  },
  {
   "cell_type": "code",
   "execution_count": null,
   "id": "510b3187",
   "metadata": {},
   "outputs": [],
   "source": [
    "import tensorflow as tf\n",
    "from tensorflow.keras.layers import LSTM, Dense\n",
    "from tensorflow.keras.optimizers import Adam\n",
    "from tensorflow.keras.metrics import CategoricalAccuracy\n",
    "from tensorflow.keras.losses import CategoricalCrossentropy\n",
    "\n",
    "gpu_devices = tf.config.experimental.list_physical_devices('GPU')\n",
    "for device in gpu_devices:\n",
    "    tf.config.experimental.set_memory_growth(device, True)"
   ]
  },
  {
   "cell_type": "markdown",
   "id": "366989fe",
   "metadata": {},
   "source": [
    "#### Model Subclassing (doesn't run properly)"
   ]
  },
  {
   "cell_type": "code",
   "execution_count": null,
   "id": "39d257da",
   "metadata": {
    "pycharm": {
     "name": "#%%\n"
    }
   },
   "outputs": [],
   "source": [
    "# class Model(tf.keras.Model):\n",
    "#     \"\"\"Model definition.\"\"\"\n",
    "\n",
    "#     def __init__(self, **kwargs):\n",
    "#         super().__init__()\n",
    "\n",
    "#         vocab_size = 10719\n",
    "#         self.lstm1 = LSTM(1000, return_sequences=True)\n",
    "#         self.lstm2 = LSTM(1000)\n",
    "#         self.d1 = Dense(1000, activation='tanh')\n",
    "#         self.d2 = Dense(vocab_size, activation='softmax')\n",
    "\n",
    "#     def call(self, x):\n",
    "#         x = self.lstm1(x)\n",
    "#         x = self.lstm2(x)\n",
    "#         x = self.d1(x)\n",
    "#         x = self.d2(x)\n",
    "#         return x\n",
    "    \n",
    "#     def get_config(self):\n",
    "#         config = dict({'name': self.name})\n",
    "#         config['layers'] = [\n",
    "#             {'class_name': layer.__class__.__name__,\n",
    "#              'config': layer.get_config()} \n",
    "#             for layer in model._self_tracked_trackables\n",
    "#         ]\n",
    "#         return config\n",
    "    \n",
    "#     @classmethod\n",
    "#     def from_config(cls, config):\n",
    "#         return cls(**config)\n",
    "\n",
    "# # Construct an instance of Model\n",
    "# model = Model()\n",
    "# optimizer = Adam(learning_rate=0.001)\n",
    "# loss_fn = CategoricalCrossentropy()\n",
    "# train_acc_metric = CategoricalAccuracy()\n",
    "# val_acc_metric = CategoricalAccuracy()\n",
    "\n",
    "# model.compile(loss='categorical_crossentropy', optimizer=optimizer,\n",
    "#               metrics=[tf.keras.metrics.CategoricalAccuracy()])\n",
    "# batch_size = 64\n",
    "# model.build(input_shape=[batch_size, 3, 96])"
   ]
  },
  {
   "cell_type": "markdown",
   "id": "61475b76",
   "metadata": {},
   "source": [
    "#### Sequential API"
   ]
  },
  {
   "cell_type": "code",
   "execution_count": null,
   "id": "3524931d",
   "metadata": {},
   "outputs": [],
   "source": [
    "from tensorflow.keras.models import Sequential\n",
    "\n",
    "model = Sequential()\n",
    "model.add(LSTM(1000, return_sequences=True))\n",
    "model.add(LSTM(1000))\n",
    "model.add(Dense(1000, activation='tanh'))\n",
    "model.add(Dense(10719, activation='softmax'))\n",
    "\n",
    "optimizer = Adam(learning_rate=0.001)\n",
    "loss_fn = CategoricalCrossentropy()\n",
    "train_acc_metric = CategoricalAccuracy()\n",
    "val_acc_metric = CategoricalAccuracy()\n",
    "\n",
    "batch_size = 64\n",
    "model.build(input_shape=[batch_size, 3, 96])"
   ]
  },
  {
   "cell_type": "markdown",
   "id": "210b6fc2",
   "metadata": {},
   "source": [
    "#### Functional API"
   ]
  },
  {
   "cell_type": "code",
   "execution_count": null,
   "id": "801326bd",
   "metadata": {},
   "outputs": [],
   "source": [
    "# inputs = tf.keras.Input(shape=(3, 96), name='sequences')\n",
    "# x1 = LSTM(1000, return_sequences=True)(inputs)\n",
    "# x2 = LSTM(1000)(x1)\n",
    "# x3 = Dense(1000, activation='tanh')(x2)\n",
    "# outputs = Dense(10719, activation='softmax')(x3)\n",
    "\n",
    "# optimizer = Adam(learning_rate=0.001)\n",
    "# loss_fn = CategoricalCrossentropy()\n",
    "# train_acc_metric = CategoricalAccuracy()\n",
    "# val_acc_metric = CategoricalAccuracy()\n",
    "# model = tf.keras.Model(inputs=inputs, outputs=outputs)\n",
    "# model.compile(loss='categorical_crossentropy', optimizer=optimizer,\n",
    "#               metrics=[tf.keras.metrics.CategoricalAccuracy()])\n",
    "# batch_size = 64\n",
    "# model.build(input_shape=[batch_size, 3, 96])"
   ]
  },
  {
   "cell_type": "code",
   "execution_count": null,
   "id": "9b26d13e",
   "metadata": {},
   "outputs": [],
   "source": [
    "fed_dataset = NextWordSD(train_bs=64, valid_bs=512)"
   ]
  },
  {
   "cell_type": "markdown",
   "id": "portuguese-groove",
   "metadata": {},
   "source": [
    "### Define and register FL tasks"
   ]
  },
  {
   "cell_type": "code",
   "execution_count": null,
   "id": "7e326d8f",
   "metadata": {},
   "outputs": [],
   "source": [
    "TI = TaskInterface()\n",
    "\n",
    "# https://www.tensorflow.org/guide/keras/customizing_what_happens_in_fit\n",
    "@TI.register_fl_task(model='model', data_loader='train_loader', device='device', optimizer='optimizer')\n",
    "def train(model, train_loader, device, optimizer):\n",
    "    # with device:\n",
    "    \n",
    "    # Iterate over the batches of the dataset.\n",
    "    for step, (x_batch_train, y_batch_train) in enumerate(train_loader):\n",
    "\n",
    "        y = tf.convert_to_tensor(y_batch_train)\n",
    "        with tf.GradientTape() as tape:\n",
    "            y_pred = model(x_batch_train, training=True)  # Forward pass\n",
    "            # Compute the loss value\n",
    "            # (the loss function is configured in `compile()`)\n",
    "            loss = loss_fn(y, y_pred)\n",
    "\n",
    "        # Compute gradients\n",
    "        trainable_vars = model.trainable_variables\n",
    "        gradients = tape.gradient(loss, trainable_vars)\n",
    "\n",
    "        # Update weights\n",
    "        optimizer.apply_gradients(zip(gradients, trainable_vars))\n",
    "\n",
    "        # Update metrics\n",
    "        train_acc_metric.update_state(y, y_pred)\n",
    "    \n",
    "    # Reset training metrics at the end of each epoch\n",
    "    train_acc = train_acc_metric.result()\n",
    "    train_acc_metric.reset_states()\n",
    "    return {'train_acc': train_acc, 'loss': loss}\n",
    "\n",
    "\n",
    "@TI.register_fl_task(model='model', data_loader='val_loader', device='device')\n",
    "def validate(model, val_loader, device=''):\n",
    "    # with device:\n",
    "    for x_batch_val, y_batch_val in val_loader:\n",
    "\n",
    "        y = tf.convert_to_tensor(y_batch_val)\n",
    "        # Compute predictions\n",
    "        y_pred = model(x_batch_val, training=False)\n",
    "        # Update the metrics.\n",
    "        val_acc_metric.update_state(y, y_pred)\n",
    "    val_acc = val_acc_metric.result()\n",
    "    val_acc_metric.reset_states()\n",
    "    return {'validation_accuracy': val_acc}\n"
   ]
  },
  {
   "cell_type": "markdown",
   "id": "caroline-passion",
   "metadata": {},
   "source": [
    "#### Register model"
   ]
  },
  {
   "cell_type": "code",
   "execution_count": null,
   "id": "145676d1",
   "metadata": {},
   "outputs": [],
   "source": [
    "from copy import deepcopy\n",
    "\n",
    "framework_adapter = 'openfl.plugins.frameworks_adapters.keras_adapter.FrameworkAdapterPlugin'\n",
    "MI = ModelInterface(model=model, optimizer=optimizer, framework_plugin=framework_adapter)\n",
    "# Save the initial model state\n",
    "initial_model = deepcopy(model)"
   ]
  },
  {
   "cell_type": "markdown",
   "id": "derived-bride",
   "metadata": {},
   "source": [
    "## Time to start a federated learning experiment"
   ]
  },
  {
   "cell_type": "code",
   "execution_count": null,
   "id": "df9d0e68",
   "metadata": {},
   "outputs": [],
   "source": [
    "# create an experimnet in federation\n",
    "experiment_name = 'word_prediction_test_experiment'\n",
    "fl_experiment = FLExperiment(federation=federation, experiment_name=experiment_name)"
   ]
  },
  {
   "cell_type": "code",
   "execution_count": null,
   "id": "1fdb59e1",
   "metadata": {},
   "outputs": [],
   "source": [
    "# If I use autoreload I got a pickling error\n",
    "\n",
    "# The following command zips the workspace and python requirements to be transfered to collaborator nodes\n",
    "fl_experiment.start(model_provider=MI, \n",
    "                    task_keeper=TI,\n",
    "                    data_loader=fed_dataset,\n",
    "                    rounds_to_train=20,\n",
    "                    opt_treatment='RESET')"
   ]
  },
  {
   "cell_type": "code",
   "execution_count": null,
   "id": "92510227",
   "metadata": {},
   "outputs": [],
   "source": [
    "# If user want to stop IPython session, then reconnect and check how experiment is going \n",
    "# fl_experiment.restore_experiment_state(MI)\n",
    "\n",
    "fl_experiment.stream_metrics()"
   ]
  },
  {
   "cell_type": "markdown",
   "source": [
    "## Testing the best model"
   ],
   "metadata": {
    "collapsed": false,
    "pycharm": {
     "name": "#%% md\n"
    }
   }
  },
  {
   "cell_type": "code",
   "execution_count": 1,
   "outputs": [
    {
     "ename": "SyntaxError",
     "evalue": "invalid syntax (Temp/ipykernel_14844/223815248.py, line 3)",
     "output_type": "error",
     "traceback": [
      "\u001B[1;36m  File \u001B[1;32m\"C:\\Users\\merkulov\\AppData\\Local\\Temp/ipykernel_14844/223815248.py\"\u001B[1;36m, line \u001B[1;32m3\u001B[0m\n\u001B[1;33m    By James Stephens\u001B[0m\n\u001B[1;37m           ^\u001B[0m\n\u001B[1;31mSyntaxError\u001B[0m\u001B[1;31m:\u001B[0m invalid syntax\n"
     ]
    }
   ],
   "source": [
    "from shard_descriptor import NextWordShardDescriptor\n",
    "\n",
    "# https://www.gutenberg.org/files/2892/2892-h/2892-h.htm\n",
    "fed_dataset.shard_descriptor = NextWordShardDescriptor(title='Irish Fairy Tales', author='James Stephens')"
   ],
   "metadata": {
    "collapsed": false,
    "pycharm": {
     "name": "#%%\n"
    }
   }
  },
  {
   "cell_type": "code",
   "execution_count": null,
   "outputs": [],
   "source": [
    "best_model = fl_experiment.get_best_model()\n",
    "\n",
    "# We remove data from director\n",
    "fl_experiment.remove_experiment_data()\n",
    "\n",
    "# Validating initial model\n",
    "validate(initial_model, fed_dataset.get_valid_loader())"
   ],
   "metadata": {
    "collapsed": false,
    "pycharm": {
     "name": "#%%\n"
    }
   }
  },
  {
   "cell_type": "code",
   "execution_count": null,
   "outputs": [],
   "source": [
    "# Validating trained model\n",
    "validate(best_model, fed_dataset.get_valid_loader())"
   ],
   "metadata": {
    "collapsed": false,
    "pycharm": {
     "name": "#%%\n"
    }
   }
  }
 ],
 "metadata": {
  "kernelspec": {
   "display_name": "Python 3 (ipykernel)",
   "language": "python",
   "name": "python3"
  },
  "language_info": {
   "codemirror_mode": {
    "name": "ipython",
    "version": 3
   },
   "file_extension": ".py",
   "mimetype": "text/x-python",
   "name": "python",
   "nbconvert_exporter": "python",
   "pygments_lexer": "ipython3",
   "version": "3.7.11"
  }
 },
 "nbformat": 4,
 "nbformat_minor": 5
}
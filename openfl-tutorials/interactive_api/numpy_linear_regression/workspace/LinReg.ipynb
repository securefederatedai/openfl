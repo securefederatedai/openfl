{
 "cells": [
  {
   "cell_type": "code",
   "execution_count": null,
   "id": "689ee822",
   "metadata": {},
   "outputs": [],
   "source": [
    "!pip install -r requirements.txt"
   ]
  },
  {
   "cell_type": "markdown",
   "id": "d63e64c6-9955-4afc-8d04-d8c85bb28edc",
   "metadata": {},
   "source": [
    "# Linear Regression with Numpy and OpenFL"
   ]
  },
  {
   "cell_type": "code",
   "execution_count": null,
   "id": "6c9eee14-22a1-4d48-a7da-e68d01037cd4",
   "metadata": {},
   "outputs": [],
   "source": [
    "from typing import List, Union\n",
    "import numpy as np\n",
    "import random\n",
    "import matplotlib.pyplot as plt\n",
    "%matplotlib inline\n",
    "from matplotlib.pylab import rcParams\n",
    "rcParams['figure.figsize'] = 7, 5"
   ]
  },
  {
   "cell_type": "markdown",
   "id": "c4b334ef-6a72-4b82-b978-1401973d0512",
   "metadata": {
    "tags": []
   },
   "source": [
    "# We will use MSE as loss function and Ridge weights regularization\n",
    "![image.png](https://www.analyticsvidhya.com/wp-content/uploads/2016/01/eq5-1.png)"
   ]
  },
  {
   "cell_type": "code",
   "execution_count": null,
   "id": "f4cc8ec2-b818-4db8-8700-39c1a12917df",
   "metadata": {},
   "outputs": [],
   "source": [
    "class LinRegLasso:\n",
    "    def __init__(self, n_feat: int) -> None:\n",
    "        self.weights = np.ones((n_feat + 1)) # (n_feat + 1,) weights + bias\n",
    "        \n",
    "    def predict(self, feature_vector: Union[np.ndarray, List[int]]) -> float:\n",
    "        '''\n",
    "        feature_vector may be a list or have shape (n_feat,)\n",
    "        or it may be a bunch of vectors (n_vec, nfeat)\n",
    "        '''\n",
    "        feature_vector = np.array(feature_vector)\n",
    "        if len(feature_vector.shape) == 1:\n",
    "            feature_vector = feature_vector[:,np.newaxis]\n",
    "        assert feature_vector.shape[-1] == self.weights.shape[0] - 1, \\\n",
    "            f\"sample shape is {feature_vector.shape} and weights shape is f{self.weights}\"\n",
    "        \n",
    "        return self.weights @ np.concatenate((feature_vector.T, [[1]*feature_vector.shape[0]]))\n",
    "    \n",
    "    def mse(self, X: np.ndarray, Y: np.ndarray) -> float:\n",
    "        Y_hat = self.predict(X)\n",
    "        return np.sum((Y - Y_hat)**2) / Y.shape[0]\n",
    "\n",
    "    def _update_weights(self, X: np.ndarray, Y: np.ndarray, lr: float, wd: float) -> None:\n",
    "        '''\n",
    "        X: (n_samples, n_features)\n",
    "        Y: (n_samples,)\n",
    "        self.weights: (n_features + 1)\n",
    "        \n",
    "        Cost function is MSE: (y - W*X - b)**2;\n",
    "        its derivative with resp to any x is -2*X*(y - W*X - b),\n",
    "        and with resp to b is -2*(y - W*X - b).\n",
    "        \n",
    "        Regularisation function is L1 |W|;\n",
    "        its derivative is SIGN(w)\n",
    "        '''\n",
    "        predictions = self.predict(X)\n",
    "        error = Y - predictions # (n_samples,)\n",
    "        X_with_bias = np.concatenate((X.T, [[1]*X.shape[0]])).T\n",
    "        updates = -2 * X_with_bias.T @ error / Y.shape[0]\n",
    "        regression_term = np.sign(self.weights)\n",
    "        \n",
    "        self.weights = self.weights - lr * updates + wd * regression_term\n",
    "    \n",
    "    def fit(self, X: np.ndarray, Y: np.ndarray,\n",
    "            n_epochs: int, lr: float, wd: float,\n",
    "            silent: bool=False) -> None:\n",
    "        for i in range(n_epochs):\n",
    "            self._update_weights(X, Y, lr, wd)\n",
    "            mse = self.mse(X, Y)\n",
    "            if not silent:\n",
    "                print(f'epoch: {i}, \\t MSE: {mse}')\n",
    "            "
   ]
  },
  {
   "cell_type": "code",
   "execution_count": null,
   "id": "af89e7e5-6cfc-46bc-acd2-7d5bfb373091",
   "metadata": {},
   "outputs": [],
   "source": [
    "# Define input array with angles from 60deg to 300deg converted to radians\n",
    "x = np.array([i*np.pi/180 for i in range(60,300,4)])\n",
    "np.random.seed(10)  # Setting seed for reproducibility\n",
    "y = np.sin(x) + np.random.normal(0,0.15,len(x))\n",
    "# plt.plot(x,y,'.')"
   ]
  },
  {
   "cell_type": "code",
   "execution_count": null,
   "id": "ffefca2b-d7f6-4111-8872-c017c182a2de",
   "metadata": {
    "tags": []
   },
   "outputs": [],
   "source": [
    "lr_model = LinRegLasso(1)\n",
    "wd = 0.0001\n",
    "lr = 0.08\n",
    "epochs = 100\n",
    "\n",
    "print(f\"Initila MSE: {lr_model.mse(x,y)}\")\n",
    "lr_model.fit(x[:,np.newaxis],y, epochs, lr, wd, silent=True)\n",
    "print(f\"Final MSE: {lr_model.mse(x,y)}\")\n",
    "print(f\"Final parameters: {lr_model.weights}\")"
   ]
  },
  {
   "cell_type": "code",
   "execution_count": null,
   "id": "410f2d80-989a-43ab-958f-7b68fd8f2e90",
   "metadata": {},
   "outputs": [],
   "source": [
    "# We can also solve this 1D problem using Numpy\n",
    "numpy_solution = np.polyfit(x,y,1)\n",
    "predictor_np = np.poly1d(numpy_solution)"
   ]
  },
  {
   "cell_type": "code",
   "execution_count": null,
   "id": "6cb323db-9f3a-42af-94da-4b170adef867",
   "metadata": {},
   "outputs": [],
   "source": [
    "y_hat = lr_model.predict(x)\n",
    "y_np = predictor_np(x)\n",
    "plt.plot(x,y,'.')\n",
    "plt.plot(x,y_hat,'.')\n",
    "plt.plot(x,y_np,'--')"
   ]
  },
  {
   "cell_type": "markdown",
   "id": "ffd4d2d7-5537-496a-88c1-301da87d979c",
   "metadata": {},
   "source": [
    "# Now we run the same training on federated data"
   ]
  },
  {
   "cell_type": "markdown",
   "id": "09cf7090-da51-4f4e-9d28-2a5c6e3bca02",
   "metadata": {},
   "source": [
    "## Connect to a Federation"
   ]
  },
  {
   "cell_type": "code",
   "execution_count": null,
   "id": "1b3c0039-e1f7-4047-b98b-a2d4bd42f015",
   "metadata": {},
   "outputs": [],
   "source": [
    "# Create a federation\n",
    "from openfl.interface.interactive_api.federation import Federation\n",
    "\n",
    "# please use the same identificator that was used in signed certificate\n",
    "client_id = 'frontend'\n",
    "director_node_fqdn = 'localhost'\n",
    "director_port = 50049\n",
    "\n",
    "federation = Federation(\n",
    "    client_id=client_id,\n",
    "    director_node_fqdn=director_node_fqdn,\n",
    "    director_port=director_port,\n",
    "    tls=False\n",
    ")"
   ]
  },
  {
   "cell_type": "code",
   "execution_count": null,
   "id": "7815120e-b704-4a7d-a65a-3c7542023ead",
   "metadata": {
    "tags": []
   },
   "outputs": [],
   "source": [
    "shard_registry = federation.get_shard_registry()\n",
    "shard_registry"
   ]
  },
  {
   "cell_type": "markdown",
   "id": "b011dd95-64a7-4a8b-91ec-e61cdf885bbb",
   "metadata": {},
   "source": [
    "### Data"
   ]
  },
  {
   "cell_type": "code",
   "execution_count": null,
   "id": "b1985ac9-a2b1-4561-a962-6adfe35c3b97",
   "metadata": {},
   "outputs": [],
   "source": [
    "from openfl.interface.interactive_api.experiment import TaskInterface, DataInterface, ModelInterface, FLExperiment\n",
    "\n",
    "class LinRegDataSet(DataInterface):\n",
    "    def __init__(self, **kwargs):\n",
    "        \"\"\"Initialize DataLoader.\"\"\"\n",
    "        self.kwargs = kwargs\n",
    "        pass\n",
    "\n",
    "    @property\n",
    "    def shard_descriptor(self):\n",
    "        \"\"\"Return shard descriptor.\"\"\"\n",
    "        return self._shard_descriptor\n",
    "    \n",
    "    @shard_descriptor.setter\n",
    "    def shard_descriptor(self, shard_descriptor):\n",
    "        \"\"\"\n",
    "        Describe per-collaborator procedures or sharding.\n",
    "\n",
    "        This method will be called during a collaborator initialization.\n",
    "        Local shard_descriptor  will be set by Envoy.\n",
    "        \"\"\"\n",
    "        self._shard_descriptor = shard_descriptor\n",
    "        self.train_set = shard_descriptor.get_dataset(\"train\")\n",
    "        self.val_set = shard_descriptor.get_dataset(\"val\")\n",
    "\n",
    "    def get_train_loader(self, **kwargs):\n",
    "        \"\"\"Output of this method will be provided to tasks with optimizer in contract.\"\"\"\n",
    "        return self.train_set\n",
    "\n",
    "    def get_valid_loader(self, **kwargs):\n",
    "        \"\"\"Output of this method will be provided to tasks without optimizer in contract.\"\"\"\n",
    "        return self.val_set\n",
    "\n",
    "    def get_train_data_size(self):\n",
    "        \"\"\"Information for aggregation.\"\"\"\n",
    "        return len(self.train_set)\n",
    "\n",
    "    def get_valid_data_size(self):\n",
    "        \"\"\"Information for aggregation.\"\"\"\n",
    "        return len(self.val_set)\n",
    "    \n",
    "lin_reg_dataset = LinRegDataSet()"
   ]
  },
  {
   "cell_type": "markdown",
   "id": "b8909127-99d1-4dba-86fe-01a1b86585e7",
   "metadata": {},
   "source": [
    "### Model"
   ]
  },
  {
   "cell_type": "code",
   "execution_count": null,
   "id": "9523c9a2-a259-461f-937f-1fb054bd2886",
   "metadata": {},
   "outputs": [],
   "source": [
    "framework_adapter = 'custom_adapter.CustomFrameworkAdapter'\n",
    "fed_model = LinRegLasso(1)\n",
    "MI = ModelInterface(model=fed_model, optimizer=None, framework_plugin=framework_adapter)\n",
    "\n",
    "# Save the initial model state\n",
    "initial_model = LinRegLasso(1)"
   ]
  },
  {
   "cell_type": "markdown",
   "id": "2e3558bb-b21b-48ac-b07e-43cf75e6907b",
   "metadata": {},
   "source": [
    "### Tasks\n",
    "We need to employ a trick reporting metrics. OpenFL decides which model is the best based on an *increasing* metric."
   ]
  },
  {
   "cell_type": "code",
   "execution_count": null,
   "id": "f73e1ff9-d54a-49b5-9ce8-8bc72c6a2c6f",
   "metadata": {},
   "outputs": [],
   "source": [
    "TI = TaskInterface()\n",
    "\n",
    "@TI.add_kwargs(**{'lr': 0.001,\n",
    "                   'wd': 0.0001,\n",
    "                   'epoches': 1})\n",
    "@TI.register_fl_task(model='my_model', data_loader='train_data', \\\n",
    "                     device='device', optimizer='optimizer')     \n",
    "def train(my_model, train_data, optimizer, device, lr, wd, epoches):\n",
    "    X, Y = train_data[:,:-1], train_data[:,-1]\n",
    "    my_model.fit(X, Y, epochs, lr, wd, silent=True)\n",
    "    return {'train_MSE': my_model.mse(X, Y),}\n",
    "\n",
    "@TI.register_fl_task(model='my_model', data_loader='val_data', device='device')     \n",
    "def validate(my_model, val_data, device):\n",
    "    X, Y = val_data[:,:-1], val_data[:,-1]        \n",
    "    return {'validation_MSE': my_model.mse(X, Y),}"
   ]
  },
  {
   "cell_type": "markdown",
   "id": "ee7659cc-6e03-43f5-9078-95707fa0e4d5",
   "metadata": {
    "tags": []
   },
   "source": [
    "### Run"
   ]
  },
  {
   "cell_type": "code",
   "execution_count": null,
   "id": "749100e8-05ce-418c-a980-545e3beb900b",
   "metadata": {},
   "outputs": [],
   "source": [
    "experiment_name = 'linear_regression_experiment'\n",
    "fl_experiment = FLExperiment(federation=federation, experiment_name=experiment_name,\n",
    "                            )"
   ]
  },
  {
   "cell_type": "code",
   "execution_count": null,
   "id": "16bf1df7-8ca8-4a5e-a833-47c265c11e05",
   "metadata": {},
   "outputs": [],
   "source": [
    "fl_experiment.start(model_provider=MI, \n",
    "                    task_keeper=TI,\n",
    "                    data_loader=lin_reg_dataset,\n",
    "                    rounds_to_train=10,)"
   ]
  },
  {
   "cell_type": "code",
   "execution_count": null,
   "id": "1178d1ea-05e6-46be-ac07-21620bd6ec76",
   "metadata": {
    "tags": []
   },
   "outputs": [],
   "source": [
    "fl_experiment.stream_metrics()"
   ]
  },
  {
   "cell_type": "markdown",
   "id": "af331ccd-66b4-4925-8627-52cf03ceea5e",
   "metadata": {
    "tags": []
   },
   "source": [
    "### Optional: start tensorboard"
   ]
  },
  {
   "cell_type": "code",
   "execution_count": null,
   "id": "fde4ed4d-dda5-4bab-8dd3-e1ac44f5acf9",
   "metadata": {},
   "outputs": [],
   "source": [
    "%%script /bin/bash --bg\n",
    "tensorboard --host $(hostname --all-fqdns | awk '{print $1}') --logdir logs"
   ]
  },
  {
   "cell_type": "code",
   "execution_count": null,
   "id": "7aa78602-b66a-4378-bea9-e915f2a1fdd8",
   "metadata": {},
   "outputs": [],
   "source": [
    "last_model = fl_experiment.get_last_model()\n",
    "best_model = fl_experiment.get_best_model()\n",
    "print(best_model.weights)\n",
    "print(last_model.weights)\n",
    "print(f\"last model MSE: {last_model.mse(x,y)}\")\n",
    "print(f\"best model MSE: {best_model.mse(x,y)}\")"
   ]
  },
  {
   "cell_type": "markdown",
   "id": "ae66d688",
   "metadata": {},
   "source": [
    "### Evaluate results"
   ]
  },
  {
   "cell_type": "code",
   "execution_count": null,
   "id": "573417e0",
   "metadata": {},
   "outputs": [],
   "source": [
    "n_cols = 20\n",
    "n_samples = 4\n",
    "interval = 240\n",
    "x_start = 60\n",
    "noise = 0.3\n",
    "\n",
    "X = None\n",
    "\n",
    "for rank in range(n_cols):\n",
    "    np.random.seed(rank)  # Setting seed for reproducibility\n",
    "    x = np.random.rand(n_samples, 1) * interval + x_start\n",
    "    x *= np.pi / 180\n",
    "    X = x if X is None else np.vstack((X,x))\n",
    "    y = np.sin(x) + np.random.normal(0, noise, size=(n_samples, 1))\n",
    "    plt.plot(x,y,'+')\n",
    "    \n",
    "X.sort()    \n",
    "Y_hat = last_model.predict(X)\n",
    "plt.plot(X,Y_hat,'--')"
   ]
  },
  {
   "cell_type": "code",
   "execution_count": null,
   "id": "84e927c8",
   "metadata": {},
   "outputs": [],
   "source": []
  }
 ],
 "metadata": {
  "kernelspec": {
   "display_name": "Python 3 (ipykernel)",
   "language": "python",
   "name": "python3"
  },
  "language_info": {
   "codemirror_mode": {
    "name": "ipython",
    "version": 3
   },
   "file_extension": ".py",
   "mimetype": "text/x-python",
   "name": "python",
   "nbconvert_exporter": "python",
   "pygments_lexer": "ipython3",
   "version": "3.8.10"
  }
 },
 "nbformat": 4,
 "nbformat_minor": 5
}

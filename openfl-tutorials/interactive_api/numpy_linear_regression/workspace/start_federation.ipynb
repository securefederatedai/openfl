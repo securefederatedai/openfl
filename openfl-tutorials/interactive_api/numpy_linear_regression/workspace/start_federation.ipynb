{
 "cells": [
  {
   "cell_type": "code",
   "execution_count": null,
   "id": "f813b6ae-b082-49bb-b64f-fd619b6de14a",
   "metadata": {},
   "outputs": [],
   "source": [
    "import os\n",
    "from pathlib import Path\n",
    "import yaml\n",
    "from typing import Dict, List, Union"
   ]
  },
  {
   "cell_type": "code",
   "execution_count": null,
   "id": "d1ee62ab-09e4-4f4c-984f-bdb6909d6106",
   "metadata": {},
   "outputs": [],
   "source": [
    "# Read the original envoy config file content\n",
    "with open(Path('../envoy/envoy_config.yaml'), \"r\") as stream:\n",
    "    orig_config = yaml.safe_load(stream)\n",
    "\n",
    "def generate_envoy_configs(config: Dict,\n",
    "                           save_path: Union[str, Path] = '../envoy/',\n",
    "                           n_cols: int = 10,\n",
    "                           n_samples_per_col: int = 10,\n",
    "                           noise: float = 0.15) -> List[Path]:\n",
    "\n",
    "    config['shard_descriptor']['params']['n_samples'] = n_samples_per_col\n",
    "    config['shard_descriptor']['params']['noise'] = noise\n",
    "    \n",
    "    config_paths = [(Path(save_path) / f'{i}_envoy_config.yaml').absolute()\n",
    "                for i in range(1, n_cols + 1)]\n",
    "\n",
    "    for i, path in enumerate(config_paths):\n",
    "        config['shard_descriptor']['params']['rank'] = i\n",
    "        with open(path, \"w\") as stream:\n",
    "            yaml.safe_dump(config, stream)\n",
    "            \n",
    "    return config_paths\n",
    "            \n",
    "def remove_configs(config_paths):\n",
    "    for path in config_paths:\n",
    "        path.unlink()"
   ]
  },
  {
   "cell_type": "code",
   "execution_count": null,
   "id": "0d058340-22d4-4630-b8e3-9c3fc29198ab",
   "metadata": {},
   "outputs": [],
   "source": [
    "config_paths = generate_envoy_configs(orig_config, n_cols=20, n_samples_per_col=8, noise=0.3)\n",
    "# remove_configs(config_paths)"
   ]
  },
  {
   "cell_type": "markdown",
   "id": "ec065be9-c2c6-4a81-9a2a-ea54794e52ba",
   "metadata": {},
   "source": [
    "## Start the Director service"
   ]
  },
  {
   "cell_type": "code",
   "execution_count": null,
   "id": "60bcaa49-aabb-42ec-a279-9e32b31ce6ca",
   "metadata": {},
   "outputs": [],
   "source": [
    "cwd = Path.cwd()\n",
    "director_workspace_path = Path('../director/').absolute()\n",
    "director_config_file = director_workspace_path / 'director_config.yaml'\n",
    "director_logfile = director_workspace_path / 'director.log'\n",
    "director_logfile.unlink(missing_ok=True)\n",
    "# \n",
    "\n",
    "os.environ['main_folder'] = str(cwd)\n",
    "os.environ['director_workspace_path'] = str(director_workspace_path)\n",
    "os.environ['director_logfile'] = str(director_logfile)\n",
    "os.environ['director_config_file'] = str(director_config_file)"
   ]
  },
  {
   "cell_type": "code",
   "execution_count": null,
   "id": "72a9268a-ee1e-4dda-a4c4-cfb29428f45e",
   "metadata": {},
   "outputs": [],
   "source": [
    "%%script /bin/bash --bg\n",
    "cd $director_workspace_path\n",
    "fx director start --disable-tls -c $director_config_file > $director_logfile &\n",
    "cd $main_folder"
   ]
  },
  {
   "cell_type": "markdown",
   "id": "e0a634ea-9c62-4048-bb91-099fe9097b55",
   "metadata": {},
   "source": [
    "## Start Envoys"
   ]
  },
  {
   "cell_type": "code",
   "execution_count": null,
   "id": "13470bfd-d67e-48dc-b1ff-10c7ff526c0c",
   "metadata": {},
   "outputs": [],
   "source": [
    "# envoy_workspace_path = Path('../envoy/').absolute()\n",
    "def start_envoys(config_paths: List[Path]) -> None:\n",
    "    envoy_workspace_path = config_paths[0].parent\n",
    "    cwd = Path.cwd()\n",
    "    os.chdir(envoy_workspace_path)\n",
    "    for i, path in enumerate(config_paths):\n",
    "        os.system(f'fx envoy start -n env_{i + 1} --disable-tls '\n",
    "                  f'--envoy-config-path {path} -dh localhost -dp 50049 '\n",
    "                  f'>env_{i + 1}.log &')\n",
    "    os.chdir(cwd)\n",
    "    \n",
    "start_envoys(config_paths)"
   ]
  },
  {
   "cell_type": "code",
   "execution_count": null,
   "id": "2fc8a569-6978-4c80-88d1-741799407239",
   "metadata": {},
   "outputs": [],
   "source": []
  },
  {
   "cell_type": "code",
   "execution_count": null,
   "id": "a5fdc3af-63b5-41b5-b9d6-be2aac8626e0",
   "metadata": {},
   "outputs": [],
   "source": [
    "# To stop all services run\n",
    "!pkill fx"
   ]
  },
  {
   "cell_type": "code",
   "execution_count": null,
   "id": "4e69ae57-bfa3-4047-af7f-3e1cf24ac35e",
   "metadata": {
    "tags": []
   },
   "outputs": [],
   "source": [
    "remove_configs(config_paths)"
   ]
  },
  {
   "cell_type": "code",
   "execution_count": null,
   "id": "46095127-f116-4ae3-a3b4-6be24064b49f",
   "metadata": {},
   "outputs": [],
   "source": []
  }
 ],
 "metadata": {
  "kernelspec": {
   "display_name": "Python 3 (ipykernel)",
   "language": "python",
   "name": "python3"
  },
  "language_info": {
   "codemirror_mode": {
    "name": "ipython",
    "version": 3
   },
   "file_extension": ".py",
   "mimetype": "text/x-python",
   "name": "python",
   "nbconvert_exporter": "python",
   "pygments_lexer": "ipython3",
   "version": "3.8.10"
  }
 },
 "nbformat": 4,
 "nbformat_minor": 5
}
